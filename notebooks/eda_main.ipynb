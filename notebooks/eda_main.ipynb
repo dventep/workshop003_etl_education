{
 "cells": [
  {
   "cell_type": "markdown",
   "metadata": {},
   "source": [
    "# EDA for Happiness\n",
    "\n",
    "In this file, we make a EDA Report Jupyter Notebook using Python Kernel in a venv what get data of CSV files from **data** folder to start the process indicated in workshop 003.\n",
    "\n",
    "Next, two processes will be carried out:\n",
    "\n",
    "1. Exploration of the data of 5 files that are part of the **data** folder to know them in order to use the best methods to predict happiness in a better way.\n",
    "\n",
    "2. We will draw a path to implement Airflow in the best possible way.\n",
    "\n",
    "3. We will explore different methods and columns that are available to predict in the best way."
   ]
  },
  {
   "cell_type": "markdown",
   "metadata": {},
   "source": [
    "---\n",
    "## Process"
   ]
  },
  {
   "cell_type": "markdown",
   "metadata": {},
   "source": [
    "Import libraries:"
   ]
  },
  {
   "cell_type": "code",
   "execution_count": 1,
   "metadata": {},
   "outputs": [
    {
     "name": "stderr",
     "output_type": "stream",
     "text": [
      "e:\\UAO No Sincronizada\\5° Semestre\\ETL\\Corte 3\\workshop003_etl_education\\venv\\lib\\site-packages\\tqdm\\auto.py:21: TqdmWarning: IProgress not found. Please update jupyter and ipywidgets. See https://ipywidgets.readthedocs.io/en/stable/user_install.html\n",
      "  from .autonotebook import tqdm as notebook_tqdm\n"
     ]
    }
   ],
   "source": [
    "import importlib.util\n",
    "import numpy as np\n",
    "import pandas as pd\n",
    "import plotly.express as px\n",
    "import plotly.graph_objects as go\n",
    "import json\n",
    "import joblib\n",
    "import optuna\n",
    "from plotly.offline import init_notebook_mode, iplot\n",
    "from plotly.subplots import make_subplots\n",
    "from wordcloud import WordCloud, STOPWORDS\n",
    "import matplotlib.pyplot as plt\n",
    "from xgboost import XGBRegressor\n",
    "from sklearn.metrics import r2_score, mean_absolute_error, mean_squared_error\n",
    "from sklearn.pipeline import Pipeline\n",
    "from sklearn.compose import ColumnTransformer\n",
    "from sklearn.preprocessing import StandardScaler, OneHotEncoder\n",
    "from sklearn.model_selection import train_test_split, cross_val_score, GridSearchCV, RandomizedSearchCV, StratifiedKFold\n",
    "from sklearn.linear_model import LinearRegression, ElasticNet\n",
    "\n",
    "from sklearn.ensemble import RandomForestRegressor, GradientBoostingRegressor\n",
    "from sklearn.impute import SimpleImputer\n",
    "\n",
    "spec = importlib.util.spec_from_file_location(\"connect_database\", f\"../shared_functions/connect_database.py\")\n",
    "connect_database = importlib.util.module_from_spec(spec)\n",
    "spec.loader.exec_module(connect_database)"
   ]
  },
  {
   "cell_type": "markdown",
   "metadata": {},
   "source": [
    "### 1. workshop_003_dag <- happiness process"
   ]
  },
  {
   "cell_type": "markdown",
   "metadata": {},
   "source": [
    "Information about CSV files to load and explorate:"
   ]
  },
  {
   "cell_type": "code",
   "execution_count": 2,
   "metadata": {},
   "outputs": [],
   "source": [
    "location_files = [\n",
    "    '../data/2015.csv', \n",
    "    '../data/2016.csv', \n",
    "    '../data/2017.csv', \n",
    "    '../data/2018.csv', \n",
    "    '../data/2019.csv'\n",
    "    ]"
   ]
  },
  {
   "cell_type": "markdown",
   "metadata": {},
   "source": [
    "Read CSV files and create the dataframes:\n",
    "\n",
    "<div class=\"alert alert-block alert-info\">\n",
    "<b>Note:</b> These files apparently have different columns and data, so each one will be read and scanned.</div>"
   ]
  },
  {
   "cell_type": "markdown",
   "metadata": {},
   "source": [
    "#### 1. 2015 dataset"
   ]
  },
  {
   "cell_type": "code",
   "execution_count": 3,
   "metadata": {},
   "outputs": [],
   "source": [
    "data_2015 = pd.read_csv(location_files[0], delimiter=',', header=0)"
   ]
  },
  {
   "cell_type": "code",
   "execution_count": 4,
   "metadata": {},
   "outputs": [
    {
     "data": {
      "text/html": [
       "<div>\n",
       "<style scoped>\n",
       "    .dataframe tbody tr th:only-of-type {\n",
       "        vertical-align: middle;\n",
       "    }\n",
       "\n",
       "    .dataframe tbody tr th {\n",
       "        vertical-align: top;\n",
       "    }\n",
       "\n",
       "    .dataframe thead th {\n",
       "        text-align: right;\n",
       "    }\n",
       "</style>\n",
       "<table border=\"1\" class=\"dataframe\">\n",
       "  <thead>\n",
       "    <tr style=\"text-align: right;\">\n",
       "      <th></th>\n",
       "      <th>Country</th>\n",
       "      <th>Region</th>\n",
       "      <th>Happiness Rank</th>\n",
       "      <th>Happiness Score</th>\n",
       "      <th>Standard Error</th>\n",
       "      <th>Economy (GDP per Capita)</th>\n",
       "      <th>Family</th>\n",
       "      <th>Health (Life Expectancy)</th>\n",
       "      <th>Freedom</th>\n",
       "      <th>Trust (Government Corruption)</th>\n",
       "      <th>Generosity</th>\n",
       "      <th>Dystopia Residual</th>\n",
       "    </tr>\n",
       "  </thead>\n",
       "  <tbody>\n",
       "    <tr>\n",
       "      <th>0</th>\n",
       "      <td>Switzerland</td>\n",
       "      <td>Western Europe</td>\n",
       "      <td>1</td>\n",
       "      <td>7.587</td>\n",
       "      <td>0.03411</td>\n",
       "      <td>1.39651</td>\n",
       "      <td>1.34951</td>\n",
       "      <td>0.94143</td>\n",
       "      <td>0.66557</td>\n",
       "      <td>0.41978</td>\n",
       "      <td>0.29678</td>\n",
       "      <td>2.51738</td>\n",
       "    </tr>\n",
       "    <tr>\n",
       "      <th>1</th>\n",
       "      <td>Iceland</td>\n",
       "      <td>Western Europe</td>\n",
       "      <td>2</td>\n",
       "      <td>7.561</td>\n",
       "      <td>0.04884</td>\n",
       "      <td>1.30232</td>\n",
       "      <td>1.40223</td>\n",
       "      <td>0.94784</td>\n",
       "      <td>0.62877</td>\n",
       "      <td>0.14145</td>\n",
       "      <td>0.43630</td>\n",
       "      <td>2.70201</td>\n",
       "    </tr>\n",
       "    <tr>\n",
       "      <th>2</th>\n",
       "      <td>Denmark</td>\n",
       "      <td>Western Europe</td>\n",
       "      <td>3</td>\n",
       "      <td>7.527</td>\n",
       "      <td>0.03328</td>\n",
       "      <td>1.32548</td>\n",
       "      <td>1.36058</td>\n",
       "      <td>0.87464</td>\n",
       "      <td>0.64938</td>\n",
       "      <td>0.48357</td>\n",
       "      <td>0.34139</td>\n",
       "      <td>2.49204</td>\n",
       "    </tr>\n",
       "  </tbody>\n",
       "</table>\n",
       "</div>"
      ],
      "text/plain": [
       "       Country          Region  Happiness Rank  Happiness Score  \\\n",
       "0  Switzerland  Western Europe               1            7.587   \n",
       "1      Iceland  Western Europe               2            7.561   \n",
       "2      Denmark  Western Europe               3            7.527   \n",
       "\n",
       "   Standard Error  Economy (GDP per Capita)   Family  \\\n",
       "0         0.03411                   1.39651  1.34951   \n",
       "1         0.04884                   1.30232  1.40223   \n",
       "2         0.03328                   1.32548  1.36058   \n",
       "\n",
       "   Health (Life Expectancy)  Freedom  Trust (Government Corruption)  \\\n",
       "0                   0.94143  0.66557                        0.41978   \n",
       "1                   0.94784  0.62877                        0.14145   \n",
       "2                   0.87464  0.64938                        0.48357   \n",
       "\n",
       "   Generosity  Dystopia Residual  \n",
       "0     0.29678            2.51738  \n",
       "1     0.43630            2.70201  \n",
       "2     0.34139            2.49204  "
      ]
     },
     "execution_count": 4,
     "metadata": {},
     "output_type": "execute_result"
    }
   ],
   "source": [
    "data_2015.head(3)"
   ]
  },
  {
   "cell_type": "markdown",
   "metadata": {},
   "source": [
    "Here, we know that it has been loaded correctly and we have some information regarding the columns and what could be the types of data stored in each column.\n",
    "\n",
    "Let's continue to explorate:"
   ]
  },
  {
   "cell_type": "code",
   "execution_count": 5,
   "metadata": {},
   "outputs": [
    {
     "data": {
      "text/plain": [
       "Index(['Country', 'Region', 'Happiness Rank', 'Happiness Score',\n",
       "       'Standard Error', 'Economy (GDP per Capita)', 'Family',\n",
       "       'Health (Life Expectancy)', 'Freedom', 'Trust (Government Corruption)',\n",
       "       'Generosity', 'Dystopia Residual'],\n",
       "      dtype='object')"
      ]
     },
     "execution_count": 5,
     "metadata": {},
     "output_type": "execute_result"
    }
   ],
   "source": [
    "data_2015.columns"
   ]
  },
  {
   "cell_type": "code",
   "execution_count": 6,
   "metadata": {},
   "outputs": [
    {
     "data": {
      "text/plain": [
       "12"
      ]
     },
     "execution_count": 6,
     "metadata": {},
     "output_type": "execute_result"
    }
   ],
   "source": [
    "len(data_2015.columns)"
   ]
  },
  {
   "cell_type": "code",
   "execution_count": 7,
   "metadata": {},
   "outputs": [
    {
     "data": {
      "text/plain": [
       "(158, 12)"
      ]
     },
     "execution_count": 7,
     "metadata": {},
     "output_type": "execute_result"
    }
   ],
   "source": [
    "data_2015.shape"
   ]
  },
  {
   "cell_type": "markdown",
   "metadata": {},
   "source": [
    "Checking for NaN values:"
   ]
  },
  {
   "cell_type": "code",
   "execution_count": 8,
   "metadata": {},
   "outputs": [
    {
     "data": {
      "text/plain": [
       "Country                          0\n",
       "Region                           0\n",
       "Happiness Rank                   0\n",
       "Happiness Score                  0\n",
       "Standard Error                   0\n",
       "Economy (GDP per Capita)         0\n",
       "Family                           0\n",
       "Health (Life Expectancy)         0\n",
       "Freedom                          0\n",
       "Trust (Government Corruption)    0\n",
       "Generosity                       0\n",
       "Dystopia Residual                0\n",
       "dtype: int64"
      ]
     },
     "execution_count": 8,
     "metadata": {},
     "output_type": "execute_result"
    }
   ],
   "source": [
    "data_2015.isna().sum()"
   ]
  },
  {
   "cell_type": "markdown",
   "metadata": {},
   "source": [
    "It is perfect that there are no nulls, it saves us a big task."
   ]
  },
  {
   "cell_type": "code",
   "execution_count": 9,
   "metadata": {},
   "outputs": [
    {
     "data": {
      "text/plain": [
       "Country                           object\n",
       "Region                            object\n",
       "Happiness Rank                     int64\n",
       "Happiness Score                  float64\n",
       "Standard Error                   float64\n",
       "Economy (GDP per Capita)         float64\n",
       "Family                           float64\n",
       "Health (Life Expectancy)         float64\n",
       "Freedom                          float64\n",
       "Trust (Government Corruption)    float64\n",
       "Generosity                       float64\n",
       "Dystopia Residual                float64\n",
       "dtype: object"
      ]
     },
     "execution_count": 9,
     "metadata": {},
     "output_type": "execute_result"
    }
   ],
   "source": [
    "data_2015.dtypes"
   ]
  },
  {
   "cell_type": "code",
   "execution_count": 10,
   "metadata": {},
   "outputs": [
    {
     "data": {
      "text/html": [
       "<div>\n",
       "<style scoped>\n",
       "    .dataframe tbody tr th:only-of-type {\n",
       "        vertical-align: middle;\n",
       "    }\n",
       "\n",
       "    .dataframe tbody tr th {\n",
       "        vertical-align: top;\n",
       "    }\n",
       "\n",
       "    .dataframe thead th {\n",
       "        text-align: right;\n",
       "    }\n",
       "</style>\n",
       "<table border=\"1\" class=\"dataframe\">\n",
       "  <thead>\n",
       "    <tr style=\"text-align: right;\">\n",
       "      <th></th>\n",
       "      <th>Happiness Rank</th>\n",
       "      <th>Happiness Score</th>\n",
       "      <th>Standard Error</th>\n",
       "      <th>Economy (GDP per Capita)</th>\n",
       "      <th>Family</th>\n",
       "      <th>Health (Life Expectancy)</th>\n",
       "      <th>Freedom</th>\n",
       "      <th>Trust (Government Corruption)</th>\n",
       "      <th>Generosity</th>\n",
       "      <th>Dystopia Residual</th>\n",
       "    </tr>\n",
       "  </thead>\n",
       "  <tbody>\n",
       "    <tr>\n",
       "      <th>count</th>\n",
       "      <td>158.000000</td>\n",
       "      <td>158.000000</td>\n",
       "      <td>158.000000</td>\n",
       "      <td>158.000000</td>\n",
       "      <td>158.000000</td>\n",
       "      <td>158.000000</td>\n",
       "      <td>158.000000</td>\n",
       "      <td>158.000000</td>\n",
       "      <td>158.000000</td>\n",
       "      <td>158.000000</td>\n",
       "    </tr>\n",
       "    <tr>\n",
       "      <th>mean</th>\n",
       "      <td>79.493671</td>\n",
       "      <td>5.375734</td>\n",
       "      <td>0.047885</td>\n",
       "      <td>0.846137</td>\n",
       "      <td>0.991046</td>\n",
       "      <td>0.630259</td>\n",
       "      <td>0.428615</td>\n",
       "      <td>0.143422</td>\n",
       "      <td>0.237296</td>\n",
       "      <td>2.098977</td>\n",
       "    </tr>\n",
       "    <tr>\n",
       "      <th>std</th>\n",
       "      <td>45.754363</td>\n",
       "      <td>1.145010</td>\n",
       "      <td>0.017146</td>\n",
       "      <td>0.403121</td>\n",
       "      <td>0.272369</td>\n",
       "      <td>0.247078</td>\n",
       "      <td>0.150693</td>\n",
       "      <td>0.120034</td>\n",
       "      <td>0.126685</td>\n",
       "      <td>0.553550</td>\n",
       "    </tr>\n",
       "    <tr>\n",
       "      <th>min</th>\n",
       "      <td>1.000000</td>\n",
       "      <td>2.839000</td>\n",
       "      <td>0.018480</td>\n",
       "      <td>0.000000</td>\n",
       "      <td>0.000000</td>\n",
       "      <td>0.000000</td>\n",
       "      <td>0.000000</td>\n",
       "      <td>0.000000</td>\n",
       "      <td>0.000000</td>\n",
       "      <td>0.328580</td>\n",
       "    </tr>\n",
       "    <tr>\n",
       "      <th>25%</th>\n",
       "      <td>40.250000</td>\n",
       "      <td>4.526000</td>\n",
       "      <td>0.037268</td>\n",
       "      <td>0.545808</td>\n",
       "      <td>0.856823</td>\n",
       "      <td>0.439185</td>\n",
       "      <td>0.328330</td>\n",
       "      <td>0.061675</td>\n",
       "      <td>0.150553</td>\n",
       "      <td>1.759410</td>\n",
       "    </tr>\n",
       "    <tr>\n",
       "      <th>50%</th>\n",
       "      <td>79.500000</td>\n",
       "      <td>5.232500</td>\n",
       "      <td>0.043940</td>\n",
       "      <td>0.910245</td>\n",
       "      <td>1.029510</td>\n",
       "      <td>0.696705</td>\n",
       "      <td>0.435515</td>\n",
       "      <td>0.107220</td>\n",
       "      <td>0.216130</td>\n",
       "      <td>2.095415</td>\n",
       "    </tr>\n",
       "    <tr>\n",
       "      <th>75%</th>\n",
       "      <td>118.750000</td>\n",
       "      <td>6.243750</td>\n",
       "      <td>0.052300</td>\n",
       "      <td>1.158448</td>\n",
       "      <td>1.214405</td>\n",
       "      <td>0.811013</td>\n",
       "      <td>0.549092</td>\n",
       "      <td>0.180255</td>\n",
       "      <td>0.309883</td>\n",
       "      <td>2.462415</td>\n",
       "    </tr>\n",
       "    <tr>\n",
       "      <th>max</th>\n",
       "      <td>158.000000</td>\n",
       "      <td>7.587000</td>\n",
       "      <td>0.136930</td>\n",
       "      <td>1.690420</td>\n",
       "      <td>1.402230</td>\n",
       "      <td>1.025250</td>\n",
       "      <td>0.669730</td>\n",
       "      <td>0.551910</td>\n",
       "      <td>0.795880</td>\n",
       "      <td>3.602140</td>\n",
       "    </tr>\n",
       "  </tbody>\n",
       "</table>\n",
       "</div>"
      ],
      "text/plain": [
       "       Happiness Rank  Happiness Score  Standard Error  \\\n",
       "count      158.000000       158.000000      158.000000   \n",
       "mean        79.493671         5.375734        0.047885   \n",
       "std         45.754363         1.145010        0.017146   \n",
       "min          1.000000         2.839000        0.018480   \n",
       "25%         40.250000         4.526000        0.037268   \n",
       "50%         79.500000         5.232500        0.043940   \n",
       "75%        118.750000         6.243750        0.052300   \n",
       "max        158.000000         7.587000        0.136930   \n",
       "\n",
       "       Economy (GDP per Capita)      Family  Health (Life Expectancy)  \\\n",
       "count                158.000000  158.000000                158.000000   \n",
       "mean                   0.846137    0.991046                  0.630259   \n",
       "std                    0.403121    0.272369                  0.247078   \n",
       "min                    0.000000    0.000000                  0.000000   \n",
       "25%                    0.545808    0.856823                  0.439185   \n",
       "50%                    0.910245    1.029510                  0.696705   \n",
       "75%                    1.158448    1.214405                  0.811013   \n",
       "max                    1.690420    1.402230                  1.025250   \n",
       "\n",
       "          Freedom  Trust (Government Corruption)  Generosity  \\\n",
       "count  158.000000                     158.000000  158.000000   \n",
       "mean     0.428615                       0.143422    0.237296   \n",
       "std      0.150693                       0.120034    0.126685   \n",
       "min      0.000000                       0.000000    0.000000   \n",
       "25%      0.328330                       0.061675    0.150553   \n",
       "50%      0.435515                       0.107220    0.216130   \n",
       "75%      0.549092                       0.180255    0.309883   \n",
       "max      0.669730                       0.551910    0.795880   \n",
       "\n",
       "       Dystopia Residual  \n",
       "count         158.000000  \n",
       "mean            2.098977  \n",
       "std             0.553550  \n",
       "min             0.328580  \n",
       "25%             1.759410  \n",
       "50%             2.095415  \n",
       "75%             2.462415  \n",
       "max             3.602140  "
      ]
     },
     "execution_count": 10,
     "metadata": {},
     "output_type": "execute_result"
    }
   ],
   "source": [
    "data_2015.describe()"
   ]
  },
  {
   "cell_type": "markdown",
   "metadata": {},
   "source": [
    "Analyzing, we obtain that:\n",
    "\n",
    "- **Happiness Rank:** Happiness ranges from 1 to 158, with a mean and median around 79,5. The high standard deviation (45,75) suggests a wide and relatively uniform distribution of happiness ranks.\n",
    "\n",
    "- **Happiness Score (To predict):** Happiness scores range from 2.839 to 7.587, with a mean of 5,3757 and a median of 5,2325, indicating that most scores are centered around these values. The standard deviation (1.145) shows that there is moderate variability in happiness across countries.\n",
    "\n",
    "- **Standard Error:** The standard error is low on average (0,047885), indicating that the happiness scores have reasonable precision. The small standard deviation (0,017146) suggests that this accuracy is relatively consistent across countries.\n",
    "\n",
    "- **Economy (GDP per Capita):** GDP per capita varies considerably, with values ranging from 0 to 1,69042. The mean (0,846137) and median (0,910245) are near the center of the range, but the high standard deviation (0,403121) indicates considerable economic disparity between countries.\n",
    "\n",
    "    Economy and financial well-being are often strongly correlated with happiness. The ability to meet basic needs and enjoy a good quality of life is highly dependent on GDP per capita.\n",
    "\n",
    "- **Family:** Family support shows values from 0 to 1,40223, with a mean close to 1 (0,991046) and a median of 1,02951, suggesting that most countries have good family support. The standard deviation (0,272369) indicates moderate variability in this factor.\n",
    "\n",
    "    This and interpersonal relationships are key factors in perceived happiness. Human beings are social by nature, and supportive relation ships significantly influence their happiness.\n",
    "\n",
    "- **Health (Life Expectancy):** Life expectancy ranges from 0 to 1,02525, with a mean of 0,630259 and a median of 0,696705. The standard deviation (0,24707078) suggests significant differences in health between countries.\n",
    "\n",
    "    Those are direct indicators of physical well-being, which has a considerable impact on happiness. People in good health tend to be happier.\n",
    "\n",
    "- **Freedom:** Perception of freedom ranges from 0 to 0,66973, with a mean of 0,428615 and a median of 0,435515, indicating that most countries have a moderate perception of freedom.\n",
    "\n",
    "    This to make decisions about one's life is an important component of happiness. Societies with greater personal freedoms tend to have happier citizens.\n",
    "\n",
    "- **Trust (Government Corruption):** Trust in government (absence of corruption) ranges from 0 to 0,55191, with a low mean (0,143422) and a median of 0,10722. The standard deviation (0,120034) suggests that the perception of corruption varies significantly across countries.\n",
    "\n",
    "    This in institutions and perceptions of government corruption affect emotional stability and confidence in the future. Less corruption generally correlates with greater happiness.\n",
    "\n",
    "- **Generosity:** Generosity ranges from 0 to 0,79588, with a mean of 0,237296 and a median of 0,21613. The standard deviation (0,126685) indicates considerable variability in generosity across countries.\n",
    "\n",
    "    Acts of generosity and altruism are related to higher levels of personal happiness.\n",
    "\n",
    "    The ability and willingness to help others can increase perceptions of well-being.\n",
    "\n",
    "- **Residual Dystopia:** The residual dystopia component ranges from 0,32858 to 3,60214, with a mean of 2,098977 and a median of 2,095415. The standard deviation (0,55355) suggests considerable variability in this component, reflecting a wide disparity in baseline happiness conditions not explained by other factors.\n",
    "\n",
    "    This factor captures what remains of happiness that is not explained by the other factors. It is a crucial component in understanding relative happiness across countries.\n",
    "\n",
    "We will add the year column and we will do the same with the following datasets, only if there are new columns, they will be analyzed to make the joins between the datasets. It will be explored in a more detailed way at the moment of joining everything."
   ]
  },
  {
   "cell_type": "code",
   "execution_count": 11,
   "metadata": {},
   "outputs": [],
   "source": [
    "data_2015['Year'] = 2015"
   ]
  },
  {
   "cell_type": "code",
   "execution_count": 12,
   "metadata": {},
   "outputs": [
    {
     "data": {
      "text/html": [
       "<div>\n",
       "<style scoped>\n",
       "    .dataframe tbody tr th:only-of-type {\n",
       "        vertical-align: middle;\n",
       "    }\n",
       "\n",
       "    .dataframe tbody tr th {\n",
       "        vertical-align: top;\n",
       "    }\n",
       "\n",
       "    .dataframe thead th {\n",
       "        text-align: right;\n",
       "    }\n",
       "</style>\n",
       "<table border=\"1\" class=\"dataframe\">\n",
       "  <thead>\n",
       "    <tr style=\"text-align: right;\">\n",
       "      <th></th>\n",
       "      <th>Country</th>\n",
       "      <th>Region</th>\n",
       "      <th>Happiness Rank</th>\n",
       "      <th>Happiness Score</th>\n",
       "      <th>Standard Error</th>\n",
       "      <th>Economy (GDP per Capita)</th>\n",
       "      <th>Family</th>\n",
       "      <th>Health (Life Expectancy)</th>\n",
       "      <th>Freedom</th>\n",
       "      <th>Trust (Government Corruption)</th>\n",
       "      <th>Generosity</th>\n",
       "      <th>Dystopia Residual</th>\n",
       "      <th>Year</th>\n",
       "    </tr>\n",
       "  </thead>\n",
       "  <tbody>\n",
       "    <tr>\n",
       "      <th>0</th>\n",
       "      <td>Switzerland</td>\n",
       "      <td>Western Europe</td>\n",
       "      <td>1</td>\n",
       "      <td>7.587</td>\n",
       "      <td>0.03411</td>\n",
       "      <td>1.39651</td>\n",
       "      <td>1.34951</td>\n",
       "      <td>0.94143</td>\n",
       "      <td>0.66557</td>\n",
       "      <td>0.41978</td>\n",
       "      <td>0.29678</td>\n",
       "      <td>2.51738</td>\n",
       "      <td>2015</td>\n",
       "    </tr>\n",
       "    <tr>\n",
       "      <th>1</th>\n",
       "      <td>Iceland</td>\n",
       "      <td>Western Europe</td>\n",
       "      <td>2</td>\n",
       "      <td>7.561</td>\n",
       "      <td>0.04884</td>\n",
       "      <td>1.30232</td>\n",
       "      <td>1.40223</td>\n",
       "      <td>0.94784</td>\n",
       "      <td>0.62877</td>\n",
       "      <td>0.14145</td>\n",
       "      <td>0.43630</td>\n",
       "      <td>2.70201</td>\n",
       "      <td>2015</td>\n",
       "    </tr>\n",
       "    <tr>\n",
       "      <th>2</th>\n",
       "      <td>Denmark</td>\n",
       "      <td>Western Europe</td>\n",
       "      <td>3</td>\n",
       "      <td>7.527</td>\n",
       "      <td>0.03328</td>\n",
       "      <td>1.32548</td>\n",
       "      <td>1.36058</td>\n",
       "      <td>0.87464</td>\n",
       "      <td>0.64938</td>\n",
       "      <td>0.48357</td>\n",
       "      <td>0.34139</td>\n",
       "      <td>2.49204</td>\n",
       "      <td>2015</td>\n",
       "    </tr>\n",
       "  </tbody>\n",
       "</table>\n",
       "</div>"
      ],
      "text/plain": [
       "       Country          Region  Happiness Rank  Happiness Score  \\\n",
       "0  Switzerland  Western Europe               1            7.587   \n",
       "1      Iceland  Western Europe               2            7.561   \n",
       "2      Denmark  Western Europe               3            7.527   \n",
       "\n",
       "   Standard Error  Economy (GDP per Capita)   Family  \\\n",
       "0         0.03411                   1.39651  1.34951   \n",
       "1         0.04884                   1.30232  1.40223   \n",
       "2         0.03328                   1.32548  1.36058   \n",
       "\n",
       "   Health (Life Expectancy)  Freedom  Trust (Government Corruption)  \\\n",
       "0                   0.94143  0.66557                        0.41978   \n",
       "1                   0.94784  0.62877                        0.14145   \n",
       "2                   0.87464  0.64938                        0.48357   \n",
       "\n",
       "   Generosity  Dystopia Residual  Year  \n",
       "0     0.29678            2.51738  2015  \n",
       "1     0.43630            2.70201  2015  \n",
       "2     0.34139            2.49204  2015  "
      ]
     },
     "execution_count": 12,
     "metadata": {},
     "output_type": "execute_result"
    }
   ],
   "source": [
    "data_2015.head(3)"
   ]
  },
  {
   "cell_type": "markdown",
   "metadata": {},
   "source": [
    "#### 2. 2016 dataset"
   ]
  },
  {
   "cell_type": "code",
   "execution_count": 13,
   "metadata": {},
   "outputs": [],
   "source": [
    "data_2016 = pd.read_csv(location_files[1], delimiter=',', header=0)"
   ]
  },
  {
   "cell_type": "code",
   "execution_count": 14,
   "metadata": {},
   "outputs": [
    {
     "data": {
      "text/html": [
       "<div>\n",
       "<style scoped>\n",
       "    .dataframe tbody tr th:only-of-type {\n",
       "        vertical-align: middle;\n",
       "    }\n",
       "\n",
       "    .dataframe tbody tr th {\n",
       "        vertical-align: top;\n",
       "    }\n",
       "\n",
       "    .dataframe thead th {\n",
       "        text-align: right;\n",
       "    }\n",
       "</style>\n",
       "<table border=\"1\" class=\"dataframe\">\n",
       "  <thead>\n",
       "    <tr style=\"text-align: right;\">\n",
       "      <th></th>\n",
       "      <th>Country</th>\n",
       "      <th>Region</th>\n",
       "      <th>Happiness Rank</th>\n",
       "      <th>Happiness Score</th>\n",
       "      <th>Lower Confidence Interval</th>\n",
       "      <th>Upper Confidence Interval</th>\n",
       "      <th>Economy (GDP per Capita)</th>\n",
       "      <th>Family</th>\n",
       "      <th>Health (Life Expectancy)</th>\n",
       "      <th>Freedom</th>\n",
       "      <th>Trust (Government Corruption)</th>\n",
       "      <th>Generosity</th>\n",
       "      <th>Dystopia Residual</th>\n",
       "    </tr>\n",
       "  </thead>\n",
       "  <tbody>\n",
       "    <tr>\n",
       "      <th>0</th>\n",
       "      <td>Denmark</td>\n",
       "      <td>Western Europe</td>\n",
       "      <td>1</td>\n",
       "      <td>7.526</td>\n",
       "      <td>7.460</td>\n",
       "      <td>7.592</td>\n",
       "      <td>1.44178</td>\n",
       "      <td>1.16374</td>\n",
       "      <td>0.79504</td>\n",
       "      <td>0.57941</td>\n",
       "      <td>0.44453</td>\n",
       "      <td>0.36171</td>\n",
       "      <td>2.73939</td>\n",
       "    </tr>\n",
       "    <tr>\n",
       "      <th>1</th>\n",
       "      <td>Switzerland</td>\n",
       "      <td>Western Europe</td>\n",
       "      <td>2</td>\n",
       "      <td>7.509</td>\n",
       "      <td>7.428</td>\n",
       "      <td>7.590</td>\n",
       "      <td>1.52733</td>\n",
       "      <td>1.14524</td>\n",
       "      <td>0.86303</td>\n",
       "      <td>0.58557</td>\n",
       "      <td>0.41203</td>\n",
       "      <td>0.28083</td>\n",
       "      <td>2.69463</td>\n",
       "    </tr>\n",
       "    <tr>\n",
       "      <th>2</th>\n",
       "      <td>Iceland</td>\n",
       "      <td>Western Europe</td>\n",
       "      <td>3</td>\n",
       "      <td>7.501</td>\n",
       "      <td>7.333</td>\n",
       "      <td>7.669</td>\n",
       "      <td>1.42666</td>\n",
       "      <td>1.18326</td>\n",
       "      <td>0.86733</td>\n",
       "      <td>0.56624</td>\n",
       "      <td>0.14975</td>\n",
       "      <td>0.47678</td>\n",
       "      <td>2.83137</td>\n",
       "    </tr>\n",
       "  </tbody>\n",
       "</table>\n",
       "</div>"
      ],
      "text/plain": [
       "       Country          Region  Happiness Rank  Happiness Score  \\\n",
       "0      Denmark  Western Europe               1            7.526   \n",
       "1  Switzerland  Western Europe               2            7.509   \n",
       "2      Iceland  Western Europe               3            7.501   \n",
       "\n",
       "   Lower Confidence Interval  Upper Confidence Interval  \\\n",
       "0                      7.460                      7.592   \n",
       "1                      7.428                      7.590   \n",
       "2                      7.333                      7.669   \n",
       "\n",
       "   Economy (GDP per Capita)   Family  Health (Life Expectancy)  Freedom  \\\n",
       "0                   1.44178  1.16374                   0.79504  0.57941   \n",
       "1                   1.52733  1.14524                   0.86303  0.58557   \n",
       "2                   1.42666  1.18326                   0.86733  0.56624   \n",
       "\n",
       "   Trust (Government Corruption)  Generosity  Dystopia Residual  \n",
       "0                        0.44453     0.36171            2.73939  \n",
       "1                        0.41203     0.28083            2.69463  \n",
       "2                        0.14975     0.47678            2.83137  "
      ]
     },
     "execution_count": 14,
     "metadata": {},
     "output_type": "execute_result"
    }
   ],
   "source": [
    "data_2016.head(3)"
   ]
  },
  {
   "cell_type": "code",
   "execution_count": 15,
   "metadata": {},
   "outputs": [
    {
     "data": {
      "text/plain": [
       "Index(['Country', 'Region', 'Happiness Rank', 'Happiness Score',\n",
       "       'Lower Confidence Interval', 'Upper Confidence Interval',\n",
       "       'Economy (GDP per Capita)', 'Family', 'Health (Life Expectancy)',\n",
       "       'Freedom', 'Trust (Government Corruption)', 'Generosity',\n",
       "       'Dystopia Residual'],\n",
       "      dtype='object')"
      ]
     },
     "execution_count": 15,
     "metadata": {},
     "output_type": "execute_result"
    }
   ],
   "source": [
    "data_2016.columns"
   ]
  },
  {
   "cell_type": "markdown",
   "metadata": {},
   "source": [
    "As we can see, there is a fewer column:\n",
    "\n",
    "- **Standard Error**. This column in this dataset will be null.\n",
    "\n",
    "And there are two additional columns:\n",
    "\n",
    "- **Lower Confidence Interval**.\n",
    "\n",
    "- **Upper Confidence Interval**.\n",
    "\n",
    "These columns, so far, will be null in the other dataset. Let's check Nan values:"
   ]
  },
  {
   "cell_type": "code",
   "execution_count": 16,
   "metadata": {},
   "outputs": [
    {
     "data": {
      "text/plain": [
       "Country                          0\n",
       "Region                           0\n",
       "Happiness Rank                   0\n",
       "Happiness Score                  0\n",
       "Lower Confidence Interval        0\n",
       "Upper Confidence Interval        0\n",
       "Economy (GDP per Capita)         0\n",
       "Family                           0\n",
       "Health (Life Expectancy)         0\n",
       "Freedom                          0\n",
       "Trust (Government Corruption)    0\n",
       "Generosity                       0\n",
       "Dystopia Residual                0\n",
       "dtype: int64"
      ]
     },
     "execution_count": 16,
     "metadata": {},
     "output_type": "execute_result"
    }
   ],
   "source": [
    "data_2016.isna().sum()"
   ]
  },
  {
   "cell_type": "code",
   "execution_count": 17,
   "metadata": {},
   "outputs": [
    {
     "data": {
      "text/plain": [
       "Country                           object\n",
       "Region                            object\n",
       "Happiness Rank                     int64\n",
       "Happiness Score                  float64\n",
       "Lower Confidence Interval        float64\n",
       "Upper Confidence Interval        float64\n",
       "Economy (GDP per Capita)         float64\n",
       "Family                           float64\n",
       "Health (Life Expectancy)         float64\n",
       "Freedom                          float64\n",
       "Trust (Government Corruption)    float64\n",
       "Generosity                       float64\n",
       "Dystopia Residual                float64\n",
       "dtype: object"
      ]
     },
     "execution_count": 17,
     "metadata": {},
     "output_type": "execute_result"
    }
   ],
   "source": [
    "data_2016.dtypes"
   ]
  },
  {
   "cell_type": "code",
   "execution_count": 18,
   "metadata": {},
   "outputs": [
    {
     "data": {
      "text/html": [
       "<div>\n",
       "<style scoped>\n",
       "    .dataframe tbody tr th:only-of-type {\n",
       "        vertical-align: middle;\n",
       "    }\n",
       "\n",
       "    .dataframe tbody tr th {\n",
       "        vertical-align: top;\n",
       "    }\n",
       "\n",
       "    .dataframe thead th {\n",
       "        text-align: right;\n",
       "    }\n",
       "</style>\n",
       "<table border=\"1\" class=\"dataframe\">\n",
       "  <thead>\n",
       "    <tr style=\"text-align: right;\">\n",
       "      <th></th>\n",
       "      <th>Happiness Rank</th>\n",
       "      <th>Happiness Score</th>\n",
       "      <th>Lower Confidence Interval</th>\n",
       "      <th>Upper Confidence Interval</th>\n",
       "      <th>Economy (GDP per Capita)</th>\n",
       "      <th>Family</th>\n",
       "      <th>Health (Life Expectancy)</th>\n",
       "      <th>Freedom</th>\n",
       "      <th>Trust (Government Corruption)</th>\n",
       "      <th>Generosity</th>\n",
       "      <th>Dystopia Residual</th>\n",
       "    </tr>\n",
       "  </thead>\n",
       "  <tbody>\n",
       "    <tr>\n",
       "      <th>count</th>\n",
       "      <td>157.000000</td>\n",
       "      <td>157.000000</td>\n",
       "      <td>157.000000</td>\n",
       "      <td>157.000000</td>\n",
       "      <td>157.000000</td>\n",
       "      <td>157.000000</td>\n",
       "      <td>157.000000</td>\n",
       "      <td>157.000000</td>\n",
       "      <td>157.000000</td>\n",
       "      <td>157.000000</td>\n",
       "      <td>157.000000</td>\n",
       "    </tr>\n",
       "    <tr>\n",
       "      <th>mean</th>\n",
       "      <td>78.980892</td>\n",
       "      <td>5.382185</td>\n",
       "      <td>5.282395</td>\n",
       "      <td>5.481975</td>\n",
       "      <td>0.953880</td>\n",
       "      <td>0.793621</td>\n",
       "      <td>0.557619</td>\n",
       "      <td>0.370994</td>\n",
       "      <td>0.137624</td>\n",
       "      <td>0.242635</td>\n",
       "      <td>2.325807</td>\n",
       "    </tr>\n",
       "    <tr>\n",
       "      <th>std</th>\n",
       "      <td>45.466030</td>\n",
       "      <td>1.141674</td>\n",
       "      <td>1.148043</td>\n",
       "      <td>1.136493</td>\n",
       "      <td>0.412595</td>\n",
       "      <td>0.266706</td>\n",
       "      <td>0.229349</td>\n",
       "      <td>0.145507</td>\n",
       "      <td>0.111038</td>\n",
       "      <td>0.133756</td>\n",
       "      <td>0.542220</td>\n",
       "    </tr>\n",
       "    <tr>\n",
       "      <th>min</th>\n",
       "      <td>1.000000</td>\n",
       "      <td>2.905000</td>\n",
       "      <td>2.732000</td>\n",
       "      <td>3.078000</td>\n",
       "      <td>0.000000</td>\n",
       "      <td>0.000000</td>\n",
       "      <td>0.000000</td>\n",
       "      <td>0.000000</td>\n",
       "      <td>0.000000</td>\n",
       "      <td>0.000000</td>\n",
       "      <td>0.817890</td>\n",
       "    </tr>\n",
       "    <tr>\n",
       "      <th>25%</th>\n",
       "      <td>40.000000</td>\n",
       "      <td>4.404000</td>\n",
       "      <td>4.327000</td>\n",
       "      <td>4.465000</td>\n",
       "      <td>0.670240</td>\n",
       "      <td>0.641840</td>\n",
       "      <td>0.382910</td>\n",
       "      <td>0.257480</td>\n",
       "      <td>0.061260</td>\n",
       "      <td>0.154570</td>\n",
       "      <td>2.031710</td>\n",
       "    </tr>\n",
       "    <tr>\n",
       "      <th>50%</th>\n",
       "      <td>79.000000</td>\n",
       "      <td>5.314000</td>\n",
       "      <td>5.237000</td>\n",
       "      <td>5.419000</td>\n",
       "      <td>1.027800</td>\n",
       "      <td>0.841420</td>\n",
       "      <td>0.596590</td>\n",
       "      <td>0.397470</td>\n",
       "      <td>0.105470</td>\n",
       "      <td>0.222450</td>\n",
       "      <td>2.290740</td>\n",
       "    </tr>\n",
       "    <tr>\n",
       "      <th>75%</th>\n",
       "      <td>118.000000</td>\n",
       "      <td>6.269000</td>\n",
       "      <td>6.154000</td>\n",
       "      <td>6.434000</td>\n",
       "      <td>1.279640</td>\n",
       "      <td>1.021520</td>\n",
       "      <td>0.729930</td>\n",
       "      <td>0.484530</td>\n",
       "      <td>0.175540</td>\n",
       "      <td>0.311850</td>\n",
       "      <td>2.664650</td>\n",
       "    </tr>\n",
       "    <tr>\n",
       "      <th>max</th>\n",
       "      <td>157.000000</td>\n",
       "      <td>7.526000</td>\n",
       "      <td>7.460000</td>\n",
       "      <td>7.669000</td>\n",
       "      <td>1.824270</td>\n",
       "      <td>1.183260</td>\n",
       "      <td>0.952770</td>\n",
       "      <td>0.608480</td>\n",
       "      <td>0.505210</td>\n",
       "      <td>0.819710</td>\n",
       "      <td>3.837720</td>\n",
       "    </tr>\n",
       "  </tbody>\n",
       "</table>\n",
       "</div>"
      ],
      "text/plain": [
       "       Happiness Rank  Happiness Score  Lower Confidence Interval  \\\n",
       "count      157.000000       157.000000                 157.000000   \n",
       "mean        78.980892         5.382185                   5.282395   \n",
       "std         45.466030         1.141674                   1.148043   \n",
       "min          1.000000         2.905000                   2.732000   \n",
       "25%         40.000000         4.404000                   4.327000   \n",
       "50%         79.000000         5.314000                   5.237000   \n",
       "75%        118.000000         6.269000                   6.154000   \n",
       "max        157.000000         7.526000                   7.460000   \n",
       "\n",
       "       Upper Confidence Interval  Economy (GDP per Capita)      Family  \\\n",
       "count                 157.000000                157.000000  157.000000   \n",
       "mean                    5.481975                  0.953880    0.793621   \n",
       "std                     1.136493                  0.412595    0.266706   \n",
       "min                     3.078000                  0.000000    0.000000   \n",
       "25%                     4.465000                  0.670240    0.641840   \n",
       "50%                     5.419000                  1.027800    0.841420   \n",
       "75%                     6.434000                  1.279640    1.021520   \n",
       "max                     7.669000                  1.824270    1.183260   \n",
       "\n",
       "       Health (Life Expectancy)     Freedom  Trust (Government Corruption)  \\\n",
       "count                157.000000  157.000000                     157.000000   \n",
       "mean                   0.557619    0.370994                       0.137624   \n",
       "std                    0.229349    0.145507                       0.111038   \n",
       "min                    0.000000    0.000000                       0.000000   \n",
       "25%                    0.382910    0.257480                       0.061260   \n",
       "50%                    0.596590    0.397470                       0.105470   \n",
       "75%                    0.729930    0.484530                       0.175540   \n",
       "max                    0.952770    0.608480                       0.505210   \n",
       "\n",
       "       Generosity  Dystopia Residual  \n",
       "count  157.000000         157.000000  \n",
       "mean     0.242635           2.325807  \n",
       "std      0.133756           0.542220  \n",
       "min      0.000000           0.817890  \n",
       "25%      0.154570           2.031710  \n",
       "50%      0.222450           2.290740  \n",
       "75%      0.311850           2.664650  \n",
       "max      0.819710           3.837720  "
      ]
     },
     "execution_count": 18,
     "metadata": {},
     "output_type": "execute_result"
    }
   ],
   "source": [
    "data_2016.describe()"
   ]
  },
  {
   "cell_type": "markdown",
   "metadata": {},
   "source": [
    "These confidence intervals and the standard error could be useful to validate future predictions, and this will be noted.\n",
    "\n",
    "Let's create the column **Year**:"
   ]
  },
  {
   "cell_type": "code",
   "execution_count": 19,
   "metadata": {},
   "outputs": [],
   "source": [
    "data_2016['Year'] = 2016"
   ]
  },
  {
   "cell_type": "code",
   "execution_count": 20,
   "metadata": {},
   "outputs": [
    {
     "data": {
      "text/html": [
       "<div>\n",
       "<style scoped>\n",
       "    .dataframe tbody tr th:only-of-type {\n",
       "        vertical-align: middle;\n",
       "    }\n",
       "\n",
       "    .dataframe tbody tr th {\n",
       "        vertical-align: top;\n",
       "    }\n",
       "\n",
       "    .dataframe thead th {\n",
       "        text-align: right;\n",
       "    }\n",
       "</style>\n",
       "<table border=\"1\" class=\"dataframe\">\n",
       "  <thead>\n",
       "    <tr style=\"text-align: right;\">\n",
       "      <th></th>\n",
       "      <th>Country</th>\n",
       "      <th>Region</th>\n",
       "      <th>Happiness Rank</th>\n",
       "      <th>Happiness Score</th>\n",
       "      <th>Lower Confidence Interval</th>\n",
       "      <th>Upper Confidence Interval</th>\n",
       "      <th>Economy (GDP per Capita)</th>\n",
       "      <th>Family</th>\n",
       "      <th>Health (Life Expectancy)</th>\n",
       "      <th>Freedom</th>\n",
       "      <th>Trust (Government Corruption)</th>\n",
       "      <th>Generosity</th>\n",
       "      <th>Dystopia Residual</th>\n",
       "      <th>Year</th>\n",
       "    </tr>\n",
       "  </thead>\n",
       "  <tbody>\n",
       "    <tr>\n",
       "      <th>0</th>\n",
       "      <td>Denmark</td>\n",
       "      <td>Western Europe</td>\n",
       "      <td>1</td>\n",
       "      <td>7.526</td>\n",
       "      <td>7.460</td>\n",
       "      <td>7.592</td>\n",
       "      <td>1.44178</td>\n",
       "      <td>1.16374</td>\n",
       "      <td>0.79504</td>\n",
       "      <td>0.57941</td>\n",
       "      <td>0.44453</td>\n",
       "      <td>0.36171</td>\n",
       "      <td>2.73939</td>\n",
       "      <td>2016</td>\n",
       "    </tr>\n",
       "    <tr>\n",
       "      <th>1</th>\n",
       "      <td>Switzerland</td>\n",
       "      <td>Western Europe</td>\n",
       "      <td>2</td>\n",
       "      <td>7.509</td>\n",
       "      <td>7.428</td>\n",
       "      <td>7.590</td>\n",
       "      <td>1.52733</td>\n",
       "      <td>1.14524</td>\n",
       "      <td>0.86303</td>\n",
       "      <td>0.58557</td>\n",
       "      <td>0.41203</td>\n",
       "      <td>0.28083</td>\n",
       "      <td>2.69463</td>\n",
       "      <td>2016</td>\n",
       "    </tr>\n",
       "    <tr>\n",
       "      <th>2</th>\n",
       "      <td>Iceland</td>\n",
       "      <td>Western Europe</td>\n",
       "      <td>3</td>\n",
       "      <td>7.501</td>\n",
       "      <td>7.333</td>\n",
       "      <td>7.669</td>\n",
       "      <td>1.42666</td>\n",
       "      <td>1.18326</td>\n",
       "      <td>0.86733</td>\n",
       "      <td>0.56624</td>\n",
       "      <td>0.14975</td>\n",
       "      <td>0.47678</td>\n",
       "      <td>2.83137</td>\n",
       "      <td>2016</td>\n",
       "    </tr>\n",
       "  </tbody>\n",
       "</table>\n",
       "</div>"
      ],
      "text/plain": [
       "       Country          Region  Happiness Rank  Happiness Score  \\\n",
       "0      Denmark  Western Europe               1            7.526   \n",
       "1  Switzerland  Western Europe               2            7.509   \n",
       "2      Iceland  Western Europe               3            7.501   \n",
       "\n",
       "   Lower Confidence Interval  Upper Confidence Interval  \\\n",
       "0                      7.460                      7.592   \n",
       "1                      7.428                      7.590   \n",
       "2                      7.333                      7.669   \n",
       "\n",
       "   Economy (GDP per Capita)   Family  Health (Life Expectancy)  Freedom  \\\n",
       "0                   1.44178  1.16374                   0.79504  0.57941   \n",
       "1                   1.52733  1.14524                   0.86303  0.58557   \n",
       "2                   1.42666  1.18326                   0.86733  0.56624   \n",
       "\n",
       "   Trust (Government Corruption)  Generosity  Dystopia Residual  Year  \n",
       "0                        0.44453     0.36171            2.73939  2016  \n",
       "1                        0.41203     0.28083            2.69463  2016  \n",
       "2                        0.14975     0.47678            2.83137  2016  "
      ]
     },
     "execution_count": 20,
     "metadata": {},
     "output_type": "execute_result"
    }
   ],
   "source": [
    "data_2016.head(3)"
   ]
  },
  {
   "cell_type": "markdown",
   "metadata": {},
   "source": [
    "#### 3. 2017 dataset"
   ]
  },
  {
   "cell_type": "code",
   "execution_count": 21,
   "metadata": {},
   "outputs": [],
   "source": [
    "data_2017 = pd.read_csv(location_files[2], delimiter=',', header=0)"
   ]
  },
  {
   "cell_type": "code",
   "execution_count": 22,
   "metadata": {},
   "outputs": [
    {
     "data": {
      "text/html": [
       "<div>\n",
       "<style scoped>\n",
       "    .dataframe tbody tr th:only-of-type {\n",
       "        vertical-align: middle;\n",
       "    }\n",
       "\n",
       "    .dataframe tbody tr th {\n",
       "        vertical-align: top;\n",
       "    }\n",
       "\n",
       "    .dataframe thead th {\n",
       "        text-align: right;\n",
       "    }\n",
       "</style>\n",
       "<table border=\"1\" class=\"dataframe\">\n",
       "  <thead>\n",
       "    <tr style=\"text-align: right;\">\n",
       "      <th></th>\n",
       "      <th>Country</th>\n",
       "      <th>Happiness.Rank</th>\n",
       "      <th>Happiness.Score</th>\n",
       "      <th>Whisker.high</th>\n",
       "      <th>Whisker.low</th>\n",
       "      <th>Economy..GDP.per.Capita.</th>\n",
       "      <th>Family</th>\n",
       "      <th>Health..Life.Expectancy.</th>\n",
       "      <th>Freedom</th>\n",
       "      <th>Generosity</th>\n",
       "      <th>Trust..Government.Corruption.</th>\n",
       "      <th>Dystopia.Residual</th>\n",
       "    </tr>\n",
       "  </thead>\n",
       "  <tbody>\n",
       "    <tr>\n",
       "      <th>0</th>\n",
       "      <td>Norway</td>\n",
       "      <td>1</td>\n",
       "      <td>7.537</td>\n",
       "      <td>7.594445</td>\n",
       "      <td>7.479556</td>\n",
       "      <td>1.616463</td>\n",
       "      <td>1.533524</td>\n",
       "      <td>0.796667</td>\n",
       "      <td>0.635423</td>\n",
       "      <td>0.362012</td>\n",
       "      <td>0.315964</td>\n",
       "      <td>2.277027</td>\n",
       "    </tr>\n",
       "    <tr>\n",
       "      <th>1</th>\n",
       "      <td>Denmark</td>\n",
       "      <td>2</td>\n",
       "      <td>7.522</td>\n",
       "      <td>7.581728</td>\n",
       "      <td>7.462272</td>\n",
       "      <td>1.482383</td>\n",
       "      <td>1.551122</td>\n",
       "      <td>0.792566</td>\n",
       "      <td>0.626007</td>\n",
       "      <td>0.355280</td>\n",
       "      <td>0.400770</td>\n",
       "      <td>2.313707</td>\n",
       "    </tr>\n",
       "    <tr>\n",
       "      <th>2</th>\n",
       "      <td>Iceland</td>\n",
       "      <td>3</td>\n",
       "      <td>7.504</td>\n",
       "      <td>7.622030</td>\n",
       "      <td>7.385970</td>\n",
       "      <td>1.480633</td>\n",
       "      <td>1.610574</td>\n",
       "      <td>0.833552</td>\n",
       "      <td>0.627163</td>\n",
       "      <td>0.475540</td>\n",
       "      <td>0.153527</td>\n",
       "      <td>2.322715</td>\n",
       "    </tr>\n",
       "  </tbody>\n",
       "</table>\n",
       "</div>"
      ],
      "text/plain": [
       "   Country  Happiness.Rank  Happiness.Score  Whisker.high  Whisker.low  \\\n",
       "0   Norway               1            7.537      7.594445     7.479556   \n",
       "1  Denmark               2            7.522      7.581728     7.462272   \n",
       "2  Iceland               3            7.504      7.622030     7.385970   \n",
       "\n",
       "   Economy..GDP.per.Capita.    Family  Health..Life.Expectancy.   Freedom  \\\n",
       "0                  1.616463  1.533524                  0.796667  0.635423   \n",
       "1                  1.482383  1.551122                  0.792566  0.626007   \n",
       "2                  1.480633  1.610574                  0.833552  0.627163   \n",
       "\n",
       "   Generosity  Trust..Government.Corruption.  Dystopia.Residual  \n",
       "0    0.362012                       0.315964           2.277027  \n",
       "1    0.355280                       0.400770           2.313707  \n",
       "2    0.475540                       0.153527           2.322715  "
      ]
     },
     "execution_count": 22,
     "metadata": {},
     "output_type": "execute_result"
    }
   ],
   "source": [
    "data_2017.head(3)"
   ]
  },
  {
   "cell_type": "markdown",
   "metadata": {},
   "source": [
    "We have 2 new columns referring to the dataset data_2015, these could refer to the variability of the data, we will take note of what may be their importance when predicting happiness. Additionally, or has the region column. For now we will rename the columns to resemble all the columns of all the datasets as well as possible."
   ]
  },
  {
   "cell_type": "code",
   "execution_count": 23,
   "metadata": {},
   "outputs": [],
   "source": [
    "data_2017.columns = ['Country', 'Happiness Rank', 'Happiness Score', 'Whisker High', 'Whisker Low', 'Economy (GDP per Capita)', 'Family', 'Health (Life Expectancy)', 'Freedom', 'Generosity', 'Trust (Government Corruption)', 'Dystopia Residual']"
   ]
  },
  {
   "cell_type": "code",
   "execution_count": 24,
   "metadata": {},
   "outputs": [
    {
     "data": {
      "text/html": [
       "<div>\n",
       "<style scoped>\n",
       "    .dataframe tbody tr th:only-of-type {\n",
       "        vertical-align: middle;\n",
       "    }\n",
       "\n",
       "    .dataframe tbody tr th {\n",
       "        vertical-align: top;\n",
       "    }\n",
       "\n",
       "    .dataframe thead th {\n",
       "        text-align: right;\n",
       "    }\n",
       "</style>\n",
       "<table border=\"1\" class=\"dataframe\">\n",
       "  <thead>\n",
       "    <tr style=\"text-align: right;\">\n",
       "      <th></th>\n",
       "      <th>Country</th>\n",
       "      <th>Happiness Rank</th>\n",
       "      <th>Happiness Score</th>\n",
       "      <th>Whisker High</th>\n",
       "      <th>Whisker Low</th>\n",
       "      <th>Economy (GDP per Capita)</th>\n",
       "      <th>Family</th>\n",
       "      <th>Health (Life Expectancy)</th>\n",
       "      <th>Freedom</th>\n",
       "      <th>Generosity</th>\n",
       "      <th>Trust (Government Corruption)</th>\n",
       "      <th>Dystopia Residual</th>\n",
       "    </tr>\n",
       "  </thead>\n",
       "  <tbody>\n",
       "    <tr>\n",
       "      <th>0</th>\n",
       "      <td>Norway</td>\n",
       "      <td>1</td>\n",
       "      <td>7.537</td>\n",
       "      <td>7.594445</td>\n",
       "      <td>7.479556</td>\n",
       "      <td>1.616463</td>\n",
       "      <td>1.533524</td>\n",
       "      <td>0.796667</td>\n",
       "      <td>0.635423</td>\n",
       "      <td>0.362012</td>\n",
       "      <td>0.315964</td>\n",
       "      <td>2.277027</td>\n",
       "    </tr>\n",
       "    <tr>\n",
       "      <th>1</th>\n",
       "      <td>Denmark</td>\n",
       "      <td>2</td>\n",
       "      <td>7.522</td>\n",
       "      <td>7.581728</td>\n",
       "      <td>7.462272</td>\n",
       "      <td>1.482383</td>\n",
       "      <td>1.551122</td>\n",
       "      <td>0.792566</td>\n",
       "      <td>0.626007</td>\n",
       "      <td>0.355280</td>\n",
       "      <td>0.400770</td>\n",
       "      <td>2.313707</td>\n",
       "    </tr>\n",
       "    <tr>\n",
       "      <th>2</th>\n",
       "      <td>Iceland</td>\n",
       "      <td>3</td>\n",
       "      <td>7.504</td>\n",
       "      <td>7.622030</td>\n",
       "      <td>7.385970</td>\n",
       "      <td>1.480633</td>\n",
       "      <td>1.610574</td>\n",
       "      <td>0.833552</td>\n",
       "      <td>0.627163</td>\n",
       "      <td>0.475540</td>\n",
       "      <td>0.153527</td>\n",
       "      <td>2.322715</td>\n",
       "    </tr>\n",
       "  </tbody>\n",
       "</table>\n",
       "</div>"
      ],
      "text/plain": [
       "   Country  Happiness Rank  Happiness Score  Whisker High  Whisker Low  \\\n",
       "0   Norway               1            7.537      7.594445     7.479556   \n",
       "1  Denmark               2            7.522      7.581728     7.462272   \n",
       "2  Iceland               3            7.504      7.622030     7.385970   \n",
       "\n",
       "   Economy (GDP per Capita)    Family  Health (Life Expectancy)   Freedom  \\\n",
       "0                  1.616463  1.533524                  0.796667  0.635423   \n",
       "1                  1.482383  1.551122                  0.792566  0.626007   \n",
       "2                  1.480633  1.610574                  0.833552  0.627163   \n",
       "\n",
       "   Generosity  Trust (Government Corruption)  Dystopia Residual  \n",
       "0    0.362012                       0.315964           2.277027  \n",
       "1    0.355280                       0.400770           2.313707  \n",
       "2    0.475540                       0.153527           2.322715  "
      ]
     },
     "execution_count": 24,
     "metadata": {},
     "output_type": "execute_result"
    }
   ],
   "source": [
    "data_2017.head(3)"
   ]
  },
  {
   "cell_type": "code",
   "execution_count": 25,
   "metadata": {},
   "outputs": [],
   "source": [
    "data_2017['Year'] = 2017"
   ]
  },
  {
   "cell_type": "code",
   "execution_count": 26,
   "metadata": {},
   "outputs": [
    {
     "data": {
      "text/html": [
       "<div>\n",
       "<style scoped>\n",
       "    .dataframe tbody tr th:only-of-type {\n",
       "        vertical-align: middle;\n",
       "    }\n",
       "\n",
       "    .dataframe tbody tr th {\n",
       "        vertical-align: top;\n",
       "    }\n",
       "\n",
       "    .dataframe thead th {\n",
       "        text-align: right;\n",
       "    }\n",
       "</style>\n",
       "<table border=\"1\" class=\"dataframe\">\n",
       "  <thead>\n",
       "    <tr style=\"text-align: right;\">\n",
       "      <th></th>\n",
       "      <th>Country</th>\n",
       "      <th>Happiness Rank</th>\n",
       "      <th>Happiness Score</th>\n",
       "      <th>Whisker High</th>\n",
       "      <th>Whisker Low</th>\n",
       "      <th>Economy (GDP per Capita)</th>\n",
       "      <th>Family</th>\n",
       "      <th>Health (Life Expectancy)</th>\n",
       "      <th>Freedom</th>\n",
       "      <th>Generosity</th>\n",
       "      <th>Trust (Government Corruption)</th>\n",
       "      <th>Dystopia Residual</th>\n",
       "      <th>Year</th>\n",
       "    </tr>\n",
       "  </thead>\n",
       "  <tbody>\n",
       "    <tr>\n",
       "      <th>0</th>\n",
       "      <td>Norway</td>\n",
       "      <td>1</td>\n",
       "      <td>7.537</td>\n",
       "      <td>7.594445</td>\n",
       "      <td>7.479556</td>\n",
       "      <td>1.616463</td>\n",
       "      <td>1.533524</td>\n",
       "      <td>0.796667</td>\n",
       "      <td>0.635423</td>\n",
       "      <td>0.362012</td>\n",
       "      <td>0.315964</td>\n",
       "      <td>2.277027</td>\n",
       "      <td>2017</td>\n",
       "    </tr>\n",
       "    <tr>\n",
       "      <th>1</th>\n",
       "      <td>Denmark</td>\n",
       "      <td>2</td>\n",
       "      <td>7.522</td>\n",
       "      <td>7.581728</td>\n",
       "      <td>7.462272</td>\n",
       "      <td>1.482383</td>\n",
       "      <td>1.551122</td>\n",
       "      <td>0.792566</td>\n",
       "      <td>0.626007</td>\n",
       "      <td>0.355280</td>\n",
       "      <td>0.400770</td>\n",
       "      <td>2.313707</td>\n",
       "      <td>2017</td>\n",
       "    </tr>\n",
       "    <tr>\n",
       "      <th>2</th>\n",
       "      <td>Iceland</td>\n",
       "      <td>3</td>\n",
       "      <td>7.504</td>\n",
       "      <td>7.622030</td>\n",
       "      <td>7.385970</td>\n",
       "      <td>1.480633</td>\n",
       "      <td>1.610574</td>\n",
       "      <td>0.833552</td>\n",
       "      <td>0.627163</td>\n",
       "      <td>0.475540</td>\n",
       "      <td>0.153527</td>\n",
       "      <td>2.322715</td>\n",
       "      <td>2017</td>\n",
       "    </tr>\n",
       "  </tbody>\n",
       "</table>\n",
       "</div>"
      ],
      "text/plain": [
       "   Country  Happiness Rank  Happiness Score  Whisker High  Whisker Low  \\\n",
       "0   Norway               1            7.537      7.594445     7.479556   \n",
       "1  Denmark               2            7.522      7.581728     7.462272   \n",
       "2  Iceland               3            7.504      7.622030     7.385970   \n",
       "\n",
       "   Economy (GDP per Capita)    Family  Health (Life Expectancy)   Freedom  \\\n",
       "0                  1.616463  1.533524                  0.796667  0.635423   \n",
       "1                  1.482383  1.551122                  0.792566  0.626007   \n",
       "2                  1.480633  1.610574                  0.833552  0.627163   \n",
       "\n",
       "   Generosity  Trust (Government Corruption)  Dystopia Residual  Year  \n",
       "0    0.362012                       0.315964           2.277027  2017  \n",
       "1    0.355280                       0.400770           2.313707  2017  \n",
       "2    0.475540                       0.153527           2.322715  2017  "
      ]
     },
     "execution_count": 26,
     "metadata": {},
     "output_type": "execute_result"
    }
   ],
   "source": [
    "data_2017.head(3)"
   ]
  },
  {
   "cell_type": "code",
   "execution_count": 27,
   "metadata": {},
   "outputs": [
    {
     "data": {
      "text/plain": [
       "Country                          0\n",
       "Happiness Rank                   0\n",
       "Happiness Score                  0\n",
       "Whisker High                     0\n",
       "Whisker Low                      0\n",
       "Economy (GDP per Capita)         0\n",
       "Family                           0\n",
       "Health (Life Expectancy)         0\n",
       "Freedom                          0\n",
       "Generosity                       0\n",
       "Trust (Government Corruption)    0\n",
       "Dystopia Residual                0\n",
       "Year                             0\n",
       "dtype: int64"
      ]
     },
     "execution_count": 27,
     "metadata": {},
     "output_type": "execute_result"
    }
   ],
   "source": [
    "data_2017.isna().sum()"
   ]
  },
  {
   "cell_type": "markdown",
   "metadata": {},
   "source": [
    "#### 4. 2018 dataset"
   ]
  },
  {
   "cell_type": "code",
   "execution_count": 28,
   "metadata": {},
   "outputs": [],
   "source": [
    "data_2018 = pd.read_csv(location_files[3], delimiter=',', header=0)"
   ]
  },
  {
   "cell_type": "code",
   "execution_count": 29,
   "metadata": {},
   "outputs": [
    {
     "data": {
      "text/html": [
       "<div>\n",
       "<style scoped>\n",
       "    .dataframe tbody tr th:only-of-type {\n",
       "        vertical-align: middle;\n",
       "    }\n",
       "\n",
       "    .dataframe tbody tr th {\n",
       "        vertical-align: top;\n",
       "    }\n",
       "\n",
       "    .dataframe thead th {\n",
       "        text-align: right;\n",
       "    }\n",
       "</style>\n",
       "<table border=\"1\" class=\"dataframe\">\n",
       "  <thead>\n",
       "    <tr style=\"text-align: right;\">\n",
       "      <th></th>\n",
       "      <th>Overall rank</th>\n",
       "      <th>Country or region</th>\n",
       "      <th>Score</th>\n",
       "      <th>GDP per capita</th>\n",
       "      <th>Social support</th>\n",
       "      <th>Healthy life expectancy</th>\n",
       "      <th>Freedom to make life choices</th>\n",
       "      <th>Generosity</th>\n",
       "      <th>Perceptions of corruption</th>\n",
       "    </tr>\n",
       "  </thead>\n",
       "  <tbody>\n",
       "    <tr>\n",
       "      <th>0</th>\n",
       "      <td>1</td>\n",
       "      <td>Finland</td>\n",
       "      <td>7.632</td>\n",
       "      <td>1.305</td>\n",
       "      <td>1.592</td>\n",
       "      <td>0.874</td>\n",
       "      <td>0.681</td>\n",
       "      <td>0.202</td>\n",
       "      <td>0.393</td>\n",
       "    </tr>\n",
       "    <tr>\n",
       "      <th>1</th>\n",
       "      <td>2</td>\n",
       "      <td>Norway</td>\n",
       "      <td>7.594</td>\n",
       "      <td>1.456</td>\n",
       "      <td>1.582</td>\n",
       "      <td>0.861</td>\n",
       "      <td>0.686</td>\n",
       "      <td>0.286</td>\n",
       "      <td>0.340</td>\n",
       "    </tr>\n",
       "    <tr>\n",
       "      <th>2</th>\n",
       "      <td>3</td>\n",
       "      <td>Denmark</td>\n",
       "      <td>7.555</td>\n",
       "      <td>1.351</td>\n",
       "      <td>1.590</td>\n",
       "      <td>0.868</td>\n",
       "      <td>0.683</td>\n",
       "      <td>0.284</td>\n",
       "      <td>0.408</td>\n",
       "    </tr>\n",
       "  </tbody>\n",
       "</table>\n",
       "</div>"
      ],
      "text/plain": [
       "   Overall rank Country or region  Score  GDP per capita  Social support  \\\n",
       "0             1           Finland  7.632           1.305           1.592   \n",
       "1             2            Norway  7.594           1.456           1.582   \n",
       "2             3           Denmark  7.555           1.351           1.590   \n",
       "\n",
       "   Healthy life expectancy  Freedom to make life choices  Generosity  \\\n",
       "0                    0.874                         0.681       0.202   \n",
       "1                    0.861                         0.686       0.286   \n",
       "2                    0.868                         0.683       0.284   \n",
       "\n",
       "   Perceptions of corruption  \n",
       "0                      0.393  \n",
       "1                      0.340  \n",
       "2                      0.408  "
      ]
     },
     "execution_count": 29,
     "metadata": {},
     "output_type": "execute_result"
    }
   ],
   "source": [
    "data_2018.head(3)"
   ]
  },
  {
   "cell_type": "code",
   "execution_count": 30,
   "metadata": {},
   "outputs": [
    {
     "data": {
      "text/plain": [
       "Overall rank                    0\n",
       "Country or region               0\n",
       "Score                           0\n",
       "GDP per capita                  0\n",
       "Social support                  0\n",
       "Healthy life expectancy         0\n",
       "Freedom to make life choices    0\n",
       "Generosity                      0\n",
       "Perceptions of corruption       1\n",
       "dtype: int64"
      ]
     },
     "execution_count": 30,
     "metadata": {},
     "output_type": "execute_result"
    }
   ],
   "source": [
    "data_2018.isna().sum()"
   ]
  },
  {
   "cell_type": "code",
   "execution_count": 31,
   "metadata": {},
   "outputs": [
    {
     "data": {
      "text/html": [
       "<div>\n",
       "<style scoped>\n",
       "    .dataframe tbody tr th:only-of-type {\n",
       "        vertical-align: middle;\n",
       "    }\n",
       "\n",
       "    .dataframe tbody tr th {\n",
       "        vertical-align: top;\n",
       "    }\n",
       "\n",
       "    .dataframe thead th {\n",
       "        text-align: right;\n",
       "    }\n",
       "</style>\n",
       "<table border=\"1\" class=\"dataframe\">\n",
       "  <thead>\n",
       "    <tr style=\"text-align: right;\">\n",
       "      <th></th>\n",
       "      <th>Overall rank</th>\n",
       "      <th>Score</th>\n",
       "      <th>GDP per capita</th>\n",
       "      <th>Social support</th>\n",
       "      <th>Healthy life expectancy</th>\n",
       "      <th>Freedom to make life choices</th>\n",
       "      <th>Generosity</th>\n",
       "      <th>Perceptions of corruption</th>\n",
       "    </tr>\n",
       "  </thead>\n",
       "  <tbody>\n",
       "    <tr>\n",
       "      <th>count</th>\n",
       "      <td>156.000000</td>\n",
       "      <td>156.000000</td>\n",
       "      <td>156.000000</td>\n",
       "      <td>156.000000</td>\n",
       "      <td>156.000000</td>\n",
       "      <td>156.000000</td>\n",
       "      <td>156.000000</td>\n",
       "      <td>155.000000</td>\n",
       "    </tr>\n",
       "    <tr>\n",
       "      <th>mean</th>\n",
       "      <td>78.500000</td>\n",
       "      <td>5.375917</td>\n",
       "      <td>0.891449</td>\n",
       "      <td>1.213237</td>\n",
       "      <td>0.597346</td>\n",
       "      <td>0.454506</td>\n",
       "      <td>0.181006</td>\n",
       "      <td>0.112000</td>\n",
       "    </tr>\n",
       "    <tr>\n",
       "      <th>std</th>\n",
       "      <td>45.177428</td>\n",
       "      <td>1.119506</td>\n",
       "      <td>0.391921</td>\n",
       "      <td>0.302372</td>\n",
       "      <td>0.247579</td>\n",
       "      <td>0.162424</td>\n",
       "      <td>0.098471</td>\n",
       "      <td>0.096492</td>\n",
       "    </tr>\n",
       "    <tr>\n",
       "      <th>min</th>\n",
       "      <td>1.000000</td>\n",
       "      <td>2.905000</td>\n",
       "      <td>0.000000</td>\n",
       "      <td>0.000000</td>\n",
       "      <td>0.000000</td>\n",
       "      <td>0.000000</td>\n",
       "      <td>0.000000</td>\n",
       "      <td>0.000000</td>\n",
       "    </tr>\n",
       "    <tr>\n",
       "      <th>25%</th>\n",
       "      <td>39.750000</td>\n",
       "      <td>4.453750</td>\n",
       "      <td>0.616250</td>\n",
       "      <td>1.066750</td>\n",
       "      <td>0.422250</td>\n",
       "      <td>0.356000</td>\n",
       "      <td>0.109500</td>\n",
       "      <td>0.051000</td>\n",
       "    </tr>\n",
       "    <tr>\n",
       "      <th>50%</th>\n",
       "      <td>78.500000</td>\n",
       "      <td>5.378000</td>\n",
       "      <td>0.949500</td>\n",
       "      <td>1.255000</td>\n",
       "      <td>0.644000</td>\n",
       "      <td>0.487000</td>\n",
       "      <td>0.174000</td>\n",
       "      <td>0.082000</td>\n",
       "    </tr>\n",
       "    <tr>\n",
       "      <th>75%</th>\n",
       "      <td>117.250000</td>\n",
       "      <td>6.168500</td>\n",
       "      <td>1.197750</td>\n",
       "      <td>1.463000</td>\n",
       "      <td>0.777250</td>\n",
       "      <td>0.578500</td>\n",
       "      <td>0.239000</td>\n",
       "      <td>0.137000</td>\n",
       "    </tr>\n",
       "    <tr>\n",
       "      <th>max</th>\n",
       "      <td>156.000000</td>\n",
       "      <td>7.632000</td>\n",
       "      <td>2.096000</td>\n",
       "      <td>1.644000</td>\n",
       "      <td>1.030000</td>\n",
       "      <td>0.724000</td>\n",
       "      <td>0.598000</td>\n",
       "      <td>0.457000</td>\n",
       "    </tr>\n",
       "  </tbody>\n",
       "</table>\n",
       "</div>"
      ],
      "text/plain": [
       "       Overall rank       Score  GDP per capita  Social support  \\\n",
       "count    156.000000  156.000000      156.000000      156.000000   \n",
       "mean      78.500000    5.375917        0.891449        1.213237   \n",
       "std       45.177428    1.119506        0.391921        0.302372   \n",
       "min        1.000000    2.905000        0.000000        0.000000   \n",
       "25%       39.750000    4.453750        0.616250        1.066750   \n",
       "50%       78.500000    5.378000        0.949500        1.255000   \n",
       "75%      117.250000    6.168500        1.197750        1.463000   \n",
       "max      156.000000    7.632000        2.096000        1.644000   \n",
       "\n",
       "       Healthy life expectancy  Freedom to make life choices  Generosity  \\\n",
       "count               156.000000                    156.000000  156.000000   \n",
       "mean                  0.597346                      0.454506    0.181006   \n",
       "std                   0.247579                      0.162424    0.098471   \n",
       "min                   0.000000                      0.000000    0.000000   \n",
       "25%                   0.422250                      0.356000    0.109500   \n",
       "50%                   0.644000                      0.487000    0.174000   \n",
       "75%                   0.777250                      0.578500    0.239000   \n",
       "max                   1.030000                      0.724000    0.598000   \n",
       "\n",
       "       Perceptions of corruption  \n",
       "count                 155.000000  \n",
       "mean                    0.112000  \n",
       "std                     0.096492  \n",
       "min                     0.000000  \n",
       "25%                     0.051000  \n",
       "50%                     0.082000  \n",
       "75%                     0.137000  \n",
       "max                     0.457000  "
      ]
     },
     "execution_count": 31,
     "metadata": {},
     "output_type": "execute_result"
    }
   ],
   "source": [
    "data_2018.describe()"
   ]
  },
  {
   "cell_type": "markdown",
   "metadata": {},
   "source": [
    "We have a significant loss of columns and others are added.\n",
    "Reviewing the oscillations of the **Overall rank**, **Score**, **Social support**, **GDP per capita** and **Perceptions of corruption** columns, they resemble those of the columns in the **data_2015** dataset, so they will be related when renaming the columns in the current dataset.\n",
    "It is a pity that the **Dystopia Residual** data are not available.\n",
    "\n",
    "The current columns will be renamed to the one now designated:\n",
    "\n",
    "- **Overall rank ->** Happiness Rank.\n",
    "- **Score ->** Happiness Score.\n",
    "- **GDP per capita ->** Economy (GDP per Capita).\n",
    "- **Social support ->** Family.\n",
    "- **Healthy life expectancy ->** Healthy (Life Expectancy).\n",
    "- **Freedom to make life choices ->** Freedom.\n",
    "- **Perceptions of corruption ->** Trust (Government Corruption).\n",
    "\n",
    "The **Country or region** column apparently collects both the country and the region, so these will not be touched so far."
   ]
  },
  {
   "cell_type": "code",
   "execution_count": 32,
   "metadata": {},
   "outputs": [],
   "source": [
    "data_2018.columns = ['Happiness Rank', 'Country or region', 'Happiness Score', 'Economy (GDP per Capita)', 'Family', 'Healthy (Life Expectancy)', 'Freedom', 'Generosity', 'Trust (Government Corruption)']"
   ]
  },
  {
   "cell_type": "code",
   "execution_count": 33,
   "metadata": {},
   "outputs": [
    {
     "data": {
      "text/html": [
       "<div>\n",
       "<style scoped>\n",
       "    .dataframe tbody tr th:only-of-type {\n",
       "        vertical-align: middle;\n",
       "    }\n",
       "\n",
       "    .dataframe tbody tr th {\n",
       "        vertical-align: top;\n",
       "    }\n",
       "\n",
       "    .dataframe thead th {\n",
       "        text-align: right;\n",
       "    }\n",
       "</style>\n",
       "<table border=\"1\" class=\"dataframe\">\n",
       "  <thead>\n",
       "    <tr style=\"text-align: right;\">\n",
       "      <th></th>\n",
       "      <th>Happiness Rank</th>\n",
       "      <th>Country or region</th>\n",
       "      <th>Happiness Score</th>\n",
       "      <th>Economy (GDP per Capita)</th>\n",
       "      <th>Family</th>\n",
       "      <th>Healthy (Life Expectancy)</th>\n",
       "      <th>Freedom</th>\n",
       "      <th>Generosity</th>\n",
       "      <th>Trust (Government Corruption)</th>\n",
       "    </tr>\n",
       "  </thead>\n",
       "  <tbody>\n",
       "    <tr>\n",
       "      <th>0</th>\n",
       "      <td>1</td>\n",
       "      <td>Finland</td>\n",
       "      <td>7.632</td>\n",
       "      <td>1.305</td>\n",
       "      <td>1.592</td>\n",
       "      <td>0.874</td>\n",
       "      <td>0.681</td>\n",
       "      <td>0.202</td>\n",
       "      <td>0.393</td>\n",
       "    </tr>\n",
       "    <tr>\n",
       "      <th>1</th>\n",
       "      <td>2</td>\n",
       "      <td>Norway</td>\n",
       "      <td>7.594</td>\n",
       "      <td>1.456</td>\n",
       "      <td>1.582</td>\n",
       "      <td>0.861</td>\n",
       "      <td>0.686</td>\n",
       "      <td>0.286</td>\n",
       "      <td>0.340</td>\n",
       "    </tr>\n",
       "    <tr>\n",
       "      <th>2</th>\n",
       "      <td>3</td>\n",
       "      <td>Denmark</td>\n",
       "      <td>7.555</td>\n",
       "      <td>1.351</td>\n",
       "      <td>1.590</td>\n",
       "      <td>0.868</td>\n",
       "      <td>0.683</td>\n",
       "      <td>0.284</td>\n",
       "      <td>0.408</td>\n",
       "    </tr>\n",
       "  </tbody>\n",
       "</table>\n",
       "</div>"
      ],
      "text/plain": [
       "   Happiness Rank Country or region  Happiness Score  \\\n",
       "0               1           Finland            7.632   \n",
       "1               2            Norway            7.594   \n",
       "2               3           Denmark            7.555   \n",
       "\n",
       "   Economy (GDP per Capita)  Family  Healthy (Life Expectancy)  Freedom  \\\n",
       "0                     1.305   1.592                      0.874    0.681   \n",
       "1                     1.456   1.582                      0.861    0.686   \n",
       "2                     1.351   1.590                      0.868    0.683   \n",
       "\n",
       "   Generosity  Trust (Government Corruption)  \n",
       "0       0.202                          0.393  \n",
       "1       0.286                          0.340  \n",
       "2       0.284                          0.408  "
      ]
     },
     "execution_count": 33,
     "metadata": {},
     "output_type": "execute_result"
    }
   ],
   "source": [
    "data_2018.head(3)"
   ]
  },
  {
   "cell_type": "code",
   "execution_count": 34,
   "metadata": {},
   "outputs": [],
   "source": [
    "data_2018['Year'] = 2018"
   ]
  },
  {
   "cell_type": "code",
   "execution_count": 35,
   "metadata": {},
   "outputs": [
    {
     "data": {
      "text/html": [
       "<div>\n",
       "<style scoped>\n",
       "    .dataframe tbody tr th:only-of-type {\n",
       "        vertical-align: middle;\n",
       "    }\n",
       "\n",
       "    .dataframe tbody tr th {\n",
       "        vertical-align: top;\n",
       "    }\n",
       "\n",
       "    .dataframe thead th {\n",
       "        text-align: right;\n",
       "    }\n",
       "</style>\n",
       "<table border=\"1\" class=\"dataframe\">\n",
       "  <thead>\n",
       "    <tr style=\"text-align: right;\">\n",
       "      <th></th>\n",
       "      <th>Happiness Rank</th>\n",
       "      <th>Country or region</th>\n",
       "      <th>Happiness Score</th>\n",
       "      <th>Economy (GDP per Capita)</th>\n",
       "      <th>Family</th>\n",
       "      <th>Healthy (Life Expectancy)</th>\n",
       "      <th>Freedom</th>\n",
       "      <th>Generosity</th>\n",
       "      <th>Trust (Government Corruption)</th>\n",
       "      <th>Year</th>\n",
       "    </tr>\n",
       "  </thead>\n",
       "  <tbody>\n",
       "    <tr>\n",
       "      <th>0</th>\n",
       "      <td>1</td>\n",
       "      <td>Finland</td>\n",
       "      <td>7.632</td>\n",
       "      <td>1.305</td>\n",
       "      <td>1.592</td>\n",
       "      <td>0.874</td>\n",
       "      <td>0.681</td>\n",
       "      <td>0.202</td>\n",
       "      <td>0.393</td>\n",
       "      <td>2018</td>\n",
       "    </tr>\n",
       "    <tr>\n",
       "      <th>1</th>\n",
       "      <td>2</td>\n",
       "      <td>Norway</td>\n",
       "      <td>7.594</td>\n",
       "      <td>1.456</td>\n",
       "      <td>1.582</td>\n",
       "      <td>0.861</td>\n",
       "      <td>0.686</td>\n",
       "      <td>0.286</td>\n",
       "      <td>0.340</td>\n",
       "      <td>2018</td>\n",
       "    </tr>\n",
       "    <tr>\n",
       "      <th>2</th>\n",
       "      <td>3</td>\n",
       "      <td>Denmark</td>\n",
       "      <td>7.555</td>\n",
       "      <td>1.351</td>\n",
       "      <td>1.590</td>\n",
       "      <td>0.868</td>\n",
       "      <td>0.683</td>\n",
       "      <td>0.284</td>\n",
       "      <td>0.408</td>\n",
       "      <td>2018</td>\n",
       "    </tr>\n",
       "  </tbody>\n",
       "</table>\n",
       "</div>"
      ],
      "text/plain": [
       "   Happiness Rank Country or region  Happiness Score  \\\n",
       "0               1           Finland            7.632   \n",
       "1               2            Norway            7.594   \n",
       "2               3           Denmark            7.555   \n",
       "\n",
       "   Economy (GDP per Capita)  Family  Healthy (Life Expectancy)  Freedom  \\\n",
       "0                     1.305   1.592                      0.874    0.681   \n",
       "1                     1.456   1.582                      0.861    0.686   \n",
       "2                     1.351   1.590                      0.868    0.683   \n",
       "\n",
       "   Generosity  Trust (Government Corruption)  Year  \n",
       "0       0.202                          0.393  2018  \n",
       "1       0.286                          0.340  2018  \n",
       "2       0.284                          0.408  2018  "
      ]
     },
     "execution_count": 35,
     "metadata": {},
     "output_type": "execute_result"
    }
   ],
   "source": [
    "data_2018.head(3)"
   ]
  },
  {
   "cell_type": "markdown",
   "metadata": {},
   "source": [
    "#### 5. 2019 dataset"
   ]
  },
  {
   "cell_type": "code",
   "execution_count": 36,
   "metadata": {},
   "outputs": [],
   "source": [
    "data_2019 = pd.read_csv(location_files[4], delimiter=',', header=0)"
   ]
  },
  {
   "cell_type": "code",
   "execution_count": 37,
   "metadata": {},
   "outputs": [
    {
     "data": {
      "text/html": [
       "<div>\n",
       "<style scoped>\n",
       "    .dataframe tbody tr th:only-of-type {\n",
       "        vertical-align: middle;\n",
       "    }\n",
       "\n",
       "    .dataframe tbody tr th {\n",
       "        vertical-align: top;\n",
       "    }\n",
       "\n",
       "    .dataframe thead th {\n",
       "        text-align: right;\n",
       "    }\n",
       "</style>\n",
       "<table border=\"1\" class=\"dataframe\">\n",
       "  <thead>\n",
       "    <tr style=\"text-align: right;\">\n",
       "      <th></th>\n",
       "      <th>Overall rank</th>\n",
       "      <th>Country or region</th>\n",
       "      <th>Score</th>\n",
       "      <th>GDP per capita</th>\n",
       "      <th>Social support</th>\n",
       "      <th>Healthy life expectancy</th>\n",
       "      <th>Freedom to make life choices</th>\n",
       "      <th>Generosity</th>\n",
       "      <th>Perceptions of corruption</th>\n",
       "    </tr>\n",
       "  </thead>\n",
       "  <tbody>\n",
       "    <tr>\n",
       "      <th>0</th>\n",
       "      <td>1</td>\n",
       "      <td>Finland</td>\n",
       "      <td>7.769</td>\n",
       "      <td>1.340</td>\n",
       "      <td>1.587</td>\n",
       "      <td>0.986</td>\n",
       "      <td>0.596</td>\n",
       "      <td>0.153</td>\n",
       "      <td>0.393</td>\n",
       "    </tr>\n",
       "    <tr>\n",
       "      <th>1</th>\n",
       "      <td>2</td>\n",
       "      <td>Denmark</td>\n",
       "      <td>7.600</td>\n",
       "      <td>1.383</td>\n",
       "      <td>1.573</td>\n",
       "      <td>0.996</td>\n",
       "      <td>0.592</td>\n",
       "      <td>0.252</td>\n",
       "      <td>0.410</td>\n",
       "    </tr>\n",
       "    <tr>\n",
       "      <th>2</th>\n",
       "      <td>3</td>\n",
       "      <td>Norway</td>\n",
       "      <td>7.554</td>\n",
       "      <td>1.488</td>\n",
       "      <td>1.582</td>\n",
       "      <td>1.028</td>\n",
       "      <td>0.603</td>\n",
       "      <td>0.271</td>\n",
       "      <td>0.341</td>\n",
       "    </tr>\n",
       "  </tbody>\n",
       "</table>\n",
       "</div>"
      ],
      "text/plain": [
       "   Overall rank Country or region  Score  GDP per capita  Social support  \\\n",
       "0             1           Finland  7.769           1.340           1.587   \n",
       "1             2           Denmark  7.600           1.383           1.573   \n",
       "2             3            Norway  7.554           1.488           1.582   \n",
       "\n",
       "   Healthy life expectancy  Freedom to make life choices  Generosity  \\\n",
       "0                    0.986                         0.596       0.153   \n",
       "1                    0.996                         0.592       0.252   \n",
       "2                    1.028                         0.603       0.271   \n",
       "\n",
       "   Perceptions of corruption  \n",
       "0                      0.393  \n",
       "1                      0.410  \n",
       "2                      0.341  "
      ]
     },
     "execution_count": 37,
     "metadata": {},
     "output_type": "execute_result"
    }
   ],
   "source": [
    "data_2019.head(3)"
   ]
  },
  {
   "cell_type": "code",
   "execution_count": 38,
   "metadata": {},
   "outputs": [
    {
     "data": {
      "text/plain": [
       "Overall rank                    0\n",
       "Country or region               0\n",
       "Score                           0\n",
       "GDP per capita                  0\n",
       "Social support                  0\n",
       "Healthy life expectancy         0\n",
       "Freedom to make life choices    0\n",
       "Generosity                      0\n",
       "Perceptions of corruption       0\n",
       "dtype: int64"
      ]
     },
     "execution_count": 38,
     "metadata": {},
     "output_type": "execute_result"
    }
   ],
   "source": [
    "data_2019.isna().sum()"
   ]
  },
  {
   "cell_type": "code",
   "execution_count": 39,
   "metadata": {},
   "outputs": [
    {
     "data": {
      "text/html": [
       "<div>\n",
       "<style scoped>\n",
       "    .dataframe tbody tr th:only-of-type {\n",
       "        vertical-align: middle;\n",
       "    }\n",
       "\n",
       "    .dataframe tbody tr th {\n",
       "        vertical-align: top;\n",
       "    }\n",
       "\n",
       "    .dataframe thead th {\n",
       "        text-align: right;\n",
       "    }\n",
       "</style>\n",
       "<table border=\"1\" class=\"dataframe\">\n",
       "  <thead>\n",
       "    <tr style=\"text-align: right;\">\n",
       "      <th></th>\n",
       "      <th>Overall rank</th>\n",
       "      <th>Score</th>\n",
       "      <th>GDP per capita</th>\n",
       "      <th>Social support</th>\n",
       "      <th>Healthy life expectancy</th>\n",
       "      <th>Freedom to make life choices</th>\n",
       "      <th>Generosity</th>\n",
       "      <th>Perceptions of corruption</th>\n",
       "    </tr>\n",
       "  </thead>\n",
       "  <tbody>\n",
       "    <tr>\n",
       "      <th>count</th>\n",
       "      <td>156.000000</td>\n",
       "      <td>156.000000</td>\n",
       "      <td>156.000000</td>\n",
       "      <td>156.000000</td>\n",
       "      <td>156.000000</td>\n",
       "      <td>156.000000</td>\n",
       "      <td>156.000000</td>\n",
       "      <td>156.000000</td>\n",
       "    </tr>\n",
       "    <tr>\n",
       "      <th>mean</th>\n",
       "      <td>78.500000</td>\n",
       "      <td>5.407096</td>\n",
       "      <td>0.905147</td>\n",
       "      <td>1.208814</td>\n",
       "      <td>0.725244</td>\n",
       "      <td>0.392571</td>\n",
       "      <td>0.184846</td>\n",
       "      <td>0.110603</td>\n",
       "    </tr>\n",
       "    <tr>\n",
       "      <th>std</th>\n",
       "      <td>45.177428</td>\n",
       "      <td>1.113120</td>\n",
       "      <td>0.398389</td>\n",
       "      <td>0.299191</td>\n",
       "      <td>0.242124</td>\n",
       "      <td>0.143289</td>\n",
       "      <td>0.095254</td>\n",
       "      <td>0.094538</td>\n",
       "    </tr>\n",
       "    <tr>\n",
       "      <th>min</th>\n",
       "      <td>1.000000</td>\n",
       "      <td>2.853000</td>\n",
       "      <td>0.000000</td>\n",
       "      <td>0.000000</td>\n",
       "      <td>0.000000</td>\n",
       "      <td>0.000000</td>\n",
       "      <td>0.000000</td>\n",
       "      <td>0.000000</td>\n",
       "    </tr>\n",
       "    <tr>\n",
       "      <th>25%</th>\n",
       "      <td>39.750000</td>\n",
       "      <td>4.544500</td>\n",
       "      <td>0.602750</td>\n",
       "      <td>1.055750</td>\n",
       "      <td>0.547750</td>\n",
       "      <td>0.308000</td>\n",
       "      <td>0.108750</td>\n",
       "      <td>0.047000</td>\n",
       "    </tr>\n",
       "    <tr>\n",
       "      <th>50%</th>\n",
       "      <td>78.500000</td>\n",
       "      <td>5.379500</td>\n",
       "      <td>0.960000</td>\n",
       "      <td>1.271500</td>\n",
       "      <td>0.789000</td>\n",
       "      <td>0.417000</td>\n",
       "      <td>0.177500</td>\n",
       "      <td>0.085500</td>\n",
       "    </tr>\n",
       "    <tr>\n",
       "      <th>75%</th>\n",
       "      <td>117.250000</td>\n",
       "      <td>6.184500</td>\n",
       "      <td>1.232500</td>\n",
       "      <td>1.452500</td>\n",
       "      <td>0.881750</td>\n",
       "      <td>0.507250</td>\n",
       "      <td>0.248250</td>\n",
       "      <td>0.141250</td>\n",
       "    </tr>\n",
       "    <tr>\n",
       "      <th>max</th>\n",
       "      <td>156.000000</td>\n",
       "      <td>7.769000</td>\n",
       "      <td>1.684000</td>\n",
       "      <td>1.624000</td>\n",
       "      <td>1.141000</td>\n",
       "      <td>0.631000</td>\n",
       "      <td>0.566000</td>\n",
       "      <td>0.453000</td>\n",
       "    </tr>\n",
       "  </tbody>\n",
       "</table>\n",
       "</div>"
      ],
      "text/plain": [
       "       Overall rank       Score  GDP per capita  Social support  \\\n",
       "count    156.000000  156.000000      156.000000      156.000000   \n",
       "mean      78.500000    5.407096        0.905147        1.208814   \n",
       "std       45.177428    1.113120        0.398389        0.299191   \n",
       "min        1.000000    2.853000        0.000000        0.000000   \n",
       "25%       39.750000    4.544500        0.602750        1.055750   \n",
       "50%       78.500000    5.379500        0.960000        1.271500   \n",
       "75%      117.250000    6.184500        1.232500        1.452500   \n",
       "max      156.000000    7.769000        1.684000        1.624000   \n",
       "\n",
       "       Healthy life expectancy  Freedom to make life choices  Generosity  \\\n",
       "count               156.000000                    156.000000  156.000000   \n",
       "mean                  0.725244                      0.392571    0.184846   \n",
       "std                   0.242124                      0.143289    0.095254   \n",
       "min                   0.000000                      0.000000    0.000000   \n",
       "25%                   0.547750                      0.308000    0.108750   \n",
       "50%                   0.789000                      0.417000    0.177500   \n",
       "75%                   0.881750                      0.507250    0.248250   \n",
       "max                   1.141000                      0.631000    0.566000   \n",
       "\n",
       "       Perceptions of corruption  \n",
       "count                 156.000000  \n",
       "mean                    0.110603  \n",
       "std                     0.094538  \n",
       "min                     0.000000  \n",
       "25%                     0.047000  \n",
       "50%                     0.085500  \n",
       "75%                     0.141250  \n",
       "max                     0.453000  "
      ]
     },
     "execution_count": 39,
     "metadata": {},
     "output_type": "execute_result"
    }
   ],
   "source": [
    "data_2019.describe()"
   ]
  },
  {
   "cell_type": "markdown",
   "metadata": {},
   "source": [
    "With respect to the previous evaluated dataset, we have the same columns, so we will rename and move on to the stage of concatenating the datasets.\n",
    "\n",
    "The current columns will be renamed to the one now designated:\n",
    "\n",
    "- **Overall rank ->** Happiness Rank.\n",
    "- **Score ->** Happiness Score.\n",
    "- **GDP per capita ->** Economy (GDP per Capita).\n",
    "- **Social support ->** Family.\n",
    "- **Healthy life expectancy ->** Healthy (Life Expectancy).\n",
    "- **Freedom to make life choices ->** Freedom.\n",
    "- **Perceptions of corruption ->** Trust (Government Corruption).\n",
    "\n",
    "The **Country or region** column apparently collects both the country and the region, so these will not be touched so far."
   ]
  },
  {
   "cell_type": "code",
   "execution_count": 40,
   "metadata": {},
   "outputs": [],
   "source": [
    "data_2019.columns = ['Happiness Rank', 'Country or Region', 'Happiness Score', 'Economy (GDP per Capita)', 'Family', 'Healthy (Life Expectancy)', 'Freedom', 'Generosity', 'Trust (Government Corruption)']"
   ]
  },
  {
   "cell_type": "code",
   "execution_count": 41,
   "metadata": {},
   "outputs": [
    {
     "data": {
      "text/html": [
       "<div>\n",
       "<style scoped>\n",
       "    .dataframe tbody tr th:only-of-type {\n",
       "        vertical-align: middle;\n",
       "    }\n",
       "\n",
       "    .dataframe tbody tr th {\n",
       "        vertical-align: top;\n",
       "    }\n",
       "\n",
       "    .dataframe thead th {\n",
       "        text-align: right;\n",
       "    }\n",
       "</style>\n",
       "<table border=\"1\" class=\"dataframe\">\n",
       "  <thead>\n",
       "    <tr style=\"text-align: right;\">\n",
       "      <th></th>\n",
       "      <th>Happiness Rank</th>\n",
       "      <th>Country or Region</th>\n",
       "      <th>Happiness Score</th>\n",
       "      <th>Economy (GDP per Capita)</th>\n",
       "      <th>Family</th>\n",
       "      <th>Healthy (Life Expectancy)</th>\n",
       "      <th>Freedom</th>\n",
       "      <th>Generosity</th>\n",
       "      <th>Trust (Government Corruption)</th>\n",
       "    </tr>\n",
       "  </thead>\n",
       "  <tbody>\n",
       "    <tr>\n",
       "      <th>0</th>\n",
       "      <td>1</td>\n",
       "      <td>Finland</td>\n",
       "      <td>7.769</td>\n",
       "      <td>1.340</td>\n",
       "      <td>1.587</td>\n",
       "      <td>0.986</td>\n",
       "      <td>0.596</td>\n",
       "      <td>0.153</td>\n",
       "      <td>0.393</td>\n",
       "    </tr>\n",
       "    <tr>\n",
       "      <th>1</th>\n",
       "      <td>2</td>\n",
       "      <td>Denmark</td>\n",
       "      <td>7.600</td>\n",
       "      <td>1.383</td>\n",
       "      <td>1.573</td>\n",
       "      <td>0.996</td>\n",
       "      <td>0.592</td>\n",
       "      <td>0.252</td>\n",
       "      <td>0.410</td>\n",
       "    </tr>\n",
       "    <tr>\n",
       "      <th>2</th>\n",
       "      <td>3</td>\n",
       "      <td>Norway</td>\n",
       "      <td>7.554</td>\n",
       "      <td>1.488</td>\n",
       "      <td>1.582</td>\n",
       "      <td>1.028</td>\n",
       "      <td>0.603</td>\n",
       "      <td>0.271</td>\n",
       "      <td>0.341</td>\n",
       "    </tr>\n",
       "  </tbody>\n",
       "</table>\n",
       "</div>"
      ],
      "text/plain": [
       "   Happiness Rank Country or Region  Happiness Score  \\\n",
       "0               1           Finland            7.769   \n",
       "1               2           Denmark            7.600   \n",
       "2               3            Norway            7.554   \n",
       "\n",
       "   Economy (GDP per Capita)  Family  Healthy (Life Expectancy)  Freedom  \\\n",
       "0                     1.340   1.587                      0.986    0.596   \n",
       "1                     1.383   1.573                      0.996    0.592   \n",
       "2                     1.488   1.582                      1.028    0.603   \n",
       "\n",
       "   Generosity  Trust (Government Corruption)  \n",
       "0       0.153                          0.393  \n",
       "1       0.252                          0.410  \n",
       "2       0.271                          0.341  "
      ]
     },
     "execution_count": 41,
     "metadata": {},
     "output_type": "execute_result"
    }
   ],
   "source": [
    "data_2019.head(3)"
   ]
  },
  {
   "cell_type": "code",
   "execution_count": 42,
   "metadata": {},
   "outputs": [],
   "source": [
    "data_2019['Year'] = 2019"
   ]
  },
  {
   "cell_type": "code",
   "execution_count": 43,
   "metadata": {},
   "outputs": [
    {
     "data": {
      "text/html": [
       "<div>\n",
       "<style scoped>\n",
       "    .dataframe tbody tr th:only-of-type {\n",
       "        vertical-align: middle;\n",
       "    }\n",
       "\n",
       "    .dataframe tbody tr th {\n",
       "        vertical-align: top;\n",
       "    }\n",
       "\n",
       "    .dataframe thead th {\n",
       "        text-align: right;\n",
       "    }\n",
       "</style>\n",
       "<table border=\"1\" class=\"dataframe\">\n",
       "  <thead>\n",
       "    <tr style=\"text-align: right;\">\n",
       "      <th></th>\n",
       "      <th>Happiness Rank</th>\n",
       "      <th>Country or Region</th>\n",
       "      <th>Happiness Score</th>\n",
       "      <th>Economy (GDP per Capita)</th>\n",
       "      <th>Family</th>\n",
       "      <th>Healthy (Life Expectancy)</th>\n",
       "      <th>Freedom</th>\n",
       "      <th>Generosity</th>\n",
       "      <th>Trust (Government Corruption)</th>\n",
       "      <th>Year</th>\n",
       "    </tr>\n",
       "  </thead>\n",
       "  <tbody>\n",
       "    <tr>\n",
       "      <th>0</th>\n",
       "      <td>1</td>\n",
       "      <td>Finland</td>\n",
       "      <td>7.769</td>\n",
       "      <td>1.340</td>\n",
       "      <td>1.587</td>\n",
       "      <td>0.986</td>\n",
       "      <td>0.596</td>\n",
       "      <td>0.153</td>\n",
       "      <td>0.393</td>\n",
       "      <td>2019</td>\n",
       "    </tr>\n",
       "    <tr>\n",
       "      <th>1</th>\n",
       "      <td>2</td>\n",
       "      <td>Denmark</td>\n",
       "      <td>7.600</td>\n",
       "      <td>1.383</td>\n",
       "      <td>1.573</td>\n",
       "      <td>0.996</td>\n",
       "      <td>0.592</td>\n",
       "      <td>0.252</td>\n",
       "      <td>0.410</td>\n",
       "      <td>2019</td>\n",
       "    </tr>\n",
       "    <tr>\n",
       "      <th>2</th>\n",
       "      <td>3</td>\n",
       "      <td>Norway</td>\n",
       "      <td>7.554</td>\n",
       "      <td>1.488</td>\n",
       "      <td>1.582</td>\n",
       "      <td>1.028</td>\n",
       "      <td>0.603</td>\n",
       "      <td>0.271</td>\n",
       "      <td>0.341</td>\n",
       "      <td>2019</td>\n",
       "    </tr>\n",
       "  </tbody>\n",
       "</table>\n",
       "</div>"
      ],
      "text/plain": [
       "   Happiness Rank Country or Region  Happiness Score  \\\n",
       "0               1           Finland            7.769   \n",
       "1               2           Denmark            7.600   \n",
       "2               3            Norway            7.554   \n",
       "\n",
       "   Economy (GDP per Capita)  Family  Healthy (Life Expectancy)  Freedom  \\\n",
       "0                     1.340   1.587                      0.986    0.596   \n",
       "1                     1.383   1.573                      0.996    0.592   \n",
       "2                     1.488   1.582                      1.028    0.603   \n",
       "\n",
       "   Generosity  Trust (Government Corruption)  Year  \n",
       "0       0.153                          0.393  2019  \n",
       "1       0.252                          0.410  2019  \n",
       "2       0.271                          0.341  2019  "
      ]
     },
     "execution_count": 43,
     "metadata": {},
     "output_type": "execute_result"
    }
   ],
   "source": [
    "data_2019.head(3)"
   ]
  },
  {
   "cell_type": "code",
   "execution_count": 44,
   "metadata": {},
   "outputs": [
    {
     "data": {
      "text/plain": [
       "0                       Finland\n",
       "1                       Denmark\n",
       "2                        Norway\n",
       "3                       Iceland\n",
       "4                   Netherlands\n",
       "                 ...           \n",
       "151                      Rwanda\n",
       "152                    Tanzania\n",
       "153                 Afghanistan\n",
       "154    Central African Republic\n",
       "155                 South Sudan\n",
       "Name: Country or Region, Length: 156, dtype: object"
      ]
     },
     "execution_count": 44,
     "metadata": {},
     "output_type": "execute_result"
    }
   ],
   "source": [
    "data_2019['Country or Region']"
   ]
  },
  {
   "cell_type": "markdown",
   "metadata": {},
   "source": [
    "#### Conclusions \n",
    "\n",
    "After exploring the data of the 5 datasets, we obtain 17 columns, which are:\n",
    "\n",
    "- **Country.**\n",
    "- **Region.**\n",
    "- **Country or Region.**\n",
    "- **Happiness Ranking.**\n",
    "- **Happiness Score.**\n",
    "- **Standard Error.**\n",
    "- **Lower Confidence Interval.**\n",
    "- **Upper Confidence Interval.**\n",
    "- **Whisker High.**\n",
    "- **Whisker Low.**\n",
    "- **Economy (GDP per Capita).**\n",
    "- **Family**\n",
    "- **Health (Life Expectancy).**\n",
    "- **Freedom.**\n",
    "- **Trust (government corruption).**\n",
    "- **Generosity.**\n",
    "- **Residual Dystopia.**\n",
    "\n",
    "From which good information is obtained to find the Happiness Score. 5 of these columns are discarded because we only have data from a little more than 1 quarter of the complete dataset, which are: **Standard Error**, **Upper and Lower Confidence Interval**, **Whisker High and Low**.\n",
    "\n",
    "The **Residual Dystopia** would bring us much the same as Happiness Rank, but this is part of the Happiness Score, so it will not be taken into account to predict the latter value.\n",
    "\n",
    "There are a total of 782 records, but we will validate all of these assumptions at a later date."
   ]
  },
  {
   "cell_type": "markdown",
   "metadata": {},
   "source": [
    "### 2. Creating the steps for workshop"
   ]
  },
  {
   "cell_type": "markdown",
   "metadata": {},
   "source": [
    "This section is aimed at establishing a step-by-step approach to perform in Airflow and to take advantage of and further explore the data available to us.\n",
    "\n",
    "All code that is not referenced with a “#! Don't put\", will be put into Airflow."
   ]
  },
  {
   "cell_type": "markdown",
   "metadata": {},
   "source": [
    "#### 1. Steps for extraction:"
   ]
  },
  {
   "cell_type": "code",
   "execution_count": 45,
   "metadata": {},
   "outputs": [],
   "source": [
    "datasets_urls = {\n",
    "    '2015': '../data/2015.csv', \n",
    "    '2016': '../data/2016.csv', \n",
    "    '2017': '../data/2017.csv', \n",
    "    '2018': '../data/2018.csv', \n",
    "    '2019': '../data/2019.csv'\n",
    "}"
   ]
  },
  {
   "cell_type": "code",
   "execution_count": 46,
   "metadata": {},
   "outputs": [],
   "source": [
    "datasets_dict = dict()\n",
    "for (year, url) in datasets_urls.items():\n",
    "    dataset = pd.read_csv(url, header=0, delimiter=',')\n",
    "    datasets_dict[year] = dataset.to_dict(orient='records')\n",
    "json_data_1 = json.dumps(datasets_dict, indent=4)"
   ]
  },
  {
   "cell_type": "markdown",
   "metadata": {},
   "source": [
    "#### 2. Steps for transform:"
   ]
  },
  {
   "cell_type": "code",
   "execution_count": 47,
   "metadata": {},
   "outputs": [],
   "source": [
    "json_data_2 = json.loads(json_data_1)"
   ]
  },
  {
   "cell_type": "markdown",
   "metadata": {},
   "source": [
    "Let's create a function to provide the correct columns:"
   ]
  },
  {
   "cell_type": "code",
   "execution_count": 48,
   "metadata": {},
   "outputs": [],
   "source": [
    "def get_columns(year):\n",
    "    \"\"\" Get the columns of the datasets based on the year. \"\"\"\n",
    "    columns = list()\n",
    "    \n",
    "    if year == '2015':\n",
    "        columns = ['country', 'region', 'happiness_rank', 'happiness_score', 'standard_error', 'economy_per_capita', 'family', 'life_expectancy', 'freedom', 'government_corruption', 'generosity', 'dystopia_residual', 'year']\n",
    "    if year == '2016':\n",
    "        columns = ['country', 'region', 'happiness_rank', 'happiness_score', 'lower_confidence_interval', 'upper_confidence_interval', 'economy_per_capita', 'family', 'life_expectancy', 'freedom', 'government_corruption', 'generosity', 'dystopia_residual', 'year']\n",
    "    if year == '2017':\n",
    "        columns = ['country', 'happiness_rank', 'happiness_score', 'whisker_high', 'whisker_low', 'economy_per_capita', 'family', 'life_expectancy', 'freedom','generosity', 'government_corruption',  'dystopia_residual', 'year']\n",
    "    if year == '2018':\n",
    "        columns = ['happiness_rank', 'country_region', 'happiness_score', 'economy_per_capita', 'family', 'life_expectancy', 'freedom', 'generosity', 'government_corruption', 'year']\n",
    "    if year == '2019':\n",
    "        columns = ['happiness_rank', 'country_region', 'happiness_score', 'economy_per_capita', 'family', 'life_expectancy', 'freedom', 'generosity', 'government_corruption', 'year']\n",
    "        \n",
    "    return columns"
   ]
  },
  {
   "cell_type": "code",
   "execution_count": 49,
   "metadata": {},
   "outputs": [
    {
     "name": "stdout",
     "output_type": "stream",
     "text": [
      "2015 --- (158, 13)\n",
      "2016 --- (157, 14)\n",
      "2017 --- (155, 13)\n",
      "2018 --- (156, 10)\n",
      "2019 --- (156, 10)\n"
     ]
    }
   ],
   "source": [
    "dataframes_dict = dict()\n",
    "for key in json_data_2.keys():\n",
    "    year = str(key)\n",
    "    dataset = pd.json_normalize(json_data_2[year])\n",
    "    dataset[f'year'] = year\n",
    "    dataset.columns = get_columns(year)\n",
    "    dataframes_dict[year] = dataset.to_dict(orient='records')\n",
    "    print(year, '---', dataset.shape) #! Don't put\n",
    "\n",
    "json_data_2 = json.dumps(dataframes_dict, indent=4)"
   ]
  },
  {
   "cell_type": "markdown",
   "metadata": {},
   "source": [
    "##### 3. Concatenate"
   ]
  },
  {
   "cell_type": "code",
   "execution_count": 50,
   "metadata": {},
   "outputs": [],
   "source": [
    "json_data_3 = json.loads(json_data_2)\n",
    "\n",
    "concatenated_dataframe = pd.concat([pd.json_normalize(json_data_3[year]) for year in json_data_3.keys()], ignore_index=True)\n",
    "\n",
    "# logging.info('Data concatenated has ', concatenated_dataframe.shape)\n",
    "json_data_3 = concatenated_dataframe.to_json(orient='records')"
   ]
  },
  {
   "cell_type": "code",
   "execution_count": 51,
   "metadata": {},
   "outputs": [
    {
     "data": {
      "text/plain": [
       "(782, 18)"
      ]
     },
     "execution_count": 51,
     "metadata": {},
     "output_type": "execute_result"
    }
   ],
   "source": [
    "concatenated_dataframe.shape #! Don't put"
   ]
  },
  {
   "cell_type": "code",
   "execution_count": 52,
   "metadata": {},
   "outputs": [
    {
     "data": {
      "text/plain": [
       "country                      312\n",
       "region                       467\n",
       "happiness_rank                 0\n",
       "happiness_score                0\n",
       "standard_error               624\n",
       "economy_per_capita             0\n",
       "family                         0\n",
       "life_expectancy                0\n",
       "freedom                        0\n",
       "government_corruption          1\n",
       "generosity                     0\n",
       "dystopia_residual            312\n",
       "year                           0\n",
       "lower_confidence_interval    625\n",
       "upper_confidence_interval    625\n",
       "whisker_high                 627\n",
       "whisker_low                  627\n",
       "country_region               470\n",
       "dtype: int64"
      ]
     },
     "execution_count": 52,
     "metadata": {},
     "output_type": "execute_result"
    }
   ],
   "source": [
    "concatenated_dataframe.isna().sum() #! Don't put"
   ]
  },
  {
   "cell_type": "markdown",
   "metadata": {},
   "source": [
    "As we can see, out of 782 records, the 5 columns we talked about above are around 625 null records.\n",
    "\n",
    "We also saw that **Country** and **Region** were not always given, since **Country Or Region** was also counted, so we will get the region of each record via the country if possible, and this will be assigned to flow into **Country Or Region**."
   ]
  },
  {
   "cell_type": "markdown",
   "metadata": {},
   "source": [
    "#### 4. Transform concatenated"
   ]
  },
  {
   "cell_type": "code",
   "execution_count": 53,
   "metadata": {},
   "outputs": [],
   "source": [
    "json_data_4 = json.loads(json_data_3)\n",
    "concatenated_dataframe = pd.json_normalize(json_data_4)"
   ]
  },
  {
   "cell_type": "markdown",
   "metadata": {},
   "source": [
    "Let's see the data region when this is NaN:"
   ]
  },
  {
   "cell_type": "code",
   "execution_count": 54,
   "metadata": {},
   "outputs": [
    {
     "data": {
      "text/html": [
       "<div>\n",
       "<style scoped>\n",
       "    .dataframe tbody tr th:only-of-type {\n",
       "        vertical-align: middle;\n",
       "    }\n",
       "\n",
       "    .dataframe tbody tr th {\n",
       "        vertical-align: top;\n",
       "    }\n",
       "\n",
       "    .dataframe thead th {\n",
       "        text-align: right;\n",
       "    }\n",
       "</style>\n",
       "<table border=\"1\" class=\"dataframe\">\n",
       "  <thead>\n",
       "    <tr style=\"text-align: right;\">\n",
       "      <th></th>\n",
       "      <th>country</th>\n",
       "      <th>region</th>\n",
       "      <th>happiness_rank</th>\n",
       "      <th>happiness_score</th>\n",
       "      <th>standard_error</th>\n",
       "      <th>economy_per_capita</th>\n",
       "      <th>family</th>\n",
       "      <th>life_expectancy</th>\n",
       "      <th>freedom</th>\n",
       "      <th>government_corruption</th>\n",
       "      <th>generosity</th>\n",
       "      <th>dystopia_residual</th>\n",
       "      <th>year</th>\n",
       "      <th>lower_confidence_interval</th>\n",
       "      <th>upper_confidence_interval</th>\n",
       "      <th>whisker_high</th>\n",
       "      <th>whisker_low</th>\n",
       "      <th>country_region</th>\n",
       "    </tr>\n",
       "  </thead>\n",
       "  <tbody>\n",
       "    <tr>\n",
       "      <th>315</th>\n",
       "      <td>Norway</td>\n",
       "      <td>None</td>\n",
       "      <td>1</td>\n",
       "      <td>7.537</td>\n",
       "      <td>NaN</td>\n",
       "      <td>1.616463</td>\n",
       "      <td>1.533524</td>\n",
       "      <td>0.796667</td>\n",
       "      <td>0.635423</td>\n",
       "      <td>0.315964</td>\n",
       "      <td>0.362012</td>\n",
       "      <td>2.277027</td>\n",
       "      <td>2017</td>\n",
       "      <td>NaN</td>\n",
       "      <td>NaN</td>\n",
       "      <td>7.594445</td>\n",
       "      <td>7.479556</td>\n",
       "      <td>None</td>\n",
       "    </tr>\n",
       "    <tr>\n",
       "      <th>316</th>\n",
       "      <td>Denmark</td>\n",
       "      <td>None</td>\n",
       "      <td>2</td>\n",
       "      <td>7.522</td>\n",
       "      <td>NaN</td>\n",
       "      <td>1.482383</td>\n",
       "      <td>1.551122</td>\n",
       "      <td>0.792566</td>\n",
       "      <td>0.626007</td>\n",
       "      <td>0.400770</td>\n",
       "      <td>0.355280</td>\n",
       "      <td>2.313707</td>\n",
       "      <td>2017</td>\n",
       "      <td>NaN</td>\n",
       "      <td>NaN</td>\n",
       "      <td>7.581728</td>\n",
       "      <td>7.462272</td>\n",
       "      <td>None</td>\n",
       "    </tr>\n",
       "    <tr>\n",
       "      <th>317</th>\n",
       "      <td>Iceland</td>\n",
       "      <td>None</td>\n",
       "      <td>3</td>\n",
       "      <td>7.504</td>\n",
       "      <td>NaN</td>\n",
       "      <td>1.480633</td>\n",
       "      <td>1.610574</td>\n",
       "      <td>0.833552</td>\n",
       "      <td>0.627163</td>\n",
       "      <td>0.153527</td>\n",
       "      <td>0.475540</td>\n",
       "      <td>2.322715</td>\n",
       "      <td>2017</td>\n",
       "      <td>NaN</td>\n",
       "      <td>NaN</td>\n",
       "      <td>7.622030</td>\n",
       "      <td>7.385970</td>\n",
       "      <td>None</td>\n",
       "    </tr>\n",
       "    <tr>\n",
       "      <th>318</th>\n",
       "      <td>Switzerland</td>\n",
       "      <td>None</td>\n",
       "      <td>4</td>\n",
       "      <td>7.494</td>\n",
       "      <td>NaN</td>\n",
       "      <td>1.564980</td>\n",
       "      <td>1.516912</td>\n",
       "      <td>0.858131</td>\n",
       "      <td>0.620071</td>\n",
       "      <td>0.367007</td>\n",
       "      <td>0.290549</td>\n",
       "      <td>2.276716</td>\n",
       "      <td>2017</td>\n",
       "      <td>NaN</td>\n",
       "      <td>NaN</td>\n",
       "      <td>7.561772</td>\n",
       "      <td>7.426227</td>\n",
       "      <td>None</td>\n",
       "    </tr>\n",
       "    <tr>\n",
       "      <th>319</th>\n",
       "      <td>Finland</td>\n",
       "      <td>None</td>\n",
       "      <td>5</td>\n",
       "      <td>7.469</td>\n",
       "      <td>NaN</td>\n",
       "      <td>1.443572</td>\n",
       "      <td>1.540247</td>\n",
       "      <td>0.809158</td>\n",
       "      <td>0.617951</td>\n",
       "      <td>0.382612</td>\n",
       "      <td>0.245483</td>\n",
       "      <td>2.430182</td>\n",
       "      <td>2017</td>\n",
       "      <td>NaN</td>\n",
       "      <td>NaN</td>\n",
       "      <td>7.527542</td>\n",
       "      <td>7.410458</td>\n",
       "      <td>None</td>\n",
       "    </tr>\n",
       "  </tbody>\n",
       "</table>\n",
       "</div>"
      ],
      "text/plain": [
       "         country region  happiness_rank  happiness_score  standard_error  \\\n",
       "315       Norway   None               1            7.537             NaN   \n",
       "316      Denmark   None               2            7.522             NaN   \n",
       "317      Iceland   None               3            7.504             NaN   \n",
       "318  Switzerland   None               4            7.494             NaN   \n",
       "319      Finland   None               5            7.469             NaN   \n",
       "\n",
       "     economy_per_capita    family  life_expectancy   freedom  \\\n",
       "315            1.616463  1.533524         0.796667  0.635423   \n",
       "316            1.482383  1.551122         0.792566  0.626007   \n",
       "317            1.480633  1.610574         0.833552  0.627163   \n",
       "318            1.564980  1.516912         0.858131  0.620071   \n",
       "319            1.443572  1.540247         0.809158  0.617951   \n",
       "\n",
       "     government_corruption  generosity  dystopia_residual  year  \\\n",
       "315               0.315964    0.362012           2.277027  2017   \n",
       "316               0.400770    0.355280           2.313707  2017   \n",
       "317               0.153527    0.475540           2.322715  2017   \n",
       "318               0.367007    0.290549           2.276716  2017   \n",
       "319               0.382612    0.245483           2.430182  2017   \n",
       "\n",
       "     lower_confidence_interval  upper_confidence_interval  whisker_high  \\\n",
       "315                        NaN                        NaN      7.594445   \n",
       "316                        NaN                        NaN      7.581728   \n",
       "317                        NaN                        NaN      7.622030   \n",
       "318                        NaN                        NaN      7.561772   \n",
       "319                        NaN                        NaN      7.527542   \n",
       "\n",
       "     whisker_low country_region  \n",
       "315     7.479556           None  \n",
       "316     7.462272           None  \n",
       "317     7.385970           None  \n",
       "318     7.426227           None  \n",
       "319     7.410458           None  "
      ]
     },
     "execution_count": 54,
     "metadata": {},
     "output_type": "execute_result"
    }
   ],
   "source": [
    "concatenated_dataframe[concatenated_dataframe['region'].isna()].head() #! Don't put"
   ]
  },
  {
   "cell_type": "markdown",
   "metadata": {},
   "source": [
    "Now, let's see data country when region is NaN:"
   ]
  },
  {
   "cell_type": "code",
   "execution_count": 55,
   "metadata": {},
   "outputs": [
    {
     "data": {
      "text/plain": [
       "array(['Norway', 'Denmark', 'Iceland', 'Switzerland', 'Finland',\n",
       "       'Netherlands', 'Canada', 'New Zealand', 'Sweden', 'Australia',\n",
       "       'Israel', 'Costa Rica', 'Austria', 'United States', 'Ireland',\n",
       "       'Germany', 'Belgium', 'Luxembourg', 'United Kingdom', 'Chile',\n",
       "       'United Arab Emirates', 'Brazil', 'Czech Republic', 'Argentina',\n",
       "       'Mexico', 'Singapore', 'Malta', 'Uruguay', 'Guatemala', 'Panama',\n",
       "       'France', 'Thailand', 'Taiwan Province of China', 'Spain', 'Qatar',\n",
       "       'Colombia', 'Saudi Arabia', 'Trinidad and Tobago', 'Kuwait',\n",
       "       'Slovakia', 'Bahrain', 'Malaysia', 'Nicaragua', 'Ecuador',\n",
       "       'El Salvador', 'Poland', 'Uzbekistan', 'Italy', 'Russia', 'Belize',\n",
       "       'Japan', 'Lithuania', 'Algeria', 'Latvia', 'South Korea',\n",
       "       'Moldova', 'Romania', 'Bolivia', 'Turkmenistan', 'Kazakhstan',\n",
       "       'North Cyprus', 'Slovenia', 'Peru', 'Mauritius', 'Cyprus',\n",
       "       'Estonia', 'Belarus', 'Libya', 'Turkey', 'Paraguay',\n",
       "       'Hong Kong S.A.R., China', 'Philippines', 'Serbia', 'Jordan',\n",
       "       'Hungary', 'Jamaica', 'Croatia', 'Kosovo', 'China', 'Pakistan',\n",
       "       'Indonesia', 'Venezuela', 'Montenegro', 'Morocco', 'Azerbaijan',\n",
       "       'Dominican Republic', 'Greece', 'Lebanon', 'Portugal',\n",
       "       'Bosnia and Herzegovina', 'Honduras', 'Macedonia', 'Somalia',\n",
       "       'Vietnam', 'Nigeria', 'Tajikistan', 'Bhutan', 'Kyrgyzstan',\n",
       "       'Nepal', 'Mongolia', 'South Africa', 'Tunisia',\n",
       "       'Palestinian Territories', 'Egypt', 'Bulgaria', 'Sierra Leone',\n",
       "       'Cameroon', 'Iran', 'Albania', 'Bangladesh', 'Namibia', 'Kenya',\n",
       "       'Mozambique', 'Myanmar', 'Senegal', 'Zambia', 'Iraq', 'Gabon',\n",
       "       'Ethiopia', 'Sri Lanka', 'Armenia', 'India', 'Mauritania',\n",
       "       'Congo (Brazzaville)', 'Georgia', 'Congo (Kinshasa)', 'Mali',\n",
       "       'Ivory Coast', 'Cambodia', 'Sudan', 'Ghana', 'Ukraine', 'Uganda',\n",
       "       'Burkina Faso', 'Niger', 'Malawi', 'Chad', 'Zimbabwe', 'Lesotho',\n",
       "       'Angola', 'Afghanistan', 'Botswana', 'Benin', 'Madagascar',\n",
       "       'Haiti', 'Yemen', 'South Sudan', 'Liberia', 'Guinea', 'Togo',\n",
       "       'Rwanda', 'Syria', 'Tanzania', 'Burundi',\n",
       "       'Central African Republic', None], dtype=object)"
      ]
     },
     "execution_count": 55,
     "metadata": {},
     "output_type": "execute_result"
    }
   ],
   "source": [
    "concatenated_dataframe[concatenated_dataframe['region'].isna()]['country'].unique() #! Don't put"
   ]
  },
  {
   "cell_type": "markdown",
   "metadata": {},
   "source": [
    "We could assign a region to each country and have more data for prediction, so let's get to work.\n",
    "\n",
    "Let's look at how regions are designated to make the new region assignments:"
   ]
  },
  {
   "cell_type": "code",
   "execution_count": 56,
   "metadata": {},
   "outputs": [
    {
     "data": {
      "text/plain": [
       "array(['Western Europe', 'North America', 'Australia and New Zealand',\n",
       "       'Middle East and Northern Africa', 'Latin America and Caribbean',\n",
       "       'Southeastern Asia', 'Central and Eastern Europe', 'Eastern Asia',\n",
       "       'Sub-Saharan Africa', 'Southern Asia', None], dtype=object)"
      ]
     },
     "execution_count": 56,
     "metadata": {},
     "output_type": "execute_result"
    }
   ],
   "source": [
    "concatenated_dataframe['region'].unique() #! Don't put"
   ]
  },
  {
   "cell_type": "markdown",
   "metadata": {},
   "source": [
    "There are some regions found in the **country_region** column, so in one way or another, we must take it into account."
   ]
  },
  {
   "cell_type": "code",
   "execution_count": 57,
   "metadata": {},
   "outputs": [
    {
     "data": {
      "text/plain": [
       "array([None, 'Finland', 'Norway', 'Denmark', 'Iceland', 'Switzerland',\n",
       "       'Netherlands', 'Canada', 'New Zealand', 'Sweden', 'Australia',\n",
       "       'United Kingdom', 'Austria', 'Costa Rica', 'Ireland', 'Germany',\n",
       "       'Belgium', 'Luxembourg', 'United States', 'Israel',\n",
       "       'United Arab Emirates', 'Czech Republic', 'Malta', 'France',\n",
       "       'Mexico', 'Chile', 'Taiwan', 'Panama', 'Brazil', 'Argentina',\n",
       "       'Guatemala', 'Uruguay', 'Qatar', 'Saudi Arabia', 'Singapore',\n",
       "       'Malaysia', 'Spain', 'Colombia', 'Trinidad & Tobago', 'Slovakia',\n",
       "       'El Salvador', 'Nicaragua', 'Poland', 'Bahrain', 'Uzbekistan',\n",
       "       'Kuwait', 'Thailand', 'Italy', 'Ecuador', 'Belize', 'Lithuania',\n",
       "       'Slovenia', 'Romania', 'Latvia', 'Japan', 'Mauritius', 'Jamaica',\n",
       "       'South Korea', 'Northern Cyprus', 'Russia', 'Kazakhstan', 'Cyprus',\n",
       "       'Bolivia', 'Estonia', 'Paraguay', 'Peru', 'Kosovo', 'Moldova',\n",
       "       'Turkmenistan', 'Hungary', 'Libya', 'Philippines', 'Honduras',\n",
       "       'Belarus', 'Turkey', 'Pakistan', 'Hong Kong', 'Portugal', 'Serbia',\n",
       "       'Greece', 'Lebanon', 'Montenegro', 'Croatia', 'Dominican Republic',\n",
       "       'Algeria', 'Morocco', 'China', 'Azerbaijan', 'Tajikistan',\n",
       "       'Macedonia', 'Jordan', 'Nigeria', 'Kyrgyzstan',\n",
       "       'Bosnia and Herzegovina', 'Mongolia', 'Vietnam', 'Indonesia',\n",
       "       'Bhutan', 'Somalia', 'Cameroon', 'Bulgaria', 'Nepal', 'Venezuela',\n",
       "       'Gabon', 'Palestinian Territories', 'South Africa', 'Iran',\n",
       "       'Ivory Coast', 'Ghana', 'Senegal', 'Laos', 'Tunisia', 'Albania',\n",
       "       'Sierra Leone', 'Congo (Brazzaville)', 'Bangladesh', 'Sri Lanka',\n",
       "       'Iraq', 'Mali', 'Namibia', 'Cambodia', 'Burkina Faso', 'Egypt',\n",
       "       'Mozambique', 'Kenya', 'Zambia', 'Mauritania', 'Ethiopia',\n",
       "       'Georgia', 'Armenia', 'Myanmar', 'Chad', 'Congo (Kinshasa)',\n",
       "       'India', 'Niger', 'Uganda', 'Benin', 'Sudan', 'Ukraine', 'Togo',\n",
       "       'Guinea', 'Lesotho', 'Angola', 'Madagascar', 'Zimbabwe',\n",
       "       'Afghanistan', 'Botswana', 'Malawi', 'Haiti', 'Liberia', 'Syria',\n",
       "       'Rwanda', 'Yemen', 'Tanzania', 'South Sudan',\n",
       "       'Central African Republic', 'Burundi', 'North Macedonia', 'Gambia',\n",
       "       'Swaziland', 'Comoros'], dtype=object)"
      ]
     },
     "execution_count": 57,
     "metadata": {},
     "output_type": "execute_result"
    }
   ],
   "source": [
    "concatenated_dataframe['country_region'].unique() #! Don't put"
   ]
  },
  {
   "cell_type": "code",
   "execution_count": 58,
   "metadata": {},
   "outputs": [
    {
     "data": {
      "text/plain": [
       "160"
      ]
     },
     "execution_count": 58,
     "metadata": {},
     "output_type": "execute_result"
    }
   ],
   "source": [
    "concatenated_dataframe['country_region'].nunique() #! Don't put"
   ]
  },
  {
   "cell_type": "markdown",
   "metadata": {},
   "source": [
    "With the above list in mind, let's make a list for each country and region:"
   ]
  },
  {
   "cell_type": "code",
   "execution_count": 59,
   "metadata": {},
   "outputs": [],
   "source": [
    "country_region_dict = {\n",
    "    'Finland': 'Europe',\n",
    "    'Norway': 'Europe',\n",
    "    'Denmark': 'Europe',\n",
    "    'Iceland': 'Europe',\n",
    "    'Switzerland': 'Europe',\n",
    "    'Netherlands': 'Europe',\n",
    "    'Canada': 'North America',\n",
    "    'New Zealand': 'Oceania',\n",
    "    'Sweden': 'Europe',\n",
    "    'Australia': 'Oceania',\n",
    "    'United Kingdom': 'Europe',\n",
    "    'Austria': 'Europe',\n",
    "    'Costa Rica': 'Central America',\n",
    "    'Ireland': 'Europe',\n",
    "    'Germany': 'Europe',\n",
    "    'Belgium': 'Europe',\n",
    "    'Luxembourg': 'Europe',\n",
    "    'United States': 'North America',\n",
    "    'Israel': 'Middle East',\n",
    "    'United Arab Emirates': 'Middle East',\n",
    "    'Czech Republic': 'Europe',\n",
    "    'Malta': 'Europe',\n",
    "    'France': 'Europe',\n",
    "    'Mexico': 'Latin America and Caribbean',\n",
    "    'Chile': 'South America',\n",
    "    'Taiwan': 'Eastern Asia',\n",
    "    'Panama': 'Central America',\n",
    "    'Brazil': 'South America',\n",
    "    'Argentina': 'South America',\n",
    "    'Guatemala': 'Central America',\n",
    "    'Uruguay': 'South America',\n",
    "    'Qatar': 'Middle East',\n",
    "    'Saudi Arabia': 'Middle East',\n",
    "    'Singapore': 'Southeastern Asia',\n",
    "    'Malaysia': 'Southeastern Asia',\n",
    "    'Spain': 'Europe',\n",
    "    'Colombia': 'South America',\n",
    "    'Trinidad & Tobago': 'Latin America and Caribbean',\n",
    "    'Slovakia': 'Central and Eastern Europe',\n",
    "    'El Salvador': 'Central America',\n",
    "    'Nicaragua': 'Central America',\n",
    "    'Poland': 'Central and Eastern Europe',\n",
    "    'Bahrain': 'Middle East',\n",
    "    'Uzbekistan': 'Central Asia',\n",
    "    'Kuwait': 'Middle East',\n",
    "    'Thailand': 'Southeastern Asia',\n",
    "    'Italy': 'Europe',\n",
    "    'Ecuador': 'South America',\n",
    "    'Belize': 'Central America',\n",
    "    'Lithuania': 'Central and Eastern Europe',\n",
    "    'Slovenia': 'Central and Eastern Europe',\n",
    "    'Romania': 'Central and Eastern Europe',\n",
    "    'Latvia': 'Central and Eastern Europe',\n",
    "    'Japan': 'Eastern Asia',\n",
    "    'Mauritius': 'Sub-Saharan Africa',\n",
    "    'Jamaica': 'Latin America and Caribbean',\n",
    "    'South Korea': 'Eastern Asia',\n",
    "    'Northern Cyprus': 'Western Europe',\n",
    "    'Russia': 'Europe',\n",
    "    'Kazakhstan': 'Central Asia',\n",
    "    'Cyprus': 'Western Europe',\n",
    "    'Bolivia': 'South America',\n",
    "    'Estonia': 'Northern Europe',\n",
    "    'Paraguay': 'South America',\n",
    "    'Peru': 'South America',\n",
    "    'Kosovo': 'Europe',\n",
    "    'Moldova': 'Europe',\n",
    "    'Turkmenistan': 'Central Asia',\n",
    "    'Hungary': 'Central and Eastern Europe',\n",
    "    'Libya': 'Middle East and Northern Africa',\n",
    "    'Philippines': 'Southeastern Asia',\n",
    "    'Honduras': 'Central America',\n",
    "    'Belarus': 'Central and Eastern Europe',\n",
    "    'Turkey': 'Middle East',\n",
    "    'Pakistan': 'Southern Asia',\n",
    "    'Hong Kong': 'Eastern Asia',\n",
    "    'Portugal': 'Europe',\n",
    "    'Serbia': 'Central and Eastern Europe',\n",
    "    'Greece': 'Europe',\n",
    "    'Lebanon': 'Middle East',\n",
    "    'Montenegro': 'Central and Eastern Europe',\n",
    "    'Croatia': 'Central and Eastern Europe',\n",
    "    'Dominican Republic': 'Latin America and Caribbean',\n",
    "    'Algeria': 'Middle East and Northern Africa',\n",
    "    'Morocco': 'Middle East and Northern Africa',\n",
    "    'China': 'Eastern Asia',\n",
    "    'Azerbaijan': 'Central Asia',\n",
    "    'Tajikistan': 'Central Asia',\n",
    "    'Macedonia': 'Central and Eastern Europe',\n",
    "    'Jordan': 'Middle East',\n",
    "    'Nigeria': 'Sub-Saharan Africa',\n",
    "    'Kyrgyzstan': 'Central Asia',\n",
    "    'Bosnia and Herzegovina': 'Central and Eastern Europe',\n",
    "    'Mongolia': 'Eastern Asia',\n",
    "    'Vietnam': 'Southeastern Asia',\n",
    "    'Indonesia': 'Southeastern Asia',\n",
    "    'Bhutan': 'Southern Asia',\n",
    "    'Somalia': 'Sub-Saharan Africa',\n",
    "    'Cameroon': 'Sub-Saharan Africa',\n",
    "    'Bulgaria': 'Central and Eastern Europe',\n",
    "    'Nepal': 'Southern Asia',\n",
    "    'Venezuela': 'Latin America and Caribbean',\n",
    "    'Gabon': 'Sub-Saharan Africa',\n",
    "    'Palestinian Territories': 'Middle East and Northern Africa',\n",
    "    'South Africa': 'Sub-Saharan Africa',\n",
    "    'Iran': 'Middle East',\n",
    "    'Ivory Coast': 'Sub-Saharan Africa',\n",
    "    'Ghana': 'Sub-Saharan Africa',\n",
    "    'Senegal': 'Sub-Saharan Africa',\n",
    "    'Laos': 'Southeastern Asia',\n",
    "    'Tunisia': 'Middle East and Northern Africa',\n",
    "    'Albania': 'Central and Eastern Europe',\n",
    "    'Sierra Leone': 'Sub-Saharan Africa',\n",
    "    'Congo (Brazzaville)': 'Sub-Saharan Africa',\n",
    "    'Bangladesh': 'Southern Asia',\n",
    "    'Sri Lanka': 'Southern Asia',\n",
    "    'Iraq': 'Middle East',\n",
    "    'Mali': 'Sub-Saharan Africa',\n",
    "    'Namibia': 'Sub-Saharan Africa',\n",
    "    'Cambodia': 'Southeastern Asia',\n",
    "    'Burkina Faso': 'Sub-Saharan Africa',\n",
    "    'Egypt': 'Middle East and Northern Africa',\n",
    "    'Mozambique': 'Sub-Saharan Africa',\n",
    "    'Kenya': 'Sub-Saharan Africa',\n",
    "    'Zambia': 'Sub-Saharan Africa',\n",
    "    'Mauritania': 'Sub-Saharan Africa',\n",
    "    'Ethiopia': 'Sub-Saharan Africa',\n",
    "    'Georgia': 'Central and Eastern Europe',\n",
    "    'Armenia': 'Central and Eastern Europe',\n",
    "    'Myanmar': 'Southeastern Asia',\n",
    "    'Chad': 'Sub-Saharan Africa',\n",
    "    'Congo (Kinshasa)': 'Sub-Saharan Africa',\n",
    "    'India': 'Southern Asia',\n",
    "    'Niger': 'Sub-Saharan Africa',\n",
    "    'Uganda': 'Sub-Saharan Africa',\n",
    "    'Benin': 'Sub-Saharan Africa',\n",
    "    'Sudan': 'Sub-Saharan Africa',\n",
    "    'Ukraine': 'Central and Eastern Europe',\n",
    "    'Togo': 'Sub-Saharan Africa',\n",
    "    'Guinea': 'Sub-Saharan Africa',\n",
    "    'Lesotho': 'Sub-Saharan Africa',\n",
    "    'Angola': 'Sub-Saharan Africa',\n",
    "    'Madagascar': 'Sub-Saharan Africa',\n",
    "    'Zimbabwe': 'Sub-Saharan Africa',\n",
    "    'Afghanistan': 'Southern Asia',\n",
    "    'Botswana': 'Sub-Saharan Africa',\n",
    "    'Malawi': 'Sub-Saharan Africa',\n",
    "    'Haiti': 'Latin America and Caribbean',\n",
    "    'Liberia': 'Sub-Saharan Africa',\n",
    "    'Syria': 'Middle East',\n",
    "    'Rwanda': 'Sub-Saharan Africa',\n",
    "    'Yemen': 'Middle East',\n",
    "    'Tanzania': 'Sub-Saharan Africa',\n",
    "    'South Sudan': 'Sub-Saharan Africa',\n",
    "    'Central African Republic': 'Sub-Saharan Africa',\n",
    "    'Burundi': 'Sub-Saharan Africa',\n",
    "    'North Macedonia': 'Central and Eastern Europe',\n",
    "    'Gambia': 'Sub-Saharan Africa',\n",
    "    'Swaziland': 'Sub-Saharan Africa',\n",
    "    'Comoros': 'Sub-Saharan Africa'\n",
    "}"
   ]
  },
  {
   "cell_type": "code",
   "execution_count": 60,
   "metadata": {},
   "outputs": [],
   "source": [
    "concatenated_dataframe['region'] = concatenated_dataframe['country'].map(country_region_dict)"
   ]
  },
  {
   "cell_type": "code",
   "execution_count": 61,
   "metadata": {},
   "outputs": [
    {
     "data": {
      "text/plain": [
       "16"
      ]
     },
     "execution_count": 61,
     "metadata": {},
     "output_type": "execute_result"
    }
   ],
   "source": [
    "concatenated_dataframe['region'].nunique() #! Don't put"
   ]
  },
  {
   "cell_type": "markdown",
   "metadata": {},
   "source": [
    "Let's finish by applying the latter: Additionally, let's eliminate those 5 columns we talked about earlier from the equation."
   ]
  },
  {
   "cell_type": "code",
   "execution_count": 62,
   "metadata": {},
   "outputs": [],
   "source": [
    "concatenated_dataframe['country_region'] = concatenated_dataframe['country'].fillna('') + ' - ' + concatenated_dataframe['region'].fillna('')\n",
    "concatenated_dataframe['country_region'] = concatenated_dataframe['country_region'].str.strip(' -')\n",
    "\n",
    "concatenated_dataframe.drop(columns=['standard_error', 'dystopia_residual', 'lower_confidence_interval', 'upper_confidence_interval', 'whisker_high', 'whisker_low'], inplace=True)\n",
    "\n",
    "concatenated_dataframe.index += 1\n",
    "concatenated_dataframe.reset_index(inplace=True)\n",
    "concatenated_dataframe.rename(columns={'index': 'id'}, inplace=True)\n",
    "\n",
    "json_data_4 = concatenated_dataframe.to_json(orient='records')"
   ]
  },
  {
   "cell_type": "code",
   "execution_count": 63,
   "metadata": {},
   "outputs": [
    {
     "data": {
      "text/html": [
       "<div>\n",
       "<style scoped>\n",
       "    .dataframe tbody tr th:only-of-type {\n",
       "        vertical-align: middle;\n",
       "    }\n",
       "\n",
       "    .dataframe tbody tr th {\n",
       "        vertical-align: top;\n",
       "    }\n",
       "\n",
       "    .dataframe thead th {\n",
       "        text-align: right;\n",
       "    }\n",
       "</style>\n",
       "<table border=\"1\" class=\"dataframe\">\n",
       "  <thead>\n",
       "    <tr style=\"text-align: right;\">\n",
       "      <th></th>\n",
       "      <th>id</th>\n",
       "      <th>country</th>\n",
       "      <th>region</th>\n",
       "      <th>happiness_rank</th>\n",
       "      <th>happiness_score</th>\n",
       "      <th>economy_per_capita</th>\n",
       "      <th>family</th>\n",
       "      <th>life_expectancy</th>\n",
       "      <th>freedom</th>\n",
       "      <th>government_corruption</th>\n",
       "      <th>generosity</th>\n",
       "      <th>year</th>\n",
       "      <th>country_region</th>\n",
       "    </tr>\n",
       "  </thead>\n",
       "  <tbody>\n",
       "  </tbody>\n",
       "</table>\n",
       "</div>"
      ],
      "text/plain": [
       "Empty DataFrame\n",
       "Columns: [id, country, region, happiness_rank, happiness_score, economy_per_capita, family, life_expectancy, freedom, government_corruption, generosity, year, country_region]\n",
       "Index: []"
      ]
     },
     "execution_count": 63,
     "metadata": {},
     "output_type": "execute_result"
    }
   ],
   "source": [
    "concatenated_dataframe[concatenated_dataframe['country_region'].isna()].head() #! Don't put"
   ]
  },
  {
   "cell_type": "code",
   "execution_count": 64,
   "metadata": {},
   "outputs": [
    {
     "data": {
      "text/html": [
       "<div>\n",
       "<style scoped>\n",
       "    .dataframe tbody tr th:only-of-type {\n",
       "        vertical-align: middle;\n",
       "    }\n",
       "\n",
       "    .dataframe tbody tr th {\n",
       "        vertical-align: top;\n",
       "    }\n",
       "\n",
       "    .dataframe thead th {\n",
       "        text-align: right;\n",
       "    }\n",
       "</style>\n",
       "<table border=\"1\" class=\"dataframe\">\n",
       "  <thead>\n",
       "    <tr style=\"text-align: right;\">\n",
       "      <th></th>\n",
       "      <th>id</th>\n",
       "      <th>country</th>\n",
       "      <th>region</th>\n",
       "      <th>happiness_rank</th>\n",
       "      <th>happiness_score</th>\n",
       "      <th>economy_per_capita</th>\n",
       "      <th>family</th>\n",
       "      <th>life_expectancy</th>\n",
       "      <th>freedom</th>\n",
       "      <th>government_corruption</th>\n",
       "      <th>generosity</th>\n",
       "      <th>year</th>\n",
       "      <th>country_region</th>\n",
       "    </tr>\n",
       "  </thead>\n",
       "  <tbody>\n",
       "    <tr>\n",
       "      <th>0</th>\n",
       "      <td>1</td>\n",
       "      <td>Switzerland</td>\n",
       "      <td>Europe</td>\n",
       "      <td>1</td>\n",
       "      <td>7.587</td>\n",
       "      <td>1.39651</td>\n",
       "      <td>1.34951</td>\n",
       "      <td>0.94143</td>\n",
       "      <td>0.66557</td>\n",
       "      <td>0.41978</td>\n",
       "      <td>0.29678</td>\n",
       "      <td>2015</td>\n",
       "      <td>Switzerland - Europe</td>\n",
       "    </tr>\n",
       "    <tr>\n",
       "      <th>1</th>\n",
       "      <td>2</td>\n",
       "      <td>Iceland</td>\n",
       "      <td>Europe</td>\n",
       "      <td>2</td>\n",
       "      <td>7.561</td>\n",
       "      <td>1.30232</td>\n",
       "      <td>1.40223</td>\n",
       "      <td>0.94784</td>\n",
       "      <td>0.62877</td>\n",
       "      <td>0.14145</td>\n",
       "      <td>0.43630</td>\n",
       "      <td>2015</td>\n",
       "      <td>Iceland - Europe</td>\n",
       "    </tr>\n",
       "    <tr>\n",
       "      <th>2</th>\n",
       "      <td>3</td>\n",
       "      <td>Denmark</td>\n",
       "      <td>Europe</td>\n",
       "      <td>3</td>\n",
       "      <td>7.527</td>\n",
       "      <td>1.32548</td>\n",
       "      <td>1.36058</td>\n",
       "      <td>0.87464</td>\n",
       "      <td>0.64938</td>\n",
       "      <td>0.48357</td>\n",
       "      <td>0.34139</td>\n",
       "      <td>2015</td>\n",
       "      <td>Denmark - Europe</td>\n",
       "    </tr>\n",
       "    <tr>\n",
       "      <th>3</th>\n",
       "      <td>4</td>\n",
       "      <td>Norway</td>\n",
       "      <td>Europe</td>\n",
       "      <td>4</td>\n",
       "      <td>7.522</td>\n",
       "      <td>1.45900</td>\n",
       "      <td>1.33095</td>\n",
       "      <td>0.88521</td>\n",
       "      <td>0.66973</td>\n",
       "      <td>0.36503</td>\n",
       "      <td>0.34699</td>\n",
       "      <td>2015</td>\n",
       "      <td>Norway - Europe</td>\n",
       "    </tr>\n",
       "    <tr>\n",
       "      <th>4</th>\n",
       "      <td>5</td>\n",
       "      <td>Canada</td>\n",
       "      <td>North America</td>\n",
       "      <td>5</td>\n",
       "      <td>7.427</td>\n",
       "      <td>1.32629</td>\n",
       "      <td>1.32261</td>\n",
       "      <td>0.90563</td>\n",
       "      <td>0.63297</td>\n",
       "      <td>0.32957</td>\n",
       "      <td>0.45811</td>\n",
       "      <td>2015</td>\n",
       "      <td>Canada - North America</td>\n",
       "    </tr>\n",
       "  </tbody>\n",
       "</table>\n",
       "</div>"
      ],
      "text/plain": [
       "   id      country         region  happiness_rank  happiness_score  \\\n",
       "0   1  Switzerland         Europe               1            7.587   \n",
       "1   2      Iceland         Europe               2            7.561   \n",
       "2   3      Denmark         Europe               3            7.527   \n",
       "3   4       Norway         Europe               4            7.522   \n",
       "4   5       Canada  North America               5            7.427   \n",
       "\n",
       "   economy_per_capita   family  life_expectancy  freedom  \\\n",
       "0             1.39651  1.34951          0.94143  0.66557   \n",
       "1             1.30232  1.40223          0.94784  0.62877   \n",
       "2             1.32548  1.36058          0.87464  0.64938   \n",
       "3             1.45900  1.33095          0.88521  0.66973   \n",
       "4             1.32629  1.32261          0.90563  0.63297   \n",
       "\n",
       "   government_corruption  generosity  year          country_region  \n",
       "0                0.41978     0.29678  2015    Switzerland - Europe  \n",
       "1                0.14145     0.43630  2015        Iceland - Europe  \n",
       "2                0.48357     0.34139  2015        Denmark - Europe  \n",
       "3                0.36503     0.34699  2015         Norway - Europe  \n",
       "4                0.32957     0.45811  2015  Canada - North America  "
      ]
     },
     "execution_count": 64,
     "metadata": {},
     "output_type": "execute_result"
    }
   ],
   "source": [
    "concatenated_dataframe.head()"
   ]
  },
  {
   "cell_type": "markdown",
   "metadata": {},
   "source": [
    "### 3. Creating the selection for prediction"
   ]
  },
  {
   "cell_type": "markdown",
   "metadata": {},
   "source": [
    "In this part of the EDA, we will validate which data and with which model we obtain a better percentage of accuracy of predicted vs. actual data."
   ]
  },
  {
   "cell_type": "markdown",
   "metadata": {},
   "source": [
    "We are going to create two functions that will help me to plot in an agile way the data that we are going to obtain:"
   ]
  },
  {
   "cell_type": "code",
   "execution_count": 65,
   "metadata": {},
   "outputs": [],
   "source": [
    "def corr_graph(correlation_matrix):\n",
    "    \"\"\" Create a graph with the correlation matrix. \"\"\"\n",
    "    fig = go.Figure(data=go.Heatmap(\n",
    "        z=correlation_matrix.values,\n",
    "        x=correlation_matrix.columns,\n",
    "        y=correlation_matrix.columns,\n",
    "        colorscale='Viridis',\n",
    "        zmin=-1, zmax=1\n",
    "    ))\n",
    "    annotations = []\n",
    "    for i, row in enumerate(correlation_matrix.values):\n",
    "        for j, value in enumerate(row):\n",
    "            annotations.append(\n",
    "                go.layout.Annotation(\n",
    "                    text=f'{value:.2f}',\n",
    "                    x=correlation_matrix.columns[j],\n",
    "                    y=correlation_matrix.index[i],\n",
    "                    xref='x1',\n",
    "                    yref='y1',\n",
    "                    showarrow=False,\n",
    "                    font=dict(color='white' if abs(value) > 0.5 else 'black')\n",
    "                )\n",
    "            )\n",
    "            \n",
    "    fig.update_layout(\n",
    "        title=\"Correlation Matrix\",\n",
    "        annotations=annotations,\n",
    "        xaxis_nticks=36\n",
    "    )\n",
    "\n",
    "    fig.show()\n",
    "    \n",
    "def graph_to_predict(happiness_dataframe, title = 'Estimated Happiness Scores'):\n",
    "    fig = go.Figure()\n",
    "\n",
    "    fig.add_trace(go.Scatter(x=happiness_dataframe.index, y=happiness_dataframe['happiness_score'], mode='lines', name='Observed'))\n",
    "\n",
    "    fig.add_trace(go.Scatter(x=happiness_dataframe.index, y=happiness_dataframe['happiness_predicted'], mode='lines', name='Estimated'))\n",
    "\n",
    "    fig.update_layout(\n",
    "        title=title,\n",
    "        xaxis_title='Index',\n",
    "        yaxis_title='Happiness Score',\n",
    "        template='plotly_dark'\n",
    "    )\n",
    "\n",
    "    fig.show()"
   ]
  },
  {
   "cell_type": "markdown",
   "metadata": {},
   "source": [
    "We are going to declare the columns we count on to make what we should the predictions:"
   ]
  },
  {
   "cell_type": "code",
   "execution_count": 66,
   "metadata": {},
   "outputs": [],
   "source": [
    "dataframe_filtered = concatenated_dataframe[['happiness_rank', 'happiness_score', 'economy_per_capita', 'family', 'life_expectancy', 'freedom', 'government_corruption', 'generosity', 'year', 'country_region']]"
   ]
  },
  {
   "cell_type": "markdown",
   "metadata": {},
   "source": [
    "We check if we have any nulls so as not to damage our model."
   ]
  },
  {
   "cell_type": "code",
   "execution_count": 67,
   "metadata": {},
   "outputs": [
    {
     "data": {
      "text/plain": [
       "happiness_rank           0\n",
       "happiness_score          0\n",
       "economy_per_capita       0\n",
       "family                   0\n",
       "life_expectancy          0\n",
       "freedom                  0\n",
       "government_corruption    1\n",
       "generosity               0\n",
       "year                     0\n",
       "country_region           0\n",
       "dtype: int64"
      ]
     },
     "execution_count": 67,
     "metadata": {},
     "output_type": "execute_result"
    }
   ],
   "source": [
    "dataframe_filtered.isna().sum()"
   ]
  },
  {
   "cell_type": "markdown",
   "metadata": {},
   "source": [
    "We see that there is a null, so let's validate its data and if so it will be deleted:"
   ]
  },
  {
   "cell_type": "code",
   "execution_count": 68,
   "metadata": {},
   "outputs": [
    {
     "data": {
      "text/html": [
       "<div>\n",
       "<style scoped>\n",
       "    .dataframe tbody tr th:only-of-type {\n",
       "        vertical-align: middle;\n",
       "    }\n",
       "\n",
       "    .dataframe tbody tr th {\n",
       "        vertical-align: top;\n",
       "    }\n",
       "\n",
       "    .dataframe thead th {\n",
       "        text-align: right;\n",
       "    }\n",
       "</style>\n",
       "<table border=\"1\" class=\"dataframe\">\n",
       "  <thead>\n",
       "    <tr style=\"text-align: right;\">\n",
       "      <th></th>\n",
       "      <th>happiness_rank</th>\n",
       "      <th>happiness_score</th>\n",
       "      <th>economy_per_capita</th>\n",
       "      <th>family</th>\n",
       "      <th>life_expectancy</th>\n",
       "      <th>freedom</th>\n",
       "      <th>government_corruption</th>\n",
       "      <th>generosity</th>\n",
       "      <th>year</th>\n",
       "      <th>country_region</th>\n",
       "    </tr>\n",
       "  </thead>\n",
       "  <tbody>\n",
       "    <tr>\n",
       "      <th>489</th>\n",
       "      <td>20</td>\n",
       "      <td>6.774</td>\n",
       "      <td>2.096</td>\n",
       "      <td>0.776</td>\n",
       "      <td>0.67</td>\n",
       "      <td>0.284</td>\n",
       "      <td>NaN</td>\n",
       "      <td>0.186</td>\n",
       "      <td>2018</td>\n",
       "      <td></td>\n",
       "    </tr>\n",
       "  </tbody>\n",
       "</table>\n",
       "</div>"
      ],
      "text/plain": [
       "     happiness_rank  happiness_score  economy_per_capita  family  \\\n",
       "489              20            6.774               2.096   0.776   \n",
       "\n",
       "     life_expectancy  freedom  government_corruption  generosity  year  \\\n",
       "489             0.67    0.284                    NaN       0.186  2018   \n",
       "\n",
       "    country_region  \n",
       "489                 "
      ]
     },
     "execution_count": 68,
     "metadata": {},
     "output_type": "execute_result"
    }
   ],
   "source": [
    "dataframe_filtered[dataframe_filtered['government_corruption'].isna()]"
   ]
  },
  {
   "cell_type": "markdown",
   "metadata": {},
   "source": [
    "This null could kill my model training, so 782 to 781 is a good decision considering that **government_corruption** could be a good variable to explore."
   ]
  },
  {
   "cell_type": "code",
   "execution_count": 69,
   "metadata": {},
   "outputs": [
    {
     "name": "stderr",
     "output_type": "stream",
     "text": [
      "C:\\Users\\david\\AppData\\Local\\Temp\\ipykernel_24400\\3563644896.py:1: SettingWithCopyWarning:\n",
      "\n",
      "\n",
      "A value is trying to be set on a copy of a slice from a DataFrame\n",
      "\n",
      "See the caveats in the documentation: https://pandas.pydata.org/pandas-docs/stable/user_guide/indexing.html#returning-a-view-versus-a-copy\n",
      "\n"
     ]
    }
   ],
   "source": [
    "dataframe_filtered.dropna(inplace=True)"
   ]
  },
  {
   "cell_type": "code",
   "execution_count": 70,
   "metadata": {},
   "outputs": [
    {
     "data": {
      "text/plain": [
       "happiness_rank                              1\n",
       "happiness_score                         7.587\n",
       "economy_per_capita                    1.39651\n",
       "family                                1.34951\n",
       "life_expectancy                       0.94143\n",
       "freedom                               0.66557\n",
       "government_corruption                 0.41978\n",
       "generosity                            0.29678\n",
       "year                                     2015\n",
       "country_region           Switzerland - Europe\n",
       "Name: 0, dtype: object"
      ]
     },
     "execution_count": 70,
     "metadata": {},
     "output_type": "execute_result"
    }
   ],
   "source": [
    "dataframe_filtered.loc[0]"
   ]
  },
  {
   "cell_type": "code",
   "execution_count": 71,
   "metadata": {},
   "outputs": [
    {
     "data": {
      "application/vnd.plotly.v1+json": {
       "config": {
        "plotlyServerURL": "https://plot.ly"
       },
       "data": [
        {
         "colorscale": [
          [
           0,
           "#440154"
          ],
          [
           0.1111111111111111,
           "#482878"
          ],
          [
           0.2222222222222222,
           "#3e4989"
          ],
          [
           0.3333333333333333,
           "#31688e"
          ],
          [
           0.4444444444444444,
           "#26828e"
          ],
          [
           0.5555555555555556,
           "#1f9e89"
          ],
          [
           0.6666666666666666,
           "#35b779"
          ],
          [
           0.7777777777777778,
           "#6ece58"
          ],
          [
           0.8888888888888888,
           "#b5de2b"
          ],
          [
           1,
           "#fde725"
          ]
         ],
         "type": "heatmap",
         "x": [
          "happiness_rank",
          "happiness_score",
          "economy_per_capita",
          "family",
          "life_expectancy",
          "freedom",
          "government_corruption",
          "generosity",
          "year"
         ],
         "y": [
          "happiness_rank",
          "happiness_score",
          "economy_per_capita",
          "family",
          "life_expectancy",
          "freedom",
          "government_corruption",
          "generosity",
          "year"
         ],
         "z": [
          [
           1,
           -0.9920525554185763,
           -0.7951103682866477,
           -0.6474197921811645,
           -0.7440994436855358,
           -0.5401506086181704,
           -0.37278057800601544,
           -0.11829029431793685,
           -0.00659446619952292
          ],
          [
           -0.9920525554185763,
           1,
           0.7897194831511974,
           0.6512455337888199,
           0.7428427907452708,
           0.5533649208820415,
           0.3984178569454019,
           0.13814208091878988,
           0.005946129432289607
          ],
          [
           -0.7951103682866477,
           0.7897194831511974,
           1,
           0.5928893007734223,
           0.7877519964950284,
           0.34561460542228667,
           0.30630742767455554,
           -0.01364567028183522,
           0.017229893977222757
          ],
          [
           -0.6474197921811645,
           0.6512455337888199,
           0.5928893007734223,
           1,
           0.5732523168014204,
           0.419795426688669,
           0.12640136222791198,
           -0.03759691159204243,
           0.368584586708542
          ],
          [
           -0.7440994436855358,
           0.7428427907452708,
           0.7877519964950284,
           0.5732523168014204,
           1,
           0.34115521130992615,
           0.2505120129873866,
           0.010718147102976779,
           0.13013769740201522
          ],
          [
           -0.5401506086181704,
           0.5533649208820415,
           0.34561460542228667,
           0.419795426688669,
           0.34115521130992615,
           1,
           0.45959327822211593,
           0.2905636301956604,
           0.011118432384547745
          ],
          [
           -0.37278057800601544,
           0.3984178569454019,
           0.30630742767455554,
           0.12640136222791198,
           0.2505120129873866,
           0.45959327822211593,
           1,
           0.31891960997929947,
           -0.12226443943212084
          ],
          [
           -0.11829029431793685,
           0.13814208091878988,
           -0.01364567028183522,
           -0.03759691159204243,
           0.010718147102976779,
           0.2905636301956604,
           0.31891960997929947,
           1,
           -0.192415943023169
          ],
          [
           -0.00659446619952292,
           0.005946129432289607,
           0.017229893977222757,
           0.368584586708542,
           0.13013769740201522,
           0.011118432384547745,
           -0.12226443943212084,
           -0.192415943023169,
           1
          ]
         ],
         "zmax": 1,
         "zmin": -1
        }
       ],
       "layout": {
        "annotations": [
         {
          "font": {
           "color": "white"
          },
          "showarrow": false,
          "text": "1.00",
          "x": "happiness_rank",
          "xref": "x",
          "y": "happiness_rank",
          "yref": "y"
         },
         {
          "font": {
           "color": "white"
          },
          "showarrow": false,
          "text": "-0.99",
          "x": "happiness_score",
          "xref": "x",
          "y": "happiness_rank",
          "yref": "y"
         },
         {
          "font": {
           "color": "white"
          },
          "showarrow": false,
          "text": "-0.80",
          "x": "economy_per_capita",
          "xref": "x",
          "y": "happiness_rank",
          "yref": "y"
         },
         {
          "font": {
           "color": "white"
          },
          "showarrow": false,
          "text": "-0.65",
          "x": "family",
          "xref": "x",
          "y": "happiness_rank",
          "yref": "y"
         },
         {
          "font": {
           "color": "white"
          },
          "showarrow": false,
          "text": "-0.74",
          "x": "life_expectancy",
          "xref": "x",
          "y": "happiness_rank",
          "yref": "y"
         },
         {
          "font": {
           "color": "white"
          },
          "showarrow": false,
          "text": "-0.54",
          "x": "freedom",
          "xref": "x",
          "y": "happiness_rank",
          "yref": "y"
         },
         {
          "font": {
           "color": "black"
          },
          "showarrow": false,
          "text": "-0.37",
          "x": "government_corruption",
          "xref": "x",
          "y": "happiness_rank",
          "yref": "y"
         },
         {
          "font": {
           "color": "black"
          },
          "showarrow": false,
          "text": "-0.12",
          "x": "generosity",
          "xref": "x",
          "y": "happiness_rank",
          "yref": "y"
         },
         {
          "font": {
           "color": "black"
          },
          "showarrow": false,
          "text": "-0.01",
          "x": "year",
          "xref": "x",
          "y": "happiness_rank",
          "yref": "y"
         },
         {
          "font": {
           "color": "white"
          },
          "showarrow": false,
          "text": "-0.99",
          "x": "happiness_rank",
          "xref": "x",
          "y": "happiness_score",
          "yref": "y"
         },
         {
          "font": {
           "color": "white"
          },
          "showarrow": false,
          "text": "1.00",
          "x": "happiness_score",
          "xref": "x",
          "y": "happiness_score",
          "yref": "y"
         },
         {
          "font": {
           "color": "white"
          },
          "showarrow": false,
          "text": "0.79",
          "x": "economy_per_capita",
          "xref": "x",
          "y": "happiness_score",
          "yref": "y"
         },
         {
          "font": {
           "color": "white"
          },
          "showarrow": false,
          "text": "0.65",
          "x": "family",
          "xref": "x",
          "y": "happiness_score",
          "yref": "y"
         },
         {
          "font": {
           "color": "white"
          },
          "showarrow": false,
          "text": "0.74",
          "x": "life_expectancy",
          "xref": "x",
          "y": "happiness_score",
          "yref": "y"
         },
         {
          "font": {
           "color": "white"
          },
          "showarrow": false,
          "text": "0.55",
          "x": "freedom",
          "xref": "x",
          "y": "happiness_score",
          "yref": "y"
         },
         {
          "font": {
           "color": "black"
          },
          "showarrow": false,
          "text": "0.40",
          "x": "government_corruption",
          "xref": "x",
          "y": "happiness_score",
          "yref": "y"
         },
         {
          "font": {
           "color": "black"
          },
          "showarrow": false,
          "text": "0.14",
          "x": "generosity",
          "xref": "x",
          "y": "happiness_score",
          "yref": "y"
         },
         {
          "font": {
           "color": "black"
          },
          "showarrow": false,
          "text": "0.01",
          "x": "year",
          "xref": "x",
          "y": "happiness_score",
          "yref": "y"
         },
         {
          "font": {
           "color": "white"
          },
          "showarrow": false,
          "text": "-0.80",
          "x": "happiness_rank",
          "xref": "x",
          "y": "economy_per_capita",
          "yref": "y"
         },
         {
          "font": {
           "color": "white"
          },
          "showarrow": false,
          "text": "0.79",
          "x": "happiness_score",
          "xref": "x",
          "y": "economy_per_capita",
          "yref": "y"
         },
         {
          "font": {
           "color": "white"
          },
          "showarrow": false,
          "text": "1.00",
          "x": "economy_per_capita",
          "xref": "x",
          "y": "economy_per_capita",
          "yref": "y"
         },
         {
          "font": {
           "color": "white"
          },
          "showarrow": false,
          "text": "0.59",
          "x": "family",
          "xref": "x",
          "y": "economy_per_capita",
          "yref": "y"
         },
         {
          "font": {
           "color": "white"
          },
          "showarrow": false,
          "text": "0.79",
          "x": "life_expectancy",
          "xref": "x",
          "y": "economy_per_capita",
          "yref": "y"
         },
         {
          "font": {
           "color": "black"
          },
          "showarrow": false,
          "text": "0.35",
          "x": "freedom",
          "xref": "x",
          "y": "economy_per_capita",
          "yref": "y"
         },
         {
          "font": {
           "color": "black"
          },
          "showarrow": false,
          "text": "0.31",
          "x": "government_corruption",
          "xref": "x",
          "y": "economy_per_capita",
          "yref": "y"
         },
         {
          "font": {
           "color": "black"
          },
          "showarrow": false,
          "text": "-0.01",
          "x": "generosity",
          "xref": "x",
          "y": "economy_per_capita",
          "yref": "y"
         },
         {
          "font": {
           "color": "black"
          },
          "showarrow": false,
          "text": "0.02",
          "x": "year",
          "xref": "x",
          "y": "economy_per_capita",
          "yref": "y"
         },
         {
          "font": {
           "color": "white"
          },
          "showarrow": false,
          "text": "-0.65",
          "x": "happiness_rank",
          "xref": "x",
          "y": "family",
          "yref": "y"
         },
         {
          "font": {
           "color": "white"
          },
          "showarrow": false,
          "text": "0.65",
          "x": "happiness_score",
          "xref": "x",
          "y": "family",
          "yref": "y"
         },
         {
          "font": {
           "color": "white"
          },
          "showarrow": false,
          "text": "0.59",
          "x": "economy_per_capita",
          "xref": "x",
          "y": "family",
          "yref": "y"
         },
         {
          "font": {
           "color": "white"
          },
          "showarrow": false,
          "text": "1.00",
          "x": "family",
          "xref": "x",
          "y": "family",
          "yref": "y"
         },
         {
          "font": {
           "color": "white"
          },
          "showarrow": false,
          "text": "0.57",
          "x": "life_expectancy",
          "xref": "x",
          "y": "family",
          "yref": "y"
         },
         {
          "font": {
           "color": "black"
          },
          "showarrow": false,
          "text": "0.42",
          "x": "freedom",
          "xref": "x",
          "y": "family",
          "yref": "y"
         },
         {
          "font": {
           "color": "black"
          },
          "showarrow": false,
          "text": "0.13",
          "x": "government_corruption",
          "xref": "x",
          "y": "family",
          "yref": "y"
         },
         {
          "font": {
           "color": "black"
          },
          "showarrow": false,
          "text": "-0.04",
          "x": "generosity",
          "xref": "x",
          "y": "family",
          "yref": "y"
         },
         {
          "font": {
           "color": "black"
          },
          "showarrow": false,
          "text": "0.37",
          "x": "year",
          "xref": "x",
          "y": "family",
          "yref": "y"
         },
         {
          "font": {
           "color": "white"
          },
          "showarrow": false,
          "text": "-0.74",
          "x": "happiness_rank",
          "xref": "x",
          "y": "life_expectancy",
          "yref": "y"
         },
         {
          "font": {
           "color": "white"
          },
          "showarrow": false,
          "text": "0.74",
          "x": "happiness_score",
          "xref": "x",
          "y": "life_expectancy",
          "yref": "y"
         },
         {
          "font": {
           "color": "white"
          },
          "showarrow": false,
          "text": "0.79",
          "x": "economy_per_capita",
          "xref": "x",
          "y": "life_expectancy",
          "yref": "y"
         },
         {
          "font": {
           "color": "white"
          },
          "showarrow": false,
          "text": "0.57",
          "x": "family",
          "xref": "x",
          "y": "life_expectancy",
          "yref": "y"
         },
         {
          "font": {
           "color": "white"
          },
          "showarrow": false,
          "text": "1.00",
          "x": "life_expectancy",
          "xref": "x",
          "y": "life_expectancy",
          "yref": "y"
         },
         {
          "font": {
           "color": "black"
          },
          "showarrow": false,
          "text": "0.34",
          "x": "freedom",
          "xref": "x",
          "y": "life_expectancy",
          "yref": "y"
         },
         {
          "font": {
           "color": "black"
          },
          "showarrow": false,
          "text": "0.25",
          "x": "government_corruption",
          "xref": "x",
          "y": "life_expectancy",
          "yref": "y"
         },
         {
          "font": {
           "color": "black"
          },
          "showarrow": false,
          "text": "0.01",
          "x": "generosity",
          "xref": "x",
          "y": "life_expectancy",
          "yref": "y"
         },
         {
          "font": {
           "color": "black"
          },
          "showarrow": false,
          "text": "0.13",
          "x": "year",
          "xref": "x",
          "y": "life_expectancy",
          "yref": "y"
         },
         {
          "font": {
           "color": "white"
          },
          "showarrow": false,
          "text": "-0.54",
          "x": "happiness_rank",
          "xref": "x",
          "y": "freedom",
          "yref": "y"
         },
         {
          "font": {
           "color": "white"
          },
          "showarrow": false,
          "text": "0.55",
          "x": "happiness_score",
          "xref": "x",
          "y": "freedom",
          "yref": "y"
         },
         {
          "font": {
           "color": "black"
          },
          "showarrow": false,
          "text": "0.35",
          "x": "economy_per_capita",
          "xref": "x",
          "y": "freedom",
          "yref": "y"
         },
         {
          "font": {
           "color": "black"
          },
          "showarrow": false,
          "text": "0.42",
          "x": "family",
          "xref": "x",
          "y": "freedom",
          "yref": "y"
         },
         {
          "font": {
           "color": "black"
          },
          "showarrow": false,
          "text": "0.34",
          "x": "life_expectancy",
          "xref": "x",
          "y": "freedom",
          "yref": "y"
         },
         {
          "font": {
           "color": "white"
          },
          "showarrow": false,
          "text": "1.00",
          "x": "freedom",
          "xref": "x",
          "y": "freedom",
          "yref": "y"
         },
         {
          "font": {
           "color": "black"
          },
          "showarrow": false,
          "text": "0.46",
          "x": "government_corruption",
          "xref": "x",
          "y": "freedom",
          "yref": "y"
         },
         {
          "font": {
           "color": "black"
          },
          "showarrow": false,
          "text": "0.29",
          "x": "generosity",
          "xref": "x",
          "y": "freedom",
          "yref": "y"
         },
         {
          "font": {
           "color": "black"
          },
          "showarrow": false,
          "text": "0.01",
          "x": "year",
          "xref": "x",
          "y": "freedom",
          "yref": "y"
         },
         {
          "font": {
           "color": "black"
          },
          "showarrow": false,
          "text": "-0.37",
          "x": "happiness_rank",
          "xref": "x",
          "y": "government_corruption",
          "yref": "y"
         },
         {
          "font": {
           "color": "black"
          },
          "showarrow": false,
          "text": "0.40",
          "x": "happiness_score",
          "xref": "x",
          "y": "government_corruption",
          "yref": "y"
         },
         {
          "font": {
           "color": "black"
          },
          "showarrow": false,
          "text": "0.31",
          "x": "economy_per_capita",
          "xref": "x",
          "y": "government_corruption",
          "yref": "y"
         },
         {
          "font": {
           "color": "black"
          },
          "showarrow": false,
          "text": "0.13",
          "x": "family",
          "xref": "x",
          "y": "government_corruption",
          "yref": "y"
         },
         {
          "font": {
           "color": "black"
          },
          "showarrow": false,
          "text": "0.25",
          "x": "life_expectancy",
          "xref": "x",
          "y": "government_corruption",
          "yref": "y"
         },
         {
          "font": {
           "color": "black"
          },
          "showarrow": false,
          "text": "0.46",
          "x": "freedom",
          "xref": "x",
          "y": "government_corruption",
          "yref": "y"
         },
         {
          "font": {
           "color": "white"
          },
          "showarrow": false,
          "text": "1.00",
          "x": "government_corruption",
          "xref": "x",
          "y": "government_corruption",
          "yref": "y"
         },
         {
          "font": {
           "color": "black"
          },
          "showarrow": false,
          "text": "0.32",
          "x": "generosity",
          "xref": "x",
          "y": "government_corruption",
          "yref": "y"
         },
         {
          "font": {
           "color": "black"
          },
          "showarrow": false,
          "text": "-0.12",
          "x": "year",
          "xref": "x",
          "y": "government_corruption",
          "yref": "y"
         },
         {
          "font": {
           "color": "black"
          },
          "showarrow": false,
          "text": "-0.12",
          "x": "happiness_rank",
          "xref": "x",
          "y": "generosity",
          "yref": "y"
         },
         {
          "font": {
           "color": "black"
          },
          "showarrow": false,
          "text": "0.14",
          "x": "happiness_score",
          "xref": "x",
          "y": "generosity",
          "yref": "y"
         },
         {
          "font": {
           "color": "black"
          },
          "showarrow": false,
          "text": "-0.01",
          "x": "economy_per_capita",
          "xref": "x",
          "y": "generosity",
          "yref": "y"
         },
         {
          "font": {
           "color": "black"
          },
          "showarrow": false,
          "text": "-0.04",
          "x": "family",
          "xref": "x",
          "y": "generosity",
          "yref": "y"
         },
         {
          "font": {
           "color": "black"
          },
          "showarrow": false,
          "text": "0.01",
          "x": "life_expectancy",
          "xref": "x",
          "y": "generosity",
          "yref": "y"
         },
         {
          "font": {
           "color": "black"
          },
          "showarrow": false,
          "text": "0.29",
          "x": "freedom",
          "xref": "x",
          "y": "generosity",
          "yref": "y"
         },
         {
          "font": {
           "color": "black"
          },
          "showarrow": false,
          "text": "0.32",
          "x": "government_corruption",
          "xref": "x",
          "y": "generosity",
          "yref": "y"
         },
         {
          "font": {
           "color": "white"
          },
          "showarrow": false,
          "text": "1.00",
          "x": "generosity",
          "xref": "x",
          "y": "generosity",
          "yref": "y"
         },
         {
          "font": {
           "color": "black"
          },
          "showarrow": false,
          "text": "-0.19",
          "x": "year",
          "xref": "x",
          "y": "generosity",
          "yref": "y"
         },
         {
          "font": {
           "color": "black"
          },
          "showarrow": false,
          "text": "-0.01",
          "x": "happiness_rank",
          "xref": "x",
          "y": "year",
          "yref": "y"
         },
         {
          "font": {
           "color": "black"
          },
          "showarrow": false,
          "text": "0.01",
          "x": "happiness_score",
          "xref": "x",
          "y": "year",
          "yref": "y"
         },
         {
          "font": {
           "color": "black"
          },
          "showarrow": false,
          "text": "0.02",
          "x": "economy_per_capita",
          "xref": "x",
          "y": "year",
          "yref": "y"
         },
         {
          "font": {
           "color": "black"
          },
          "showarrow": false,
          "text": "0.37",
          "x": "family",
          "xref": "x",
          "y": "year",
          "yref": "y"
         },
         {
          "font": {
           "color": "black"
          },
          "showarrow": false,
          "text": "0.13",
          "x": "life_expectancy",
          "xref": "x",
          "y": "year",
          "yref": "y"
         },
         {
          "font": {
           "color": "black"
          },
          "showarrow": false,
          "text": "0.01",
          "x": "freedom",
          "xref": "x",
          "y": "year",
          "yref": "y"
         },
         {
          "font": {
           "color": "black"
          },
          "showarrow": false,
          "text": "-0.12",
          "x": "government_corruption",
          "xref": "x",
          "y": "year",
          "yref": "y"
         },
         {
          "font": {
           "color": "black"
          },
          "showarrow": false,
          "text": "-0.19",
          "x": "generosity",
          "xref": "x",
          "y": "year",
          "yref": "y"
         },
         {
          "font": {
           "color": "white"
          },
          "showarrow": false,
          "text": "1.00",
          "x": "year",
          "xref": "x",
          "y": "year",
          "yref": "y"
         }
        ],
        "template": {
         "data": {
          "bar": [
           {
            "error_x": {
             "color": "#2a3f5f"
            },
            "error_y": {
             "color": "#2a3f5f"
            },
            "marker": {
             "line": {
              "color": "#E5ECF6",
              "width": 0.5
             },
             "pattern": {
              "fillmode": "overlay",
              "size": 10,
              "solidity": 0.2
             }
            },
            "type": "bar"
           }
          ],
          "barpolar": [
           {
            "marker": {
             "line": {
              "color": "#E5ECF6",
              "width": 0.5
             },
             "pattern": {
              "fillmode": "overlay",
              "size": 10,
              "solidity": 0.2
             }
            },
            "type": "barpolar"
           }
          ],
          "carpet": [
           {
            "aaxis": {
             "endlinecolor": "#2a3f5f",
             "gridcolor": "white",
             "linecolor": "white",
             "minorgridcolor": "white",
             "startlinecolor": "#2a3f5f"
            },
            "baxis": {
             "endlinecolor": "#2a3f5f",
             "gridcolor": "white",
             "linecolor": "white",
             "minorgridcolor": "white",
             "startlinecolor": "#2a3f5f"
            },
            "type": "carpet"
           }
          ],
          "choropleth": [
           {
            "colorbar": {
             "outlinewidth": 0,
             "ticks": ""
            },
            "type": "choropleth"
           }
          ],
          "contour": [
           {
            "colorbar": {
             "outlinewidth": 0,
             "ticks": ""
            },
            "colorscale": [
             [
              0,
              "#0d0887"
             ],
             [
              0.1111111111111111,
              "#46039f"
             ],
             [
              0.2222222222222222,
              "#7201a8"
             ],
             [
              0.3333333333333333,
              "#9c179e"
             ],
             [
              0.4444444444444444,
              "#bd3786"
             ],
             [
              0.5555555555555556,
              "#d8576b"
             ],
             [
              0.6666666666666666,
              "#ed7953"
             ],
             [
              0.7777777777777778,
              "#fb9f3a"
             ],
             [
              0.8888888888888888,
              "#fdca26"
             ],
             [
              1,
              "#f0f921"
             ]
            ],
            "type": "contour"
           }
          ],
          "contourcarpet": [
           {
            "colorbar": {
             "outlinewidth": 0,
             "ticks": ""
            },
            "type": "contourcarpet"
           }
          ],
          "heatmap": [
           {
            "colorbar": {
             "outlinewidth": 0,
             "ticks": ""
            },
            "colorscale": [
             [
              0,
              "#0d0887"
             ],
             [
              0.1111111111111111,
              "#46039f"
             ],
             [
              0.2222222222222222,
              "#7201a8"
             ],
             [
              0.3333333333333333,
              "#9c179e"
             ],
             [
              0.4444444444444444,
              "#bd3786"
             ],
             [
              0.5555555555555556,
              "#d8576b"
             ],
             [
              0.6666666666666666,
              "#ed7953"
             ],
             [
              0.7777777777777778,
              "#fb9f3a"
             ],
             [
              0.8888888888888888,
              "#fdca26"
             ],
             [
              1,
              "#f0f921"
             ]
            ],
            "type": "heatmap"
           }
          ],
          "heatmapgl": [
           {
            "colorbar": {
             "outlinewidth": 0,
             "ticks": ""
            },
            "colorscale": [
             [
              0,
              "#0d0887"
             ],
             [
              0.1111111111111111,
              "#46039f"
             ],
             [
              0.2222222222222222,
              "#7201a8"
             ],
             [
              0.3333333333333333,
              "#9c179e"
             ],
             [
              0.4444444444444444,
              "#bd3786"
             ],
             [
              0.5555555555555556,
              "#d8576b"
             ],
             [
              0.6666666666666666,
              "#ed7953"
             ],
             [
              0.7777777777777778,
              "#fb9f3a"
             ],
             [
              0.8888888888888888,
              "#fdca26"
             ],
             [
              1,
              "#f0f921"
             ]
            ],
            "type": "heatmapgl"
           }
          ],
          "histogram": [
           {
            "marker": {
             "pattern": {
              "fillmode": "overlay",
              "size": 10,
              "solidity": 0.2
             }
            },
            "type": "histogram"
           }
          ],
          "histogram2d": [
           {
            "colorbar": {
             "outlinewidth": 0,
             "ticks": ""
            },
            "colorscale": [
             [
              0,
              "#0d0887"
             ],
             [
              0.1111111111111111,
              "#46039f"
             ],
             [
              0.2222222222222222,
              "#7201a8"
             ],
             [
              0.3333333333333333,
              "#9c179e"
             ],
             [
              0.4444444444444444,
              "#bd3786"
             ],
             [
              0.5555555555555556,
              "#d8576b"
             ],
             [
              0.6666666666666666,
              "#ed7953"
             ],
             [
              0.7777777777777778,
              "#fb9f3a"
             ],
             [
              0.8888888888888888,
              "#fdca26"
             ],
             [
              1,
              "#f0f921"
             ]
            ],
            "type": "histogram2d"
           }
          ],
          "histogram2dcontour": [
           {
            "colorbar": {
             "outlinewidth": 0,
             "ticks": ""
            },
            "colorscale": [
             [
              0,
              "#0d0887"
             ],
             [
              0.1111111111111111,
              "#46039f"
             ],
             [
              0.2222222222222222,
              "#7201a8"
             ],
             [
              0.3333333333333333,
              "#9c179e"
             ],
             [
              0.4444444444444444,
              "#bd3786"
             ],
             [
              0.5555555555555556,
              "#d8576b"
             ],
             [
              0.6666666666666666,
              "#ed7953"
             ],
             [
              0.7777777777777778,
              "#fb9f3a"
             ],
             [
              0.8888888888888888,
              "#fdca26"
             ],
             [
              1,
              "#f0f921"
             ]
            ],
            "type": "histogram2dcontour"
           }
          ],
          "mesh3d": [
           {
            "colorbar": {
             "outlinewidth": 0,
             "ticks": ""
            },
            "type": "mesh3d"
           }
          ],
          "parcoords": [
           {
            "line": {
             "colorbar": {
              "outlinewidth": 0,
              "ticks": ""
             }
            },
            "type": "parcoords"
           }
          ],
          "pie": [
           {
            "automargin": true,
            "type": "pie"
           }
          ],
          "scatter": [
           {
            "fillpattern": {
             "fillmode": "overlay",
             "size": 10,
             "solidity": 0.2
            },
            "type": "scatter"
           }
          ],
          "scatter3d": [
           {
            "line": {
             "colorbar": {
              "outlinewidth": 0,
              "ticks": ""
             }
            },
            "marker": {
             "colorbar": {
              "outlinewidth": 0,
              "ticks": ""
             }
            },
            "type": "scatter3d"
           }
          ],
          "scattercarpet": [
           {
            "marker": {
             "colorbar": {
              "outlinewidth": 0,
              "ticks": ""
             }
            },
            "type": "scattercarpet"
           }
          ],
          "scattergeo": [
           {
            "marker": {
             "colorbar": {
              "outlinewidth": 0,
              "ticks": ""
             }
            },
            "type": "scattergeo"
           }
          ],
          "scattergl": [
           {
            "marker": {
             "colorbar": {
              "outlinewidth": 0,
              "ticks": ""
             }
            },
            "type": "scattergl"
           }
          ],
          "scattermapbox": [
           {
            "marker": {
             "colorbar": {
              "outlinewidth": 0,
              "ticks": ""
             }
            },
            "type": "scattermapbox"
           }
          ],
          "scatterpolar": [
           {
            "marker": {
             "colorbar": {
              "outlinewidth": 0,
              "ticks": ""
             }
            },
            "type": "scatterpolar"
           }
          ],
          "scatterpolargl": [
           {
            "marker": {
             "colorbar": {
              "outlinewidth": 0,
              "ticks": ""
             }
            },
            "type": "scatterpolargl"
           }
          ],
          "scatterternary": [
           {
            "marker": {
             "colorbar": {
              "outlinewidth": 0,
              "ticks": ""
             }
            },
            "type": "scatterternary"
           }
          ],
          "surface": [
           {
            "colorbar": {
             "outlinewidth": 0,
             "ticks": ""
            },
            "colorscale": [
             [
              0,
              "#0d0887"
             ],
             [
              0.1111111111111111,
              "#46039f"
             ],
             [
              0.2222222222222222,
              "#7201a8"
             ],
             [
              0.3333333333333333,
              "#9c179e"
             ],
             [
              0.4444444444444444,
              "#bd3786"
             ],
             [
              0.5555555555555556,
              "#d8576b"
             ],
             [
              0.6666666666666666,
              "#ed7953"
             ],
             [
              0.7777777777777778,
              "#fb9f3a"
             ],
             [
              0.8888888888888888,
              "#fdca26"
             ],
             [
              1,
              "#f0f921"
             ]
            ],
            "type": "surface"
           }
          ],
          "table": [
           {
            "cells": {
             "fill": {
              "color": "#EBF0F8"
             },
             "line": {
              "color": "white"
             }
            },
            "header": {
             "fill": {
              "color": "#C8D4E3"
             },
             "line": {
              "color": "white"
             }
            },
            "type": "table"
           }
          ]
         },
         "layout": {
          "annotationdefaults": {
           "arrowcolor": "#2a3f5f",
           "arrowhead": 0,
           "arrowwidth": 1
          },
          "autotypenumbers": "strict",
          "coloraxis": {
           "colorbar": {
            "outlinewidth": 0,
            "ticks": ""
           }
          },
          "colorscale": {
           "diverging": [
            [
             0,
             "#8e0152"
            ],
            [
             0.1,
             "#c51b7d"
            ],
            [
             0.2,
             "#de77ae"
            ],
            [
             0.3,
             "#f1b6da"
            ],
            [
             0.4,
             "#fde0ef"
            ],
            [
             0.5,
             "#f7f7f7"
            ],
            [
             0.6,
             "#e6f5d0"
            ],
            [
             0.7,
             "#b8e186"
            ],
            [
             0.8,
             "#7fbc41"
            ],
            [
             0.9,
             "#4d9221"
            ],
            [
             1,
             "#276419"
            ]
           ],
           "sequential": [
            [
             0,
             "#0d0887"
            ],
            [
             0.1111111111111111,
             "#46039f"
            ],
            [
             0.2222222222222222,
             "#7201a8"
            ],
            [
             0.3333333333333333,
             "#9c179e"
            ],
            [
             0.4444444444444444,
             "#bd3786"
            ],
            [
             0.5555555555555556,
             "#d8576b"
            ],
            [
             0.6666666666666666,
             "#ed7953"
            ],
            [
             0.7777777777777778,
             "#fb9f3a"
            ],
            [
             0.8888888888888888,
             "#fdca26"
            ],
            [
             1,
             "#f0f921"
            ]
           ],
           "sequentialminus": [
            [
             0,
             "#0d0887"
            ],
            [
             0.1111111111111111,
             "#46039f"
            ],
            [
             0.2222222222222222,
             "#7201a8"
            ],
            [
             0.3333333333333333,
             "#9c179e"
            ],
            [
             0.4444444444444444,
             "#bd3786"
            ],
            [
             0.5555555555555556,
             "#d8576b"
            ],
            [
             0.6666666666666666,
             "#ed7953"
            ],
            [
             0.7777777777777778,
             "#fb9f3a"
            ],
            [
             0.8888888888888888,
             "#fdca26"
            ],
            [
             1,
             "#f0f921"
            ]
           ]
          },
          "colorway": [
           "#636efa",
           "#EF553B",
           "#00cc96",
           "#ab63fa",
           "#FFA15A",
           "#19d3f3",
           "#FF6692",
           "#B6E880",
           "#FF97FF",
           "#FECB52"
          ],
          "font": {
           "color": "#2a3f5f"
          },
          "geo": {
           "bgcolor": "white",
           "lakecolor": "white",
           "landcolor": "#E5ECF6",
           "showlakes": true,
           "showland": true,
           "subunitcolor": "white"
          },
          "hoverlabel": {
           "align": "left"
          },
          "hovermode": "closest",
          "mapbox": {
           "style": "light"
          },
          "paper_bgcolor": "white",
          "plot_bgcolor": "#E5ECF6",
          "polar": {
           "angularaxis": {
            "gridcolor": "white",
            "linecolor": "white",
            "ticks": ""
           },
           "bgcolor": "#E5ECF6",
           "radialaxis": {
            "gridcolor": "white",
            "linecolor": "white",
            "ticks": ""
           }
          },
          "scene": {
           "xaxis": {
            "backgroundcolor": "#E5ECF6",
            "gridcolor": "white",
            "gridwidth": 2,
            "linecolor": "white",
            "showbackground": true,
            "ticks": "",
            "zerolinecolor": "white"
           },
           "yaxis": {
            "backgroundcolor": "#E5ECF6",
            "gridcolor": "white",
            "gridwidth": 2,
            "linecolor": "white",
            "showbackground": true,
            "ticks": "",
            "zerolinecolor": "white"
           },
           "zaxis": {
            "backgroundcolor": "#E5ECF6",
            "gridcolor": "white",
            "gridwidth": 2,
            "linecolor": "white",
            "showbackground": true,
            "ticks": "",
            "zerolinecolor": "white"
           }
          },
          "shapedefaults": {
           "line": {
            "color": "#2a3f5f"
           }
          },
          "ternary": {
           "aaxis": {
            "gridcolor": "white",
            "linecolor": "white",
            "ticks": ""
           },
           "baxis": {
            "gridcolor": "white",
            "linecolor": "white",
            "ticks": ""
           },
           "bgcolor": "#E5ECF6",
           "caxis": {
            "gridcolor": "white",
            "linecolor": "white",
            "ticks": ""
           }
          },
          "title": {
           "x": 0.05
          },
          "xaxis": {
           "automargin": true,
           "gridcolor": "white",
           "linecolor": "white",
           "ticks": "",
           "title": {
            "standoff": 15
           },
           "zerolinecolor": "white",
           "zerolinewidth": 2
          },
          "yaxis": {
           "automargin": true,
           "gridcolor": "white",
           "linecolor": "white",
           "ticks": "",
           "title": {
            "standoff": 15
           },
           "zerolinecolor": "white",
           "zerolinewidth": 2
          }
         }
        },
        "title": {
         "text": "Correlation Matrix"
        },
        "xaxis": {
         "nticks": 36
        }
       }
      }
     },
     "metadata": {},
     "output_type": "display_data"
    }
   ],
   "source": [
    "correlation_matrix = dataframe_filtered.loc[:, ~dataframe_filtered.columns.isin(['country_region'])].corr()\n",
    "corr_graph(correlation_matrix)"
   ]
  },
  {
   "cell_type": "markdown",
   "metadata": {},
   "source": [
    "As we can see, it would be a good match to take **economy_per_capita**, **family**, **life_expectancy** and **freedom** to predict the model, but that does not mean that we will deal with all columns."
   ]
  },
  {
   "cell_type": "markdown",
   "metadata": {},
   "source": [
    "Let's review the boxplots of the data we have:"
   ]
  },
  {
   "cell_type": "code",
   "execution_count": 72,
   "metadata": {},
   "outputs": [],
   "source": [
    "features_columns = ['economy_per_capita', 'family', 'life_expectancy', 'freedom', 'government_corruption', 'generosity', 'year']"
   ]
  },
  {
   "cell_type": "code",
   "execution_count": 73,
   "metadata": {},
   "outputs": [
    {
     "data": {
      "application/vnd.plotly.v1+json": {
       "config": {
        "plotlyServerURL": "https://plot.ly"
       },
       "data": [
        {
         "alignmentgroup": "True",
         "hovertemplate": "economy_per_capita=%{y}<extra></extra>",
         "legendgroup": "",
         "marker": {
          "color": "#636efa"
         },
         "name": "",
         "notched": false,
         "offsetgroup": "",
         "orientation": "v",
         "showlegend": false,
         "type": "box",
         "x0": " ",
         "xaxis": "x",
         "y": [
          1.39651,
          1.30232,
          1.32548,
          1.459,
          1.32629,
          1.29025,
          1.32944,
          1.33171,
          1.25018,
          1.33358,
          1.22857,
          0.95578,
          1.33723,
          1.02054,
          1.39451,
          0.98124,
          1.56391,
          1.33596,
          1.30782,
          1.42727,
          1.26637,
          1.36011,
          1.04424,
          1.52186,
          1.06353,
          1.32792,
          1.10715,
          1.69042,
          1.27778,
          1.05351,
          1.17898,
          1.06166,
          0.91861,
          0.9669,
          1.39541,
          1.23011,
          1.2074,
          1.29098,
          1.55422,
          0.99534,
          1.21183,
          0.76454,
          0.74553,
          0.63244,
          1.16891,
          1.27074,
          1.24461,
          0.86402,
          1.32376,
          1.25114,
          0.68133,
          0.59448,
          0.75985,
          1.12254,
          1.18498,
          1.14723,
          0.59325,
          0.90019,
          1.03192,
          1.12555,
          1.12486,
          1.08254,
          1.13145,
          1.13764,
          0.81038,
          1.20806,
          1.20813,
          0.93929,
          0.80148,
          0.95847,
          1.00761,
          1.38604,
          1.15174,
          0.82827,
          0.63216,
          1.06098,
          0.47428,
          0.65435,
          0.77042,
          1.02389,
          0.59543,
          0.90198,
          0.97438,
          0.89012,
          0.47038,
          1.04345,
          0.92053,
          1.15991,
          1.11312,
          0.70532,
          0.18847,
          0.73479,
          0.91851,
          0.08308,
          0.87867,
          0.83223,
          0.37545,
          0.89537,
          0.59066,
          0.82819,
          0.71206,
          1.15406,
          1.02564,
          1.12094,
          0.59532,
          0.39047,
          0.88113,
          0.59867,
          0.39753,
          1.0088,
          0.79907,
          0.98549,
          0.92049,
          0.54558,
          0.271,
          0.0712,
          0.64499,
          0.52107,
          0.26673,
          0,
          0.35997,
          0.19073,
          0.33024,
          0.45407,
          0.36471,
          0.44025,
          0.76821,
          0.99355,
          0.27108,
          0.7419,
          0.01604,
          0.83524,
          0.4225,
          1.01216,
          0.8818,
          0.54649,
          0.75778,
          0.26074,
          0.67866,
          0.23906,
          0.21102,
          0.36498,
          1.06024,
          0.0694,
          0.46038,
          0.2852,
          0.20824,
          0.0785,
          0.34193,
          0.17417,
          0.46534,
          0.25812,
          0.31982,
          0.22208,
          0.28665,
          0.6632,
          0.0153,
          0.20868,
          1.44178,
          1.52733,
          1.42666,
          1.57744,
          1.40598,
          1.44015,
          1.46468,
          1.36066,
          1.44443,
          1.45181,
          1.33766,
          1.45038,
          1.50796,
          1.06879,
          1.35943,
          1.44787,
          1.08754,
          1.42539,
          1.48341,
          1.69752,
          1.11508,
          1.64555,
          1.40283,
          1.2167,
          1.18306,
          1.15137,
          1.30915,
          1.57352,
          1.18157,
          1.30782,
          1.03032,
          1.39488,
          1.0893,
          1.48953,
          1.39729,
          1.82427,
          1.34253,
          1.05266,
          0.83454,
          1.09686,
          1.61714,
          1.44024,
          1.32572,
          1.13367,
          1.27973,
          0.8737,
          1.25142,
          0.69384,
          0.73591,
          1.35495,
          0.97306,
          0.87616,
          1.38007,
          1.22943,
          0.69177,
          1.23228,
          1.24585,
          1.35948,
          0.79422,
          1.2692,
          1.13062,
          1.31141,
          1.29947,
          0.99602,
          1.08017,
          1.14372,
          1.06688,
          1.21788,
          1.31857,
          0.89373,
          1.1697,
          1.27964,
          0.89333,
          1.18649,
          1.5107,
          0,
          0.90145,
          1.16492,
          0.95104,
          0.99673,
          1.12373,
          0.81217,
          1.0278,
          0.8527,
          0.56044,
          1.03437,
          0.93383,
          1.07838,
          1.02787,
          0.84058,
          1.24142,
          0.68816,
          1.12268,
          1.27607,
          1.0193,
          0.74037,
          0.25558,
          0.97724,
          1.24886,
          0.48835,
          0.98853,
          0.68042,
          0.75216,
          0.69429,
          1.11758,
          0.61202,
          0.44626,
          0.67024,
          0.9553,
          0.54177,
          0.36485,
          1.07474,
          0.93287,
          0.52497,
          0.29283,
          1.02416,
          0.97318,
          0.74036,
          0.34112,
          0.95395,
          0.86086,
          0.52267,
          0.87287,
          0.63107,
          0.05661,
          0.83792,
          0.77109,
          0.44314,
          1.11306,
          0.61391,
          0.35041,
          0.08709,
          0.63069,
          1.15851,
          0.31292,
          0.34097,
          1.09426,
          0.27509,
          0.55507,
          0.55604,
          0.84731,
          0.1327,
          0.39394,
          0.42214,
          0.31995,
          0.34719,
          0.57939,
          0.27954,
          0.47155,
          0.10706,
          0.22415,
          0.32846,
          0.39499,
          0.38227,
          0.28123,
          0.74719,
          0.06831,
          1.6164631844,
          1.4823830128,
          1.4806330204,
          1.5649795532,
          1.4435719252,
          1.5039446354,
          1.4792044163,
          1.405706048,
          1.494387269,
          1.4844149351,
          1.3753824234,
          1.1097062826,
          1.4870972633,
          1.546259284,
          1.5357066393,
          1.4879233837,
          1.4637807608,
          1.7419435978,
          1.4416339397,
          1.2527846098,
          1.6263433695,
          1.1073532104,
          1.3526823521,
          1.1852954626,
          1.1531838179,
          1.6922776699,
          1.3432798386,
          1.2175596952,
          0.872001946,
          1.233748436,
          1.4309234619,
          1.1278687716,
          1.4336265326,
          1.3843978643,
          1.870765686,
          1.0706223249,
          1.5306235552,
          1.3613559008,
          1.6329524517,
          1.3253935575,
          1.488412261,
          1.2912154198,
          0.7372992039,
          1.0008203983,
          0.9097844958,
          1.2917878628,
          0.7864410877,
          1.3950666189,
          1.2817780972,
          0.907975316,
          1.4169151783,
          1.3145823479,
          1.0918644667,
          1.2607486248,
          1.401678443,
          0.7288706303,
          1.2176839113,
          0.833756566,
          1.130776763,
          1.2845562696,
          1.3469113111,
          1.3412059546,
          1.0352252722,
          1.1893955469,
          1.355938077,
          1.3208793402,
          1.15655756,
          1.1018030643,
          1.198274374,
          0.9325373173,
          1.5516748428,
          0.8576992154,
          1.0693175793,
          0.9910123944,
          1.2860119343,
          0.9255793095,
          1.2225562334,
          0.9514843822,
          1.0811657906,
          0.7268835306,
          0.9955385923,
          1.128431201,
          1.1211290359,
          0.8781145811,
          1.1536017656,
          1.0793738365,
          1.2894874811,
          1.0749875307,
          1.3151752949,
          0.9824094176,
          0.7305731177,
          1.0645779371,
          0.0226431843,
          0.7885475755,
          0.7837562561,
          0.5247136354,
          0.8854163885,
          0.5962200761,
          0.4798201919,
          1.0272358656,
          1.0546987057,
          1.0072658062,
          0.7162492275,
          0.9897018075,
          1.1614590883,
          0.3684209287,
          0.5643053651,
          1.156873107,
          0.9961927533,
          0.5866829753,
          0.9644343257,
          0.5604794621,
          0.23430565,
          0.3671105504,
          0.4793090224,
          0.6364067793,
          1.1027104855,
          1.1982102394,
          0.3392338455,
          1.0098501444,
          0.9005967379,
          0.7922212481,
          0.6484572887,
          0.8089642525,
          0.9506126642,
          0.0921023488,
          0.4761804938,
          0.6030489206,
          0.6017650962,
          0.6595166922,
          0.6672248244,
          0.8946519494,
          0.3814307153,
          0.3502277136,
          0.1619253308,
          0.2334420383,
          0.4380129874,
          0.375846535,
          0.5210212469,
          0.8584281802,
          0.4014772177,
          1.1220941544,
          0.4310854077,
          0.3058086932,
          0.3686102629,
          0.5916834474,
          0.3972486258,
          0.119041793,
          0.2445499301,
          0.3054447174,
          0.3687458932,
          0.7771531343,
          0.5111358762,
          0.0916225687,
          0,
          1.305,
          1.456,
          1.351,
          1.343,
          1.42,
          1.361,
          1.33,
          1.268,
          1.355,
          1.34,
          1.244,
          1.341,
          1.01,
          1.448,
          1.34,
          1.324,
          1.576,
          1.398,
          1.301,
          1.233,
          1.27,
          1.293,
          1.038,
          1.131,
          1.365,
          1.112,
          0.986,
          1.073,
          0.781,
          1.093,
          1.649,
          1.379,
          1.529,
          1.161,
          1.251,
          0.96,
          1.223,
          1.21,
          0.806,
          0.668,
          1.176,
          1.338,
          0.719,
          1.474,
          1.016,
          1.264,
          0.889,
          0.807,
          1.197,
          1.219,
          1.116,
          1.148,
          1.294,
          1.09,
          0.819,
          1.266,
          1.229,
          1.151,
          1.143,
          1.229,
          0.751,
          1.2,
          0.835,
          0.934,
          0.855,
          0.657,
          1.016,
          1.171,
          0.985,
          0.775,
          0.62,
          1.039,
          1.148,
          0.652,
          1.405,
          1.188,
          0.975,
          1.154,
          0.965,
          1.017,
          1.115,
          0.982,
          0.979,
          0.779,
          0.989,
          1.024,
          0.474,
          0.959,
          0.822,
          0.689,
          0.53,
          0.915,
          0.914,
          0.715,
          0.899,
          0.796,
          0,
          0.535,
          1.054,
          0.425,
          0.996,
          1.036,
          0.642,
          0.94,
          1.059,
          0.541,
          0.592,
          0.429,
          0.72,
          0.9,
          0.916,
          0.256,
          0.682,
          0.532,
          0.918,
          1.01,
          0.37,
          0.874,
          0.549,
          0.314,
          0.885,
          0.198,
          0.493,
          0.562,
          0.557,
          0.308,
          0.853,
          0.816,
          0.682,
          0.358,
          0.069,
          0.721,
          0.131,
          0.322,
          0.378,
          0.605,
          0.793,
          0.259,
          0.344,
          0.472,
          0.73,
          0.262,
          0.357,
          0.332,
          1.017,
          0.186,
          0.315,
          0.076,
          0.689,
          0.332,
          0.442,
          0.455,
          0.337,
          0.024,
          0.091,
          1.34,
          1.383,
          1.488,
          1.38,
          1.396,
          1.452,
          1.387,
          1.303,
          1.365,
          1.376,
          1.372,
          1.034,
          1.276,
          1.609,
          1.333,
          1.499,
          1.373,
          1.356,
          1.433,
          1.269,
          1.503,
          1.3,
          1.07,
          1.324,
          1.368,
          1.159,
          0.8,
          1.403,
          1.684,
          1.286,
          1.149,
          1.004,
          1.124,
          1.572,
          0.794,
          1.294,
          1.362,
          1.246,
          1.231,
          1.206,
          0.745,
          1.238,
          0.985,
          1.258,
          0.694,
          0.882,
          1.092,
          1.162,
          1.263,
          0.912,
          1.5,
          1.05,
          1.187,
          1.301,
          1.237,
          0.831,
          1.12,
          1.327,
          0.642,
          1.173,
          0.776,
          1.201,
          0.855,
          1.263,
          0.96,
          1.221,
          0.677,
          1.183,
          0.807,
          1.004,
          0.685,
          1.044,
          1.051,
          0.493,
          1.155,
          1.438,
          1.015,
          0.945,
          1.183,
          1.221,
          1.067,
          1.181,
          0.948,
          0.983,
          0.696,
          0.551,
          1.052,
          1.002,
          0.801,
          1.043,
          0.987,
          0.931,
          1.029,
          0.741,
          0.813,
          0.549,
          1.092,
          0.611,
          0.569,
          0.446,
          0.837,
          0.393,
          0.673,
          1.057,
          0.764,
          0.96,
          0.947,
          0.96,
          0.574,
          0.657,
          0.45,
          0,
          0.879,
          0.138,
          0.331,
          0.85,
          1.1,
          0.38,
          0.886,
          0.308,
          0.512,
          0.57,
          0.204,
          0.921,
          0.562,
          1.043,
          0.094,
          0.385,
          0.268,
          0.949,
          0.71,
          0.35,
          0.82,
          0.336,
          0.811,
          0.332,
          0.913,
          0.578,
          0.275,
          0.755,
          0.073,
          0.274,
          0.274,
          0.489,
          0.046,
          0.366,
          0.323,
          1.041,
          0.619,
          0.191,
          0.287,
          0.359,
          0.476,
          0.35,
          0.026,
          0.306
         ],
         "y0": " ",
         "yaxis": "y"
        }
       ],
       "layout": {
        "boxmode": "group",
        "font": {
         "color": "white"
        },
        "legend": {
         "tracegroupgap": 0
        },
        "paper_bgcolor": "black",
        "plot_bgcolor": "black",
        "template": {
         "data": {
          "bar": [
           {
            "error_x": {
             "color": "#2a3f5f"
            },
            "error_y": {
             "color": "#2a3f5f"
            },
            "marker": {
             "line": {
              "color": "#E5ECF6",
              "width": 0.5
             },
             "pattern": {
              "fillmode": "overlay",
              "size": 10,
              "solidity": 0.2
             }
            },
            "type": "bar"
           }
          ],
          "barpolar": [
           {
            "marker": {
             "line": {
              "color": "#E5ECF6",
              "width": 0.5
             },
             "pattern": {
              "fillmode": "overlay",
              "size": 10,
              "solidity": 0.2
             }
            },
            "type": "barpolar"
           }
          ],
          "carpet": [
           {
            "aaxis": {
             "endlinecolor": "#2a3f5f",
             "gridcolor": "white",
             "linecolor": "white",
             "minorgridcolor": "white",
             "startlinecolor": "#2a3f5f"
            },
            "baxis": {
             "endlinecolor": "#2a3f5f",
             "gridcolor": "white",
             "linecolor": "white",
             "minorgridcolor": "white",
             "startlinecolor": "#2a3f5f"
            },
            "type": "carpet"
           }
          ],
          "choropleth": [
           {
            "colorbar": {
             "outlinewidth": 0,
             "ticks": ""
            },
            "type": "choropleth"
           }
          ],
          "contour": [
           {
            "colorbar": {
             "outlinewidth": 0,
             "ticks": ""
            },
            "colorscale": [
             [
              0,
              "#0d0887"
             ],
             [
              0.1111111111111111,
              "#46039f"
             ],
             [
              0.2222222222222222,
              "#7201a8"
             ],
             [
              0.3333333333333333,
              "#9c179e"
             ],
             [
              0.4444444444444444,
              "#bd3786"
             ],
             [
              0.5555555555555556,
              "#d8576b"
             ],
             [
              0.6666666666666666,
              "#ed7953"
             ],
             [
              0.7777777777777778,
              "#fb9f3a"
             ],
             [
              0.8888888888888888,
              "#fdca26"
             ],
             [
              1,
              "#f0f921"
             ]
            ],
            "type": "contour"
           }
          ],
          "contourcarpet": [
           {
            "colorbar": {
             "outlinewidth": 0,
             "ticks": ""
            },
            "type": "contourcarpet"
           }
          ],
          "heatmap": [
           {
            "colorbar": {
             "outlinewidth": 0,
             "ticks": ""
            },
            "colorscale": [
             [
              0,
              "#0d0887"
             ],
             [
              0.1111111111111111,
              "#46039f"
             ],
             [
              0.2222222222222222,
              "#7201a8"
             ],
             [
              0.3333333333333333,
              "#9c179e"
             ],
             [
              0.4444444444444444,
              "#bd3786"
             ],
             [
              0.5555555555555556,
              "#d8576b"
             ],
             [
              0.6666666666666666,
              "#ed7953"
             ],
             [
              0.7777777777777778,
              "#fb9f3a"
             ],
             [
              0.8888888888888888,
              "#fdca26"
             ],
             [
              1,
              "#f0f921"
             ]
            ],
            "type": "heatmap"
           }
          ],
          "heatmapgl": [
           {
            "colorbar": {
             "outlinewidth": 0,
             "ticks": ""
            },
            "colorscale": [
             [
              0,
              "#0d0887"
             ],
             [
              0.1111111111111111,
              "#46039f"
             ],
             [
              0.2222222222222222,
              "#7201a8"
             ],
             [
              0.3333333333333333,
              "#9c179e"
             ],
             [
              0.4444444444444444,
              "#bd3786"
             ],
             [
              0.5555555555555556,
              "#d8576b"
             ],
             [
              0.6666666666666666,
              "#ed7953"
             ],
             [
              0.7777777777777778,
              "#fb9f3a"
             ],
             [
              0.8888888888888888,
              "#fdca26"
             ],
             [
              1,
              "#f0f921"
             ]
            ],
            "type": "heatmapgl"
           }
          ],
          "histogram": [
           {
            "marker": {
             "pattern": {
              "fillmode": "overlay",
              "size": 10,
              "solidity": 0.2
             }
            },
            "type": "histogram"
           }
          ],
          "histogram2d": [
           {
            "colorbar": {
             "outlinewidth": 0,
             "ticks": ""
            },
            "colorscale": [
             [
              0,
              "#0d0887"
             ],
             [
              0.1111111111111111,
              "#46039f"
             ],
             [
              0.2222222222222222,
              "#7201a8"
             ],
             [
              0.3333333333333333,
              "#9c179e"
             ],
             [
              0.4444444444444444,
              "#bd3786"
             ],
             [
              0.5555555555555556,
              "#d8576b"
             ],
             [
              0.6666666666666666,
              "#ed7953"
             ],
             [
              0.7777777777777778,
              "#fb9f3a"
             ],
             [
              0.8888888888888888,
              "#fdca26"
             ],
             [
              1,
              "#f0f921"
             ]
            ],
            "type": "histogram2d"
           }
          ],
          "histogram2dcontour": [
           {
            "colorbar": {
             "outlinewidth": 0,
             "ticks": ""
            },
            "colorscale": [
             [
              0,
              "#0d0887"
             ],
             [
              0.1111111111111111,
              "#46039f"
             ],
             [
              0.2222222222222222,
              "#7201a8"
             ],
             [
              0.3333333333333333,
              "#9c179e"
             ],
             [
              0.4444444444444444,
              "#bd3786"
             ],
             [
              0.5555555555555556,
              "#d8576b"
             ],
             [
              0.6666666666666666,
              "#ed7953"
             ],
             [
              0.7777777777777778,
              "#fb9f3a"
             ],
             [
              0.8888888888888888,
              "#fdca26"
             ],
             [
              1,
              "#f0f921"
             ]
            ],
            "type": "histogram2dcontour"
           }
          ],
          "mesh3d": [
           {
            "colorbar": {
             "outlinewidth": 0,
             "ticks": ""
            },
            "type": "mesh3d"
           }
          ],
          "parcoords": [
           {
            "line": {
             "colorbar": {
              "outlinewidth": 0,
              "ticks": ""
             }
            },
            "type": "parcoords"
           }
          ],
          "pie": [
           {
            "automargin": true,
            "type": "pie"
           }
          ],
          "scatter": [
           {
            "fillpattern": {
             "fillmode": "overlay",
             "size": 10,
             "solidity": 0.2
            },
            "type": "scatter"
           }
          ],
          "scatter3d": [
           {
            "line": {
             "colorbar": {
              "outlinewidth": 0,
              "ticks": ""
             }
            },
            "marker": {
             "colorbar": {
              "outlinewidth": 0,
              "ticks": ""
             }
            },
            "type": "scatter3d"
           }
          ],
          "scattercarpet": [
           {
            "marker": {
             "colorbar": {
              "outlinewidth": 0,
              "ticks": ""
             }
            },
            "type": "scattercarpet"
           }
          ],
          "scattergeo": [
           {
            "marker": {
             "colorbar": {
              "outlinewidth": 0,
              "ticks": ""
             }
            },
            "type": "scattergeo"
           }
          ],
          "scattergl": [
           {
            "marker": {
             "colorbar": {
              "outlinewidth": 0,
              "ticks": ""
             }
            },
            "type": "scattergl"
           }
          ],
          "scattermapbox": [
           {
            "marker": {
             "colorbar": {
              "outlinewidth": 0,
              "ticks": ""
             }
            },
            "type": "scattermapbox"
           }
          ],
          "scatterpolar": [
           {
            "marker": {
             "colorbar": {
              "outlinewidth": 0,
              "ticks": ""
             }
            },
            "type": "scatterpolar"
           }
          ],
          "scatterpolargl": [
           {
            "marker": {
             "colorbar": {
              "outlinewidth": 0,
              "ticks": ""
             }
            },
            "type": "scatterpolargl"
           }
          ],
          "scatterternary": [
           {
            "marker": {
             "colorbar": {
              "outlinewidth": 0,
              "ticks": ""
             }
            },
            "type": "scatterternary"
           }
          ],
          "surface": [
           {
            "colorbar": {
             "outlinewidth": 0,
             "ticks": ""
            },
            "colorscale": [
             [
              0,
              "#0d0887"
             ],
             [
              0.1111111111111111,
              "#46039f"
             ],
             [
              0.2222222222222222,
              "#7201a8"
             ],
             [
              0.3333333333333333,
              "#9c179e"
             ],
             [
              0.4444444444444444,
              "#bd3786"
             ],
             [
              0.5555555555555556,
              "#d8576b"
             ],
             [
              0.6666666666666666,
              "#ed7953"
             ],
             [
              0.7777777777777778,
              "#fb9f3a"
             ],
             [
              0.8888888888888888,
              "#fdca26"
             ],
             [
              1,
              "#f0f921"
             ]
            ],
            "type": "surface"
           }
          ],
          "table": [
           {
            "cells": {
             "fill": {
              "color": "#EBF0F8"
             },
             "line": {
              "color": "white"
             }
            },
            "header": {
             "fill": {
              "color": "#C8D4E3"
             },
             "line": {
              "color": "white"
             }
            },
            "type": "table"
           }
          ]
         },
         "layout": {
          "annotationdefaults": {
           "arrowcolor": "#2a3f5f",
           "arrowhead": 0,
           "arrowwidth": 1
          },
          "autotypenumbers": "strict",
          "coloraxis": {
           "colorbar": {
            "outlinewidth": 0,
            "ticks": ""
           }
          },
          "colorscale": {
           "diverging": [
            [
             0,
             "#8e0152"
            ],
            [
             0.1,
             "#c51b7d"
            ],
            [
             0.2,
             "#de77ae"
            ],
            [
             0.3,
             "#f1b6da"
            ],
            [
             0.4,
             "#fde0ef"
            ],
            [
             0.5,
             "#f7f7f7"
            ],
            [
             0.6,
             "#e6f5d0"
            ],
            [
             0.7,
             "#b8e186"
            ],
            [
             0.8,
             "#7fbc41"
            ],
            [
             0.9,
             "#4d9221"
            ],
            [
             1,
             "#276419"
            ]
           ],
           "sequential": [
            [
             0,
             "#0d0887"
            ],
            [
             0.1111111111111111,
             "#46039f"
            ],
            [
             0.2222222222222222,
             "#7201a8"
            ],
            [
             0.3333333333333333,
             "#9c179e"
            ],
            [
             0.4444444444444444,
             "#bd3786"
            ],
            [
             0.5555555555555556,
             "#d8576b"
            ],
            [
             0.6666666666666666,
             "#ed7953"
            ],
            [
             0.7777777777777778,
             "#fb9f3a"
            ],
            [
             0.8888888888888888,
             "#fdca26"
            ],
            [
             1,
             "#f0f921"
            ]
           ],
           "sequentialminus": [
            [
             0,
             "#0d0887"
            ],
            [
             0.1111111111111111,
             "#46039f"
            ],
            [
             0.2222222222222222,
             "#7201a8"
            ],
            [
             0.3333333333333333,
             "#9c179e"
            ],
            [
             0.4444444444444444,
             "#bd3786"
            ],
            [
             0.5555555555555556,
             "#d8576b"
            ],
            [
             0.6666666666666666,
             "#ed7953"
            ],
            [
             0.7777777777777778,
             "#fb9f3a"
            ],
            [
             0.8888888888888888,
             "#fdca26"
            ],
            [
             1,
             "#f0f921"
            ]
           ]
          },
          "colorway": [
           "#636efa",
           "#EF553B",
           "#00cc96",
           "#ab63fa",
           "#FFA15A",
           "#19d3f3",
           "#FF6692",
           "#B6E880",
           "#FF97FF",
           "#FECB52"
          ],
          "font": {
           "color": "#2a3f5f"
          },
          "geo": {
           "bgcolor": "white",
           "lakecolor": "white",
           "landcolor": "#E5ECF6",
           "showlakes": true,
           "showland": true,
           "subunitcolor": "white"
          },
          "hoverlabel": {
           "align": "left"
          },
          "hovermode": "closest",
          "mapbox": {
           "style": "light"
          },
          "paper_bgcolor": "white",
          "plot_bgcolor": "#E5ECF6",
          "polar": {
           "angularaxis": {
            "gridcolor": "white",
            "linecolor": "white",
            "ticks": ""
           },
           "bgcolor": "#E5ECF6",
           "radialaxis": {
            "gridcolor": "white",
            "linecolor": "white",
            "ticks": ""
           }
          },
          "scene": {
           "xaxis": {
            "backgroundcolor": "#E5ECF6",
            "gridcolor": "white",
            "gridwidth": 2,
            "linecolor": "white",
            "showbackground": true,
            "ticks": "",
            "zerolinecolor": "white"
           },
           "yaxis": {
            "backgroundcolor": "#E5ECF6",
            "gridcolor": "white",
            "gridwidth": 2,
            "linecolor": "white",
            "showbackground": true,
            "ticks": "",
            "zerolinecolor": "white"
           },
           "zaxis": {
            "backgroundcolor": "#E5ECF6",
            "gridcolor": "white",
            "gridwidth": 2,
            "linecolor": "white",
            "showbackground": true,
            "ticks": "",
            "zerolinecolor": "white"
           }
          },
          "shapedefaults": {
           "line": {
            "color": "#2a3f5f"
           }
          },
          "ternary": {
           "aaxis": {
            "gridcolor": "white",
            "linecolor": "white",
            "ticks": ""
           },
           "baxis": {
            "gridcolor": "white",
            "linecolor": "white",
            "ticks": ""
           },
           "bgcolor": "#E5ECF6",
           "caxis": {
            "gridcolor": "white",
            "linecolor": "white",
            "ticks": ""
           }
          },
          "title": {
           "x": 0.05
          },
          "xaxis": {
           "automargin": true,
           "gridcolor": "white",
           "linecolor": "white",
           "ticks": "",
           "title": {
            "standoff": 15
           },
           "zerolinecolor": "white",
           "zerolinewidth": 2
          },
          "yaxis": {
           "automargin": true,
           "gridcolor": "white",
           "linecolor": "white",
           "ticks": "",
           "title": {
            "standoff": 15
           },
           "zerolinecolor": "white",
           "zerolinewidth": 2
          }
         }
        },
        "title": {
         "text": "Outliers in economy_per_capita"
        },
        "xaxis": {
         "anchor": "y",
         "domain": [
          0,
          1
         ]
        },
        "yaxis": {
         "anchor": "x",
         "domain": [
          0,
          1
         ],
         "title": {
          "text": "economy_per_capita"
         }
        }
       }
      }
     },
     "metadata": {},
     "output_type": "display_data"
    },
    {
     "data": {
      "application/vnd.plotly.v1+json": {
       "config": {
        "plotlyServerURL": "https://plot.ly"
       },
       "data": [
        {
         "alignmentgroup": "True",
         "hovertemplate": "family=%{y}<extra></extra>",
         "legendgroup": "",
         "marker": {
          "color": "#636efa"
         },
         "name": "",
         "notched": false,
         "offsetgroup": "",
         "orientation": "v",
         "showlegend": false,
         "type": "box",
         "x0": " ",
         "xaxis": "x",
         "y": [
          1.34951,
          1.40223,
          1.36058,
          1.33095,
          1.32261,
          1.31826,
          1.28017,
          1.28907,
          1.31967,
          1.30923,
          1.22393,
          1.23788,
          1.29704,
          0.91451,
          1.24711,
          1.23287,
          1.21963,
          1.36948,
          1.28566,
          1.12575,
          1.28548,
          1.08182,
          1.25596,
          1.02,
          1.1985,
          1.29937,
          1.12447,
          1.0786,
          1.26038,
          1.24823,
          1.20643,
          1.2089,
          1.24018,
          1.26504,
          1.08393,
          1.31379,
          1.30203,
          1.07617,
          1.16594,
          0.972,
          1.18354,
          1.02507,
          1.04356,
          1.34043,
          1.26999,
          1.25712,
          0.95774,
          0.99903,
          1.21624,
          1.19777,
          0.97841,
          1.01528,
          1.30477,
          1.12241,
          1.27385,
          1.25745,
          1.14184,
          0.97459,
          1.23289,
          1.27948,
          1.07023,
          0.79624,
          1.11862,
          1.23617,
          1.15102,
          1.07008,
          0.89318,
          1.07772,
          0.81198,
          1.22668,
          0.98521,
          1.05818,
          1.22791,
          1.08708,
          0.91226,
          0.94632,
          1.15115,
          0.90432,
          1.10395,
          0.93793,
          0.41411,
          1.05392,
          0.90557,
          0.94675,
          0.91612,
          0.88588,
          1.00964,
          1.13935,
          1.09562,
          1.03516,
          0.95152,
          0.64095,
          1.00232,
          1.02626,
          0.80434,
          0.91916,
          1.04103,
          1.17202,
          0.73803,
          1.3006,
          1.07284,
          0.92933,
          0.80001,
          1.20215,
          0.95348,
          0.85563,
          0.60429,
          0.92558,
          0.43106,
          0.54447,
          1.20278,
          0.81889,
          1.18468,
          0.67954,
          1.03276,
          0.78968,
          0.38174,
          1.01404,
          0.74302,
          1.0012,
          0.86449,
          0.60406,
          0.95571,
          0.86908,
          0.99876,
          0.59207,
          0.77711,
          1.10464,
          0.70905,
          0.38562,
          0.41134,
          1.01905,
          0.88767,
          1.10614,
          0.747,
          0.68093,
          0.8604,
          1.03526,
          0.6629,
          0.79273,
          1.13299,
          0.97619,
          0.90528,
          0.77265,
          0.62736,
          1.00268,
          0.66801,
          0,
          0.76062,
          0.46475,
          0.77115,
          0.85188,
          0.30285,
          0.7737,
          0.35386,
          0.47489,
          0.41587,
          0.13995,
          1.16374,
          1.14524,
          1.18326,
          1.1269,
          1.13464,
          1.0961,
          1.02912,
          1.17278,
          1.10476,
          1.08764,
          0.99537,
          1.08383,
          1.04782,
          1.02152,
          1.08113,
          1.09774,
          1.03938,
          1.05249,
          1.16157,
          1.03999,
          0.7146,
          0.86758,
          1.08672,
          0.90587,
          0.98912,
          1.06612,
          1.00793,
          0.87114,
          1.03143,
          1.09879,
          1.02169,
          1.00508,
          1.04477,
          0.84829,
          0.92624,
          0.87964,
          1.12945,
          0.83309,
          0.87119,
          0.77866,
          0.87758,
          0.94397,
          0.98569,
          1.03302,
          1.08268,
          0.80975,
          0.88025,
          0.89521,
          1.1681,
          1.04167,
          0.85974,
          0.68655,
          1.06054,
          0.95544,
          0.83132,
          1.05261,
          1.04685,
          0.72194,
          0.83779,
          1.06411,
          1.04993,
          0.81826,
          1.05613,
          0.81255,
          1.03817,
          0.75695,
          0.95076,
          0.95025,
          0.70697,
          1.11111,
          0.72803,
          1.05163,
          0.96372,
          0.60809,
          0.87021,
          0.33613,
          0.66062,
          0.87717,
          0.87625,
          0.86216,
          0.76042,
          0.87877,
          0.79381,
          0.90836,
          0.95434,
          0.81329,
          0.64367,
          0.74173,
          0.99496,
          0.38595,
          0.93164,
          0.26135,
          0.64184,
          0.94367,
          0.78236,
          0.79117,
          0.75862,
          0.43165,
          0.75473,
          0.75602,
          1.08983,
          0.5497,
          0.64498,
          0.75596,
          0.38857,
          0.6376,
          0.69699,
          0.71629,
          0.50163,
          0.24749,
          0.628,
          0.59205,
          0.70362,
          0.62542,
          0.37932,
          0.96053,
          0.84783,
          0.29247,
          0.69981,
          0.49813,
          0.62477,
          0.7624,
          1.01413,
          0.49353,
          0.80676,
          0.19249,
          0.47799,
          0.77416,
          0.92542,
          0.84142,
          0.71478,
          0.147,
          0.81928,
          0.72368,
          0.86333,
          0.29561,
          0.89186,
          0.60323,
          0.57576,
          0.5375,
          0.66366,
          0.6053,
          0.18519,
          0.63178,
          0.63054,
          0.90981,
          0.47493,
          0.46115,
          0.77623,
          0.50353,
          0.3109,
          0.61586,
          0.10419,
          0.11037,
          0,
          0.14866,
          0.23442,
          1.5335235596,
          1.5511215925,
          1.610574007,
          1.5169117451,
          1.5402467251,
          1.4289392233,
          1.4813489914,
          1.5481951237,
          1.4781621695,
          1.5100419521,
          1.3762899637,
          1.4164036512,
          1.4599449635,
          1.4199205637,
          1.5582311153,
          1.4725203514,
          1.4623126984,
          1.4575836658,
          1.4964600801,
          1.2840249538,
          1.2664102316,
          1.4313060045,
          1.4338852167,
          1.4404511452,
          1.2108621597,
          1.3538143635,
          1.488411665,
          1.412227869,
          1.2555851936,
          1.3731925488,
          1.3877768517,
          1.4257924557,
          1.3845653534,
          1.5320909023,
          1.2742968798,
          1.4021829367,
          1.286677599,
          1.3802285194,
          1.2596987486,
          1.5050592422,
          1.3231104612,
          1.2846460342,
          1.2872157097,
          1.2861688137,
          1.1821250916,
          1.4457119703,
          1.5489691496,
          1.4449232817,
          1.4692823887,
          1.081417799,
          1.4363378286,
          1.4735161066,
          1.1462174654,
          1.404714942,
          1.1282744408,
          1.2518255711,
          1.1500912905,
          1.2276190519,
          1.4931491613,
          1.3843690157,
          1.1863033772,
          1.4525188208,
          1.2187703848,
          1.2095609903,
          1.1313632727,
          1.4766710997,
          1.4449452162,
          1.3575643301,
          1.3377531767,
          1.5072848797,
          1.2627909184,
          1.2539175749,
          1.2581897974,
          1.2390888929,
          1.3431330919,
          1.3682180643,
          0.9679830074,
          1.1378535032,
          1.1608374119,
          0.6726906896,
          1.2744446993,
          1.431337595,
          1.2383764982,
          0.7748644352,
          1.1524002552,
          1.4024167061,
          1.2394145727,
          1.1296242476,
          1.3670430183,
          1.0693359375,
          1.1439449787,
          1.207893014,
          0.7211513519,
          1.2774913311,
          1.215770483,
          1.271463275,
          1.3401265144,
          1.3942385912,
          1.1792832613,
          1.4930112362,
          1.3847886324,
          0.8683514595,
          1.1556471586,
          0.9974713922,
          1.4343794584,
          0.984136045,
          0.946018219,
          0.711551249,
          0.8036852479,
          0.7351317406,
          1.0984708071,
          1.0679507256,
          0.870701015,
          1.1232359409,
          1.1796919107,
          1.0031872988,
          0.9786131978,
          1.1556202173,
          0.8646692038,
          1.259976387,
          1.0074837208,
          0.7543725967,
          1.2720308304,
          0.832044363,
          0.570614934,
          1.2290234566,
          1.2814733982,
          0.9047800303,
          1.0062383413,
          1.2140085697,
          0.8736647367,
          1.3945375681,
          1.1298277378,
          1.0432800055,
          0.9930250049,
          0.5125688314,
          0.9538558722,
          1.0830959082,
          1.1900951862,
          1.1044119596,
          0.5815433264,
          1.2215549946,
          0.4352998435,
          0.9130203724,
          0.6404498219,
          0.935382247,
          0.6013231277,
          0.8721179366,
          0.7912446856,
          0.4318825305,
          0.9457070231,
          0.3961026073,
          1.0419898033,
          0.6297935843,
          0,
          1.592,
          1.582,
          1.59,
          1.644,
          1.549,
          1.488,
          1.532,
          1.601,
          1.501,
          1.573,
          1.433,
          1.504,
          1.459,
          1.583,
          1.474,
          1.483,
          1.52,
          1.471,
          1.559,
          1.489,
          1.525,
          1.466,
          1.252,
          1.331,
          1.436,
          1.438,
          1.474,
          1.468,
          1.268,
          1.459,
          1.303,
          1.331,
          1.451,
          1.258,
          1.538,
          1.439,
          1.492,
          1.537,
          1.231,
          1.319,
          1.448,
          1.366,
          1.584,
          1.301,
          1.417,
          1.501,
          1.33,
          1.101,
          1.527,
          1.506,
          1.219,
          1.454,
          1.462,
          1.387,
          1.493,
          1.204,
          1.211,
          1.479,
          1.516,
          1.191,
          1.223,
          1.532,
          1.522,
          1.249,
          1.23,
          1.301,
          1.533,
          1.401,
          1.35,
          1.312,
          1.205,
          1.498,
          1.38,
          0.81,
          1.29,
          1.429,
          1.369,
          1.202,
          1.179,
          1.279,
          1.161,
          1.441,
          1.154,
          0.797,
          1.142,
          1.161,
          1.166,
          1.239,
          1.265,
          1.172,
          1.416,
          1.078,
          1.517,
          1.365,
          1.215,
          1.335,
          0.712,
          0.891,
          1.515,
          1.228,
          1.469,
          1.164,
          1.217,
          1.41,
          0.771,
          0.872,
          0.896,
          1.117,
          1.034,
          0.906,
          0.817,
          0.813,
          0.811,
          0.85,
          1.314,
          0.971,
          1.233,
          1.281,
          1.088,
          1.097,
          1.025,
          0.902,
          1.048,
          1.047,
          1.245,
          0.95,
          0.592,
          0.99,
          1.174,
          0.907,
          1.136,
          0.747,
          0.867,
          1.09,
          0.372,
          1.24,
          1.413,
          0.474,
          0.792,
          1.215,
          1.125,
          0.908,
          1.094,
          0.537,
          1.174,
          0.541,
          0.714,
          0.858,
          0.382,
          0.896,
          1.073,
          0.991,
          0.608,
          0,
          0.627,
          1.587,
          1.573,
          1.582,
          1.624,
          1.522,
          1.526,
          1.487,
          1.557,
          1.505,
          1.475,
          1.548,
          1.441,
          1.455,
          1.479,
          1.538,
          1.553,
          1.454,
          1.504,
          1.457,
          1.487,
          1.31,
          1.52,
          1.323,
          1.472,
          1.43,
          1.369,
          1.269,
          1.357,
          1.313,
          1.484,
          1.442,
          1.439,
          1.465,
          1.463,
          1.242,
          1.488,
          1.368,
          1.504,
          1.477,
          1.438,
          1.529,
          1.515,
          1.41,
          1.523,
          1.325,
          1.232,
          1.432,
          1.232,
          1.223,
          1.312,
          1.319,
          1.409,
          1.465,
          1.219,
          1.528,
          1.478,
          1.402,
          1.419,
          1.236,
          1.508,
          1.209,
          1.41,
          1.475,
          1.252,
          1.274,
          1.431,
          0.886,
          1.452,
          1.293,
          1.383,
          1.328,
          1.303,
          1.361,
          1.098,
          1.266,
          1.277,
          1.401,
          1.212,
          1.36,
          1.171,
          1.465,
          1.156,
          1.531,
          1.294,
          1.111,
          1.438,
          1.538,
          1.16,
          0.782,
          1.147,
          1.224,
          1.203,
          1.125,
          1.346,
          1.321,
          0.91,
          1.513,
          0.868,
          0.808,
          1.226,
          1.225,
          0.437,
          0.799,
          1.183,
          1.03,
          1.351,
          0.848,
          1.427,
          1.122,
          1.247,
          1.134,
          0.698,
          1.313,
          0.774,
          1.056,
          1.055,
          0.842,
          0.829,
          0.666,
          0.939,
          0.983,
          1.167,
          0.986,
          1,
          0.928,
          0.98,
          1.125,
          1.105,
          0.841,
          1.265,
          1.181,
          0.766,
          1.39,
          1.033,
          1.149,
          1.069,
          1.039,
          1.058,
          0.572,
          0.765,
          0.922,
          0.757,
          0.916,
          1.169,
          0.447,
          1.114,
          0.688,
          1.145,
          0.378,
          0.56,
          1.163,
          0.711,
          0.885,
          0.517,
          0,
          0.575
         ],
         "y0": " ",
         "yaxis": "y"
        }
       ],
       "layout": {
        "boxmode": "group",
        "font": {
         "color": "white"
        },
        "legend": {
         "tracegroupgap": 0
        },
        "paper_bgcolor": "black",
        "plot_bgcolor": "black",
        "template": {
         "data": {
          "bar": [
           {
            "error_x": {
             "color": "#2a3f5f"
            },
            "error_y": {
             "color": "#2a3f5f"
            },
            "marker": {
             "line": {
              "color": "#E5ECF6",
              "width": 0.5
             },
             "pattern": {
              "fillmode": "overlay",
              "size": 10,
              "solidity": 0.2
             }
            },
            "type": "bar"
           }
          ],
          "barpolar": [
           {
            "marker": {
             "line": {
              "color": "#E5ECF6",
              "width": 0.5
             },
             "pattern": {
              "fillmode": "overlay",
              "size": 10,
              "solidity": 0.2
             }
            },
            "type": "barpolar"
           }
          ],
          "carpet": [
           {
            "aaxis": {
             "endlinecolor": "#2a3f5f",
             "gridcolor": "white",
             "linecolor": "white",
             "minorgridcolor": "white",
             "startlinecolor": "#2a3f5f"
            },
            "baxis": {
             "endlinecolor": "#2a3f5f",
             "gridcolor": "white",
             "linecolor": "white",
             "minorgridcolor": "white",
             "startlinecolor": "#2a3f5f"
            },
            "type": "carpet"
           }
          ],
          "choropleth": [
           {
            "colorbar": {
             "outlinewidth": 0,
             "ticks": ""
            },
            "type": "choropleth"
           }
          ],
          "contour": [
           {
            "colorbar": {
             "outlinewidth": 0,
             "ticks": ""
            },
            "colorscale": [
             [
              0,
              "#0d0887"
             ],
             [
              0.1111111111111111,
              "#46039f"
             ],
             [
              0.2222222222222222,
              "#7201a8"
             ],
             [
              0.3333333333333333,
              "#9c179e"
             ],
             [
              0.4444444444444444,
              "#bd3786"
             ],
             [
              0.5555555555555556,
              "#d8576b"
             ],
             [
              0.6666666666666666,
              "#ed7953"
             ],
             [
              0.7777777777777778,
              "#fb9f3a"
             ],
             [
              0.8888888888888888,
              "#fdca26"
             ],
             [
              1,
              "#f0f921"
             ]
            ],
            "type": "contour"
           }
          ],
          "contourcarpet": [
           {
            "colorbar": {
             "outlinewidth": 0,
             "ticks": ""
            },
            "type": "contourcarpet"
           }
          ],
          "heatmap": [
           {
            "colorbar": {
             "outlinewidth": 0,
             "ticks": ""
            },
            "colorscale": [
             [
              0,
              "#0d0887"
             ],
             [
              0.1111111111111111,
              "#46039f"
             ],
             [
              0.2222222222222222,
              "#7201a8"
             ],
             [
              0.3333333333333333,
              "#9c179e"
             ],
             [
              0.4444444444444444,
              "#bd3786"
             ],
             [
              0.5555555555555556,
              "#d8576b"
             ],
             [
              0.6666666666666666,
              "#ed7953"
             ],
             [
              0.7777777777777778,
              "#fb9f3a"
             ],
             [
              0.8888888888888888,
              "#fdca26"
             ],
             [
              1,
              "#f0f921"
             ]
            ],
            "type": "heatmap"
           }
          ],
          "heatmapgl": [
           {
            "colorbar": {
             "outlinewidth": 0,
             "ticks": ""
            },
            "colorscale": [
             [
              0,
              "#0d0887"
             ],
             [
              0.1111111111111111,
              "#46039f"
             ],
             [
              0.2222222222222222,
              "#7201a8"
             ],
             [
              0.3333333333333333,
              "#9c179e"
             ],
             [
              0.4444444444444444,
              "#bd3786"
             ],
             [
              0.5555555555555556,
              "#d8576b"
             ],
             [
              0.6666666666666666,
              "#ed7953"
             ],
             [
              0.7777777777777778,
              "#fb9f3a"
             ],
             [
              0.8888888888888888,
              "#fdca26"
             ],
             [
              1,
              "#f0f921"
             ]
            ],
            "type": "heatmapgl"
           }
          ],
          "histogram": [
           {
            "marker": {
             "pattern": {
              "fillmode": "overlay",
              "size": 10,
              "solidity": 0.2
             }
            },
            "type": "histogram"
           }
          ],
          "histogram2d": [
           {
            "colorbar": {
             "outlinewidth": 0,
             "ticks": ""
            },
            "colorscale": [
             [
              0,
              "#0d0887"
             ],
             [
              0.1111111111111111,
              "#46039f"
             ],
             [
              0.2222222222222222,
              "#7201a8"
             ],
             [
              0.3333333333333333,
              "#9c179e"
             ],
             [
              0.4444444444444444,
              "#bd3786"
             ],
             [
              0.5555555555555556,
              "#d8576b"
             ],
             [
              0.6666666666666666,
              "#ed7953"
             ],
             [
              0.7777777777777778,
              "#fb9f3a"
             ],
             [
              0.8888888888888888,
              "#fdca26"
             ],
             [
              1,
              "#f0f921"
             ]
            ],
            "type": "histogram2d"
           }
          ],
          "histogram2dcontour": [
           {
            "colorbar": {
             "outlinewidth": 0,
             "ticks": ""
            },
            "colorscale": [
             [
              0,
              "#0d0887"
             ],
             [
              0.1111111111111111,
              "#46039f"
             ],
             [
              0.2222222222222222,
              "#7201a8"
             ],
             [
              0.3333333333333333,
              "#9c179e"
             ],
             [
              0.4444444444444444,
              "#bd3786"
             ],
             [
              0.5555555555555556,
              "#d8576b"
             ],
             [
              0.6666666666666666,
              "#ed7953"
             ],
             [
              0.7777777777777778,
              "#fb9f3a"
             ],
             [
              0.8888888888888888,
              "#fdca26"
             ],
             [
              1,
              "#f0f921"
             ]
            ],
            "type": "histogram2dcontour"
           }
          ],
          "mesh3d": [
           {
            "colorbar": {
             "outlinewidth": 0,
             "ticks": ""
            },
            "type": "mesh3d"
           }
          ],
          "parcoords": [
           {
            "line": {
             "colorbar": {
              "outlinewidth": 0,
              "ticks": ""
             }
            },
            "type": "parcoords"
           }
          ],
          "pie": [
           {
            "automargin": true,
            "type": "pie"
           }
          ],
          "scatter": [
           {
            "fillpattern": {
             "fillmode": "overlay",
             "size": 10,
             "solidity": 0.2
            },
            "type": "scatter"
           }
          ],
          "scatter3d": [
           {
            "line": {
             "colorbar": {
              "outlinewidth": 0,
              "ticks": ""
             }
            },
            "marker": {
             "colorbar": {
              "outlinewidth": 0,
              "ticks": ""
             }
            },
            "type": "scatter3d"
           }
          ],
          "scattercarpet": [
           {
            "marker": {
             "colorbar": {
              "outlinewidth": 0,
              "ticks": ""
             }
            },
            "type": "scattercarpet"
           }
          ],
          "scattergeo": [
           {
            "marker": {
             "colorbar": {
              "outlinewidth": 0,
              "ticks": ""
             }
            },
            "type": "scattergeo"
           }
          ],
          "scattergl": [
           {
            "marker": {
             "colorbar": {
              "outlinewidth": 0,
              "ticks": ""
             }
            },
            "type": "scattergl"
           }
          ],
          "scattermapbox": [
           {
            "marker": {
             "colorbar": {
              "outlinewidth": 0,
              "ticks": ""
             }
            },
            "type": "scattermapbox"
           }
          ],
          "scatterpolar": [
           {
            "marker": {
             "colorbar": {
              "outlinewidth": 0,
              "ticks": ""
             }
            },
            "type": "scatterpolar"
           }
          ],
          "scatterpolargl": [
           {
            "marker": {
             "colorbar": {
              "outlinewidth": 0,
              "ticks": ""
             }
            },
            "type": "scatterpolargl"
           }
          ],
          "scatterternary": [
           {
            "marker": {
             "colorbar": {
              "outlinewidth": 0,
              "ticks": ""
             }
            },
            "type": "scatterternary"
           }
          ],
          "surface": [
           {
            "colorbar": {
             "outlinewidth": 0,
             "ticks": ""
            },
            "colorscale": [
             [
              0,
              "#0d0887"
             ],
             [
              0.1111111111111111,
              "#46039f"
             ],
             [
              0.2222222222222222,
              "#7201a8"
             ],
             [
              0.3333333333333333,
              "#9c179e"
             ],
             [
              0.4444444444444444,
              "#bd3786"
             ],
             [
              0.5555555555555556,
              "#d8576b"
             ],
             [
              0.6666666666666666,
              "#ed7953"
             ],
             [
              0.7777777777777778,
              "#fb9f3a"
             ],
             [
              0.8888888888888888,
              "#fdca26"
             ],
             [
              1,
              "#f0f921"
             ]
            ],
            "type": "surface"
           }
          ],
          "table": [
           {
            "cells": {
             "fill": {
              "color": "#EBF0F8"
             },
             "line": {
              "color": "white"
             }
            },
            "header": {
             "fill": {
              "color": "#C8D4E3"
             },
             "line": {
              "color": "white"
             }
            },
            "type": "table"
           }
          ]
         },
         "layout": {
          "annotationdefaults": {
           "arrowcolor": "#2a3f5f",
           "arrowhead": 0,
           "arrowwidth": 1
          },
          "autotypenumbers": "strict",
          "coloraxis": {
           "colorbar": {
            "outlinewidth": 0,
            "ticks": ""
           }
          },
          "colorscale": {
           "diverging": [
            [
             0,
             "#8e0152"
            ],
            [
             0.1,
             "#c51b7d"
            ],
            [
             0.2,
             "#de77ae"
            ],
            [
             0.3,
             "#f1b6da"
            ],
            [
             0.4,
             "#fde0ef"
            ],
            [
             0.5,
             "#f7f7f7"
            ],
            [
             0.6,
             "#e6f5d0"
            ],
            [
             0.7,
             "#b8e186"
            ],
            [
             0.8,
             "#7fbc41"
            ],
            [
             0.9,
             "#4d9221"
            ],
            [
             1,
             "#276419"
            ]
           ],
           "sequential": [
            [
             0,
             "#0d0887"
            ],
            [
             0.1111111111111111,
             "#46039f"
            ],
            [
             0.2222222222222222,
             "#7201a8"
            ],
            [
             0.3333333333333333,
             "#9c179e"
            ],
            [
             0.4444444444444444,
             "#bd3786"
            ],
            [
             0.5555555555555556,
             "#d8576b"
            ],
            [
             0.6666666666666666,
             "#ed7953"
            ],
            [
             0.7777777777777778,
             "#fb9f3a"
            ],
            [
             0.8888888888888888,
             "#fdca26"
            ],
            [
             1,
             "#f0f921"
            ]
           ],
           "sequentialminus": [
            [
             0,
             "#0d0887"
            ],
            [
             0.1111111111111111,
             "#46039f"
            ],
            [
             0.2222222222222222,
             "#7201a8"
            ],
            [
             0.3333333333333333,
             "#9c179e"
            ],
            [
             0.4444444444444444,
             "#bd3786"
            ],
            [
             0.5555555555555556,
             "#d8576b"
            ],
            [
             0.6666666666666666,
             "#ed7953"
            ],
            [
             0.7777777777777778,
             "#fb9f3a"
            ],
            [
             0.8888888888888888,
             "#fdca26"
            ],
            [
             1,
             "#f0f921"
            ]
           ]
          },
          "colorway": [
           "#636efa",
           "#EF553B",
           "#00cc96",
           "#ab63fa",
           "#FFA15A",
           "#19d3f3",
           "#FF6692",
           "#B6E880",
           "#FF97FF",
           "#FECB52"
          ],
          "font": {
           "color": "#2a3f5f"
          },
          "geo": {
           "bgcolor": "white",
           "lakecolor": "white",
           "landcolor": "#E5ECF6",
           "showlakes": true,
           "showland": true,
           "subunitcolor": "white"
          },
          "hoverlabel": {
           "align": "left"
          },
          "hovermode": "closest",
          "mapbox": {
           "style": "light"
          },
          "paper_bgcolor": "white",
          "plot_bgcolor": "#E5ECF6",
          "polar": {
           "angularaxis": {
            "gridcolor": "white",
            "linecolor": "white",
            "ticks": ""
           },
           "bgcolor": "#E5ECF6",
           "radialaxis": {
            "gridcolor": "white",
            "linecolor": "white",
            "ticks": ""
           }
          },
          "scene": {
           "xaxis": {
            "backgroundcolor": "#E5ECF6",
            "gridcolor": "white",
            "gridwidth": 2,
            "linecolor": "white",
            "showbackground": true,
            "ticks": "",
            "zerolinecolor": "white"
           },
           "yaxis": {
            "backgroundcolor": "#E5ECF6",
            "gridcolor": "white",
            "gridwidth": 2,
            "linecolor": "white",
            "showbackground": true,
            "ticks": "",
            "zerolinecolor": "white"
           },
           "zaxis": {
            "backgroundcolor": "#E5ECF6",
            "gridcolor": "white",
            "gridwidth": 2,
            "linecolor": "white",
            "showbackground": true,
            "ticks": "",
            "zerolinecolor": "white"
           }
          },
          "shapedefaults": {
           "line": {
            "color": "#2a3f5f"
           }
          },
          "ternary": {
           "aaxis": {
            "gridcolor": "white",
            "linecolor": "white",
            "ticks": ""
           },
           "baxis": {
            "gridcolor": "white",
            "linecolor": "white",
            "ticks": ""
           },
           "bgcolor": "#E5ECF6",
           "caxis": {
            "gridcolor": "white",
            "linecolor": "white",
            "ticks": ""
           }
          },
          "title": {
           "x": 0.05
          },
          "xaxis": {
           "automargin": true,
           "gridcolor": "white",
           "linecolor": "white",
           "ticks": "",
           "title": {
            "standoff": 15
           },
           "zerolinecolor": "white",
           "zerolinewidth": 2
          },
          "yaxis": {
           "automargin": true,
           "gridcolor": "white",
           "linecolor": "white",
           "ticks": "",
           "title": {
            "standoff": 15
           },
           "zerolinecolor": "white",
           "zerolinewidth": 2
          }
         }
        },
        "title": {
         "text": "Outliers in family"
        },
        "xaxis": {
         "anchor": "y",
         "domain": [
          0,
          1
         ]
        },
        "yaxis": {
         "anchor": "x",
         "domain": [
          0,
          1
         ],
         "title": {
          "text": "family"
         }
        }
       }
      }
     },
     "metadata": {},
     "output_type": "display_data"
    },
    {
     "data": {
      "application/vnd.plotly.v1+json": {
       "config": {
        "plotlyServerURL": "https://plot.ly"
       },
       "data": [
        {
         "alignmentgroup": "True",
         "hovertemplate": "life_expectancy=%{y}<extra></extra>",
         "legendgroup": "",
         "marker": {
          "color": "#636efa"
         },
         "name": "",
         "notched": false,
         "offsetgroup": "",
         "orientation": "v",
         "showlegend": false,
         "type": "box",
         "x0": " ",
         "xaxis": "x",
         "y": [
          0.94143,
          0.94784,
          0.87464,
          0.88521,
          0.90563,
          0.88911,
          0.89284,
          0.91087,
          0.90837,
          0.93156,
          0.91387,
          0.86027,
          0.89042,
          0.81444,
          0.86179,
          0.69702,
          0.91894,
          0.89533,
          0.89667,
          0.80925,
          0.90943,
          0.76276,
          0.72052,
          1.02525,
          0.79661,
          0.89186,
          0.85857,
          0.79733,
          0.94579,
          0.78723,
          0.84483,
          0.8116,
          0.69077,
          0.7385,
          0.72025,
          0.95562,
          0.88721,
          0.8753,
          0.72492,
          0.6082,
          0.61483,
          0.67737,
          0.64425,
          0.59772,
          0.78902,
          0.99111,
          0.96538,
          0.79075,
          0.74716,
          0.95446,
          0.5392,
          0.61826,
          0.66098,
          0.64368,
          0.87337,
          0.73128,
          0.74314,
          0.73017,
          0.73608,
          0.77903,
          0.72394,
          0.78805,
          0.7038,
          0.66926,
          0.68741,
          0.92356,
          0.92356,
          0.61766,
          0.63132,
          0.53886,
          0.7095,
          1.01328,
          0.77361,
          0.63793,
          0.74676,
          0.73172,
          0.65088,
          0.16007,
          0.57407,
          0.64045,
          0.51466,
          0.69639,
          0.72521,
          0.81658,
          0.29924,
          0.7689,
          0.74836,
          0.87519,
          0.72437,
          0.58114,
          0.43873,
          0.60954,
          0.73545,
          0.09131,
          0.81325,
          0.79081,
          0.07612,
          0.66825,
          0.54909,
          0.60268,
          0.07566,
          0.88213,
          0.83947,
          0.75905,
          0.6951,
          0.57379,
          0.73793,
          0.66015,
          0.60164,
          0.69805,
          0.6739,
          0.60237,
          0.27688,
          0.40132,
          0.33475,
          0.34201,
          0.51529,
          0.36878,
          0.38847,
          0.09806,
          0.56874,
          0.44055,
          0,
          0.35874,
          0.41435,
          0.36291,
          0.7299,
          0.04776,
          0.48246,
          0.72926,
          0.22562,
          0.70806,
          0.23402,
          0.76649,
          0.61712,
          0.40064,
          0.16683,
          0.20583,
          0.31051,
          0.36315,
          0.33861,
          0.4354,
          0.43372,
          0.29707,
          0.61114,
          0.38215,
          0.46721,
          0.06699,
          0.1501,
          0.24009,
          0.15185,
          0.27125,
          0.30335,
          0.42864,
          0.3191,
          0.72193,
          0.22396,
          0.28443,
          0.79504,
          0.86303,
          0.86733,
          0.79579,
          0.81091,
          0.8276,
          0.81231,
          0.83096,
          0.8512,
          0.83121,
          0.84917,
          0.80565,
          0.779,
          0.76146,
          0.77758,
          0.81487,
          0.61415,
          0.81959,
          0.81455,
          0.84542,
          0.71143,
          0.94719,
          0.80991,
          0.81883,
          0.70835,
          0.69711,
          0.76376,
          0.72993,
          0.72183,
          0.80315,
          0.59659,
          0.83795,
          0.64915,
          0.59267,
          0.79565,
          0.71723,
          0.87896,
          0.61804,
          0.54039,
          0.50933,
          0.63569,
          0.65696,
          0.52608,
          0.61904,
          0.70367,
          0.596,
          0.62366,
          0.65213,
          0.50163,
          0.85102,
          0.68613,
          0.45569,
          0.91491,
          0.57386,
          0.52309,
          0.58991,
          0.69058,
          0.88645,
          0.4697,
          0.64674,
          0.63104,
          0.84142,
          0.79151,
          0.62994,
          0.44006,
          0.66189,
          0.52304,
          0.63952,
          0.8488,
          0.58295,
          0.67602,
          0.68098,
          0.59469,
          0.70524,
          0.95277,
          0.11466,
          0.54,
          0.64718,
          0.49374,
          0.60712,
          0.54504,
          0.47036,
          0.73561,
          0.49759,
          0.55449,
          0.6458,
          0.70766,
          0.63533,
          0.57669,
          0.59471,
          0.67608,
          0.40306,
          0.76171,
          0.79363,
          0.64738,
          0.66157,
          0.33108,
          0.59577,
          0.80029,
          0.53119,
          0.55469,
          0.38291,
          0.05108,
          0.58383,
          0.64232,
          0.23573,
          0.50073,
          0.56844,
          0.73007,
          0.52989,
          0,
          0.51076,
          0.34745,
          0.12698,
          0.34578,
          0.18611,
          0.62007,
          0.45091,
          0.3988,
          0.52116,
          0.64083,
          0.30147,
          0.58628,
          0.29681,
          0.188,
          0.64035,
          0.28212,
          0.40457,
          0.67806,
          0.28639,
          0.1595,
          0.29364,
          0.29759,
          0.3494,
          0.16347,
          0.27494,
          0.34752,
          0.29981,
          0.04476,
          0.42494,
          0.04991,
          0.26162,
          0.15781,
          0.03824,
          0.21297,
          0.19625,
          0.31048,
          0.37109,
          0.357,
          0.23165,
          0.18829,
          0.31865,
          0.21028,
          0.17344,
          0.24811,
          0.62994,
          0.15747,
          0.796666503,
          0.7925655246,
          0.8335521221,
          0.8581312895,
          0.8091576695,
          0.810696125,
          0.8345576525,
          0.8167597055,
          0.8308751583,
          0.8438867927,
          0.8384039998,
          0.7595092654,
          0.8153284192,
          0.7742866278,
          0.8097826242,
          0.7989507318,
          0.8180918694,
          0.8450894952,
          0.8053359389,
          0.8194797039,
          0.7267982364,
          0.6165523529,
          0.7544440031,
          0.6951370835,
          0.7099789977,
          0.9494923949,
          0.8219442368,
          0.7192168236,
          0.5402399898,
          0.7061561346,
          0.8444658518,
          0.6472390294,
          0.7939842343,
          0.8889605999,
          0.7100980878,
          0.5950279236,
          0.5901483297,
          0.5199832916,
          0.6321057081,
          0.7127329111,
          0.6531330347,
          0.6187844276,
          0.6530959606,
          0.6856362224,
          0.5960185528,
          0.699475348,
          0.4982726276,
          0.8531443477,
          0.5473493338,
          0.450191766,
          0.9134758711,
          0.6289499402,
          0.6175846457,
          0.6385669708,
          0.900214076,
          0.5894652009,
          0.6851583123,
          0.4736302495,
          0.4377260804,
          0.6060415506,
          0.8346472383,
          0.790828228,
          0.6301661134,
          0.638007462,
          0.8447147012,
          0.6951683164,
          0.6377142668,
          0.5201690197,
          0.6376056075,
          0.5792506933,
          0.9430624247,
          0.4680090547,
          0.6507846713,
          0.6045900583,
          0.6877634525,
          0.6410223842,
          0.7012885213,
          0.5414520502,
          0.7414155006,
          0.4020477831,
          0.4923457205,
          0.617144227,
          0.6674646735,
          0.597710669,
          0.5407757759,
          0.5748737454,
          0.8101989031,
          0.7350810766,
          0.7958435416,
          0.7051863074,
          0.5825694799,
          0.6449481845,
          0.1139891371,
          0.6521689892,
          0.0569157302,
          0.5292351246,
          0.4958792925,
          0.5534577966,
          0.5041307807,
          0.5577834845,
          0.1870800704,
          0.613212049,
          0.5656669736,
          0.5201872587,
          0.7082176805,
          0.0055647539,
          0.1328921169,
          0.6393331885,
          0.7311597466,
          0.5332410336,
          0.3386118114,
          0.3099883497,
          0.1066544354,
          0.3975225687,
          0.4093628526,
          0.2578358948,
          0.50118047,
          0.3565785885,
          0.3534097075,
          0.6251308322,
          0.637524426,
          0.4554276168,
          0.2853492796,
          0.2899574339,
          0.6495469809,
          0.1914070249,
          0.1693656743,
          0.0486421697,
          0.4297834039,
          0.2909208238,
          0.2956377268,
          0.5759039521,
          0.2176326066,
          0.2158442587,
          0.268505007,
          0.3150895834,
          0.0411347151,
          0.1967637539,
          0,
          0.0498686656,
          0.1807467788,
          0.3417555094,
          0.2099302113,
          0.3752233088,
          0.27732113,
          0.3100809157,
          0.1634860039,
          0.2299181968,
          0.1941291392,
          0.2471055686,
          0.3264248073,
          0.5005333424,
          0.3645092845,
          0.1516107917,
          0.0187726859,
          0.874,
          0.861,
          0.868,
          0.914,
          0.927,
          0.878,
          0.896,
          0.876,
          0.913,
          0.91,
          0.888,
          0.891,
          0.817,
          0.876,
          0.861,
          0.894,
          0.896,
          0.819,
          0.883,
          0.854,
          0.884,
          0.908,
          0.761,
          0.808,
          0.857,
          0.759,
          0.675,
          0.744,
          0.608,
          0.771,
          0.748,
          0.633,
          1.008,
          0.669,
          0.965,
          0.635,
          0.564,
          0.776,
          0.639,
          0.7,
          0.781,
          0.698,
          0.605,
          0.675,
          0.707,
          0.946,
          0.736,
          0.474,
          0.716,
          0.856,
          0.726,
          0.671,
          0.988,
          0.684,
          0.693,
          0.955,
          0.909,
          0.599,
          0.631,
          0.909,
          0.508,
          0.737,
          0.615,
          0.674,
          0.578,
          0.62,
          0.517,
          0.732,
          0.553,
          0.513,
          0.622,
          0.7,
          0.686,
          0.424,
          1.03,
          0.884,
          0.685,
          0.879,
          0.785,
          0.729,
          0.737,
          0.614,
          0.687,
          0.669,
          0.799,
          0.603,
          0.598,
          0.691,
          0.645,
          0.048,
          0.594,
          0.758,
          0.575,
          0.702,
          0.522,
          0.527,
          0.115,
          0.182,
          0.712,
          0.539,
          0.657,
          0.404,
          0.602,
          0.33,
          0.691,
          0.08,
          0.337,
          0.433,
          0.441,
          0.69,
          0.79,
          0,
          0.343,
          0.579,
          0.672,
          0.536,
          0.152,
          0.365,
          0.457,
          0.254,
          0.553,
          0.173,
          0.454,
          0.295,
          0.292,
          0.391,
          0.643,
          0.666,
          0.429,
          0.053,
          0.204,
          0.485,
          0.221,
          0.237,
          0.24,
          0.312,
          0.609,
          0.253,
          0.211,
          0.079,
          0.269,
          0.402,
          0.248,
          0.255,
          0.417,
          0.306,
          0.289,
          0.267,
          0.539,
          0.4,
          0.343,
          0.381,
          0.177,
          0.01,
          0.145,
          0.986,
          0.996,
          1.028,
          1.026,
          0.999,
          1.052,
          1.009,
          1.026,
          1.039,
          1.016,
          1.036,
          0.963,
          1.029,
          1.012,
          0.996,
          0.999,
          0.987,
          0.986,
          0.874,
          0.92,
          0.825,
          0.999,
          0.861,
          1.045,
          0.914,
          0.92,
          0.746,
          0.795,
          0.871,
          1.062,
          0.91,
          0.802,
          0.891,
          1.141,
          0.789,
          1.039,
          0.871,
          0.881,
          0.713,
          0.884,
          0.756,
          0.818,
          0.841,
          0.953,
          0.835,
          0.758,
          0.881,
          0.825,
          1.042,
          0.868,
          0.808,
          0.828,
          0.812,
          1.036,
          0.874,
          0.831,
          0.798,
          1.088,
          0.828,
          0.729,
          0.706,
          0.828,
          0.777,
          1.042,
          0.854,
          0.999,
          0.535,
          0.726,
          0.657,
          0.854,
          0.739,
          0.673,
          0.871,
          0.718,
          0.914,
          1.122,
          0.779,
          0.845,
          0.808,
          0.828,
          0.789,
          0.999,
          0.667,
          0.838,
          0.245,
          0.723,
          0.657,
          0.785,
          0.782,
          0.769,
          0.815,
          0.66,
          0.893,
          0.851,
          0.604,
          0.331,
          0.815,
          0.486,
          0.232,
          0.677,
          0.815,
          0.397,
          0.508,
          0.571,
          0.551,
          0.469,
          0.874,
          0.805,
          0.637,
          0.672,
          0.571,
          0.268,
          0.477,
          0.366,
          0.38,
          0.815,
          0.785,
          0.375,
          0.752,
          0.428,
          0.581,
          0.489,
          0.39,
          0.815,
          0.723,
          0.574,
          0.357,
          0.308,
          0.242,
          0.831,
          0.555,
          0.192,
          0.739,
          0.532,
          0,
          0.443,
          0.644,
          0.426,
          0.41,
          0.588,
          0.443,
          0.505,
          0.555,
          0.168,
          0.38,
          0.433,
          0.449,
          0.538,
          0.44,
          0.495,
          0.463,
          0.614,
          0.499,
          0.361,
          0.105,
          0.295
         ],
         "y0": " ",
         "yaxis": "y"
        }
       ],
       "layout": {
        "boxmode": "group",
        "font": {
         "color": "white"
        },
        "legend": {
         "tracegroupgap": 0
        },
        "paper_bgcolor": "black",
        "plot_bgcolor": "black",
        "template": {
         "data": {
          "bar": [
           {
            "error_x": {
             "color": "#2a3f5f"
            },
            "error_y": {
             "color": "#2a3f5f"
            },
            "marker": {
             "line": {
              "color": "#E5ECF6",
              "width": 0.5
             },
             "pattern": {
              "fillmode": "overlay",
              "size": 10,
              "solidity": 0.2
             }
            },
            "type": "bar"
           }
          ],
          "barpolar": [
           {
            "marker": {
             "line": {
              "color": "#E5ECF6",
              "width": 0.5
             },
             "pattern": {
              "fillmode": "overlay",
              "size": 10,
              "solidity": 0.2
             }
            },
            "type": "barpolar"
           }
          ],
          "carpet": [
           {
            "aaxis": {
             "endlinecolor": "#2a3f5f",
             "gridcolor": "white",
             "linecolor": "white",
             "minorgridcolor": "white",
             "startlinecolor": "#2a3f5f"
            },
            "baxis": {
             "endlinecolor": "#2a3f5f",
             "gridcolor": "white",
             "linecolor": "white",
             "minorgridcolor": "white",
             "startlinecolor": "#2a3f5f"
            },
            "type": "carpet"
           }
          ],
          "choropleth": [
           {
            "colorbar": {
             "outlinewidth": 0,
             "ticks": ""
            },
            "type": "choropleth"
           }
          ],
          "contour": [
           {
            "colorbar": {
             "outlinewidth": 0,
             "ticks": ""
            },
            "colorscale": [
             [
              0,
              "#0d0887"
             ],
             [
              0.1111111111111111,
              "#46039f"
             ],
             [
              0.2222222222222222,
              "#7201a8"
             ],
             [
              0.3333333333333333,
              "#9c179e"
             ],
             [
              0.4444444444444444,
              "#bd3786"
             ],
             [
              0.5555555555555556,
              "#d8576b"
             ],
             [
              0.6666666666666666,
              "#ed7953"
             ],
             [
              0.7777777777777778,
              "#fb9f3a"
             ],
             [
              0.8888888888888888,
              "#fdca26"
             ],
             [
              1,
              "#f0f921"
             ]
            ],
            "type": "contour"
           }
          ],
          "contourcarpet": [
           {
            "colorbar": {
             "outlinewidth": 0,
             "ticks": ""
            },
            "type": "contourcarpet"
           }
          ],
          "heatmap": [
           {
            "colorbar": {
             "outlinewidth": 0,
             "ticks": ""
            },
            "colorscale": [
             [
              0,
              "#0d0887"
             ],
             [
              0.1111111111111111,
              "#46039f"
             ],
             [
              0.2222222222222222,
              "#7201a8"
             ],
             [
              0.3333333333333333,
              "#9c179e"
             ],
             [
              0.4444444444444444,
              "#bd3786"
             ],
             [
              0.5555555555555556,
              "#d8576b"
             ],
             [
              0.6666666666666666,
              "#ed7953"
             ],
             [
              0.7777777777777778,
              "#fb9f3a"
             ],
             [
              0.8888888888888888,
              "#fdca26"
             ],
             [
              1,
              "#f0f921"
             ]
            ],
            "type": "heatmap"
           }
          ],
          "heatmapgl": [
           {
            "colorbar": {
             "outlinewidth": 0,
             "ticks": ""
            },
            "colorscale": [
             [
              0,
              "#0d0887"
             ],
             [
              0.1111111111111111,
              "#46039f"
             ],
             [
              0.2222222222222222,
              "#7201a8"
             ],
             [
              0.3333333333333333,
              "#9c179e"
             ],
             [
              0.4444444444444444,
              "#bd3786"
             ],
             [
              0.5555555555555556,
              "#d8576b"
             ],
             [
              0.6666666666666666,
              "#ed7953"
             ],
             [
              0.7777777777777778,
              "#fb9f3a"
             ],
             [
              0.8888888888888888,
              "#fdca26"
             ],
             [
              1,
              "#f0f921"
             ]
            ],
            "type": "heatmapgl"
           }
          ],
          "histogram": [
           {
            "marker": {
             "pattern": {
              "fillmode": "overlay",
              "size": 10,
              "solidity": 0.2
             }
            },
            "type": "histogram"
           }
          ],
          "histogram2d": [
           {
            "colorbar": {
             "outlinewidth": 0,
             "ticks": ""
            },
            "colorscale": [
             [
              0,
              "#0d0887"
             ],
             [
              0.1111111111111111,
              "#46039f"
             ],
             [
              0.2222222222222222,
              "#7201a8"
             ],
             [
              0.3333333333333333,
              "#9c179e"
             ],
             [
              0.4444444444444444,
              "#bd3786"
             ],
             [
              0.5555555555555556,
              "#d8576b"
             ],
             [
              0.6666666666666666,
              "#ed7953"
             ],
             [
              0.7777777777777778,
              "#fb9f3a"
             ],
             [
              0.8888888888888888,
              "#fdca26"
             ],
             [
              1,
              "#f0f921"
             ]
            ],
            "type": "histogram2d"
           }
          ],
          "histogram2dcontour": [
           {
            "colorbar": {
             "outlinewidth": 0,
             "ticks": ""
            },
            "colorscale": [
             [
              0,
              "#0d0887"
             ],
             [
              0.1111111111111111,
              "#46039f"
             ],
             [
              0.2222222222222222,
              "#7201a8"
             ],
             [
              0.3333333333333333,
              "#9c179e"
             ],
             [
              0.4444444444444444,
              "#bd3786"
             ],
             [
              0.5555555555555556,
              "#d8576b"
             ],
             [
              0.6666666666666666,
              "#ed7953"
             ],
             [
              0.7777777777777778,
              "#fb9f3a"
             ],
             [
              0.8888888888888888,
              "#fdca26"
             ],
             [
              1,
              "#f0f921"
             ]
            ],
            "type": "histogram2dcontour"
           }
          ],
          "mesh3d": [
           {
            "colorbar": {
             "outlinewidth": 0,
             "ticks": ""
            },
            "type": "mesh3d"
           }
          ],
          "parcoords": [
           {
            "line": {
             "colorbar": {
              "outlinewidth": 0,
              "ticks": ""
             }
            },
            "type": "parcoords"
           }
          ],
          "pie": [
           {
            "automargin": true,
            "type": "pie"
           }
          ],
          "scatter": [
           {
            "fillpattern": {
             "fillmode": "overlay",
             "size": 10,
             "solidity": 0.2
            },
            "type": "scatter"
           }
          ],
          "scatter3d": [
           {
            "line": {
             "colorbar": {
              "outlinewidth": 0,
              "ticks": ""
             }
            },
            "marker": {
             "colorbar": {
              "outlinewidth": 0,
              "ticks": ""
             }
            },
            "type": "scatter3d"
           }
          ],
          "scattercarpet": [
           {
            "marker": {
             "colorbar": {
              "outlinewidth": 0,
              "ticks": ""
             }
            },
            "type": "scattercarpet"
           }
          ],
          "scattergeo": [
           {
            "marker": {
             "colorbar": {
              "outlinewidth": 0,
              "ticks": ""
             }
            },
            "type": "scattergeo"
           }
          ],
          "scattergl": [
           {
            "marker": {
             "colorbar": {
              "outlinewidth": 0,
              "ticks": ""
             }
            },
            "type": "scattergl"
           }
          ],
          "scattermapbox": [
           {
            "marker": {
             "colorbar": {
              "outlinewidth": 0,
              "ticks": ""
             }
            },
            "type": "scattermapbox"
           }
          ],
          "scatterpolar": [
           {
            "marker": {
             "colorbar": {
              "outlinewidth": 0,
              "ticks": ""
             }
            },
            "type": "scatterpolar"
           }
          ],
          "scatterpolargl": [
           {
            "marker": {
             "colorbar": {
              "outlinewidth": 0,
              "ticks": ""
             }
            },
            "type": "scatterpolargl"
           }
          ],
          "scatterternary": [
           {
            "marker": {
             "colorbar": {
              "outlinewidth": 0,
              "ticks": ""
             }
            },
            "type": "scatterternary"
           }
          ],
          "surface": [
           {
            "colorbar": {
             "outlinewidth": 0,
             "ticks": ""
            },
            "colorscale": [
             [
              0,
              "#0d0887"
             ],
             [
              0.1111111111111111,
              "#46039f"
             ],
             [
              0.2222222222222222,
              "#7201a8"
             ],
             [
              0.3333333333333333,
              "#9c179e"
             ],
             [
              0.4444444444444444,
              "#bd3786"
             ],
             [
              0.5555555555555556,
              "#d8576b"
             ],
             [
              0.6666666666666666,
              "#ed7953"
             ],
             [
              0.7777777777777778,
              "#fb9f3a"
             ],
             [
              0.8888888888888888,
              "#fdca26"
             ],
             [
              1,
              "#f0f921"
             ]
            ],
            "type": "surface"
           }
          ],
          "table": [
           {
            "cells": {
             "fill": {
              "color": "#EBF0F8"
             },
             "line": {
              "color": "white"
             }
            },
            "header": {
             "fill": {
              "color": "#C8D4E3"
             },
             "line": {
              "color": "white"
             }
            },
            "type": "table"
           }
          ]
         },
         "layout": {
          "annotationdefaults": {
           "arrowcolor": "#2a3f5f",
           "arrowhead": 0,
           "arrowwidth": 1
          },
          "autotypenumbers": "strict",
          "coloraxis": {
           "colorbar": {
            "outlinewidth": 0,
            "ticks": ""
           }
          },
          "colorscale": {
           "diverging": [
            [
             0,
             "#8e0152"
            ],
            [
             0.1,
             "#c51b7d"
            ],
            [
             0.2,
             "#de77ae"
            ],
            [
             0.3,
             "#f1b6da"
            ],
            [
             0.4,
             "#fde0ef"
            ],
            [
             0.5,
             "#f7f7f7"
            ],
            [
             0.6,
             "#e6f5d0"
            ],
            [
             0.7,
             "#b8e186"
            ],
            [
             0.8,
             "#7fbc41"
            ],
            [
             0.9,
             "#4d9221"
            ],
            [
             1,
             "#276419"
            ]
           ],
           "sequential": [
            [
             0,
             "#0d0887"
            ],
            [
             0.1111111111111111,
             "#46039f"
            ],
            [
             0.2222222222222222,
             "#7201a8"
            ],
            [
             0.3333333333333333,
             "#9c179e"
            ],
            [
             0.4444444444444444,
             "#bd3786"
            ],
            [
             0.5555555555555556,
             "#d8576b"
            ],
            [
             0.6666666666666666,
             "#ed7953"
            ],
            [
             0.7777777777777778,
             "#fb9f3a"
            ],
            [
             0.8888888888888888,
             "#fdca26"
            ],
            [
             1,
             "#f0f921"
            ]
           ],
           "sequentialminus": [
            [
             0,
             "#0d0887"
            ],
            [
             0.1111111111111111,
             "#46039f"
            ],
            [
             0.2222222222222222,
             "#7201a8"
            ],
            [
             0.3333333333333333,
             "#9c179e"
            ],
            [
             0.4444444444444444,
             "#bd3786"
            ],
            [
             0.5555555555555556,
             "#d8576b"
            ],
            [
             0.6666666666666666,
             "#ed7953"
            ],
            [
             0.7777777777777778,
             "#fb9f3a"
            ],
            [
             0.8888888888888888,
             "#fdca26"
            ],
            [
             1,
             "#f0f921"
            ]
           ]
          },
          "colorway": [
           "#636efa",
           "#EF553B",
           "#00cc96",
           "#ab63fa",
           "#FFA15A",
           "#19d3f3",
           "#FF6692",
           "#B6E880",
           "#FF97FF",
           "#FECB52"
          ],
          "font": {
           "color": "#2a3f5f"
          },
          "geo": {
           "bgcolor": "white",
           "lakecolor": "white",
           "landcolor": "#E5ECF6",
           "showlakes": true,
           "showland": true,
           "subunitcolor": "white"
          },
          "hoverlabel": {
           "align": "left"
          },
          "hovermode": "closest",
          "mapbox": {
           "style": "light"
          },
          "paper_bgcolor": "white",
          "plot_bgcolor": "#E5ECF6",
          "polar": {
           "angularaxis": {
            "gridcolor": "white",
            "linecolor": "white",
            "ticks": ""
           },
           "bgcolor": "#E5ECF6",
           "radialaxis": {
            "gridcolor": "white",
            "linecolor": "white",
            "ticks": ""
           }
          },
          "scene": {
           "xaxis": {
            "backgroundcolor": "#E5ECF6",
            "gridcolor": "white",
            "gridwidth": 2,
            "linecolor": "white",
            "showbackground": true,
            "ticks": "",
            "zerolinecolor": "white"
           },
           "yaxis": {
            "backgroundcolor": "#E5ECF6",
            "gridcolor": "white",
            "gridwidth": 2,
            "linecolor": "white",
            "showbackground": true,
            "ticks": "",
            "zerolinecolor": "white"
           },
           "zaxis": {
            "backgroundcolor": "#E5ECF6",
            "gridcolor": "white",
            "gridwidth": 2,
            "linecolor": "white",
            "showbackground": true,
            "ticks": "",
            "zerolinecolor": "white"
           }
          },
          "shapedefaults": {
           "line": {
            "color": "#2a3f5f"
           }
          },
          "ternary": {
           "aaxis": {
            "gridcolor": "white",
            "linecolor": "white",
            "ticks": ""
           },
           "baxis": {
            "gridcolor": "white",
            "linecolor": "white",
            "ticks": ""
           },
           "bgcolor": "#E5ECF6",
           "caxis": {
            "gridcolor": "white",
            "linecolor": "white",
            "ticks": ""
           }
          },
          "title": {
           "x": 0.05
          },
          "xaxis": {
           "automargin": true,
           "gridcolor": "white",
           "linecolor": "white",
           "ticks": "",
           "title": {
            "standoff": 15
           },
           "zerolinecolor": "white",
           "zerolinewidth": 2
          },
          "yaxis": {
           "automargin": true,
           "gridcolor": "white",
           "linecolor": "white",
           "ticks": "",
           "title": {
            "standoff": 15
           },
           "zerolinecolor": "white",
           "zerolinewidth": 2
          }
         }
        },
        "title": {
         "text": "Outliers in life_expectancy"
        },
        "xaxis": {
         "anchor": "y",
         "domain": [
          0,
          1
         ]
        },
        "yaxis": {
         "anchor": "x",
         "domain": [
          0,
          1
         ],
         "title": {
          "text": "life_expectancy"
         }
        }
       }
      }
     },
     "metadata": {},
     "output_type": "display_data"
    },
    {
     "data": {
      "application/vnd.plotly.v1+json": {
       "config": {
        "plotlyServerURL": "https://plot.ly"
       },
       "data": [
        {
         "alignmentgroup": "True",
         "hovertemplate": "freedom=%{y}<extra></extra>",
         "legendgroup": "",
         "marker": {
          "color": "#636efa"
         },
         "name": "",
         "notched": false,
         "offsetgroup": "",
         "orientation": "v",
         "showlegend": false,
         "type": "box",
         "x0": " ",
         "xaxis": "x",
         "y": [
          0.66557,
          0.62877,
          0.64938,
          0.66973,
          0.63297,
          0.64169,
          0.61576,
          0.6598,
          0.63938,
          0.65124,
          0.41319,
          0.63376,
          0.62433,
          0.48181,
          0.54604,
          0.49049,
          0.61583,
          0.61777,
          0.5845,
          0.64157,
          0.59625,
          0.63274,
          0.42908,
          0.54252,
          0.5421,
          0.61477,
          0.44132,
          0.6404,
          0.55011,
          0.44974,
          0.46364,
          0.60362,
          0.53466,
          0.55664,
          0.31048,
          0.45951,
          0.60365,
          0.3974,
          0.55499,
          0.59657,
          0.55884,
          0.4035,
          0.57733,
          0.65821,
          0.31751,
          0.49615,
          0.33208,
          0.48574,
          0.45492,
          0.26236,
          0.57414,
          0.32818,
          0.53899,
          0.51649,
          0.60855,
          0.21342,
          0.55475,
          0.41496,
          0.37938,
          0.53122,
          0.53024,
          0.25883,
          0.41668,
          0.36679,
          0.50442,
          0.49027,
          0.40672,
          0.28579,
          0.24749,
          0.4761,
          0.56066,
          0.59608,
          0.44888,
          0.46611,
          0.59444,
          0.22815,
          0.43477,
          0.34334,
          0.53206,
          0.3703,
          0.12102,
          0.40661,
          0.1826,
          0.51697,
          0.48827,
          0.35068,
          0.20107,
          0.51469,
          0.29671,
          0.62545,
          0.46582,
          0.41691,
          0.33457,
          0.34037,
          0.35733,
          0.09245,
          0.31767,
          0.57672,
          0.59591,
          0.43626,
          0.30658,
          0.07699,
          0.33916,
          0.32112,
          0.40148,
          0.47216,
          0.26268,
          0.24499,
          0.4082,
          0.30033,
          0.25123,
          0,
          0.33207,
          0.42342,
          0.25861,
          0.28531,
          0.39786,
          0.10081,
          0.24425,
          0.22605,
          0.38282,
          0.4345,
          0.4084,
          0.24232,
          0.42215,
          0.46074,
          0.19847,
          0.49495,
          0.44017,
          0.40577,
          0.43054,
          0.53726,
          0.49309,
          0.30587,
          0.17288,
          0.35571,
          0.10384,
          0.38857,
          0.41466,
          0.22917,
          0.45727,
          0.36772,
          0.31914,
          0.47692,
          0.66246,
          0.32878,
          0.19184,
          0.48879,
          0.23501,
          0.37725,
          0.46866,
          0.39493,
          0.23414,
          0.59201,
          0.4845,
          0.15684,
          0.1185,
          0.36453,
          0.57941,
          0.58557,
          0.56624,
          0.59609,
          0.57104,
          0.5737,
          0.55211,
          0.58147,
          0.56837,
          0.58218,
          0.36432,
          0.54355,
          0.48163,
          0.55225,
          0.46823,
          0.53466,
          0.40425,
          0.51354,
          0.54008,
          0.5487,
          0.37709,
          0.4877,
          0.50036,
          0.37789,
          0.48927,
          0.42284,
          0.41418,
          0.56215,
          0.54388,
          0.54994,
          0.44735,
          0.46562,
          0.49553,
          0.37904,
          0.32377,
          0.56679,
          0.37545,
          0.21006,
          0.50379,
          0.52234,
          0.43166,
          0.47375,
          0.48453,
          0.19847,
          0.23391,
          0.37269,
          0.39031,
          0.46582,
          0.60848,
          0.18827,
          0.4027,
          0.51231,
          0.46761,
          0.4052,
          0.25202,
          0.32682,
          0.4519,
          0.25168,
          0.50961,
          0.18929,
          0.29091,
          0.43596,
          0.53164,
          0.37502,
          0.37408,
          0.46145,
          0.40672,
          0.27996,
          0.29507,
          0.46235,
          0.36712,
          0.41511,
          0.43597,
          0.23907,
          0.48079,
          0.56778,
          0.14396,
          0.23889,
          0.39237,
          0.36023,
          0.35327,
          0.54854,
          0.44012,
          0.46074,
          0.40212,
          0.15718,
          0.09511,
          0.15111,
          0.52259,
          0.25646,
          0.1977,
          0.14622,
          0.26228,
          0.44727,
          0.27668,
          0.55954,
          0.3913,
          0.23553,
          0.05822,
          0.43408,
          0.35972,
          0.52168,
          0.27854,
          0.26755,
          0.22544,
          0.42662,
          0.37012,
          0.17744,
          0.31866,
          0.39778,
          0.30685,
          0.24856,
          0.48614,
          0.42736,
          0.36703,
          0.42483,
          0.50817,
          0.40285,
          0.42692,
          0.18847,
          0.14037,
          0.40576,
          0.12859,
          0.40973,
          0.15602,
          0.32461,
          0.37938,
          0.31056,
          0.21219,
          0.1268,
          0.25429,
          0.4143,
          0,
          0.28098,
          0.27544,
          0.12072,
          0.44089,
          0.15412,
          0.40663,
          0.58852,
          0.00589,
          0.38041,
          0.19662,
          0.12807,
          0.3337,
          0.43653,
          0.2287,
          0.13684,
          0.3176,
          0.25748,
          0.30953,
          0.5432,
          0.39747,
          0.1643,
          0.34678,
          0.06912,
          0.0432,
          0.6354225874,
          0.6260067225,
          0.6271626353,
          0.6200705767,
          0.6179508567,
          0.5853844881,
          0.6111009121,
          0.6140621305,
          0.612924099,
          0.6016073823,
          0.4059886038,
          0.58013165,
          0.5677661896,
          0.5057405233,
          0.573110342,
          0.5625113845,
          0.5397707224,
          0.5966278911,
          0.5081900358,
          0.3768952787,
          0.6083452702,
          0.4374537468,
          0.4909461737,
          0.4945192039,
          0.4127300084,
          0.5498405695,
          0.5887670517,
          0.5793922544,
          0.5313106179,
          0.550026834,
          0.4702221155,
          0.5802007318,
          0.3614665866,
          0.4087812304,
          0.6041309834,
          0.4774874151,
          0.4497505724,
          0.518630743,
          0.4963375926,
          0.2958174646,
          0.5367469192,
          0.4022649825,
          0.4475518465,
          0.4551981986,
          0.4324525297,
          0.5203421116,
          0.6582486629,
          0.2564507127,
          0.3737831116,
          0.5475093722,
          0.505625546,
          0.2342317849,
          0.2333358079,
          0.3257079124,
          0.2579216659,
          0.2407290488,
          0.4570037425,
          0.5587329268,
          0.418271929,
          0.4374542832,
          0.4712036252,
          0.5725758076,
          0.4500028789,
          0.4912473261,
          0.3551115394,
          0.4791314304,
          0.2954002619,
          0.4657332301,
          0.3007405996,
          0.4735077918,
          0.4909686446,
          0.5852146745,
          0.2087155282,
          0.4184211493,
          0.1758635193,
          0.4743072391,
          0.2557722926,
          0.2602879405,
          0.472787708,
          0.2352152616,
          0.4433234632,
          0.1539971232,
          0.1949890554,
          0.4081583321,
          0.3981558383,
          0.5525898337,
          0.0957312509,
          0.288515985,
          0.4984652996,
          0.2044031769,
          0.3480798602,
          0.3259059787,
          0.602126956,
          0.5710555911,
          0.3949525654,
          0.4715667069,
          0.5015376806,
          0.4549433887,
          0.4403059483,
          0.3941439688,
          0.4792467356,
          0.2896806896,
          0.2547110617,
          0.2821101546,
          0.2892317176,
          0.318697691,
          0.4303887486,
          0.2493226081,
          0.3814986348,
          0.4783566594,
          0.5203035474,
          0.4527637661,
          0.4807910919,
          0.5144920349,
          0.3779222667,
          0.4616034925,
          0.2885555327,
          0.312328577,
          0.4088427424,
          0.5612132549,
          0.1983032674,
          0.469987005,
          0.096098043,
          0.4350258708,
          0.3094100356,
          0.2359613478,
          0.3066137433,
          0.4477061927,
          0.6333758235,
          0.0149958553,
          0.4230262935,
          0.1229747757,
          0.4431859553,
          0.324367851,
          0.3636586964,
          0.4669146538,
          0.1623420268,
          0.336384207,
          0.3906612992,
          0,
          0.1061795205,
          0.5051963329,
          0.4259627759,
          0.1891967654,
          0.0303698573,
          0.2494637221,
          0.1470624357,
          0.3328811824,
          0.348587513,
          0.3804261386,
          0.581843853,
          0.0815394446,
          0.3900177777,
          0.0599007532,
          0.2708420455,
          0.681,
          0.686,
          0.683,
          0.677,
          0.66,
          0.638,
          0.653,
          0.669,
          0.659,
          0.647,
          0.464,
          0.617,
          0.632,
          0.614,
          0.586,
          0.583,
          0.632,
          0.547,
          0.533,
          0.543,
          0.645,
          0.52,
          0.479,
          0.431,
          0.418,
          0.597,
          0.493,
          0.57,
          0.604,
          0.625,
          0.654,
          0.509,
          0.631,
          0.356,
          0.449,
          0.531,
          0.575,
          0.354,
          0.461,
          0.527,
          0.546,
          0.594,
          0.724,
          0.554,
          0.637,
          0.281,
          0.556,
          0.593,
          0.35,
          0.633,
          0.528,
          0.363,
          0.553,
          0.584,
          0.575,
          0.244,
          0.495,
          0.399,
          0.454,
          0.423,
          0.606,
          0.553,
          0.541,
          0.53,
          0.448,
          0.232,
          0.417,
          0.259,
          0.496,
          0.643,
          0.459,
          0.307,
          0.324,
          0.334,
          0.524,
          0.562,
          0.288,
          0.131,
          0.503,
          0.259,
          0.38,
          0.578,
          0.077,
          0.46,
          0.597,
          0.43,
          0.292,
          0.394,
          0.468,
          0.462,
          0.54,
          0.28,
          0.395,
          0.618,
          0.538,
          0.541,
          0.674,
          0.454,
          0.359,
          0.526,
          0.133,
          0.356,
          0.266,
          0.516,
          0.459,
          0.467,
          0.499,
          0.406,
          0.626,
          0.271,
          0.419,
          0.355,
          0.514,
          0.58,
          0.585,
          0.304,
          0.367,
          0.519,
          0.696,
          0.312,
          0.312,
          0.531,
          0.504,
          0.503,
          0.129,
          0.452,
          0.375,
          0.26,
          0.58,
          0.189,
          0.312,
          0.539,
          0.39,
          0.45,
          0.44,
          0.016,
          0.163,
          0.434,
          0.394,
          0.423,
          0,
          0.221,
          0.406,
          0.085,
          0.557,
          0.531,
          0.025,
          0.419,
          0.088,
          0.636,
          0.244,
          0.481,
          0.112,
          0.305,
          0.065,
          0.596,
          0.592,
          0.603,
          0.591,
          0.557,
          0.572,
          0.574,
          0.585,
          0.584,
          0.532,
          0.557,
          0.558,
          0.371,
          0.526,
          0.45,
          0.516,
          0.495,
          0.473,
          0.454,
          0.457,
          0.598,
          0.564,
          0.433,
          0.436,
          0.351,
          0.357,
          0.535,
          0.439,
          0.555,
          0.362,
          0.516,
          0.39,
          0.523,
          0.556,
          0.43,
          0.231,
          0.536,
          0.334,
          0.489,
          0.483,
          0.631,
          0.291,
          0.47,
          0.564,
          0.435,
          0.489,
          0.471,
          0.462,
          0.406,
          0.498,
          0.493,
          0.557,
          0.264,
          0.159,
          0.495,
          0.49,
          0.498,
          0.445,
          0.507,
          0.41,
          0.511,
          0.199,
          0.514,
          0.417,
          0.455,
          0.508,
          0.313,
          0.334,
          0.558,
          0.282,
          0.245,
          0.416,
          0.197,
          0.389,
          0.296,
          0.44,
          0.497,
          0.212,
          0.195,
          0.508,
          0.235,
          0.067,
          0.317,
          0.345,
          0.426,
          0.508,
          0.394,
          0.086,
          0.418,
          0.351,
          0.216,
          0.491,
          0.521,
          0.543,
          0.457,
          0.381,
          0.311,
          0.381,
          0.352,
          0.439,
          0.383,
          0.349,
          0.372,
          0.295,
          0.547,
          0.389,
          0.383,
          0.154,
          0.609,
          0.225,
          0.292,
          0.559,
          0.401,
          0.318,
          0.255,
          0.283,
          0.305,
          0.332,
          0.346,
          0.382,
          0.431,
          0.066,
          0.494,
          0.167,
          0.527,
          0.241,
          0.269,
          0.327,
          0.309,
          0.47,
          0.525,
          0.174,
          0.178,
          0.344,
          0.313,
          0.356,
          0.241,
          0.431,
          0.293,
          0.498,
          0.37,
          0.142,
          0.148,
          0.359,
          0.22,
          0.361,
          0.026,
          0.455,
          0.013,
          0.443,
          0.143,
          0.555,
          0.417,
          0,
          0.225,
          0.01
         ],
         "y0": " ",
         "yaxis": "y"
        }
       ],
       "layout": {
        "boxmode": "group",
        "font": {
         "color": "white"
        },
        "legend": {
         "tracegroupgap": 0
        },
        "paper_bgcolor": "black",
        "plot_bgcolor": "black",
        "template": {
         "data": {
          "bar": [
           {
            "error_x": {
             "color": "#2a3f5f"
            },
            "error_y": {
             "color": "#2a3f5f"
            },
            "marker": {
             "line": {
              "color": "#E5ECF6",
              "width": 0.5
             },
             "pattern": {
              "fillmode": "overlay",
              "size": 10,
              "solidity": 0.2
             }
            },
            "type": "bar"
           }
          ],
          "barpolar": [
           {
            "marker": {
             "line": {
              "color": "#E5ECF6",
              "width": 0.5
             },
             "pattern": {
              "fillmode": "overlay",
              "size": 10,
              "solidity": 0.2
             }
            },
            "type": "barpolar"
           }
          ],
          "carpet": [
           {
            "aaxis": {
             "endlinecolor": "#2a3f5f",
             "gridcolor": "white",
             "linecolor": "white",
             "minorgridcolor": "white",
             "startlinecolor": "#2a3f5f"
            },
            "baxis": {
             "endlinecolor": "#2a3f5f",
             "gridcolor": "white",
             "linecolor": "white",
             "minorgridcolor": "white",
             "startlinecolor": "#2a3f5f"
            },
            "type": "carpet"
           }
          ],
          "choropleth": [
           {
            "colorbar": {
             "outlinewidth": 0,
             "ticks": ""
            },
            "type": "choropleth"
           }
          ],
          "contour": [
           {
            "colorbar": {
             "outlinewidth": 0,
             "ticks": ""
            },
            "colorscale": [
             [
              0,
              "#0d0887"
             ],
             [
              0.1111111111111111,
              "#46039f"
             ],
             [
              0.2222222222222222,
              "#7201a8"
             ],
             [
              0.3333333333333333,
              "#9c179e"
             ],
             [
              0.4444444444444444,
              "#bd3786"
             ],
             [
              0.5555555555555556,
              "#d8576b"
             ],
             [
              0.6666666666666666,
              "#ed7953"
             ],
             [
              0.7777777777777778,
              "#fb9f3a"
             ],
             [
              0.8888888888888888,
              "#fdca26"
             ],
             [
              1,
              "#f0f921"
             ]
            ],
            "type": "contour"
           }
          ],
          "contourcarpet": [
           {
            "colorbar": {
             "outlinewidth": 0,
             "ticks": ""
            },
            "type": "contourcarpet"
           }
          ],
          "heatmap": [
           {
            "colorbar": {
             "outlinewidth": 0,
             "ticks": ""
            },
            "colorscale": [
             [
              0,
              "#0d0887"
             ],
             [
              0.1111111111111111,
              "#46039f"
             ],
             [
              0.2222222222222222,
              "#7201a8"
             ],
             [
              0.3333333333333333,
              "#9c179e"
             ],
             [
              0.4444444444444444,
              "#bd3786"
             ],
             [
              0.5555555555555556,
              "#d8576b"
             ],
             [
              0.6666666666666666,
              "#ed7953"
             ],
             [
              0.7777777777777778,
              "#fb9f3a"
             ],
             [
              0.8888888888888888,
              "#fdca26"
             ],
             [
              1,
              "#f0f921"
             ]
            ],
            "type": "heatmap"
           }
          ],
          "heatmapgl": [
           {
            "colorbar": {
             "outlinewidth": 0,
             "ticks": ""
            },
            "colorscale": [
             [
              0,
              "#0d0887"
             ],
             [
              0.1111111111111111,
              "#46039f"
             ],
             [
              0.2222222222222222,
              "#7201a8"
             ],
             [
              0.3333333333333333,
              "#9c179e"
             ],
             [
              0.4444444444444444,
              "#bd3786"
             ],
             [
              0.5555555555555556,
              "#d8576b"
             ],
             [
              0.6666666666666666,
              "#ed7953"
             ],
             [
              0.7777777777777778,
              "#fb9f3a"
             ],
             [
              0.8888888888888888,
              "#fdca26"
             ],
             [
              1,
              "#f0f921"
             ]
            ],
            "type": "heatmapgl"
           }
          ],
          "histogram": [
           {
            "marker": {
             "pattern": {
              "fillmode": "overlay",
              "size": 10,
              "solidity": 0.2
             }
            },
            "type": "histogram"
           }
          ],
          "histogram2d": [
           {
            "colorbar": {
             "outlinewidth": 0,
             "ticks": ""
            },
            "colorscale": [
             [
              0,
              "#0d0887"
             ],
             [
              0.1111111111111111,
              "#46039f"
             ],
             [
              0.2222222222222222,
              "#7201a8"
             ],
             [
              0.3333333333333333,
              "#9c179e"
             ],
             [
              0.4444444444444444,
              "#bd3786"
             ],
             [
              0.5555555555555556,
              "#d8576b"
             ],
             [
              0.6666666666666666,
              "#ed7953"
             ],
             [
              0.7777777777777778,
              "#fb9f3a"
             ],
             [
              0.8888888888888888,
              "#fdca26"
             ],
             [
              1,
              "#f0f921"
             ]
            ],
            "type": "histogram2d"
           }
          ],
          "histogram2dcontour": [
           {
            "colorbar": {
             "outlinewidth": 0,
             "ticks": ""
            },
            "colorscale": [
             [
              0,
              "#0d0887"
             ],
             [
              0.1111111111111111,
              "#46039f"
             ],
             [
              0.2222222222222222,
              "#7201a8"
             ],
             [
              0.3333333333333333,
              "#9c179e"
             ],
             [
              0.4444444444444444,
              "#bd3786"
             ],
             [
              0.5555555555555556,
              "#d8576b"
             ],
             [
              0.6666666666666666,
              "#ed7953"
             ],
             [
              0.7777777777777778,
              "#fb9f3a"
             ],
             [
              0.8888888888888888,
              "#fdca26"
             ],
             [
              1,
              "#f0f921"
             ]
            ],
            "type": "histogram2dcontour"
           }
          ],
          "mesh3d": [
           {
            "colorbar": {
             "outlinewidth": 0,
             "ticks": ""
            },
            "type": "mesh3d"
           }
          ],
          "parcoords": [
           {
            "line": {
             "colorbar": {
              "outlinewidth": 0,
              "ticks": ""
             }
            },
            "type": "parcoords"
           }
          ],
          "pie": [
           {
            "automargin": true,
            "type": "pie"
           }
          ],
          "scatter": [
           {
            "fillpattern": {
             "fillmode": "overlay",
             "size": 10,
             "solidity": 0.2
            },
            "type": "scatter"
           }
          ],
          "scatter3d": [
           {
            "line": {
             "colorbar": {
              "outlinewidth": 0,
              "ticks": ""
             }
            },
            "marker": {
             "colorbar": {
              "outlinewidth": 0,
              "ticks": ""
             }
            },
            "type": "scatter3d"
           }
          ],
          "scattercarpet": [
           {
            "marker": {
             "colorbar": {
              "outlinewidth": 0,
              "ticks": ""
             }
            },
            "type": "scattercarpet"
           }
          ],
          "scattergeo": [
           {
            "marker": {
             "colorbar": {
              "outlinewidth": 0,
              "ticks": ""
             }
            },
            "type": "scattergeo"
           }
          ],
          "scattergl": [
           {
            "marker": {
             "colorbar": {
              "outlinewidth": 0,
              "ticks": ""
             }
            },
            "type": "scattergl"
           }
          ],
          "scattermapbox": [
           {
            "marker": {
             "colorbar": {
              "outlinewidth": 0,
              "ticks": ""
             }
            },
            "type": "scattermapbox"
           }
          ],
          "scatterpolar": [
           {
            "marker": {
             "colorbar": {
              "outlinewidth": 0,
              "ticks": ""
             }
            },
            "type": "scatterpolar"
           }
          ],
          "scatterpolargl": [
           {
            "marker": {
             "colorbar": {
              "outlinewidth": 0,
              "ticks": ""
             }
            },
            "type": "scatterpolargl"
           }
          ],
          "scatterternary": [
           {
            "marker": {
             "colorbar": {
              "outlinewidth": 0,
              "ticks": ""
             }
            },
            "type": "scatterternary"
           }
          ],
          "surface": [
           {
            "colorbar": {
             "outlinewidth": 0,
             "ticks": ""
            },
            "colorscale": [
             [
              0,
              "#0d0887"
             ],
             [
              0.1111111111111111,
              "#46039f"
             ],
             [
              0.2222222222222222,
              "#7201a8"
             ],
             [
              0.3333333333333333,
              "#9c179e"
             ],
             [
              0.4444444444444444,
              "#bd3786"
             ],
             [
              0.5555555555555556,
              "#d8576b"
             ],
             [
              0.6666666666666666,
              "#ed7953"
             ],
             [
              0.7777777777777778,
              "#fb9f3a"
             ],
             [
              0.8888888888888888,
              "#fdca26"
             ],
             [
              1,
              "#f0f921"
             ]
            ],
            "type": "surface"
           }
          ],
          "table": [
           {
            "cells": {
             "fill": {
              "color": "#EBF0F8"
             },
             "line": {
              "color": "white"
             }
            },
            "header": {
             "fill": {
              "color": "#C8D4E3"
             },
             "line": {
              "color": "white"
             }
            },
            "type": "table"
           }
          ]
         },
         "layout": {
          "annotationdefaults": {
           "arrowcolor": "#2a3f5f",
           "arrowhead": 0,
           "arrowwidth": 1
          },
          "autotypenumbers": "strict",
          "coloraxis": {
           "colorbar": {
            "outlinewidth": 0,
            "ticks": ""
           }
          },
          "colorscale": {
           "diverging": [
            [
             0,
             "#8e0152"
            ],
            [
             0.1,
             "#c51b7d"
            ],
            [
             0.2,
             "#de77ae"
            ],
            [
             0.3,
             "#f1b6da"
            ],
            [
             0.4,
             "#fde0ef"
            ],
            [
             0.5,
             "#f7f7f7"
            ],
            [
             0.6,
             "#e6f5d0"
            ],
            [
             0.7,
             "#b8e186"
            ],
            [
             0.8,
             "#7fbc41"
            ],
            [
             0.9,
             "#4d9221"
            ],
            [
             1,
             "#276419"
            ]
           ],
           "sequential": [
            [
             0,
             "#0d0887"
            ],
            [
             0.1111111111111111,
             "#46039f"
            ],
            [
             0.2222222222222222,
             "#7201a8"
            ],
            [
             0.3333333333333333,
             "#9c179e"
            ],
            [
             0.4444444444444444,
             "#bd3786"
            ],
            [
             0.5555555555555556,
             "#d8576b"
            ],
            [
             0.6666666666666666,
             "#ed7953"
            ],
            [
             0.7777777777777778,
             "#fb9f3a"
            ],
            [
             0.8888888888888888,
             "#fdca26"
            ],
            [
             1,
             "#f0f921"
            ]
           ],
           "sequentialminus": [
            [
             0,
             "#0d0887"
            ],
            [
             0.1111111111111111,
             "#46039f"
            ],
            [
             0.2222222222222222,
             "#7201a8"
            ],
            [
             0.3333333333333333,
             "#9c179e"
            ],
            [
             0.4444444444444444,
             "#bd3786"
            ],
            [
             0.5555555555555556,
             "#d8576b"
            ],
            [
             0.6666666666666666,
             "#ed7953"
            ],
            [
             0.7777777777777778,
             "#fb9f3a"
            ],
            [
             0.8888888888888888,
             "#fdca26"
            ],
            [
             1,
             "#f0f921"
            ]
           ]
          },
          "colorway": [
           "#636efa",
           "#EF553B",
           "#00cc96",
           "#ab63fa",
           "#FFA15A",
           "#19d3f3",
           "#FF6692",
           "#B6E880",
           "#FF97FF",
           "#FECB52"
          ],
          "font": {
           "color": "#2a3f5f"
          },
          "geo": {
           "bgcolor": "white",
           "lakecolor": "white",
           "landcolor": "#E5ECF6",
           "showlakes": true,
           "showland": true,
           "subunitcolor": "white"
          },
          "hoverlabel": {
           "align": "left"
          },
          "hovermode": "closest",
          "mapbox": {
           "style": "light"
          },
          "paper_bgcolor": "white",
          "plot_bgcolor": "#E5ECF6",
          "polar": {
           "angularaxis": {
            "gridcolor": "white",
            "linecolor": "white",
            "ticks": ""
           },
           "bgcolor": "#E5ECF6",
           "radialaxis": {
            "gridcolor": "white",
            "linecolor": "white",
            "ticks": ""
           }
          },
          "scene": {
           "xaxis": {
            "backgroundcolor": "#E5ECF6",
            "gridcolor": "white",
            "gridwidth": 2,
            "linecolor": "white",
            "showbackground": true,
            "ticks": "",
            "zerolinecolor": "white"
           },
           "yaxis": {
            "backgroundcolor": "#E5ECF6",
            "gridcolor": "white",
            "gridwidth": 2,
            "linecolor": "white",
            "showbackground": true,
            "ticks": "",
            "zerolinecolor": "white"
           },
           "zaxis": {
            "backgroundcolor": "#E5ECF6",
            "gridcolor": "white",
            "gridwidth": 2,
            "linecolor": "white",
            "showbackground": true,
            "ticks": "",
            "zerolinecolor": "white"
           }
          },
          "shapedefaults": {
           "line": {
            "color": "#2a3f5f"
           }
          },
          "ternary": {
           "aaxis": {
            "gridcolor": "white",
            "linecolor": "white",
            "ticks": ""
           },
           "baxis": {
            "gridcolor": "white",
            "linecolor": "white",
            "ticks": ""
           },
           "bgcolor": "#E5ECF6",
           "caxis": {
            "gridcolor": "white",
            "linecolor": "white",
            "ticks": ""
           }
          },
          "title": {
           "x": 0.05
          },
          "xaxis": {
           "automargin": true,
           "gridcolor": "white",
           "linecolor": "white",
           "ticks": "",
           "title": {
            "standoff": 15
           },
           "zerolinecolor": "white",
           "zerolinewidth": 2
          },
          "yaxis": {
           "automargin": true,
           "gridcolor": "white",
           "linecolor": "white",
           "ticks": "",
           "title": {
            "standoff": 15
           },
           "zerolinecolor": "white",
           "zerolinewidth": 2
          }
         }
        },
        "title": {
         "text": "Outliers in freedom"
        },
        "xaxis": {
         "anchor": "y",
         "domain": [
          0,
          1
         ]
        },
        "yaxis": {
         "anchor": "x",
         "domain": [
          0,
          1
         ],
         "title": {
          "text": "freedom"
         }
        }
       }
      }
     },
     "metadata": {},
     "output_type": "display_data"
    },
    {
     "data": {
      "application/vnd.plotly.v1+json": {
       "config": {
        "plotlyServerURL": "https://plot.ly"
       },
       "data": [
        {
         "alignmentgroup": "True",
         "hovertemplate": "government_corruption=%{y}<extra></extra>",
         "legendgroup": "",
         "marker": {
          "color": "#636efa"
         },
         "name": "",
         "notched": false,
         "offsetgroup": "",
         "orientation": "v",
         "showlegend": false,
         "type": "box",
         "x0": " ",
         "xaxis": "x",
         "y": [
          0.41978,
          0.14145,
          0.48357,
          0.36503,
          0.32957,
          0.41372,
          0.31814,
          0.43844,
          0.42922,
          0.35637,
          0.07785,
          0.10583,
          0.18676,
          0.21312,
          0.1589,
          0.17521,
          0.37798,
          0.28703,
          0.2254,
          0.38583,
          0.32067,
          0.32524,
          0.11069,
          0.4921,
          0.0927,
          0.21843,
          0.12869,
          0.52208,
          0.20646,
          0.08484,
          0.02652,
          0.24558,
          0.0512,
          0.03187,
          0.32524,
          0.06398,
          0.13586,
          0.08129,
          0.25609,
          0.13633,
          0.0114,
          0.11776,
          0.09472,
          0.30826,
          0.03431,
          0.1806,
          0.07857,
          0.1809,
          0.306,
          0.02901,
          0.088,
          0.01615,
          0.08242,
          0.08454,
          0.03787,
          0.01031,
          0.19317,
          0.05989,
          0.1909,
          0.04212,
          0.10501,
          0.0243,
          0.11023,
          0.03005,
          0.02299,
          0.1428,
          0.06146,
          0.17383,
          0.04741,
          0.30844,
          0.07521,
          0.37124,
          0.15184,
          0,
          0.10441,
          0.15746,
          0.04232,
          0.0403,
          0.15445,
          0.16065,
          0.10464,
          0.14293,
          0.14296,
          0.02781,
          0.12468,
          0.00649,
          0.02617,
          0.01078,
          0.06332,
          0.12279,
          0.39928,
          0.08546,
          0.05327,
          0.15603,
          0.06413,
          0.00227,
          0.12504,
          0.14234,
          0.24249,
          0.02666,
          0.0306,
          0.01397,
          0.04582,
          0.02758,
          0.06825,
          0.15072,
          0.06358,
          0.12905,
          0.12569,
          0.05863,
          0.02961,
          0.13788,
          0.08884,
          0.04355,
          0.08079,
          0.06232,
          0.08492,
          0.1466,
          0.17175,
          0.07625,
          0.05907,
          0.15048,
          0.08786,
          0.17461,
          0.05839,
          0.28105,
          0.039,
          0.12474,
          0.19034,
          0.38331,
          0.06977,
          0.09179,
          0.05786,
          0.00872,
          0.06324,
          0.07854,
          0.07122,
          0.12352,
          0.11686,
          0.199,
          0.07267,
          0.10713,
          0.11091,
          0.15639,
          0.07247,
          0.05747,
          0.08124,
          0.08289,
          0.05269,
          0.12139,
          0.17922,
          0.12832,
          0.09719,
          0.55191,
          0.0801,
          0.18906,
          0.10062,
          0.10731,
          0.44453,
          0.41203,
          0.14975,
          0.35776,
          0.41004,
          0.31329,
          0.29927,
          0.41904,
          0.32331,
          0.40867,
          0.08728,
          0.21348,
          0.14868,
          0.10547,
          0.12275,
          0.28551,
          0.14166,
          0.26248,
          0.29754,
          0.35329,
          0.18355,
          0.46987,
          0.27399,
          0.11451,
          0.08423,
          0.07296,
          0.03986,
          0.35561,
          0.21394,
          0.17554,
          0.05399,
          0.17808,
          0.02833,
          0.30008,
          0.0663,
          0.48049,
          0.06137,
          0.16157,
          0.08701,
          0.12692,
          0.23669,
          0.25772,
          0.01241,
          0.08304,
          0.02947,
          0.10613,
          0.09081,
          0.16292,
          0.28333,
          0.02556,
          0.18037,
          0.10771,
          0.18985,
          0.11132,
          0.01903,
          0.03586,
          0.055,
          0.07716,
          0.07746,
          0.0182,
          0.17457,
          0.16578,
          0.03635,
          0.05292,
          0.28467,
          0.05203,
          0.10339,
          0.0889,
          0.05228,
          0.07396,
          0.00679,
          0.18519,
          0.04294,
          0.04002,
          0.31647,
          0.3118,
          0.06547,
          0.12348,
          0.00322,
          0.13297,
          0.17914,
          0.11757,
          0.02745,
          0.1616,
          0.04762,
          0.04339,
          0,
          0.12721,
          0.12372,
          0.08404,
          0.04472,
          0.1388,
          0.03061,
          0.01521,
          0.07047,
          0.11556,
          0.36794,
          0.0817,
          0.04127,
          0.13509,
          0.03285,
          0.22423,
          0.0305,
          0.06906,
          0.0557,
          0.11479,
          0.07008,
          0.10613,
          0.05301,
          0.12583,
          0.08196,
          0.13636,
          0.10398,
          0.06126,
          0.1717,
          0.08415,
          0.07964,
          0.08722,
          0.20243,
          0.10393,
          0.03616,
          0.06686,
          0.01829,
          0.0326,
          0.06075,
          0.3188,
          0.09753,
          0.11681,
          0.00615,
          0.17955,
          0.08582,
          0.07564,
          0.10039,
          0.09314,
          0.13647,
          0.14476,
          0.10769,
          0.18437,
          0.1553,
          0.08092,
          0.08434,
          0.17176,
          0.13015,
          0.04952,
          0.12533,
          0.06442,
          0.05892,
          0.07506,
          0.05099,
          0.04852,
          0.1192,
          0.50521,
          0.06681,
          0.07112,
          0.11587,
          0.17233,
          0.09419,
          0.3159638345,
          0.4007700682,
          0.1535265595,
          0.3670072854,
          0.3826115429,
          0.2826618254,
          0.2873715162,
          0.3828167021,
          0.3843987286,
          0.3011837304,
          0.0852421001,
          0.1001065895,
          0.2210603654,
          0.1356387883,
          0.2983881533,
          0.2767319381,
          0.2513431311,
          0.318834424,
          0.2654280663,
          0.0822879821,
          0.3244895637,
          0.1110927612,
          0.0368729271,
          0.0597398877,
          0.1327741146,
          0.464307785,
          0.1530660689,
          0.1780618727,
          0.0772232786,
          0.070983924,
          0.1725024283,
          0.0316127352,
          0.0638292357,
          0.0709140971,
          0.4392992556,
          0.0466687419,
          0.2734322548,
          0.0089648161,
          0.2151595503,
          0.0242108516,
          0.2570421696,
          0.0656007081,
          0.1306879818,
          0.1401346475,
          0.0899809599,
          0.0593078062,
          0.2465282232,
          0.0280280914,
          0.032962881,
          0.0965810716,
          0.1637607366,
          0.0118656429,
          0.1460961103,
          0.0738427266,
          0.0632826686,
          0.0100912862,
          0.0043879007,
          0.0604777262,
          0.2592703402,
          0.1192828864,
          0.1553533524,
          0.0451289788,
          0.0470490865,
          0.0421815552,
          0.0412379764,
          0.1832489222,
          0.1563138217,
          0.0926102102,
          0.0996715799,
          0.0910659134,
          0.2939337492,
          0.099331893,
          0.0409037806,
          0.1198032722,
          0.0366369374,
          0.055267781,
          0.04310311,
          0.0574716181,
          0.0227942746,
          0.1243480667,
          0.0153171355,
          0.064491123,
          0.0881741941,
          0.0877631828,
          0.1809875071,
          0.1139452532,
          0.0432897769,
          0.0375138298,
          0.0158694517,
          0,
          0.0733454525,
          0.0602777936,
          0.2824103236,
          0.0876332372,
          0.0261215661,
          0.1463771462,
          0.1733803898,
          0.039439179,
          0.0729755461,
          0.0329022892,
          0.0725094974,
          0.0867231488,
          0.0892826021,
          0.1143813655,
          0.0110515309,
          0.071095176,
          0.0513066314,
          0.0487610735,
          0.039864216,
          0.1237178594,
          0.0931469724,
          0.0646413192,
          0.1794363856,
          0.1888162047,
          0.115460448,
          0.0782135502,
          0.1072157547,
          0.0760467872,
          0.1654557139,
          0.0736539662,
          0.0266744215,
          0.0922268853,
          0.1369570047,
          0.0796181336,
          0.2516666353,
          0.0602413565,
          0.1049702466,
          0.1300617754,
          0.068105951,
          0.08984752,
          0.0253363699,
          0.0230294708,
          0.0570697188,
          0.120328106,
          0.1385729462,
          0.072711654,
          0.0535818823,
          0.0953753814,
          0.11909464,
          0.0697203353,
          0.0611578301,
          0.0985831991,
          0.0609290153,
          0.0672319755,
          0.0998721495,
          0.0567674227,
          0.1167935133,
          0.0389482491,
          0.1109376177,
          0.0956650153,
          0.4552200139,
          0.1513471305,
          0.0660351068,
          0.084147945,
          0.0565650761,
          0.393,
          0.34,
          0.408,
          0.138,
          0.357,
          0.295,
          0.291,
          0.389,
          0.383,
          0.302,
          0.082,
          0.224,
          0.101,
          0.306,
          0.28,
          0.24,
          0.321,
          0.133,
          0.272,
          0.034,
          0.142,
          0.176,
          0.095,
          0.061,
          0.078,
          0.063,
          0.088,
          0.054,
          0.071,
          0.155,
          0.171,
          0.127,
          0.457,
          0.059,
          0.074,
          0.039,
          0.019,
          0.014,
          0.082,
          0.128,
          0.064,
          0.123,
          0.259,
          0.106,
          0.029,
          0.028,
          0.12,
          0.089,
          0.006,
          0.051,
          0.001,
          0.066,
          0.15,
          0.05,
          0.031,
          0.051,
          0.154,
          0.025,
          0.121,
          0.035,
          0.054,
          0.174,
          0.074,
          0.034,
          0.023,
          0,
          0.037,
          0.022,
          0.148,
          0.105,
          0.074,
          0.154,
          0.109,
          0.113,
          0.291,
          0.017,
          0.043,
          0.044,
          0.136,
          0.081,
          0.039,
          0.106,
          0.135,
          0.074,
          0.103,
          0.176,
          0.034,
          0.052,
          0.134,
          0.032,
          0.035,
          0,
          0.032,
          0.079,
          0.018,
          0.171,
          0.282,
          0.043,
          0.009,
          0.078,
          0.052,
          0.052,
          0.076,
          0.056,
          0.129,
          0.103,
          0.029,
          0.082,
          0.174,
          0.063,
          0.032,
          0.053,
          0.077,
          0.144,
          0.05,
          0.095,
          0.056,
          0.064,
          0.065,
          0.128,
          0.107,
          0.158,
          0.055,
          0.082,
          0.093,
          0.146,
          0.215,
          0.028,
          0.178,
          0.06,
          0.052,
          0.093,
          0.099,
          0.061,
          0.067,
          0.082,
          0.011,
          0.101,
          0.094,
          0.112,
          0.061,
          0.049,
          0.099,
          0.036,
          0.092,
          0.08,
          0.104,
          0.03,
          0.144,
          0.444,
          0.064,
          0.097,
          0.106,
          0.038,
          0.076,
          0.393,
          0.41,
          0.341,
          0.118,
          0.298,
          0.343,
          0.373,
          0.38,
          0.308,
          0.226,
          0.29,
          0.093,
          0.082,
          0.316,
          0.278,
          0.31,
          0.265,
          0.21,
          0.128,
          0.036,
          0.182,
          0.151,
          0.073,
          0.183,
          0.097,
          0.056,
          0.078,
          0.132,
          0.167,
          0.079,
          0.054,
          0.086,
          0.15,
          0.453,
          0.074,
          0.03,
          0.11,
          0.014,
          0.016,
          0.05,
          0.24,
          0.042,
          0.034,
          0.057,
          0.127,
          0.006,
          0.05,
          0.005,
          0.041,
          0.087,
          0.097,
          0.028,
          0.064,
          0.056,
          0.161,
          0.028,
          0.06,
          0.14,
          0.078,
          0.096,
          0.064,
          0.02,
          0.08,
          0.162,
          0.027,
          0.025,
          0.098,
          0.031,
          0.107,
          0.039,
          0,
          0.152,
          0.08,
          0.144,
          0.022,
          0.287,
          0.101,
          0.006,
          0.106,
          0.024,
          0.142,
          0.034,
          0.038,
          0.034,
          0.041,
          0.023,
          0.028,
          0.114,
          0.076,
          0.182,
          0.027,
          0.028,
          0.1,
          0.073,
          0.167,
          0.037,
          0.004,
          0.04,
          0.09,
          0.089,
          0.13,
          0.082,
          0.093,
          0.055,
          0.164,
          0.055,
          0.027,
          0.047,
          0.062,
          0.066,
          0.072,
          0.27,
          0.056,
          0.102,
          0.113,
          0.064,
          0.125,
          0.086,
          0.164,
          0.167,
          0.053,
          0.088,
          0.138,
          0.055,
          0.143,
          0.089,
          0.053,
          0.052,
          0.045,
          0.047,
          0.172,
          0.078,
          0.01,
          0.1,
          0.135,
          0.06,
          0.067,
          0.087,
          0.085,
          0.085,
          0.033,
          0.078,
          0.041,
          0.093,
          0.18,
          0.089,
          0.11,
          0.1,
          0.141,
          0.089,
          0.077,
          0.411,
          0.147,
          0.025,
          0.035,
          0.091
         ],
         "y0": " ",
         "yaxis": "y"
        }
       ],
       "layout": {
        "boxmode": "group",
        "font": {
         "color": "white"
        },
        "legend": {
         "tracegroupgap": 0
        },
        "paper_bgcolor": "black",
        "plot_bgcolor": "black",
        "template": {
         "data": {
          "bar": [
           {
            "error_x": {
             "color": "#2a3f5f"
            },
            "error_y": {
             "color": "#2a3f5f"
            },
            "marker": {
             "line": {
              "color": "#E5ECF6",
              "width": 0.5
             },
             "pattern": {
              "fillmode": "overlay",
              "size": 10,
              "solidity": 0.2
             }
            },
            "type": "bar"
           }
          ],
          "barpolar": [
           {
            "marker": {
             "line": {
              "color": "#E5ECF6",
              "width": 0.5
             },
             "pattern": {
              "fillmode": "overlay",
              "size": 10,
              "solidity": 0.2
             }
            },
            "type": "barpolar"
           }
          ],
          "carpet": [
           {
            "aaxis": {
             "endlinecolor": "#2a3f5f",
             "gridcolor": "white",
             "linecolor": "white",
             "minorgridcolor": "white",
             "startlinecolor": "#2a3f5f"
            },
            "baxis": {
             "endlinecolor": "#2a3f5f",
             "gridcolor": "white",
             "linecolor": "white",
             "minorgridcolor": "white",
             "startlinecolor": "#2a3f5f"
            },
            "type": "carpet"
           }
          ],
          "choropleth": [
           {
            "colorbar": {
             "outlinewidth": 0,
             "ticks": ""
            },
            "type": "choropleth"
           }
          ],
          "contour": [
           {
            "colorbar": {
             "outlinewidth": 0,
             "ticks": ""
            },
            "colorscale": [
             [
              0,
              "#0d0887"
             ],
             [
              0.1111111111111111,
              "#46039f"
             ],
             [
              0.2222222222222222,
              "#7201a8"
             ],
             [
              0.3333333333333333,
              "#9c179e"
             ],
             [
              0.4444444444444444,
              "#bd3786"
             ],
             [
              0.5555555555555556,
              "#d8576b"
             ],
             [
              0.6666666666666666,
              "#ed7953"
             ],
             [
              0.7777777777777778,
              "#fb9f3a"
             ],
             [
              0.8888888888888888,
              "#fdca26"
             ],
             [
              1,
              "#f0f921"
             ]
            ],
            "type": "contour"
           }
          ],
          "contourcarpet": [
           {
            "colorbar": {
             "outlinewidth": 0,
             "ticks": ""
            },
            "type": "contourcarpet"
           }
          ],
          "heatmap": [
           {
            "colorbar": {
             "outlinewidth": 0,
             "ticks": ""
            },
            "colorscale": [
             [
              0,
              "#0d0887"
             ],
             [
              0.1111111111111111,
              "#46039f"
             ],
             [
              0.2222222222222222,
              "#7201a8"
             ],
             [
              0.3333333333333333,
              "#9c179e"
             ],
             [
              0.4444444444444444,
              "#bd3786"
             ],
             [
              0.5555555555555556,
              "#d8576b"
             ],
             [
              0.6666666666666666,
              "#ed7953"
             ],
             [
              0.7777777777777778,
              "#fb9f3a"
             ],
             [
              0.8888888888888888,
              "#fdca26"
             ],
             [
              1,
              "#f0f921"
             ]
            ],
            "type": "heatmap"
           }
          ],
          "heatmapgl": [
           {
            "colorbar": {
             "outlinewidth": 0,
             "ticks": ""
            },
            "colorscale": [
             [
              0,
              "#0d0887"
             ],
             [
              0.1111111111111111,
              "#46039f"
             ],
             [
              0.2222222222222222,
              "#7201a8"
             ],
             [
              0.3333333333333333,
              "#9c179e"
             ],
             [
              0.4444444444444444,
              "#bd3786"
             ],
             [
              0.5555555555555556,
              "#d8576b"
             ],
             [
              0.6666666666666666,
              "#ed7953"
             ],
             [
              0.7777777777777778,
              "#fb9f3a"
             ],
             [
              0.8888888888888888,
              "#fdca26"
             ],
             [
              1,
              "#f0f921"
             ]
            ],
            "type": "heatmapgl"
           }
          ],
          "histogram": [
           {
            "marker": {
             "pattern": {
              "fillmode": "overlay",
              "size": 10,
              "solidity": 0.2
             }
            },
            "type": "histogram"
           }
          ],
          "histogram2d": [
           {
            "colorbar": {
             "outlinewidth": 0,
             "ticks": ""
            },
            "colorscale": [
             [
              0,
              "#0d0887"
             ],
             [
              0.1111111111111111,
              "#46039f"
             ],
             [
              0.2222222222222222,
              "#7201a8"
             ],
             [
              0.3333333333333333,
              "#9c179e"
             ],
             [
              0.4444444444444444,
              "#bd3786"
             ],
             [
              0.5555555555555556,
              "#d8576b"
             ],
             [
              0.6666666666666666,
              "#ed7953"
             ],
             [
              0.7777777777777778,
              "#fb9f3a"
             ],
             [
              0.8888888888888888,
              "#fdca26"
             ],
             [
              1,
              "#f0f921"
             ]
            ],
            "type": "histogram2d"
           }
          ],
          "histogram2dcontour": [
           {
            "colorbar": {
             "outlinewidth": 0,
             "ticks": ""
            },
            "colorscale": [
             [
              0,
              "#0d0887"
             ],
             [
              0.1111111111111111,
              "#46039f"
             ],
             [
              0.2222222222222222,
              "#7201a8"
             ],
             [
              0.3333333333333333,
              "#9c179e"
             ],
             [
              0.4444444444444444,
              "#bd3786"
             ],
             [
              0.5555555555555556,
              "#d8576b"
             ],
             [
              0.6666666666666666,
              "#ed7953"
             ],
             [
              0.7777777777777778,
              "#fb9f3a"
             ],
             [
              0.8888888888888888,
              "#fdca26"
             ],
             [
              1,
              "#f0f921"
             ]
            ],
            "type": "histogram2dcontour"
           }
          ],
          "mesh3d": [
           {
            "colorbar": {
             "outlinewidth": 0,
             "ticks": ""
            },
            "type": "mesh3d"
           }
          ],
          "parcoords": [
           {
            "line": {
             "colorbar": {
              "outlinewidth": 0,
              "ticks": ""
             }
            },
            "type": "parcoords"
           }
          ],
          "pie": [
           {
            "automargin": true,
            "type": "pie"
           }
          ],
          "scatter": [
           {
            "fillpattern": {
             "fillmode": "overlay",
             "size": 10,
             "solidity": 0.2
            },
            "type": "scatter"
           }
          ],
          "scatter3d": [
           {
            "line": {
             "colorbar": {
              "outlinewidth": 0,
              "ticks": ""
             }
            },
            "marker": {
             "colorbar": {
              "outlinewidth": 0,
              "ticks": ""
             }
            },
            "type": "scatter3d"
           }
          ],
          "scattercarpet": [
           {
            "marker": {
             "colorbar": {
              "outlinewidth": 0,
              "ticks": ""
             }
            },
            "type": "scattercarpet"
           }
          ],
          "scattergeo": [
           {
            "marker": {
             "colorbar": {
              "outlinewidth": 0,
              "ticks": ""
             }
            },
            "type": "scattergeo"
           }
          ],
          "scattergl": [
           {
            "marker": {
             "colorbar": {
              "outlinewidth": 0,
              "ticks": ""
             }
            },
            "type": "scattergl"
           }
          ],
          "scattermapbox": [
           {
            "marker": {
             "colorbar": {
              "outlinewidth": 0,
              "ticks": ""
             }
            },
            "type": "scattermapbox"
           }
          ],
          "scatterpolar": [
           {
            "marker": {
             "colorbar": {
              "outlinewidth": 0,
              "ticks": ""
             }
            },
            "type": "scatterpolar"
           }
          ],
          "scatterpolargl": [
           {
            "marker": {
             "colorbar": {
              "outlinewidth": 0,
              "ticks": ""
             }
            },
            "type": "scatterpolargl"
           }
          ],
          "scatterternary": [
           {
            "marker": {
             "colorbar": {
              "outlinewidth": 0,
              "ticks": ""
             }
            },
            "type": "scatterternary"
           }
          ],
          "surface": [
           {
            "colorbar": {
             "outlinewidth": 0,
             "ticks": ""
            },
            "colorscale": [
             [
              0,
              "#0d0887"
             ],
             [
              0.1111111111111111,
              "#46039f"
             ],
             [
              0.2222222222222222,
              "#7201a8"
             ],
             [
              0.3333333333333333,
              "#9c179e"
             ],
             [
              0.4444444444444444,
              "#bd3786"
             ],
             [
              0.5555555555555556,
              "#d8576b"
             ],
             [
              0.6666666666666666,
              "#ed7953"
             ],
             [
              0.7777777777777778,
              "#fb9f3a"
             ],
             [
              0.8888888888888888,
              "#fdca26"
             ],
             [
              1,
              "#f0f921"
             ]
            ],
            "type": "surface"
           }
          ],
          "table": [
           {
            "cells": {
             "fill": {
              "color": "#EBF0F8"
             },
             "line": {
              "color": "white"
             }
            },
            "header": {
             "fill": {
              "color": "#C8D4E3"
             },
             "line": {
              "color": "white"
             }
            },
            "type": "table"
           }
          ]
         },
         "layout": {
          "annotationdefaults": {
           "arrowcolor": "#2a3f5f",
           "arrowhead": 0,
           "arrowwidth": 1
          },
          "autotypenumbers": "strict",
          "coloraxis": {
           "colorbar": {
            "outlinewidth": 0,
            "ticks": ""
           }
          },
          "colorscale": {
           "diverging": [
            [
             0,
             "#8e0152"
            ],
            [
             0.1,
             "#c51b7d"
            ],
            [
             0.2,
             "#de77ae"
            ],
            [
             0.3,
             "#f1b6da"
            ],
            [
             0.4,
             "#fde0ef"
            ],
            [
             0.5,
             "#f7f7f7"
            ],
            [
             0.6,
             "#e6f5d0"
            ],
            [
             0.7,
             "#b8e186"
            ],
            [
             0.8,
             "#7fbc41"
            ],
            [
             0.9,
             "#4d9221"
            ],
            [
             1,
             "#276419"
            ]
           ],
           "sequential": [
            [
             0,
             "#0d0887"
            ],
            [
             0.1111111111111111,
             "#46039f"
            ],
            [
             0.2222222222222222,
             "#7201a8"
            ],
            [
             0.3333333333333333,
             "#9c179e"
            ],
            [
             0.4444444444444444,
             "#bd3786"
            ],
            [
             0.5555555555555556,
             "#d8576b"
            ],
            [
             0.6666666666666666,
             "#ed7953"
            ],
            [
             0.7777777777777778,
             "#fb9f3a"
            ],
            [
             0.8888888888888888,
             "#fdca26"
            ],
            [
             1,
             "#f0f921"
            ]
           ],
           "sequentialminus": [
            [
             0,
             "#0d0887"
            ],
            [
             0.1111111111111111,
             "#46039f"
            ],
            [
             0.2222222222222222,
             "#7201a8"
            ],
            [
             0.3333333333333333,
             "#9c179e"
            ],
            [
             0.4444444444444444,
             "#bd3786"
            ],
            [
             0.5555555555555556,
             "#d8576b"
            ],
            [
             0.6666666666666666,
             "#ed7953"
            ],
            [
             0.7777777777777778,
             "#fb9f3a"
            ],
            [
             0.8888888888888888,
             "#fdca26"
            ],
            [
             1,
             "#f0f921"
            ]
           ]
          },
          "colorway": [
           "#636efa",
           "#EF553B",
           "#00cc96",
           "#ab63fa",
           "#FFA15A",
           "#19d3f3",
           "#FF6692",
           "#B6E880",
           "#FF97FF",
           "#FECB52"
          ],
          "font": {
           "color": "#2a3f5f"
          },
          "geo": {
           "bgcolor": "white",
           "lakecolor": "white",
           "landcolor": "#E5ECF6",
           "showlakes": true,
           "showland": true,
           "subunitcolor": "white"
          },
          "hoverlabel": {
           "align": "left"
          },
          "hovermode": "closest",
          "mapbox": {
           "style": "light"
          },
          "paper_bgcolor": "white",
          "plot_bgcolor": "#E5ECF6",
          "polar": {
           "angularaxis": {
            "gridcolor": "white",
            "linecolor": "white",
            "ticks": ""
           },
           "bgcolor": "#E5ECF6",
           "radialaxis": {
            "gridcolor": "white",
            "linecolor": "white",
            "ticks": ""
           }
          },
          "scene": {
           "xaxis": {
            "backgroundcolor": "#E5ECF6",
            "gridcolor": "white",
            "gridwidth": 2,
            "linecolor": "white",
            "showbackground": true,
            "ticks": "",
            "zerolinecolor": "white"
           },
           "yaxis": {
            "backgroundcolor": "#E5ECF6",
            "gridcolor": "white",
            "gridwidth": 2,
            "linecolor": "white",
            "showbackground": true,
            "ticks": "",
            "zerolinecolor": "white"
           },
           "zaxis": {
            "backgroundcolor": "#E5ECF6",
            "gridcolor": "white",
            "gridwidth": 2,
            "linecolor": "white",
            "showbackground": true,
            "ticks": "",
            "zerolinecolor": "white"
           }
          },
          "shapedefaults": {
           "line": {
            "color": "#2a3f5f"
           }
          },
          "ternary": {
           "aaxis": {
            "gridcolor": "white",
            "linecolor": "white",
            "ticks": ""
           },
           "baxis": {
            "gridcolor": "white",
            "linecolor": "white",
            "ticks": ""
           },
           "bgcolor": "#E5ECF6",
           "caxis": {
            "gridcolor": "white",
            "linecolor": "white",
            "ticks": ""
           }
          },
          "title": {
           "x": 0.05
          },
          "xaxis": {
           "automargin": true,
           "gridcolor": "white",
           "linecolor": "white",
           "ticks": "",
           "title": {
            "standoff": 15
           },
           "zerolinecolor": "white",
           "zerolinewidth": 2
          },
          "yaxis": {
           "automargin": true,
           "gridcolor": "white",
           "linecolor": "white",
           "ticks": "",
           "title": {
            "standoff": 15
           },
           "zerolinecolor": "white",
           "zerolinewidth": 2
          }
         }
        },
        "title": {
         "text": "Outliers in government_corruption"
        },
        "xaxis": {
         "anchor": "y",
         "domain": [
          0,
          1
         ]
        },
        "yaxis": {
         "anchor": "x",
         "domain": [
          0,
          1
         ],
         "title": {
          "text": "government_corruption"
         }
        }
       }
      }
     },
     "metadata": {},
     "output_type": "display_data"
    },
    {
     "data": {
      "application/vnd.plotly.v1+json": {
       "config": {
        "plotlyServerURL": "https://plot.ly"
       },
       "data": [
        {
         "alignmentgroup": "True",
         "hovertemplate": "generosity=%{y}<extra></extra>",
         "legendgroup": "",
         "marker": {
          "color": "#636efa"
         },
         "name": "",
         "notched": false,
         "offsetgroup": "",
         "orientation": "v",
         "showlegend": false,
         "type": "box",
         "x0": " ",
         "xaxis": "x",
         "y": [
          0.29678,
          0.4363,
          0.34139,
          0.34699,
          0.45811,
          0.23351,
          0.4761,
          0.36262,
          0.47501,
          0.43562,
          0.33172,
          0.25497,
          0.33088,
          0.14074,
          0.40105,
          0.14574,
          0.28034,
          0.45901,
          0.2225,
          0.26428,
          0.51912,
          0.21542,
          0.05841,
          0.31105,
          0.24434,
          0.28214,
          0.33363,
          0.32573,
          0.12332,
          0.11451,
          0.10686,
          0.2324,
          0.18401,
          0.5763,
          0.13706,
          0.18227,
          0.51752,
          0.25376,
          0.16228,
          0.16991,
          0.31844,
          0.10692,
          0.27489,
          0.22837,
          0.16893,
          0.10705,
          0.18557,
          0.11541,
          0.17362,
          0.22823,
          0.20536,
          0.20951,
          0.3424,
          0.11827,
          0.25328,
          0.02641,
          0.27815,
          0.14982,
          0.11046,
          0.16759,
          0.33075,
          0.05444,
          0.18295,
          0.00199,
          0.2123,
          0.26169,
          0.30638,
          0.07822,
          0.2831,
          0.16979,
          0.37744,
          0.39478,
          0.0868,
          0.51535,
          0.1686,
          0.12253,
          0.3003,
          0.27233,
          0.47998,
          0.07799,
          0.33671,
          0.11053,
          0.1614,
          0.08185,
          0.19591,
          0.13748,
          0.19231,
          0.13719,
          0.18226,
          0.24991,
          0.50318,
          0.07172,
          0.22359,
          0.22269,
          0.14272,
          0.24808,
          0.16388,
          0.21684,
          0.42192,
          0.3323,
          0.18259,
          0,
          0.21854,
          0.128,
          0.23027,
          0.22974,
          0.06431,
          0.11251,
          0.21222,
          0.38086,
          0.15275,
          0.17922,
          0.11973,
          0.23087,
          0.18987,
          0.24362,
          0.26475,
          0.19062,
          0.46187,
          0.24834,
          0.32296,
          0.24325,
          0.21488,
          0.219,
          0.37542,
          0.18093,
          0.07855,
          0.10461,
          0.79588,
          0.05547,
          0.33128,
          0.40828,
          0.20618,
          0.11921,
          0.11291,
          0.09131,
          0.12344,
          0.18798,
          0.12388,
          0.17441,
          0.29066,
          0.20843,
          0.06822,
          0.19387,
          0.40359,
          0.34377,
          0.21333,
          0.23835,
          0.18386,
          0.28657,
          0.20165,
          0.21747,
          0.3651,
          0.22628,
          0.1826,
          0.47179,
          0.19727,
          0.16681,
          0.36171,
          0.28083,
          0.47678,
          0.37895,
          0.25492,
          0.44834,
          0.47416,
          0.49401,
          0.47407,
          0.38254,
          0.32288,
          0.32865,
          0.41077,
          0.22553,
          0.22202,
          0.30452,
          0.15776,
          0.2424,
          0.44963,
          0.27571,
          0.11735,
          0.32706,
          0.50156,
          0.31595,
          0.2418,
          0.10989,
          0.09929,
          0.26591,
          0.18056,
          0.56237,
          0.15626,
          0.1216,
          0.58696,
          0.15457,
          0.25495,
          0.32388,
          0.17665,
          0.07044,
          0.28808,
          0.16665,
          0.15965,
          0.17147,
          0.31935,
          0.0425,
          0.13837,
          0.08877,
          0.41474,
          0.29773,
          0.34326,
          0.16684,
          0.10074,
          0.23684,
          0.10224,
          0.15011,
          0.19997,
          0.02736,
          0.14443,
          0.18824,
          0.21698,
          0.02025,
          0.13942,
          0.26322,
          0.25738,
          0.14527,
          0.22567,
          0.36951,
          0.17087,
          0.17445,
          0.27906,
          0.25296,
          0.12889,
          0.08423,
          0.22245,
          0.18434,
          0.40097,
          0.27225,
          0.27992,
          0.04707,
          0.56521,
          0.14262,
          0.0564,
          0.21674,
          0.04959,
          0.48546,
          0.38432,
          0.20737,
          0.29889,
          0.17191,
          0.21286,
          0.04053,
          0.099,
          0.31185,
          0.23693,
          0.11691,
          0.23507,
          0.25075,
          0.51479,
          0.03936,
          0,
          0.25998,
          0.34539,
          0.43079,
          0.23219,
          0.2044,
          0.38538,
          0.17866,
          0.3816,
          0.11154,
          0.1684,
          0.19132,
          0.23897,
          0.19589,
          0.07795,
          0.2268,
          0.29522,
          0.13656,
          0.46978,
          0.25028,
          0.81971,
          0.12706,
          0.07793,
          0.41328,
          0.20363,
          0.21203,
          0.25458,
          0.06786,
          0.12077,
          0.19103,
          0.12793,
          0.22686,
          0.18503,
          0.30968,
          0.18077,
          0.06244,
          0.21064,
          0.47958,
          0.12425,
          0.1827,
          0.20338,
          0.40339,
          0.12071,
          0.2097,
          0.25899,
          0.18667,
          0.24353,
          0.27102,
          0.09821,
          0.2204,
          0.31472,
          0.24063,
          0.29914,
          0.23552,
          0.2018,
          0.31268,
          0.17517,
          0.48397,
          0.2029,
          0.3620122373,
          0.3552804887,
          0.4755402207,
          0.2905492783,
          0.2454827726,
          0.4704898298,
          0.4355397224,
          0.500005126,
          0.3853992522,
          0.47769925,
          0.330082655,
          0.214613229,
          0.3164723217,
          0.3925787807,
          0.4278583229,
          0.33626917,
          0.2315033376,
          0.2831809819,
          0.4927741587,
          0.3266624212,
          0.3609419465,
          0.1623498946,
          0.0881067589,
          0.1094570607,
          0.1209904328,
          0.3459659815,
          0.5747305751,
          0.1750969291,
          0.2834883928,
          0.2105569392,
          0.1297623068,
          0.5721231103,
          0.2583604753,
          0.1901335716,
          0.33047387,
          0.149014473,
          0.1476160139,
          0.3252964616,
          0.2282897979,
          0.1365444809,
          0.1726684868,
          0.4166089296,
          0.301674217,
          0.150112465,
          0.0782579854,
          0.1584659666,
          0.4159836471,
          0.1727896482,
          0.0522638224,
          0.2400156409,
          0.1205727682,
          0.0101646567,
          0.069436647,
          0.1530747861,
          0.2066743672,
          0.2087791264,
          0.1335199177,
          0.2255607247,
          0.2499249876,
          0.2019644231,
          0.2668457031,
          0.2426490933,
          0.1268197149,
          0.3609337509,
          0.2712543011,
          0.0988908112,
          0.1551375091,
          0.1520736665,
          0.0466930419,
          0.2241506577,
          0.3744657934,
          0.1935134232,
          0.2201258838,
          0.1721704602,
          0.0784016624,
          0.2338183373,
          0.2480029762,
          0.3199314475,
          0.028806841,
          0.3154460192,
          0.6117045879,
          0.0650196299,
          0.1979110241,
          0.0322099552,
          0.0452693403,
          0.1869678497,
          0,
          0.2644507587,
          0.0951027125,
          0.3288674951,
          0.2361888736,
          0.2537609637,
          0.2916313112,
          0.2349680513,
          0.2309471965,
          0.2489976436,
          0.4740545452,
          0.4285803735,
          0.3940961659,
          0.3384642303,
          0.1393623799,
          0.0496933572,
          0.1141731739,
          0.1286314428,
          0.1131776944,
          0.2930409014,
          0.2362984568,
          0.3872429132,
          0.2013129443,
          0.1722553521,
          0.077133745,
          0.4448603094,
          0.3222281039,
          0.838075161,
          0.1834688932,
          0.2495801449,
          0.199637264,
          0.0437853783,
          0.3126507401,
          0.4908635616,
          0.0834880918,
          0.2315384895,
          0.2018700242,
          0.1208521277,
          0.0540088154,
          0.2464558333,
          0.1833541989,
          0.2012374699,
          0.3859229684,
          0.1823174506,
          0.2569239438,
          0.2700614631,
          0.3257660568,
          0.2508646846,
          0.2286738455,
          0.2871704698,
          0.2161138505,
          0.1891434938,
          0.1574972719,
          0.09792649,
          0.3118709326,
          0.0993484482,
          0.2079484612,
          0.2087325305,
          0.4892037809,
          0.1041252092,
          0.2856708169,
          0.2665498853,
          0.2648150921,
          0.1968961507,
          0.2527560294,
          0.4936637282,
          0.3542563617,
          0.2044351846,
          0.2808764875,
          0.202,
          0.286,
          0.284,
          0.353,
          0.256,
          0.333,
          0.321,
          0.365,
          0.285,
          0.361,
          0.262,
          0.242,
          0.143,
          0.307,
          0.273,
          0.188,
          0.196,
          0.291,
          0.354,
          0.064,
          0.376,
          0.098,
          0.069,
          0.197,
          0.151,
          0.125,
          0.11,
          0.062,
          0.179,
          0.13,
          0.256,
          0.098,
          0.261,
          0.311,
          0.142,
          0.099,
          0.171,
          0.118,
          0.065,
          0.208,
          0.108,
          0.243,
          0.328,
          0.167,
          0.364,
          0.137,
          0.114,
          0.183,
          0.026,
          0.16,
          0.088,
          0.092,
          0.079,
          0.245,
          0.096,
          0.175,
          0.179,
          0.065,
          0.148,
          0.202,
          0.141,
          0.086,
          0.162,
          0.092,
          0.274,
          0.171,
          0.199,
          0.061,
          0.116,
          0.12,
          0.197,
          0.101,
          0.106,
          0.216,
          0.246,
          0.055,
          0.134,
          0,
          0.214,
          0.111,
          0.12,
          0.12,
          0.055,
          0.026,
          0.029,
          0.031,
          0.187,
          0.173,
          0.13,
          0.201,
          0.281,
          0.216,
          0.253,
          0.177,
          0.484,
          0.364,
          0.238,
          0.183,
          0.064,
          0.302,
          0.056,
          0.032,
          0.086,
          0.103,
          0.282,
          0.146,
          0.212,
          0.138,
          0.23,
          0.04,
          0.149,
          0.238,
          0.091,
          0.153,
          0.307,
          0.148,
          0.139,
          0.051,
          0.256,
          0.175,
          0.092,
          0.206,
          0.352,
          0.221,
          0.134,
          0.22,
          0.038,
          0.077,
          0.598,
          0.181,
          0.197,
          0.172,
          0.175,
          0.259,
          0.163,
          0.134,
          0.187,
          0.158,
          0.185,
          0.116,
          0.079,
          0.155,
          0.132,
          0.191,
          0.042,
          0.21,
          0.392,
          0.206,
          0.376,
          0.2,
          0.083,
          0.27,
          0.224,
          0.218,
          0.149,
          0.153,
          0.252,
          0.271,
          0.354,
          0.322,
          0.263,
          0.267,
          0.33,
          0.285,
          0.244,
          0.332,
          0.144,
          0.261,
          0.194,
          0.348,
          0.298,
          0.261,
          0.16,
          0.28,
          0.046,
          0.262,
          0.375,
          0.074,
          0.111,
          0.242,
          0.187,
          0.175,
          0.08,
          0.22,
          0.153,
          0.109,
          0.099,
          0.127,
          0.271,
          0.093,
          0.158,
          0.255,
          0.121,
          0.185,
          0.117,
          0.322,
          0.043,
          0.099,
          0.144,
          0.2,
          0.262,
          0.066,
          0.083,
          0.19,
          0.126,
          0.142,
          0.359,
          0.075,
          0.175,
          0.103,
          0.107,
          0.215,
          0.069,
          0.246,
          0.146,
          0.137,
          0.081,
          0.184,
          0.191,
          0.083,
          0.047,
          0.22,
          0.082,
          0.117,
          0.137,
          0.181,
          0.133,
          0.142,
          0.23,
          0.119,
          0.258,
          0.113,
          0.263,
          0.083,
          0.26,
          0.094,
          0,
          0.235,
          0.185,
          0.215,
          0.3,
          0.244,
          0.073,
          0.036,
          0.035,
          0.166,
          0.498,
          0.058,
          0.147,
          0.37,
          0.187,
          0.081,
          0.245,
          0.154,
          0.285,
          0.11,
          0.175,
          0.105,
          0.043,
          0.266,
          0.13,
          0.178,
          0.064,
          0.232,
          0.103,
          0.153,
          0.243,
          0.07,
          0.188,
          0.177,
          0.095,
          0.27,
          0.207,
          0.043,
          0.269,
          0.372,
          0.106,
          0.197,
          0.059,
          0.166,
          0.148,
          0.212,
          0.153,
          0.252,
          0.244,
          0.566,
          0.198,
          0.187,
          0.209,
          0.074,
          0.252,
          0.076,
          0.247,
          0.177,
          0.2,
          0.233,
          0.275,
          0.169,
          0.107,
          0.176,
          0.151,
          0.419,
          0.025,
          0.331,
          0.218,
          0.108,
          0.217,
          0.276,
          0.158,
          0.235,
          0.202
         ],
         "y0": " ",
         "yaxis": "y"
        }
       ],
       "layout": {
        "boxmode": "group",
        "font": {
         "color": "white"
        },
        "legend": {
         "tracegroupgap": 0
        },
        "paper_bgcolor": "black",
        "plot_bgcolor": "black",
        "template": {
         "data": {
          "bar": [
           {
            "error_x": {
             "color": "#2a3f5f"
            },
            "error_y": {
             "color": "#2a3f5f"
            },
            "marker": {
             "line": {
              "color": "#E5ECF6",
              "width": 0.5
             },
             "pattern": {
              "fillmode": "overlay",
              "size": 10,
              "solidity": 0.2
             }
            },
            "type": "bar"
           }
          ],
          "barpolar": [
           {
            "marker": {
             "line": {
              "color": "#E5ECF6",
              "width": 0.5
             },
             "pattern": {
              "fillmode": "overlay",
              "size": 10,
              "solidity": 0.2
             }
            },
            "type": "barpolar"
           }
          ],
          "carpet": [
           {
            "aaxis": {
             "endlinecolor": "#2a3f5f",
             "gridcolor": "white",
             "linecolor": "white",
             "minorgridcolor": "white",
             "startlinecolor": "#2a3f5f"
            },
            "baxis": {
             "endlinecolor": "#2a3f5f",
             "gridcolor": "white",
             "linecolor": "white",
             "minorgridcolor": "white",
             "startlinecolor": "#2a3f5f"
            },
            "type": "carpet"
           }
          ],
          "choropleth": [
           {
            "colorbar": {
             "outlinewidth": 0,
             "ticks": ""
            },
            "type": "choropleth"
           }
          ],
          "contour": [
           {
            "colorbar": {
             "outlinewidth": 0,
             "ticks": ""
            },
            "colorscale": [
             [
              0,
              "#0d0887"
             ],
             [
              0.1111111111111111,
              "#46039f"
             ],
             [
              0.2222222222222222,
              "#7201a8"
             ],
             [
              0.3333333333333333,
              "#9c179e"
             ],
             [
              0.4444444444444444,
              "#bd3786"
             ],
             [
              0.5555555555555556,
              "#d8576b"
             ],
             [
              0.6666666666666666,
              "#ed7953"
             ],
             [
              0.7777777777777778,
              "#fb9f3a"
             ],
             [
              0.8888888888888888,
              "#fdca26"
             ],
             [
              1,
              "#f0f921"
             ]
            ],
            "type": "contour"
           }
          ],
          "contourcarpet": [
           {
            "colorbar": {
             "outlinewidth": 0,
             "ticks": ""
            },
            "type": "contourcarpet"
           }
          ],
          "heatmap": [
           {
            "colorbar": {
             "outlinewidth": 0,
             "ticks": ""
            },
            "colorscale": [
             [
              0,
              "#0d0887"
             ],
             [
              0.1111111111111111,
              "#46039f"
             ],
             [
              0.2222222222222222,
              "#7201a8"
             ],
             [
              0.3333333333333333,
              "#9c179e"
             ],
             [
              0.4444444444444444,
              "#bd3786"
             ],
             [
              0.5555555555555556,
              "#d8576b"
             ],
             [
              0.6666666666666666,
              "#ed7953"
             ],
             [
              0.7777777777777778,
              "#fb9f3a"
             ],
             [
              0.8888888888888888,
              "#fdca26"
             ],
             [
              1,
              "#f0f921"
             ]
            ],
            "type": "heatmap"
           }
          ],
          "heatmapgl": [
           {
            "colorbar": {
             "outlinewidth": 0,
             "ticks": ""
            },
            "colorscale": [
             [
              0,
              "#0d0887"
             ],
             [
              0.1111111111111111,
              "#46039f"
             ],
             [
              0.2222222222222222,
              "#7201a8"
             ],
             [
              0.3333333333333333,
              "#9c179e"
             ],
             [
              0.4444444444444444,
              "#bd3786"
             ],
             [
              0.5555555555555556,
              "#d8576b"
             ],
             [
              0.6666666666666666,
              "#ed7953"
             ],
             [
              0.7777777777777778,
              "#fb9f3a"
             ],
             [
              0.8888888888888888,
              "#fdca26"
             ],
             [
              1,
              "#f0f921"
             ]
            ],
            "type": "heatmapgl"
           }
          ],
          "histogram": [
           {
            "marker": {
             "pattern": {
              "fillmode": "overlay",
              "size": 10,
              "solidity": 0.2
             }
            },
            "type": "histogram"
           }
          ],
          "histogram2d": [
           {
            "colorbar": {
             "outlinewidth": 0,
             "ticks": ""
            },
            "colorscale": [
             [
              0,
              "#0d0887"
             ],
             [
              0.1111111111111111,
              "#46039f"
             ],
             [
              0.2222222222222222,
              "#7201a8"
             ],
             [
              0.3333333333333333,
              "#9c179e"
             ],
             [
              0.4444444444444444,
              "#bd3786"
             ],
             [
              0.5555555555555556,
              "#d8576b"
             ],
             [
              0.6666666666666666,
              "#ed7953"
             ],
             [
              0.7777777777777778,
              "#fb9f3a"
             ],
             [
              0.8888888888888888,
              "#fdca26"
             ],
             [
              1,
              "#f0f921"
             ]
            ],
            "type": "histogram2d"
           }
          ],
          "histogram2dcontour": [
           {
            "colorbar": {
             "outlinewidth": 0,
             "ticks": ""
            },
            "colorscale": [
             [
              0,
              "#0d0887"
             ],
             [
              0.1111111111111111,
              "#46039f"
             ],
             [
              0.2222222222222222,
              "#7201a8"
             ],
             [
              0.3333333333333333,
              "#9c179e"
             ],
             [
              0.4444444444444444,
              "#bd3786"
             ],
             [
              0.5555555555555556,
              "#d8576b"
             ],
             [
              0.6666666666666666,
              "#ed7953"
             ],
             [
              0.7777777777777778,
              "#fb9f3a"
             ],
             [
              0.8888888888888888,
              "#fdca26"
             ],
             [
              1,
              "#f0f921"
             ]
            ],
            "type": "histogram2dcontour"
           }
          ],
          "mesh3d": [
           {
            "colorbar": {
             "outlinewidth": 0,
             "ticks": ""
            },
            "type": "mesh3d"
           }
          ],
          "parcoords": [
           {
            "line": {
             "colorbar": {
              "outlinewidth": 0,
              "ticks": ""
             }
            },
            "type": "parcoords"
           }
          ],
          "pie": [
           {
            "automargin": true,
            "type": "pie"
           }
          ],
          "scatter": [
           {
            "fillpattern": {
             "fillmode": "overlay",
             "size": 10,
             "solidity": 0.2
            },
            "type": "scatter"
           }
          ],
          "scatter3d": [
           {
            "line": {
             "colorbar": {
              "outlinewidth": 0,
              "ticks": ""
             }
            },
            "marker": {
             "colorbar": {
              "outlinewidth": 0,
              "ticks": ""
             }
            },
            "type": "scatter3d"
           }
          ],
          "scattercarpet": [
           {
            "marker": {
             "colorbar": {
              "outlinewidth": 0,
              "ticks": ""
             }
            },
            "type": "scattercarpet"
           }
          ],
          "scattergeo": [
           {
            "marker": {
             "colorbar": {
              "outlinewidth": 0,
              "ticks": ""
             }
            },
            "type": "scattergeo"
           }
          ],
          "scattergl": [
           {
            "marker": {
             "colorbar": {
              "outlinewidth": 0,
              "ticks": ""
             }
            },
            "type": "scattergl"
           }
          ],
          "scattermapbox": [
           {
            "marker": {
             "colorbar": {
              "outlinewidth": 0,
              "ticks": ""
             }
            },
            "type": "scattermapbox"
           }
          ],
          "scatterpolar": [
           {
            "marker": {
             "colorbar": {
              "outlinewidth": 0,
              "ticks": ""
             }
            },
            "type": "scatterpolar"
           }
          ],
          "scatterpolargl": [
           {
            "marker": {
             "colorbar": {
              "outlinewidth": 0,
              "ticks": ""
             }
            },
            "type": "scatterpolargl"
           }
          ],
          "scatterternary": [
           {
            "marker": {
             "colorbar": {
              "outlinewidth": 0,
              "ticks": ""
             }
            },
            "type": "scatterternary"
           }
          ],
          "surface": [
           {
            "colorbar": {
             "outlinewidth": 0,
             "ticks": ""
            },
            "colorscale": [
             [
              0,
              "#0d0887"
             ],
             [
              0.1111111111111111,
              "#46039f"
             ],
             [
              0.2222222222222222,
              "#7201a8"
             ],
             [
              0.3333333333333333,
              "#9c179e"
             ],
             [
              0.4444444444444444,
              "#bd3786"
             ],
             [
              0.5555555555555556,
              "#d8576b"
             ],
             [
              0.6666666666666666,
              "#ed7953"
             ],
             [
              0.7777777777777778,
              "#fb9f3a"
             ],
             [
              0.8888888888888888,
              "#fdca26"
             ],
             [
              1,
              "#f0f921"
             ]
            ],
            "type": "surface"
           }
          ],
          "table": [
           {
            "cells": {
             "fill": {
              "color": "#EBF0F8"
             },
             "line": {
              "color": "white"
             }
            },
            "header": {
             "fill": {
              "color": "#C8D4E3"
             },
             "line": {
              "color": "white"
             }
            },
            "type": "table"
           }
          ]
         },
         "layout": {
          "annotationdefaults": {
           "arrowcolor": "#2a3f5f",
           "arrowhead": 0,
           "arrowwidth": 1
          },
          "autotypenumbers": "strict",
          "coloraxis": {
           "colorbar": {
            "outlinewidth": 0,
            "ticks": ""
           }
          },
          "colorscale": {
           "diverging": [
            [
             0,
             "#8e0152"
            ],
            [
             0.1,
             "#c51b7d"
            ],
            [
             0.2,
             "#de77ae"
            ],
            [
             0.3,
             "#f1b6da"
            ],
            [
             0.4,
             "#fde0ef"
            ],
            [
             0.5,
             "#f7f7f7"
            ],
            [
             0.6,
             "#e6f5d0"
            ],
            [
             0.7,
             "#b8e186"
            ],
            [
             0.8,
             "#7fbc41"
            ],
            [
             0.9,
             "#4d9221"
            ],
            [
             1,
             "#276419"
            ]
           ],
           "sequential": [
            [
             0,
             "#0d0887"
            ],
            [
             0.1111111111111111,
             "#46039f"
            ],
            [
             0.2222222222222222,
             "#7201a8"
            ],
            [
             0.3333333333333333,
             "#9c179e"
            ],
            [
             0.4444444444444444,
             "#bd3786"
            ],
            [
             0.5555555555555556,
             "#d8576b"
            ],
            [
             0.6666666666666666,
             "#ed7953"
            ],
            [
             0.7777777777777778,
             "#fb9f3a"
            ],
            [
             0.8888888888888888,
             "#fdca26"
            ],
            [
             1,
             "#f0f921"
            ]
           ],
           "sequentialminus": [
            [
             0,
             "#0d0887"
            ],
            [
             0.1111111111111111,
             "#46039f"
            ],
            [
             0.2222222222222222,
             "#7201a8"
            ],
            [
             0.3333333333333333,
             "#9c179e"
            ],
            [
             0.4444444444444444,
             "#bd3786"
            ],
            [
             0.5555555555555556,
             "#d8576b"
            ],
            [
             0.6666666666666666,
             "#ed7953"
            ],
            [
             0.7777777777777778,
             "#fb9f3a"
            ],
            [
             0.8888888888888888,
             "#fdca26"
            ],
            [
             1,
             "#f0f921"
            ]
           ]
          },
          "colorway": [
           "#636efa",
           "#EF553B",
           "#00cc96",
           "#ab63fa",
           "#FFA15A",
           "#19d3f3",
           "#FF6692",
           "#B6E880",
           "#FF97FF",
           "#FECB52"
          ],
          "font": {
           "color": "#2a3f5f"
          },
          "geo": {
           "bgcolor": "white",
           "lakecolor": "white",
           "landcolor": "#E5ECF6",
           "showlakes": true,
           "showland": true,
           "subunitcolor": "white"
          },
          "hoverlabel": {
           "align": "left"
          },
          "hovermode": "closest",
          "mapbox": {
           "style": "light"
          },
          "paper_bgcolor": "white",
          "plot_bgcolor": "#E5ECF6",
          "polar": {
           "angularaxis": {
            "gridcolor": "white",
            "linecolor": "white",
            "ticks": ""
           },
           "bgcolor": "#E5ECF6",
           "radialaxis": {
            "gridcolor": "white",
            "linecolor": "white",
            "ticks": ""
           }
          },
          "scene": {
           "xaxis": {
            "backgroundcolor": "#E5ECF6",
            "gridcolor": "white",
            "gridwidth": 2,
            "linecolor": "white",
            "showbackground": true,
            "ticks": "",
            "zerolinecolor": "white"
           },
           "yaxis": {
            "backgroundcolor": "#E5ECF6",
            "gridcolor": "white",
            "gridwidth": 2,
            "linecolor": "white",
            "showbackground": true,
            "ticks": "",
            "zerolinecolor": "white"
           },
           "zaxis": {
            "backgroundcolor": "#E5ECF6",
            "gridcolor": "white",
            "gridwidth": 2,
            "linecolor": "white",
            "showbackground": true,
            "ticks": "",
            "zerolinecolor": "white"
           }
          },
          "shapedefaults": {
           "line": {
            "color": "#2a3f5f"
           }
          },
          "ternary": {
           "aaxis": {
            "gridcolor": "white",
            "linecolor": "white",
            "ticks": ""
           },
           "baxis": {
            "gridcolor": "white",
            "linecolor": "white",
            "ticks": ""
           },
           "bgcolor": "#E5ECF6",
           "caxis": {
            "gridcolor": "white",
            "linecolor": "white",
            "ticks": ""
           }
          },
          "title": {
           "x": 0.05
          },
          "xaxis": {
           "automargin": true,
           "gridcolor": "white",
           "linecolor": "white",
           "ticks": "",
           "title": {
            "standoff": 15
           },
           "zerolinecolor": "white",
           "zerolinewidth": 2
          },
          "yaxis": {
           "automargin": true,
           "gridcolor": "white",
           "linecolor": "white",
           "ticks": "",
           "title": {
            "standoff": 15
           },
           "zerolinecolor": "white",
           "zerolinewidth": 2
          }
         }
        },
        "title": {
         "text": "Outliers in generosity"
        },
        "xaxis": {
         "anchor": "y",
         "domain": [
          0,
          1
         ]
        },
        "yaxis": {
         "anchor": "x",
         "domain": [
          0,
          1
         ],
         "title": {
          "text": "generosity"
         }
        }
       }
      }
     },
     "metadata": {},
     "output_type": "display_data"
    },
    {
     "data": {
      "application/vnd.plotly.v1+json": {
       "config": {
        "plotlyServerURL": "https://plot.ly"
       },
       "data": [
        {
         "alignmentgroup": "True",
         "hovertemplate": "year=%{y}<extra></extra>",
         "legendgroup": "",
         "marker": {
          "color": "#636efa"
         },
         "name": "",
         "notched": false,
         "offsetgroup": "",
         "orientation": "v",
         "showlegend": false,
         "type": "box",
         "x0": " ",
         "xaxis": "x",
         "y": [
          "2015",
          "2015",
          "2015",
          "2015",
          "2015",
          "2015",
          "2015",
          "2015",
          "2015",
          "2015",
          "2015",
          "2015",
          "2015",
          "2015",
          "2015",
          "2015",
          "2015",
          "2015",
          "2015",
          "2015",
          "2015",
          "2015",
          "2015",
          "2015",
          "2015",
          "2015",
          "2015",
          "2015",
          "2015",
          "2015",
          "2015",
          "2015",
          "2015",
          "2015",
          "2015",
          "2015",
          "2015",
          "2015",
          "2015",
          "2015",
          "2015",
          "2015",
          "2015",
          "2015",
          "2015",
          "2015",
          "2015",
          "2015",
          "2015",
          "2015",
          "2015",
          "2015",
          "2015",
          "2015",
          "2015",
          "2015",
          "2015",
          "2015",
          "2015",
          "2015",
          "2015",
          "2015",
          "2015",
          "2015",
          "2015",
          "2015",
          "2015",
          "2015",
          "2015",
          "2015",
          "2015",
          "2015",
          "2015",
          "2015",
          "2015",
          "2015",
          "2015",
          "2015",
          "2015",
          "2015",
          "2015",
          "2015",
          "2015",
          "2015",
          "2015",
          "2015",
          "2015",
          "2015",
          "2015",
          "2015",
          "2015",
          "2015",
          "2015",
          "2015",
          "2015",
          "2015",
          "2015",
          "2015",
          "2015",
          "2015",
          "2015",
          "2015",
          "2015",
          "2015",
          "2015",
          "2015",
          "2015",
          "2015",
          "2015",
          "2015",
          "2015",
          "2015",
          "2015",
          "2015",
          "2015",
          "2015",
          "2015",
          "2015",
          "2015",
          "2015",
          "2015",
          "2015",
          "2015",
          "2015",
          "2015",
          "2015",
          "2015",
          "2015",
          "2015",
          "2015",
          "2015",
          "2015",
          "2015",
          "2015",
          "2015",
          "2015",
          "2015",
          "2015",
          "2015",
          "2015",
          "2015",
          "2015",
          "2015",
          "2015",
          "2015",
          "2015",
          "2015",
          "2015",
          "2015",
          "2015",
          "2015",
          "2015",
          "2015",
          "2015",
          "2015",
          "2015",
          "2015",
          "2015",
          "2016",
          "2016",
          "2016",
          "2016",
          "2016",
          "2016",
          "2016",
          "2016",
          "2016",
          "2016",
          "2016",
          "2016",
          "2016",
          "2016",
          "2016",
          "2016",
          "2016",
          "2016",
          "2016",
          "2016",
          "2016",
          "2016",
          "2016",
          "2016",
          "2016",
          "2016",
          "2016",
          "2016",
          "2016",
          "2016",
          "2016",
          "2016",
          "2016",
          "2016",
          "2016",
          "2016",
          "2016",
          "2016",
          "2016",
          "2016",
          "2016",
          "2016",
          "2016",
          "2016",
          "2016",
          "2016",
          "2016",
          "2016",
          "2016",
          "2016",
          "2016",
          "2016",
          "2016",
          "2016",
          "2016",
          "2016",
          "2016",
          "2016",
          "2016",
          "2016",
          "2016",
          "2016",
          "2016",
          "2016",
          "2016",
          "2016",
          "2016",
          "2016",
          "2016",
          "2016",
          "2016",
          "2016",
          "2016",
          "2016",
          "2016",
          "2016",
          "2016",
          "2016",
          "2016",
          "2016",
          "2016",
          "2016",
          "2016",
          "2016",
          "2016",
          "2016",
          "2016",
          "2016",
          "2016",
          "2016",
          "2016",
          "2016",
          "2016",
          "2016",
          "2016",
          "2016",
          "2016",
          "2016",
          "2016",
          "2016",
          "2016",
          "2016",
          "2016",
          "2016",
          "2016",
          "2016",
          "2016",
          "2016",
          "2016",
          "2016",
          "2016",
          "2016",
          "2016",
          "2016",
          "2016",
          "2016",
          "2016",
          "2016",
          "2016",
          "2016",
          "2016",
          "2016",
          "2016",
          "2016",
          "2016",
          "2016",
          "2016",
          "2016",
          "2016",
          "2016",
          "2016",
          "2016",
          "2016",
          "2016",
          "2016",
          "2016",
          "2016",
          "2016",
          "2016",
          "2016",
          "2016",
          "2016",
          "2016",
          "2016",
          "2016",
          "2016",
          "2016",
          "2016",
          "2016",
          "2016",
          "2016",
          "2016",
          "2016",
          "2016",
          "2016",
          "2016",
          "2016",
          "2017",
          "2017",
          "2017",
          "2017",
          "2017",
          "2017",
          "2017",
          "2017",
          "2017",
          "2017",
          "2017",
          "2017",
          "2017",
          "2017",
          "2017",
          "2017",
          "2017",
          "2017",
          "2017",
          "2017",
          "2017",
          "2017",
          "2017",
          "2017",
          "2017",
          "2017",
          "2017",
          "2017",
          "2017",
          "2017",
          "2017",
          "2017",
          "2017",
          "2017",
          "2017",
          "2017",
          "2017",
          "2017",
          "2017",
          "2017",
          "2017",
          "2017",
          "2017",
          "2017",
          "2017",
          "2017",
          "2017",
          "2017",
          "2017",
          "2017",
          "2017",
          "2017",
          "2017",
          "2017",
          "2017",
          "2017",
          "2017",
          "2017",
          "2017",
          "2017",
          "2017",
          "2017",
          "2017",
          "2017",
          "2017",
          "2017",
          "2017",
          "2017",
          "2017",
          "2017",
          "2017",
          "2017",
          "2017",
          "2017",
          "2017",
          "2017",
          "2017",
          "2017",
          "2017",
          "2017",
          "2017",
          "2017",
          "2017",
          "2017",
          "2017",
          "2017",
          "2017",
          "2017",
          "2017",
          "2017",
          "2017",
          "2017",
          "2017",
          "2017",
          "2017",
          "2017",
          "2017",
          "2017",
          "2017",
          "2017",
          "2017",
          "2017",
          "2017",
          "2017",
          "2017",
          "2017",
          "2017",
          "2017",
          "2017",
          "2017",
          "2017",
          "2017",
          "2017",
          "2017",
          "2017",
          "2017",
          "2017",
          "2017",
          "2017",
          "2017",
          "2017",
          "2017",
          "2017",
          "2017",
          "2017",
          "2017",
          "2017",
          "2017",
          "2017",
          "2017",
          "2017",
          "2017",
          "2017",
          "2017",
          "2017",
          "2017",
          "2017",
          "2017",
          "2017",
          "2017",
          "2017",
          "2017",
          "2017",
          "2017",
          "2017",
          "2017",
          "2017",
          "2017",
          "2017",
          "2017",
          "2017",
          "2017",
          "2017",
          "2017",
          "2017",
          "2018",
          "2018",
          "2018",
          "2018",
          "2018",
          "2018",
          "2018",
          "2018",
          "2018",
          "2018",
          "2018",
          "2018",
          "2018",
          "2018",
          "2018",
          "2018",
          "2018",
          "2018",
          "2018",
          "2018",
          "2018",
          "2018",
          "2018",
          "2018",
          "2018",
          "2018",
          "2018",
          "2018",
          "2018",
          "2018",
          "2018",
          "2018",
          "2018",
          "2018",
          "2018",
          "2018",
          "2018",
          "2018",
          "2018",
          "2018",
          "2018",
          "2018",
          "2018",
          "2018",
          "2018",
          "2018",
          "2018",
          "2018",
          "2018",
          "2018",
          "2018",
          "2018",
          "2018",
          "2018",
          "2018",
          "2018",
          "2018",
          "2018",
          "2018",
          "2018",
          "2018",
          "2018",
          "2018",
          "2018",
          "2018",
          "2018",
          "2018",
          "2018",
          "2018",
          "2018",
          "2018",
          "2018",
          "2018",
          "2018",
          "2018",
          "2018",
          "2018",
          "2018",
          "2018",
          "2018",
          "2018",
          "2018",
          "2018",
          "2018",
          "2018",
          "2018",
          "2018",
          "2018",
          "2018",
          "2018",
          "2018",
          "2018",
          "2018",
          "2018",
          "2018",
          "2018",
          "2018",
          "2018",
          "2018",
          "2018",
          "2018",
          "2018",
          "2018",
          "2018",
          "2018",
          "2018",
          "2018",
          "2018",
          "2018",
          "2018",
          "2018",
          "2018",
          "2018",
          "2018",
          "2018",
          "2018",
          "2018",
          "2018",
          "2018",
          "2018",
          "2018",
          "2018",
          "2018",
          "2018",
          "2018",
          "2018",
          "2018",
          "2018",
          "2018",
          "2018",
          "2018",
          "2018",
          "2018",
          "2018",
          "2018",
          "2018",
          "2018",
          "2018",
          "2018",
          "2018",
          "2018",
          "2018",
          "2018",
          "2018",
          "2018",
          "2018",
          "2018",
          "2018",
          "2018",
          "2018",
          "2018",
          "2018",
          "2018",
          "2018",
          "2018",
          "2019",
          "2019",
          "2019",
          "2019",
          "2019",
          "2019",
          "2019",
          "2019",
          "2019",
          "2019",
          "2019",
          "2019",
          "2019",
          "2019",
          "2019",
          "2019",
          "2019",
          "2019",
          "2019",
          "2019",
          "2019",
          "2019",
          "2019",
          "2019",
          "2019",
          "2019",
          "2019",
          "2019",
          "2019",
          "2019",
          "2019",
          "2019",
          "2019",
          "2019",
          "2019",
          "2019",
          "2019",
          "2019",
          "2019",
          "2019",
          "2019",
          "2019",
          "2019",
          "2019",
          "2019",
          "2019",
          "2019",
          "2019",
          "2019",
          "2019",
          "2019",
          "2019",
          "2019",
          "2019",
          "2019",
          "2019",
          "2019",
          "2019",
          "2019",
          "2019",
          "2019",
          "2019",
          "2019",
          "2019",
          "2019",
          "2019",
          "2019",
          "2019",
          "2019",
          "2019",
          "2019",
          "2019",
          "2019",
          "2019",
          "2019",
          "2019",
          "2019",
          "2019",
          "2019",
          "2019",
          "2019",
          "2019",
          "2019",
          "2019",
          "2019",
          "2019",
          "2019",
          "2019",
          "2019",
          "2019",
          "2019",
          "2019",
          "2019",
          "2019",
          "2019",
          "2019",
          "2019",
          "2019",
          "2019",
          "2019",
          "2019",
          "2019",
          "2019",
          "2019",
          "2019",
          "2019",
          "2019",
          "2019",
          "2019",
          "2019",
          "2019",
          "2019",
          "2019",
          "2019",
          "2019",
          "2019",
          "2019",
          "2019",
          "2019",
          "2019",
          "2019",
          "2019",
          "2019",
          "2019",
          "2019",
          "2019",
          "2019",
          "2019",
          "2019",
          "2019",
          "2019",
          "2019",
          "2019",
          "2019",
          "2019",
          "2019",
          "2019",
          "2019",
          "2019",
          "2019",
          "2019",
          "2019",
          "2019",
          "2019",
          "2019",
          "2019",
          "2019",
          "2019",
          "2019",
          "2019",
          "2019",
          "2019",
          "2019",
          "2019",
          "2019",
          "2019"
         ],
         "y0": " ",
         "yaxis": "y"
        }
       ],
       "layout": {
        "boxmode": "group",
        "font": {
         "color": "white"
        },
        "legend": {
         "tracegroupgap": 0
        },
        "paper_bgcolor": "black",
        "plot_bgcolor": "black",
        "template": {
         "data": {
          "bar": [
           {
            "error_x": {
             "color": "#2a3f5f"
            },
            "error_y": {
             "color": "#2a3f5f"
            },
            "marker": {
             "line": {
              "color": "#E5ECF6",
              "width": 0.5
             },
             "pattern": {
              "fillmode": "overlay",
              "size": 10,
              "solidity": 0.2
             }
            },
            "type": "bar"
           }
          ],
          "barpolar": [
           {
            "marker": {
             "line": {
              "color": "#E5ECF6",
              "width": 0.5
             },
             "pattern": {
              "fillmode": "overlay",
              "size": 10,
              "solidity": 0.2
             }
            },
            "type": "barpolar"
           }
          ],
          "carpet": [
           {
            "aaxis": {
             "endlinecolor": "#2a3f5f",
             "gridcolor": "white",
             "linecolor": "white",
             "minorgridcolor": "white",
             "startlinecolor": "#2a3f5f"
            },
            "baxis": {
             "endlinecolor": "#2a3f5f",
             "gridcolor": "white",
             "linecolor": "white",
             "minorgridcolor": "white",
             "startlinecolor": "#2a3f5f"
            },
            "type": "carpet"
           }
          ],
          "choropleth": [
           {
            "colorbar": {
             "outlinewidth": 0,
             "ticks": ""
            },
            "type": "choropleth"
           }
          ],
          "contour": [
           {
            "colorbar": {
             "outlinewidth": 0,
             "ticks": ""
            },
            "colorscale": [
             [
              0,
              "#0d0887"
             ],
             [
              0.1111111111111111,
              "#46039f"
             ],
             [
              0.2222222222222222,
              "#7201a8"
             ],
             [
              0.3333333333333333,
              "#9c179e"
             ],
             [
              0.4444444444444444,
              "#bd3786"
             ],
             [
              0.5555555555555556,
              "#d8576b"
             ],
             [
              0.6666666666666666,
              "#ed7953"
             ],
             [
              0.7777777777777778,
              "#fb9f3a"
             ],
             [
              0.8888888888888888,
              "#fdca26"
             ],
             [
              1,
              "#f0f921"
             ]
            ],
            "type": "contour"
           }
          ],
          "contourcarpet": [
           {
            "colorbar": {
             "outlinewidth": 0,
             "ticks": ""
            },
            "type": "contourcarpet"
           }
          ],
          "heatmap": [
           {
            "colorbar": {
             "outlinewidth": 0,
             "ticks": ""
            },
            "colorscale": [
             [
              0,
              "#0d0887"
             ],
             [
              0.1111111111111111,
              "#46039f"
             ],
             [
              0.2222222222222222,
              "#7201a8"
             ],
             [
              0.3333333333333333,
              "#9c179e"
             ],
             [
              0.4444444444444444,
              "#bd3786"
             ],
             [
              0.5555555555555556,
              "#d8576b"
             ],
             [
              0.6666666666666666,
              "#ed7953"
             ],
             [
              0.7777777777777778,
              "#fb9f3a"
             ],
             [
              0.8888888888888888,
              "#fdca26"
             ],
             [
              1,
              "#f0f921"
             ]
            ],
            "type": "heatmap"
           }
          ],
          "heatmapgl": [
           {
            "colorbar": {
             "outlinewidth": 0,
             "ticks": ""
            },
            "colorscale": [
             [
              0,
              "#0d0887"
             ],
             [
              0.1111111111111111,
              "#46039f"
             ],
             [
              0.2222222222222222,
              "#7201a8"
             ],
             [
              0.3333333333333333,
              "#9c179e"
             ],
             [
              0.4444444444444444,
              "#bd3786"
             ],
             [
              0.5555555555555556,
              "#d8576b"
             ],
             [
              0.6666666666666666,
              "#ed7953"
             ],
             [
              0.7777777777777778,
              "#fb9f3a"
             ],
             [
              0.8888888888888888,
              "#fdca26"
             ],
             [
              1,
              "#f0f921"
             ]
            ],
            "type": "heatmapgl"
           }
          ],
          "histogram": [
           {
            "marker": {
             "pattern": {
              "fillmode": "overlay",
              "size": 10,
              "solidity": 0.2
             }
            },
            "type": "histogram"
           }
          ],
          "histogram2d": [
           {
            "colorbar": {
             "outlinewidth": 0,
             "ticks": ""
            },
            "colorscale": [
             [
              0,
              "#0d0887"
             ],
             [
              0.1111111111111111,
              "#46039f"
             ],
             [
              0.2222222222222222,
              "#7201a8"
             ],
             [
              0.3333333333333333,
              "#9c179e"
             ],
             [
              0.4444444444444444,
              "#bd3786"
             ],
             [
              0.5555555555555556,
              "#d8576b"
             ],
             [
              0.6666666666666666,
              "#ed7953"
             ],
             [
              0.7777777777777778,
              "#fb9f3a"
             ],
             [
              0.8888888888888888,
              "#fdca26"
             ],
             [
              1,
              "#f0f921"
             ]
            ],
            "type": "histogram2d"
           }
          ],
          "histogram2dcontour": [
           {
            "colorbar": {
             "outlinewidth": 0,
             "ticks": ""
            },
            "colorscale": [
             [
              0,
              "#0d0887"
             ],
             [
              0.1111111111111111,
              "#46039f"
             ],
             [
              0.2222222222222222,
              "#7201a8"
             ],
             [
              0.3333333333333333,
              "#9c179e"
             ],
             [
              0.4444444444444444,
              "#bd3786"
             ],
             [
              0.5555555555555556,
              "#d8576b"
             ],
             [
              0.6666666666666666,
              "#ed7953"
             ],
             [
              0.7777777777777778,
              "#fb9f3a"
             ],
             [
              0.8888888888888888,
              "#fdca26"
             ],
             [
              1,
              "#f0f921"
             ]
            ],
            "type": "histogram2dcontour"
           }
          ],
          "mesh3d": [
           {
            "colorbar": {
             "outlinewidth": 0,
             "ticks": ""
            },
            "type": "mesh3d"
           }
          ],
          "parcoords": [
           {
            "line": {
             "colorbar": {
              "outlinewidth": 0,
              "ticks": ""
             }
            },
            "type": "parcoords"
           }
          ],
          "pie": [
           {
            "automargin": true,
            "type": "pie"
           }
          ],
          "scatter": [
           {
            "fillpattern": {
             "fillmode": "overlay",
             "size": 10,
             "solidity": 0.2
            },
            "type": "scatter"
           }
          ],
          "scatter3d": [
           {
            "line": {
             "colorbar": {
              "outlinewidth": 0,
              "ticks": ""
             }
            },
            "marker": {
             "colorbar": {
              "outlinewidth": 0,
              "ticks": ""
             }
            },
            "type": "scatter3d"
           }
          ],
          "scattercarpet": [
           {
            "marker": {
             "colorbar": {
              "outlinewidth": 0,
              "ticks": ""
             }
            },
            "type": "scattercarpet"
           }
          ],
          "scattergeo": [
           {
            "marker": {
             "colorbar": {
              "outlinewidth": 0,
              "ticks": ""
             }
            },
            "type": "scattergeo"
           }
          ],
          "scattergl": [
           {
            "marker": {
             "colorbar": {
              "outlinewidth": 0,
              "ticks": ""
             }
            },
            "type": "scattergl"
           }
          ],
          "scattermapbox": [
           {
            "marker": {
             "colorbar": {
              "outlinewidth": 0,
              "ticks": ""
             }
            },
            "type": "scattermapbox"
           }
          ],
          "scatterpolar": [
           {
            "marker": {
             "colorbar": {
              "outlinewidth": 0,
              "ticks": ""
             }
            },
            "type": "scatterpolar"
           }
          ],
          "scatterpolargl": [
           {
            "marker": {
             "colorbar": {
              "outlinewidth": 0,
              "ticks": ""
             }
            },
            "type": "scatterpolargl"
           }
          ],
          "scatterternary": [
           {
            "marker": {
             "colorbar": {
              "outlinewidth": 0,
              "ticks": ""
             }
            },
            "type": "scatterternary"
           }
          ],
          "surface": [
           {
            "colorbar": {
             "outlinewidth": 0,
             "ticks": ""
            },
            "colorscale": [
             [
              0,
              "#0d0887"
             ],
             [
              0.1111111111111111,
              "#46039f"
             ],
             [
              0.2222222222222222,
              "#7201a8"
             ],
             [
              0.3333333333333333,
              "#9c179e"
             ],
             [
              0.4444444444444444,
              "#bd3786"
             ],
             [
              0.5555555555555556,
              "#d8576b"
             ],
             [
              0.6666666666666666,
              "#ed7953"
             ],
             [
              0.7777777777777778,
              "#fb9f3a"
             ],
             [
              0.8888888888888888,
              "#fdca26"
             ],
             [
              1,
              "#f0f921"
             ]
            ],
            "type": "surface"
           }
          ],
          "table": [
           {
            "cells": {
             "fill": {
              "color": "#EBF0F8"
             },
             "line": {
              "color": "white"
             }
            },
            "header": {
             "fill": {
              "color": "#C8D4E3"
             },
             "line": {
              "color": "white"
             }
            },
            "type": "table"
           }
          ]
         },
         "layout": {
          "annotationdefaults": {
           "arrowcolor": "#2a3f5f",
           "arrowhead": 0,
           "arrowwidth": 1
          },
          "autotypenumbers": "strict",
          "coloraxis": {
           "colorbar": {
            "outlinewidth": 0,
            "ticks": ""
           }
          },
          "colorscale": {
           "diverging": [
            [
             0,
             "#8e0152"
            ],
            [
             0.1,
             "#c51b7d"
            ],
            [
             0.2,
             "#de77ae"
            ],
            [
             0.3,
             "#f1b6da"
            ],
            [
             0.4,
             "#fde0ef"
            ],
            [
             0.5,
             "#f7f7f7"
            ],
            [
             0.6,
             "#e6f5d0"
            ],
            [
             0.7,
             "#b8e186"
            ],
            [
             0.8,
             "#7fbc41"
            ],
            [
             0.9,
             "#4d9221"
            ],
            [
             1,
             "#276419"
            ]
           ],
           "sequential": [
            [
             0,
             "#0d0887"
            ],
            [
             0.1111111111111111,
             "#46039f"
            ],
            [
             0.2222222222222222,
             "#7201a8"
            ],
            [
             0.3333333333333333,
             "#9c179e"
            ],
            [
             0.4444444444444444,
             "#bd3786"
            ],
            [
             0.5555555555555556,
             "#d8576b"
            ],
            [
             0.6666666666666666,
             "#ed7953"
            ],
            [
             0.7777777777777778,
             "#fb9f3a"
            ],
            [
             0.8888888888888888,
             "#fdca26"
            ],
            [
             1,
             "#f0f921"
            ]
           ],
           "sequentialminus": [
            [
             0,
             "#0d0887"
            ],
            [
             0.1111111111111111,
             "#46039f"
            ],
            [
             0.2222222222222222,
             "#7201a8"
            ],
            [
             0.3333333333333333,
             "#9c179e"
            ],
            [
             0.4444444444444444,
             "#bd3786"
            ],
            [
             0.5555555555555556,
             "#d8576b"
            ],
            [
             0.6666666666666666,
             "#ed7953"
            ],
            [
             0.7777777777777778,
             "#fb9f3a"
            ],
            [
             0.8888888888888888,
             "#fdca26"
            ],
            [
             1,
             "#f0f921"
            ]
           ]
          },
          "colorway": [
           "#636efa",
           "#EF553B",
           "#00cc96",
           "#ab63fa",
           "#FFA15A",
           "#19d3f3",
           "#FF6692",
           "#B6E880",
           "#FF97FF",
           "#FECB52"
          ],
          "font": {
           "color": "#2a3f5f"
          },
          "geo": {
           "bgcolor": "white",
           "lakecolor": "white",
           "landcolor": "#E5ECF6",
           "showlakes": true,
           "showland": true,
           "subunitcolor": "white"
          },
          "hoverlabel": {
           "align": "left"
          },
          "hovermode": "closest",
          "mapbox": {
           "style": "light"
          },
          "paper_bgcolor": "white",
          "plot_bgcolor": "#E5ECF6",
          "polar": {
           "angularaxis": {
            "gridcolor": "white",
            "linecolor": "white",
            "ticks": ""
           },
           "bgcolor": "#E5ECF6",
           "radialaxis": {
            "gridcolor": "white",
            "linecolor": "white",
            "ticks": ""
           }
          },
          "scene": {
           "xaxis": {
            "backgroundcolor": "#E5ECF6",
            "gridcolor": "white",
            "gridwidth": 2,
            "linecolor": "white",
            "showbackground": true,
            "ticks": "",
            "zerolinecolor": "white"
           },
           "yaxis": {
            "backgroundcolor": "#E5ECF6",
            "gridcolor": "white",
            "gridwidth": 2,
            "linecolor": "white",
            "showbackground": true,
            "ticks": "",
            "zerolinecolor": "white"
           },
           "zaxis": {
            "backgroundcolor": "#E5ECF6",
            "gridcolor": "white",
            "gridwidth": 2,
            "linecolor": "white",
            "showbackground": true,
            "ticks": "",
            "zerolinecolor": "white"
           }
          },
          "shapedefaults": {
           "line": {
            "color": "#2a3f5f"
           }
          },
          "ternary": {
           "aaxis": {
            "gridcolor": "white",
            "linecolor": "white",
            "ticks": ""
           },
           "baxis": {
            "gridcolor": "white",
            "linecolor": "white",
            "ticks": ""
           },
           "bgcolor": "#E5ECF6",
           "caxis": {
            "gridcolor": "white",
            "linecolor": "white",
            "ticks": ""
           }
          },
          "title": {
           "x": 0.05
          },
          "xaxis": {
           "automargin": true,
           "gridcolor": "white",
           "linecolor": "white",
           "ticks": "",
           "title": {
            "standoff": 15
           },
           "zerolinecolor": "white",
           "zerolinewidth": 2
          },
          "yaxis": {
           "automargin": true,
           "gridcolor": "white",
           "linecolor": "white",
           "ticks": "",
           "title": {
            "standoff": 15
           },
           "zerolinecolor": "white",
           "zerolinewidth": 2
          }
         }
        },
        "title": {
         "text": "Outliers in year"
        },
        "xaxis": {
         "anchor": "y",
         "domain": [
          0,
          1
         ]
        },
        "yaxis": {
         "anchor": "x",
         "domain": [
          0,
          1
         ],
         "title": {
          "text": "year"
         }
        }
       }
      }
     },
     "metadata": {},
     "output_type": "display_data"
    }
   ],
   "source": [
    "for feature in features_columns:\n",
    "    fig = px.box(dataframe_filtered, y=feature, title=f'Outliers in {feature}')\n",
    "    fig.update_layout(\n",
    "        paper_bgcolor='black',\n",
    "        plot_bgcolor='black',\n",
    "        font=dict(color='white')\n",
    "    )\n",
    "    fig.show()"
   ]
  },
  {
   "cell_type": "markdown",
   "metadata": {},
   "source": [
    "As we can see, of the 7 columns we can count on to predict **Happiness Score**, the **family**, **government_corruption** and **generosity** columns have a considerable number of outliers. So we are going to take two paths, on the one hand the data without an adjustment treatment and on the other hand the adjusted data."
   ]
  },
  {
   "cell_type": "code",
   "execution_count": 74,
   "metadata": {},
   "outputs": [],
   "source": [
    "ajusted_dataframe = dataframe_filtered.copy()\n",
    "unajusted_dataframe = dataframe_filtered.copy()"
   ]
  },
  {
   "cell_type": "code",
   "execution_count": 75,
   "metadata": {},
   "outputs": [
    {
     "data": {
      "text/plain": [
       "Index(['happiness_rank', 'happiness_score', 'economy_per_capita', 'family',\n",
       "       'life_expectancy', 'freedom', 'government_corruption', 'generosity',\n",
       "       'year', 'country_region'],\n",
       "      dtype='object')"
      ]
     },
     "execution_count": 75,
     "metadata": {},
     "output_type": "execute_result"
    }
   ],
   "source": [
    "ajusted_dataframe.columns"
   ]
  },
  {
   "cell_type": "markdown",
   "metadata": {},
   "source": [
    "##### Ajusted dataframe"
   ]
  },
  {
   "cell_type": "code",
   "execution_count": 90,
   "metadata": {},
   "outputs": [],
   "source": [
    "def remove_outliers(dataframe, column):\n",
    "    Q1 = dataframe[column].quantile(0.25)\n",
    "    Q3 = dataframe[column].quantile(0.75)\n",
    "    IQR = Q3 - Q1\n",
    "    lower_bound = Q1 - 1.5 * IQR\n",
    "    upper_bound = Q3 + 1.5 * IQR\n",
    "    return dataframe[(dataframe[column] >= lower_bound) & (dataframe[column] <= upper_bound)]"
   ]
  },
  {
   "cell_type": "code",
   "execution_count": 91,
   "metadata": {},
   "outputs": [],
   "source": [
    "for feature in ['economy_per_capita', 'family', 'life_expectancy', 'freedom', 'government_corruption', 'generosity']:\n",
    "    ajusted_dataframe = remove_outliers(ajusted_dataframe, feature)\n"
   ]
  },
  {
   "cell_type": "code",
   "execution_count": 92,
   "metadata": {},
   "outputs": [
    {
     "data": {
      "text/plain": [
       "(675, 10)"
      ]
     },
     "execution_count": 92,
     "metadata": {},
     "output_type": "execute_result"
    }
   ],
   "source": [
    "ajusted_dataframe.shape"
   ]
  },
  {
   "cell_type": "markdown",
   "metadata": {},
   "source": [
    "According to the adjustment through the IQR method, we went from 781 to 675 records."
   ]
  },
  {
   "cell_type": "markdown",
   "metadata": {},
   "source": [
    "#### Model"
   ]
  },
  {
   "cell_type": "markdown",
   "metadata": {},
   "source": [
    "Now, let's start with the models."
   ]
  },
  {
   "cell_type": "code",
   "execution_count": 93,
   "metadata": {},
   "outputs": [],
   "source": [
    "from sklearn.model_selection import train_test_split \n",
    "from sklearn.linear_model import LinearRegression\n",
    "from sklearn.ensemble import RandomForestRegressor, GradientBoostingRegressor\n",
    "from sklearn.metrics import r2_score, mean_absolute_error, mean_squared_error"
   ]
  },
  {
   "cell_type": "code",
   "execution_count": 94,
   "metadata": {},
   "outputs": [],
   "source": [
    "columns_to_use = ['happiness_score', 'economy_per_capita', 'family', 'life_expectancy', 'freedom', 'government_corruption', 'generosity', 'year']"
   ]
  },
  {
   "cell_type": "markdown",
   "metadata": {},
   "source": [
    "To perform the tests in an agile way, we will create a class that executes everything necessary and automate this process."
   ]
  },
  {
   "cell_type": "code",
   "execution_count": 95,
   "metadata": {},
   "outputs": [],
   "source": [
    "class Test_Model():\n",
    "    \n",
    "    def __init__(self, dataframe, model, random_split_index, preprocessor = None) -> None:\n",
    "        self.dataframe = dataframe\n",
    "        self.model = model\n",
    "        self.X = dataframe.loc[:, ~dataframe.columns.isin(['happiness_score'])]\n",
    "        self.y = dataframe['happiness_score']\n",
    "        self.random_split_index = random_split_index\n",
    "        self.preprocessor = preprocessor\n",
    "\n",
    "        self.test_split()\n",
    "        self.fit_model()\n",
    "        self.predict_model()        \n",
    "    \n",
    "    def test_split(self):\n",
    "        self.X_train, self.X_test, self.y_train, self.y_test = train_test_split(self.X, self.y, test_size=0.3, random_state=self.random_split_index)\n",
    "        \n",
    "        self.test_data = self.dataframe.loc[self.y_test.index]\n",
    "    \n",
    "    def fit_model(self):\n",
    "        if self.preprocessor:\n",
    "            self.X_train = self.preprocessor.fit_transform(self.X_train)\n",
    "            self.X_test = self.preprocessor.transform(self.X_test)\n",
    "        self.model.fit(self.X_train, self.y_train)\n",
    "    \n",
    "    def predict_model(self):\n",
    "        self.y_pred = self.model.predict(self.X_test)\n",
    "        self.test_data['happiness_predicted'] = self.y_pred\n",
    "    \n",
    "    def metrics(self):\n",
    "        r2 = r2_score(self.y_test, self.y_pred)\n",
    "        mae = mean_absolute_error(self.y_test, self.y_pred)\n",
    "        mse = mean_squared_error(self.y_test, self.y_pred)\n",
    "        \n",
    "        return f'R2: {r2} | MAE: {mae} | MSE: {mse}'\n",
    "    \n",
    "    def get_r2_metric(self):\n",
    "        r2 = r2_score(self.y_test, self.y_pred)\n",
    "        return r2\n",
    "\n",
    "    def get_model(self):\n",
    "        return self.model\n",
    "    \n",
    "    def get_shapes(self):\n",
    "        return f\"X train: {self.X_train.shape} | X test: {self.X_test.shape}\"\n",
    "    \n",
    "    def get_test_data(self):\n",
    "        return self.test_data"
   ]
  },
  {
   "cell_type": "markdown",
   "metadata": {},
   "source": [
    "Let's train models:"
   ]
  },
  {
   "cell_type": "markdown",
   "metadata": {},
   "source": [
    "##### Linear regression"
   ]
  },
  {
   "cell_type": "markdown",
   "metadata": {},
   "source": [
    "Unajusted dataframe:"
   ]
  },
  {
   "cell_type": "code",
   "execution_count": 96,
   "metadata": {},
   "outputs": [],
   "source": [
    "linear_regression_test = Test_Model(unajusted_dataframe[['economy_per_capita', 'family', 'life_expectancy', 'freedom', 'government_corruption', 'generosity', 'year', 'happiness_score']], LinearRegression(), 125)"
   ]
  },
  {
   "cell_type": "code",
   "execution_count": 97,
   "metadata": {},
   "outputs": [
    {
     "data": {
      "text/plain": [
       "'R2: 0.8152564389436721 | MAE: 0.38439142063503495 | MSE: 0.23266887900698213'"
      ]
     },
     "execution_count": 97,
     "metadata": {},
     "output_type": "execute_result"
    }
   ],
   "source": [
    "linear_regression_test.metrics()"
   ]
  },
  {
   "cell_type": "code",
   "execution_count": 98,
   "metadata": {},
   "outputs": [
    {
     "data": {
      "text/plain": [
       "'X train: (546, 7) | X test: (235, 7)'"
      ]
     },
     "execution_count": 98,
     "metadata": {},
     "output_type": "execute_result"
    }
   ],
   "source": [
    "linear_regression_test.get_shapes()"
   ]
  },
  {
   "cell_type": "code",
   "execution_count": 99,
   "metadata": {},
   "outputs": [
    {
     "data": {
      "text/html": [
       "<div>\n",
       "<style scoped>\n",
       "    .dataframe tbody tr th:only-of-type {\n",
       "        vertical-align: middle;\n",
       "    }\n",
       "\n",
       "    .dataframe tbody tr th {\n",
       "        vertical-align: top;\n",
       "    }\n",
       "\n",
       "    .dataframe thead th {\n",
       "        text-align: right;\n",
       "    }\n",
       "</style>\n",
       "<table border=\"1\" class=\"dataframe\">\n",
       "  <thead>\n",
       "    <tr style=\"text-align: right;\">\n",
       "      <th></th>\n",
       "      <th>economy_per_capita</th>\n",
       "      <th>family</th>\n",
       "      <th>life_expectancy</th>\n",
       "      <th>freedom</th>\n",
       "      <th>government_corruption</th>\n",
       "      <th>generosity</th>\n",
       "      <th>year</th>\n",
       "      <th>happiness_score</th>\n",
       "      <th>happiness_predicted</th>\n",
       "    </tr>\n",
       "  </thead>\n",
       "  <tbody>\n",
       "    <tr>\n",
       "      <th>580</th>\n",
       "      <td>0.900000</td>\n",
       "      <td>0.90600</td>\n",
       "      <td>0.690000</td>\n",
       "      <td>0.271000</td>\n",
       "      <td>0.063000</td>\n",
       "      <td>0.040000</td>\n",
       "      <td>2018</td>\n",
       "      <td>4.592</td>\n",
       "      <td>4.912264</td>\n",
       "    </tr>\n",
       "    <tr>\n",
       "      <th>693</th>\n",
       "      <td>1.183000</td>\n",
       "      <td>1.45200</td>\n",
       "      <td>0.726000</td>\n",
       "      <td>0.334000</td>\n",
       "      <td>0.031000</td>\n",
       "      <td>0.082000</td>\n",
       "      <td>2019</td>\n",
       "      <td>5.648</td>\n",
       "      <td>5.696573</td>\n",
       "    </tr>\n",
       "    <tr>\n",
       "      <th>503</th>\n",
       "      <td>1.529000</td>\n",
       "      <td>1.45100</td>\n",
       "      <td>1.008000</td>\n",
       "      <td>0.631000</td>\n",
       "      <td>0.457000</td>\n",
       "      <td>0.261000</td>\n",
       "      <td>2018</td>\n",
       "      <td>6.343</td>\n",
       "      <td>7.237400</td>\n",
       "    </tr>\n",
       "    <tr>\n",
       "      <th>330</th>\n",
       "      <td>1.487923</td>\n",
       "      <td>1.47252</td>\n",
       "      <td>0.798951</td>\n",
       "      <td>0.562511</td>\n",
       "      <td>0.276732</td>\n",
       "      <td>0.336269</td>\n",
       "      <td>2017</td>\n",
       "      <td>6.951</td>\n",
       "      <td>6.875280</td>\n",
       "    </tr>\n",
       "    <tr>\n",
       "      <th>748</th>\n",
       "      <td>0.204000</td>\n",
       "      <td>0.98600</td>\n",
       "      <td>0.390000</td>\n",
       "      <td>0.494000</td>\n",
       "      <td>0.138000</td>\n",
       "      <td>0.197000</td>\n",
       "      <td>2019</td>\n",
       "      <td>4.466</td>\n",
       "      <td>4.293861</td>\n",
       "    </tr>\n",
       "  </tbody>\n",
       "</table>\n",
       "</div>"
      ],
      "text/plain": [
       "     economy_per_capita   family  life_expectancy   freedom  \\\n",
       "580            0.900000  0.90600         0.690000  0.271000   \n",
       "693            1.183000  1.45200         0.726000  0.334000   \n",
       "503            1.529000  1.45100         1.008000  0.631000   \n",
       "330            1.487923  1.47252         0.798951  0.562511   \n",
       "748            0.204000  0.98600         0.390000  0.494000   \n",
       "\n",
       "     government_corruption  generosity  year  happiness_score  \\\n",
       "580               0.063000    0.040000  2018            4.592   \n",
       "693               0.031000    0.082000  2019            5.648   \n",
       "503               0.457000    0.261000  2018            6.343   \n",
       "330               0.276732    0.336269  2017            6.951   \n",
       "748               0.138000    0.197000  2019            4.466   \n",
       "\n",
       "     happiness_predicted  \n",
       "580             4.912264  \n",
       "693             5.696573  \n",
       "503             7.237400  \n",
       "330             6.875280  \n",
       "748             4.293861  "
      ]
     },
     "execution_count": 99,
     "metadata": {},
     "output_type": "execute_result"
    }
   ],
   "source": [
    "linear_regression_test.get_test_data().head()"
   ]
  },
  {
   "cell_type": "code",
   "execution_count": 100,
   "metadata": {},
   "outputs": [
    {
     "data": {
      "application/vnd.plotly.v1+json": {
       "config": {
        "plotlyServerURL": "https://plot.ly"
       },
       "data": [
        {
         "mode": "lines",
         "name": "Observed",
         "type": "scatter",
         "x": [
          0,
          1,
          2,
          3,
          4,
          5,
          6,
          7,
          8,
          9,
          10,
          11,
          12,
          13,
          14,
          15,
          16,
          17,
          18,
          19,
          20,
          21,
          22,
          23,
          24,
          25,
          26,
          27,
          28,
          29,
          30,
          31,
          32,
          33,
          34,
          35,
          36,
          37,
          38,
          39,
          40,
          41,
          42,
          43,
          44,
          45,
          46,
          47,
          48,
          49,
          50,
          51,
          52,
          53,
          54,
          55,
          56,
          57,
          58,
          59,
          60,
          61,
          62,
          63,
          64,
          65,
          66,
          67,
          68,
          69,
          70,
          71,
          72,
          73,
          74,
          75,
          76,
          77,
          78,
          79,
          80,
          81,
          82,
          83,
          84,
          85,
          86,
          87,
          88,
          89,
          90,
          91,
          92,
          93,
          94,
          95,
          96,
          97,
          98,
          99,
          100,
          101,
          102,
          103,
          104,
          105,
          106,
          107,
          108,
          109,
          110,
          111,
          112,
          113,
          114,
          115,
          116,
          117,
          118,
          119,
          120,
          121,
          122,
          123,
          124,
          125,
          126,
          127,
          128,
          129,
          130,
          131,
          132,
          133,
          134,
          135,
          136,
          137,
          138,
          139,
          140,
          141,
          142,
          143,
          144,
          145,
          146,
          147,
          148,
          149,
          150,
          151,
          152,
          153,
          154,
          155,
          156,
          157,
          158,
          159,
          160,
          161,
          162,
          163,
          164,
          165,
          166,
          167,
          168,
          169,
          170,
          171,
          172,
          173,
          174,
          175,
          176,
          177,
          178,
          179,
          180,
          181,
          182,
          183,
          184,
          185,
          186,
          187,
          188,
          189,
          190,
          191,
          192,
          193,
          194,
          195,
          196,
          197,
          198,
          199,
          200,
          201,
          202,
          203,
          204,
          205,
          206,
          207,
          208,
          209,
          210,
          211,
          212,
          213,
          214,
          215,
          216,
          217,
          218,
          219,
          220,
          221,
          222,
          223,
          224,
          225,
          226,
          227,
          228,
          229,
          230,
          231,
          232,
          233,
          234
         ],
         "y": [
          4.592,
          5.648,
          6.343,
          6.9510002136,
          4.466,
          4.015,
          5.653,
          6.223,
          5.093,
          5.9019999504,
          5.752,
          4.459,
          5.247,
          3.667,
          4.5500001907,
          5.1820001602,
          2.905,
          4.201,
          6.084,
          5.771,
          5.2300000191,
          4.6079998016,
          7.339,
          4.565,
          4.286,
          7.488,
          5.5250000954,
          4.3150000572,
          5.875,
          6.91,
          5.5,
          4.559,
          5.762,
          5.3949999809,
          5.41,
          6.6519999504,
          4.7350001335,
          4.88,
          7.307,
          3.6570000648,
          6.007999897,
          4.2909998894,
          4.433,
          5.129,
          6.65,
          5.8189997673,
          5.888,
          5.64,
          3.802,
          6.9930000305,
          4.9549999237,
          4.933,
          6.7140002251,
          5.332,
          6.008,
          5.201,
          7.087,
          4.871,
          5.995,
          5.754,
          6.985,
          3.41,
          6.086,
          6.371,
          5.129,
          5.895,
          3.666,
          5.145,
          4.424,
          6.3569998741,
          6.13,
          6.262,
          3.916,
          4.7140002251,
          5.358,
          5.603,
          5.566,
          4.107,
          5.458,
          7.48,
          4.876,
          5.483,
          4.513999939,
          5.175,
          4.35,
          5.956,
          4.419,
          7.404,
          7.272,
          7.521999836,
          5.131,
          7.2129998207,
          5.212,
          4.324,
          7.3159999847,
          6.0840001106,
          7.6,
          4.456,
          7.769,
          4.724,
          5.791,
          5.51,
          6.374,
          5.398,
          4.362,
          3.38,
          5.425,
          4.0960001945,
          7.487,
          6.072,
          5.976,
          6.322,
          5.14,
          6.814,
          4.139,
          6.871,
          5.94,
          6.937,
          5.77,
          6.361,
          2.9049999714,
          4.61,
          7.4689998627,
          5.196,
          3.989,
          6.021,
          3.956,
          5.2729997635,
          3.896,
          3.495,
          6.375,
          4.1900000572,
          4.813,
          5.4299998283,
          4.743,
          5.1750001907,
          4.7090001106,
          5.265,
          5.889,
          4.5450000763,
          6.477,
          4.5529999733,
          5.472,
          5.524,
          5.956,
          5.246,
          5.9710001945,
          4.906,
          5.098,
          6.105,
          4.073,
          5.835,
          5.62,
          5.8379998207,
          4.2800002098,
          7.284,
          4.867,
          6.67,
          5.234000206,
          4.812,
          3.303,
          7.522,
          4.369,
          5.389,
          7.228,
          5.194,
          5.0739998817,
          6.6479997635,
          4.252,
          4.356,
          5.809,
          3.303,
          4.5739998817,
          4.587,
          5.8249998093,
          3.587,
          3.575,
          6.149,
          6.965,
          6.43,
          4.033,
          4.2859997749,
          4.0809998512,
          3.607,
          4.219,
          3.974,
          6.302,
          5.824,
          3.36,
          3.9360001087,
          5.303,
          4.514,
          3.875,
          4.103,
          5.828,
          4.166,
          4.4970002174,
          2.905,
          5.86,
          6.003,
          7.334,
          6.739,
          4.559,
          4.944,
          4.447,
          6.446,
          3.515,
          5.739,
          5.339,
          6.977,
          6.8629999161,
          5.061,
          4.35,
          6.198,
          3.8080000877,
          5.185,
          6.627,
          5.523,
          4.795,
          5.185,
          6.028,
          3.083,
          3.582,
          5.4930000305,
          7.3140001297,
          5.2270002365,
          6.901,
          4.707,
          4.655,
          6.907,
          4.156,
          5.211,
          5.1510000229,
          3.5329999924,
          4.461
         ]
        },
        {
         "mode": "lines",
         "name": "Estimated",
         "type": "scatter",
         "x": [
          0,
          1,
          2,
          3,
          4,
          5,
          6,
          7,
          8,
          9,
          10,
          11,
          12,
          13,
          14,
          15,
          16,
          17,
          18,
          19,
          20,
          21,
          22,
          23,
          24,
          25,
          26,
          27,
          28,
          29,
          30,
          31,
          32,
          33,
          34,
          35,
          36,
          37,
          38,
          39,
          40,
          41,
          42,
          43,
          44,
          45,
          46,
          47,
          48,
          49,
          50,
          51,
          52,
          53,
          54,
          55,
          56,
          57,
          58,
          59,
          60,
          61,
          62,
          63,
          64,
          65,
          66,
          67,
          68,
          69,
          70,
          71,
          72,
          73,
          74,
          75,
          76,
          77,
          78,
          79,
          80,
          81,
          82,
          83,
          84,
          85,
          86,
          87,
          88,
          89,
          90,
          91,
          92,
          93,
          94,
          95,
          96,
          97,
          98,
          99,
          100,
          101,
          102,
          103,
          104,
          105,
          106,
          107,
          108,
          109,
          110,
          111,
          112,
          113,
          114,
          115,
          116,
          117,
          118,
          119,
          120,
          121,
          122,
          123,
          124,
          125,
          126,
          127,
          128,
          129,
          130,
          131,
          132,
          133,
          134,
          135,
          136,
          137,
          138,
          139,
          140,
          141,
          142,
          143,
          144,
          145,
          146,
          147,
          148,
          149,
          150,
          151,
          152,
          153,
          154,
          155,
          156,
          157,
          158,
          159,
          160,
          161,
          162,
          163,
          164,
          165,
          166,
          167,
          168,
          169,
          170,
          171,
          172,
          173,
          174,
          175,
          176,
          177,
          178,
          179,
          180,
          181,
          182,
          183,
          184,
          185,
          186,
          187,
          188,
          189,
          190,
          191,
          192,
          193,
          194,
          195,
          196,
          197,
          198,
          199,
          200,
          201,
          202,
          203,
          204,
          205,
          206,
          207,
          208,
          209,
          210,
          211,
          212,
          213,
          214,
          215,
          216,
          217,
          218,
          219,
          220,
          221,
          222,
          223,
          224,
          225,
          226,
          227,
          228,
          229,
          230,
          231,
          232,
          233,
          234
         ],
         "y": [
          4.912264127827996,
          5.696573485820352,
          7.237399645516092,
          6.875279798946764,
          4.293860814009207,
          4.855929587441551,
          4.557307204412382,
          6.030350496828902,
          5.496577392255915,
          5.74163541260279,
          5.362733273010747,
          5.018966204897708,
          5.696649539809158,
          3.897432610584673,
          4.158935028638467,
          5.176593029119516,
          3.20800796900906,
          4.240536694094118,
          5.269222162449296,
          5.985420862436854,
          5.986279719789962,
          4.764313836550514,
          6.622963428896924,
          4.564639435540386,
          4.36682159526535,
          6.854316453375873,
          5.759542143036157,
          4.896579359419036,
          5.804821432644928,
          7.11428434653061,
          5.689693001733787,
          4.640362367250162,
          5.974545031359213,
          5.372604512335755,
          6.258590863788044,
          6.072968026941936,
          5.07409109812744,
          5.002887402018558,
          6.917478446862788,
          3.9061539001660606,
          5.782451827031338,
          4.714557609562547,
          5.164451192797628,
          5.193758244264018,
          5.746444495035092,
          6.051472711761534,
          5.970165202274927,
          4.851464184829183,
          4.252988064663128,
          6.6970296761969905,
          5.737591122116868,
          5.70470939093218,
          6.809391500129635,
          5.445796749176765,
          6.042229810952875,
          5.482361296959283,
          5.941554275318964,
          4.68582776550295,
          5.947777005725726,
          5.902535373640205,
          6.626434420521235,
          3.9271263926987103,
          5.960051257269214,
          6.1284980153310755,
          5.161477429058436,
          5.724979868221169,
          4.33232080349643,
          5.343516270518279,
          4.160617942942707,
          5.825411439961783,
          5.378533485639537,
          7.228465134128726,
          4.106832996346526,
          5.743552609660497,
          5.758231867342801,
          5.5276549187206,
          5.6524594181134376,
          4.663637018066879,
          6.566075806373476,
          7.007935150094909,
          5.297077757051085,
          5.6939331230312575,
          4.721373635011787,
          5.640605420862585,
          3.533550078249931,
          5.091560910029642,
          4.733977657207362,
          6.704056657830392,
          6.984495019987719,
          7.118251566987141,
          5.310014602067554,
          6.344058657968361,
          5.509906349081746,
          4.843775286614232,
          7.020063521373601,
          5.95968541510166,
          6.9924084537739475,
          5.0050302664642174,
          6.914021625486555,
          5.387063793280618,
          6.2277239331528165,
          5.318255715218896,
          6.800738265166814,
          5.410456069262693,
          4.559534557099909,
          4.0043008750835725,
          5.838370836204632,
          5.100061358761678,
          7.093369657117307,
          6.0993556070598345,
          5.420772551354304,
          5.660686455788465,
          5.6868069723043675,
          6.7090909596358586,
          3.9899504776673496,
          6.8838922101584785,
          5.715972826432221,
          6.770695179513467,
          6.086724793317046,
          6.125184057236112,
          3.118538710112432,
          4.298025787427946,
          7.028661626438122,
          5.328642110501022,
          4.630611507390029,
          6.304327823031457,
          4.129007346488493,
          5.726336937105799,
          5.19238028247014,
          3.827301550638481,
          6.147070927030711,
          4.46177880662276,
          4.859966811373596,
          5.562309321273574,
          4.827828566089522,
          5.520049980521662,
          3.959062186509925,
          4.59485007852291,
          4.976468949168321,
          5.015427210325726,
          5.90512831102987,
          4.784078949232139,
          4.482364647524861,
          5.553149094844088,
          5.301860520421059,
          5.830916558049154,
          6.045541609430842,
          5.391076374902724,
          5.670866693119791,
          5.4487960008777065,
          4.007694200481865,
          5.638443319824319,
          5.609550381892149,
          4.972749528325295,
          3.9208069320481513,
          7.1093440551520075,
          4.558598249460232,
          6.13567757633362,
          5.593324725407967,
          4.504564738344641,
          4.610125049055597,
          7.21852888318881,
          4.580362806662521,
          5.291753112675423,
          6.886310071982933,
          4.157013979500192,
          4.702427522894396,
          6.883527892414378,
          4.573071529075861,
          4.489934303256035,
          5.91561972883656,
          3.4238083690171663,
          5.274293725443471,
          4.090146809220585,
          5.795310706422612,
          3.9230974801043317,
          3.7333952401199895,
          5.83265767905641,
          6.718084060090376,
          6.164402193517361,
          4.228632226144526,
          4.9274436392033465,
          4.499649769728137,
          3.5447288074805954,
          4.350102580926745,
          5.2380892313211405,
          6.721338840454109,
          5.520528107530737,
          3.2774102162635756,
          3.7720955479094584,
          5.28056641937377,
          4.701658033559937,
          4.259689509832299,
          4.983680665198364,
          5.697168938093284,
          3.8411432125856777,
          5.181822039025064,
          2.8393685154607624,
          5.400272451414594,
          5.977608256509399,
          6.789178000924693,
          6.7966979448779625,
          5.060514106596031,
          4.1018853420993935,
          4.248596283512654,
          6.183659805779797,
          4.650848355207671,
          6.313206079794924,
          5.915973839945053,
          7.007617603582759,
          7.240698629940255,
          5.330168846897237,
          4.855848064053532,
          5.9642965654825275,
          4.387228846736463,
          5.469136058404558,
          6.732138036848596,
          5.478221148706183,
          4.4082414293490615,
          4.922068190295647,
          5.743740513040024,
          2.6300259462155395,
          3.4915385338512976,
          5.800722105085782,
          7.0723464726490874,
          5.517161053982164,
          6.884290677100722,
          5.259503172600205,
          4.950886660088287,
          6.728763552384407,
          3.503645624228426,
          5.007670382293298,
          4.068723083245942,
          3.8274659171327414,
          4.89667465489498
         ]
        }
       ],
       "layout": {
        "template": {
         "data": {
          "bar": [
           {
            "error_x": {
             "color": "#f2f5fa"
            },
            "error_y": {
             "color": "#f2f5fa"
            },
            "marker": {
             "line": {
              "color": "rgb(17,17,17)",
              "width": 0.5
             },
             "pattern": {
              "fillmode": "overlay",
              "size": 10,
              "solidity": 0.2
             }
            },
            "type": "bar"
           }
          ],
          "barpolar": [
           {
            "marker": {
             "line": {
              "color": "rgb(17,17,17)",
              "width": 0.5
             },
             "pattern": {
              "fillmode": "overlay",
              "size": 10,
              "solidity": 0.2
             }
            },
            "type": "barpolar"
           }
          ],
          "carpet": [
           {
            "aaxis": {
             "endlinecolor": "#A2B1C6",
             "gridcolor": "#506784",
             "linecolor": "#506784",
             "minorgridcolor": "#506784",
             "startlinecolor": "#A2B1C6"
            },
            "baxis": {
             "endlinecolor": "#A2B1C6",
             "gridcolor": "#506784",
             "linecolor": "#506784",
             "minorgridcolor": "#506784",
             "startlinecolor": "#A2B1C6"
            },
            "type": "carpet"
           }
          ],
          "choropleth": [
           {
            "colorbar": {
             "outlinewidth": 0,
             "ticks": ""
            },
            "type": "choropleth"
           }
          ],
          "contour": [
           {
            "colorbar": {
             "outlinewidth": 0,
             "ticks": ""
            },
            "colorscale": [
             [
              0,
              "#0d0887"
             ],
             [
              0.1111111111111111,
              "#46039f"
             ],
             [
              0.2222222222222222,
              "#7201a8"
             ],
             [
              0.3333333333333333,
              "#9c179e"
             ],
             [
              0.4444444444444444,
              "#bd3786"
             ],
             [
              0.5555555555555556,
              "#d8576b"
             ],
             [
              0.6666666666666666,
              "#ed7953"
             ],
             [
              0.7777777777777778,
              "#fb9f3a"
             ],
             [
              0.8888888888888888,
              "#fdca26"
             ],
             [
              1,
              "#f0f921"
             ]
            ],
            "type": "contour"
           }
          ],
          "contourcarpet": [
           {
            "colorbar": {
             "outlinewidth": 0,
             "ticks": ""
            },
            "type": "contourcarpet"
           }
          ],
          "heatmap": [
           {
            "colorbar": {
             "outlinewidth": 0,
             "ticks": ""
            },
            "colorscale": [
             [
              0,
              "#0d0887"
             ],
             [
              0.1111111111111111,
              "#46039f"
             ],
             [
              0.2222222222222222,
              "#7201a8"
             ],
             [
              0.3333333333333333,
              "#9c179e"
             ],
             [
              0.4444444444444444,
              "#bd3786"
             ],
             [
              0.5555555555555556,
              "#d8576b"
             ],
             [
              0.6666666666666666,
              "#ed7953"
             ],
             [
              0.7777777777777778,
              "#fb9f3a"
             ],
             [
              0.8888888888888888,
              "#fdca26"
             ],
             [
              1,
              "#f0f921"
             ]
            ],
            "type": "heatmap"
           }
          ],
          "heatmapgl": [
           {
            "colorbar": {
             "outlinewidth": 0,
             "ticks": ""
            },
            "colorscale": [
             [
              0,
              "#0d0887"
             ],
             [
              0.1111111111111111,
              "#46039f"
             ],
             [
              0.2222222222222222,
              "#7201a8"
             ],
             [
              0.3333333333333333,
              "#9c179e"
             ],
             [
              0.4444444444444444,
              "#bd3786"
             ],
             [
              0.5555555555555556,
              "#d8576b"
             ],
             [
              0.6666666666666666,
              "#ed7953"
             ],
             [
              0.7777777777777778,
              "#fb9f3a"
             ],
             [
              0.8888888888888888,
              "#fdca26"
             ],
             [
              1,
              "#f0f921"
             ]
            ],
            "type": "heatmapgl"
           }
          ],
          "histogram": [
           {
            "marker": {
             "pattern": {
              "fillmode": "overlay",
              "size": 10,
              "solidity": 0.2
             }
            },
            "type": "histogram"
           }
          ],
          "histogram2d": [
           {
            "colorbar": {
             "outlinewidth": 0,
             "ticks": ""
            },
            "colorscale": [
             [
              0,
              "#0d0887"
             ],
             [
              0.1111111111111111,
              "#46039f"
             ],
             [
              0.2222222222222222,
              "#7201a8"
             ],
             [
              0.3333333333333333,
              "#9c179e"
             ],
             [
              0.4444444444444444,
              "#bd3786"
             ],
             [
              0.5555555555555556,
              "#d8576b"
             ],
             [
              0.6666666666666666,
              "#ed7953"
             ],
             [
              0.7777777777777778,
              "#fb9f3a"
             ],
             [
              0.8888888888888888,
              "#fdca26"
             ],
             [
              1,
              "#f0f921"
             ]
            ],
            "type": "histogram2d"
           }
          ],
          "histogram2dcontour": [
           {
            "colorbar": {
             "outlinewidth": 0,
             "ticks": ""
            },
            "colorscale": [
             [
              0,
              "#0d0887"
             ],
             [
              0.1111111111111111,
              "#46039f"
             ],
             [
              0.2222222222222222,
              "#7201a8"
             ],
             [
              0.3333333333333333,
              "#9c179e"
             ],
             [
              0.4444444444444444,
              "#bd3786"
             ],
             [
              0.5555555555555556,
              "#d8576b"
             ],
             [
              0.6666666666666666,
              "#ed7953"
             ],
             [
              0.7777777777777778,
              "#fb9f3a"
             ],
             [
              0.8888888888888888,
              "#fdca26"
             ],
             [
              1,
              "#f0f921"
             ]
            ],
            "type": "histogram2dcontour"
           }
          ],
          "mesh3d": [
           {
            "colorbar": {
             "outlinewidth": 0,
             "ticks": ""
            },
            "type": "mesh3d"
           }
          ],
          "parcoords": [
           {
            "line": {
             "colorbar": {
              "outlinewidth": 0,
              "ticks": ""
             }
            },
            "type": "parcoords"
           }
          ],
          "pie": [
           {
            "automargin": true,
            "type": "pie"
           }
          ],
          "scatter": [
           {
            "marker": {
             "line": {
              "color": "#283442"
             }
            },
            "type": "scatter"
           }
          ],
          "scatter3d": [
           {
            "line": {
             "colorbar": {
              "outlinewidth": 0,
              "ticks": ""
             }
            },
            "marker": {
             "colorbar": {
              "outlinewidth": 0,
              "ticks": ""
             }
            },
            "type": "scatter3d"
           }
          ],
          "scattercarpet": [
           {
            "marker": {
             "colorbar": {
              "outlinewidth": 0,
              "ticks": ""
             }
            },
            "type": "scattercarpet"
           }
          ],
          "scattergeo": [
           {
            "marker": {
             "colorbar": {
              "outlinewidth": 0,
              "ticks": ""
             }
            },
            "type": "scattergeo"
           }
          ],
          "scattergl": [
           {
            "marker": {
             "line": {
              "color": "#283442"
             }
            },
            "type": "scattergl"
           }
          ],
          "scattermapbox": [
           {
            "marker": {
             "colorbar": {
              "outlinewidth": 0,
              "ticks": ""
             }
            },
            "type": "scattermapbox"
           }
          ],
          "scatterpolar": [
           {
            "marker": {
             "colorbar": {
              "outlinewidth": 0,
              "ticks": ""
             }
            },
            "type": "scatterpolar"
           }
          ],
          "scatterpolargl": [
           {
            "marker": {
             "colorbar": {
              "outlinewidth": 0,
              "ticks": ""
             }
            },
            "type": "scatterpolargl"
           }
          ],
          "scatterternary": [
           {
            "marker": {
             "colorbar": {
              "outlinewidth": 0,
              "ticks": ""
             }
            },
            "type": "scatterternary"
           }
          ],
          "surface": [
           {
            "colorbar": {
             "outlinewidth": 0,
             "ticks": ""
            },
            "colorscale": [
             [
              0,
              "#0d0887"
             ],
             [
              0.1111111111111111,
              "#46039f"
             ],
             [
              0.2222222222222222,
              "#7201a8"
             ],
             [
              0.3333333333333333,
              "#9c179e"
             ],
             [
              0.4444444444444444,
              "#bd3786"
             ],
             [
              0.5555555555555556,
              "#d8576b"
             ],
             [
              0.6666666666666666,
              "#ed7953"
             ],
             [
              0.7777777777777778,
              "#fb9f3a"
             ],
             [
              0.8888888888888888,
              "#fdca26"
             ],
             [
              1,
              "#f0f921"
             ]
            ],
            "type": "surface"
           }
          ],
          "table": [
           {
            "cells": {
             "fill": {
              "color": "#506784"
             },
             "line": {
              "color": "rgb(17,17,17)"
             }
            },
            "header": {
             "fill": {
              "color": "#2a3f5f"
             },
             "line": {
              "color": "rgb(17,17,17)"
             }
            },
            "type": "table"
           }
          ]
         },
         "layout": {
          "annotationdefaults": {
           "arrowcolor": "#f2f5fa",
           "arrowhead": 0,
           "arrowwidth": 1
          },
          "autotypenumbers": "strict",
          "coloraxis": {
           "colorbar": {
            "outlinewidth": 0,
            "ticks": ""
           }
          },
          "colorscale": {
           "diverging": [
            [
             0,
             "#8e0152"
            ],
            [
             0.1,
             "#c51b7d"
            ],
            [
             0.2,
             "#de77ae"
            ],
            [
             0.3,
             "#f1b6da"
            ],
            [
             0.4,
             "#fde0ef"
            ],
            [
             0.5,
             "#f7f7f7"
            ],
            [
             0.6,
             "#e6f5d0"
            ],
            [
             0.7,
             "#b8e186"
            ],
            [
             0.8,
             "#7fbc41"
            ],
            [
             0.9,
             "#4d9221"
            ],
            [
             1,
             "#276419"
            ]
           ],
           "sequential": [
            [
             0,
             "#0d0887"
            ],
            [
             0.1111111111111111,
             "#46039f"
            ],
            [
             0.2222222222222222,
             "#7201a8"
            ],
            [
             0.3333333333333333,
             "#9c179e"
            ],
            [
             0.4444444444444444,
             "#bd3786"
            ],
            [
             0.5555555555555556,
             "#d8576b"
            ],
            [
             0.6666666666666666,
             "#ed7953"
            ],
            [
             0.7777777777777778,
             "#fb9f3a"
            ],
            [
             0.8888888888888888,
             "#fdca26"
            ],
            [
             1,
             "#f0f921"
            ]
           ],
           "sequentialminus": [
            [
             0,
             "#0d0887"
            ],
            [
             0.1111111111111111,
             "#46039f"
            ],
            [
             0.2222222222222222,
             "#7201a8"
            ],
            [
             0.3333333333333333,
             "#9c179e"
            ],
            [
             0.4444444444444444,
             "#bd3786"
            ],
            [
             0.5555555555555556,
             "#d8576b"
            ],
            [
             0.6666666666666666,
             "#ed7953"
            ],
            [
             0.7777777777777778,
             "#fb9f3a"
            ],
            [
             0.8888888888888888,
             "#fdca26"
            ],
            [
             1,
             "#f0f921"
            ]
           ]
          },
          "colorway": [
           "#636efa",
           "#EF553B",
           "#00cc96",
           "#ab63fa",
           "#FFA15A",
           "#19d3f3",
           "#FF6692",
           "#B6E880",
           "#FF97FF",
           "#FECB52"
          ],
          "font": {
           "color": "#f2f5fa"
          },
          "geo": {
           "bgcolor": "rgb(17,17,17)",
           "lakecolor": "rgb(17,17,17)",
           "landcolor": "rgb(17,17,17)",
           "showlakes": true,
           "showland": true,
           "subunitcolor": "#506784"
          },
          "hoverlabel": {
           "align": "left"
          },
          "hovermode": "closest",
          "mapbox": {
           "style": "dark"
          },
          "paper_bgcolor": "rgb(17,17,17)",
          "plot_bgcolor": "rgb(17,17,17)",
          "polar": {
           "angularaxis": {
            "gridcolor": "#506784",
            "linecolor": "#506784",
            "ticks": ""
           },
           "bgcolor": "rgb(17,17,17)",
           "radialaxis": {
            "gridcolor": "#506784",
            "linecolor": "#506784",
            "ticks": ""
           }
          },
          "scene": {
           "xaxis": {
            "backgroundcolor": "rgb(17,17,17)",
            "gridcolor": "#506784",
            "gridwidth": 2,
            "linecolor": "#506784",
            "showbackground": true,
            "ticks": "",
            "zerolinecolor": "#C8D4E3"
           },
           "yaxis": {
            "backgroundcolor": "rgb(17,17,17)",
            "gridcolor": "#506784",
            "gridwidth": 2,
            "linecolor": "#506784",
            "showbackground": true,
            "ticks": "",
            "zerolinecolor": "#C8D4E3"
           },
           "zaxis": {
            "backgroundcolor": "rgb(17,17,17)",
            "gridcolor": "#506784",
            "gridwidth": 2,
            "linecolor": "#506784",
            "showbackground": true,
            "ticks": "",
            "zerolinecolor": "#C8D4E3"
           }
          },
          "shapedefaults": {
           "line": {
            "color": "#f2f5fa"
           }
          },
          "sliderdefaults": {
           "bgcolor": "#C8D4E3",
           "bordercolor": "rgb(17,17,17)",
           "borderwidth": 1,
           "tickwidth": 0
          },
          "ternary": {
           "aaxis": {
            "gridcolor": "#506784",
            "linecolor": "#506784",
            "ticks": ""
           },
           "baxis": {
            "gridcolor": "#506784",
            "linecolor": "#506784",
            "ticks": ""
           },
           "bgcolor": "rgb(17,17,17)",
           "caxis": {
            "gridcolor": "#506784",
            "linecolor": "#506784",
            "ticks": ""
           }
          },
          "title": {
           "x": 0.05
          },
          "updatemenudefaults": {
           "bgcolor": "#506784",
           "borderwidth": 0
          },
          "xaxis": {
           "automargin": true,
           "gridcolor": "#283442",
           "linecolor": "#506784",
           "ticks": "",
           "title": {
            "standoff": 15
           },
           "zerolinecolor": "#283442",
           "zerolinewidth": 2
          },
          "yaxis": {
           "automargin": true,
           "gridcolor": "#283442",
           "linecolor": "#506784",
           "ticks": "",
           "title": {
            "standoff": 15
           },
           "zerolinecolor": "#283442",
           "zerolinewidth": 2
          }
         }
        },
        "title": {
         "text": "Estimated Happiness Scores (Linear Regression) with unadjusted data"
        },
        "xaxis": {
         "title": {
          "text": "Index"
         }
        },
        "yaxis": {
         "title": {
          "text": "Happiness Score"
         }
        }
       }
      }
     },
     "metadata": {},
     "output_type": "display_data"
    }
   ],
   "source": [
    "graph_to_predict(linear_regression_test.get_test_data().reset_index(), 'Estimated Happiness Scores (Linear Regression) with unadjusted data')"
   ]
  },
  {
   "cell_type": "markdown",
   "metadata": {},
   "source": [
    "0.815 of R2 is a considerable result; let us observe with the adjusted values.\n",
    "\n",
    "Ajusted dataframe:"
   ]
  },
  {
   "cell_type": "code",
   "execution_count": 101,
   "metadata": {},
   "outputs": [
    {
     "name": "stdout",
     "output_type": "stream",
     "text": [
      "R2: 0.7235206807698333 | MAE: 0.41893557030419937 | MSE: 0.27715912790687863\n",
      "X train: (472, 4) | X test: (203, 4)\n"
     ]
    },
    {
     "data": {
      "application/vnd.plotly.v1+json": {
       "config": {
        "plotlyServerURL": "https://plot.ly"
       },
       "data": [
        {
         "mode": "lines",
         "name": "Observed",
         "type": "scatter",
         "x": [
          0,
          1,
          2,
          3,
          4,
          5,
          6,
          7,
          8,
          9,
          10,
          11,
          12,
          13,
          14,
          15,
          16,
          17,
          18,
          19,
          20,
          21,
          22,
          23,
          24,
          25,
          26,
          27,
          28,
          29,
          30,
          31,
          32,
          33,
          34,
          35,
          36,
          37,
          38,
          39,
          40,
          41,
          42,
          43,
          44,
          45,
          46,
          47,
          48,
          49,
          50,
          51,
          52,
          53,
          54,
          55,
          56,
          57,
          58,
          59,
          60,
          61,
          62,
          63,
          64,
          65,
          66,
          67,
          68,
          69,
          70,
          71,
          72,
          73,
          74,
          75,
          76,
          77,
          78,
          79,
          80,
          81,
          82,
          83,
          84,
          85,
          86,
          87,
          88,
          89,
          90,
          91,
          92,
          93,
          94,
          95,
          96,
          97,
          98,
          99,
          100,
          101,
          102,
          103,
          104,
          105,
          106,
          107,
          108,
          109,
          110,
          111,
          112,
          113,
          114,
          115,
          116,
          117,
          118,
          119,
          120,
          121,
          122,
          123,
          124,
          125,
          126,
          127,
          128,
          129,
          130,
          131,
          132,
          133,
          134,
          135,
          136,
          137,
          138,
          139,
          140,
          141,
          142,
          143,
          144,
          145,
          146,
          147,
          148,
          149,
          150,
          151,
          152,
          153,
          154,
          155,
          156,
          157,
          158,
          159,
          160,
          161,
          162,
          163,
          164,
          165,
          166,
          167,
          168,
          169,
          170,
          171,
          172,
          173,
          174,
          175,
          176,
          177,
          178,
          179,
          180,
          181,
          182,
          183,
          184,
          185,
          186,
          187,
          188,
          189,
          190,
          191,
          192,
          193,
          194,
          195,
          196,
          197,
          198,
          199,
          200,
          201,
          202
         ],
         "y": [
          5.401,
          7.0789999962,
          5.132,
          3.999,
          4.507,
          3.995,
          5.768,
          3.203,
          5.89,
          6.31,
          4.874,
          6.9770002365,
          5.631,
          4.509,
          5.254,
          5.0409998894,
          4.139,
          4.166,
          4.2909998894,
          5.103,
          5.528,
          6.4419999123,
          4.271,
          4.677,
          3.303,
          5.62,
          2.905,
          6.886,
          5.933,
          4.739,
          4.571,
          5.615,
          4.516,
          4.681,
          6.174,
          6.123,
          5.603,
          6.929,
          5.897,
          5.044,
          7.167,
          6.072,
          3.931,
          5.4299998283,
          4.103,
          5.538,
          7.376999855,
          4.332,
          5.948,
          4.898,
          4.7,
          3.989,
          6.141,
          4.193,
          5.848,
          4.1199998856,
          6.105,
          7.3159999847,
          6.419,
          5.286,
          6.67,
          6.388,
          4.2919998169,
          6.123,
          5.9629998207,
          7.495,
          4.534,
          5.802,
          6.977,
          5.51,
          5.952,
          6.478,
          6.355,
          3.34,
          3.663,
          5.185,
          6.907,
          7.228,
          6.609000206,
          4.8,
          4.073,
          4.6079998016,
          5.79,
          5.889,
          4.806,
          5.653,
          6.379,
          6.983,
          5.124,
          5.261,
          4.8049998283,
          6.13,
          5.488,
          5.274,
          7.006000042,
          6,
          4.944,
          6.595,
          5.0739998817,
          5.835,
          5.3109998703,
          5.386,
          4.1799998283,
          4.41,
          5.199,
          6.0980000496,
          3.582,
          5.948,
          6.825,
          7.226,
          5.689,
          4.906,
          6.329,
          5.2789998055,
          6.890999794,
          4.5349998474,
          6.1680002213,
          5.8229999542,
          5.339,
          6.192,
          5.895,
          5.77,
          4.218,
          5.9710001945,
          4.754,
          5.566,
          5.611000061,
          4.913,
          3.763,
          4.643,
          5.813,
          4.6919999123,
          5.693,
          4.839,
          4.514,
          5.472,
          5.2690000534,
          3.5929999352,
          4.077,
          5.7150001526,
          6.937,
          6.0840001106,
          7.272,
          6.6350002289,
          5.121,
          5.212,
          5.9019999504,
          6.084,
          5.824,
          4.166,
          4.694,
          4.6950001717,
          5.915,
          4.292,
          5.332,
          6.26,
          4.786,
          5.429,
          3.904,
          5.192,
          4.959,
          4.201,
          4.559,
          4.907,
          6.485,
          7.494,
          3.692,
          3.575,
          3.856,
          5.956,
          4.871,
          4.456,
          6.382,
          5.2930002213,
          6.481,
          6.375,
          4.19,
          5.211,
          5.64,
          6.371,
          5.36,
          4.2800002098,
          6.3439998627,
          5.809,
          6.218,
          4.7090001106,
          4.813,
          3.607,
          3.597,
          6.125,
          3.875,
          6.096,
          5.8499999046,
          3.974,
          5.835,
          4.5500001907,
          4.35,
          4.138999939,
          5.129,
          5.302,
          6.441,
          4.245,
          4.799
         ]
        },
        {
         "mode": "lines",
         "name": "Estimated",
         "type": "scatter",
         "x": [
          0,
          1,
          2,
          3,
          4,
          5,
          6,
          7,
          8,
          9,
          10,
          11,
          12,
          13,
          14,
          15,
          16,
          17,
          18,
          19,
          20,
          21,
          22,
          23,
          24,
          25,
          26,
          27,
          28,
          29,
          30,
          31,
          32,
          33,
          34,
          35,
          36,
          37,
          38,
          39,
          40,
          41,
          42,
          43,
          44,
          45,
          46,
          47,
          48,
          49,
          50,
          51,
          52,
          53,
          54,
          55,
          56,
          57,
          58,
          59,
          60,
          61,
          62,
          63,
          64,
          65,
          66,
          67,
          68,
          69,
          70,
          71,
          72,
          73,
          74,
          75,
          76,
          77,
          78,
          79,
          80,
          81,
          82,
          83,
          84,
          85,
          86,
          87,
          88,
          89,
          90,
          91,
          92,
          93,
          94,
          95,
          96,
          97,
          98,
          99,
          100,
          101,
          102,
          103,
          104,
          105,
          106,
          107,
          108,
          109,
          110,
          111,
          112,
          113,
          114,
          115,
          116,
          117,
          118,
          119,
          120,
          121,
          122,
          123,
          124,
          125,
          126,
          127,
          128,
          129,
          130,
          131,
          132,
          133,
          134,
          135,
          136,
          137,
          138,
          139,
          140,
          141,
          142,
          143,
          144,
          145,
          146,
          147,
          148,
          149,
          150,
          151,
          152,
          153,
          154,
          155,
          156,
          157,
          158,
          159,
          160,
          161,
          162,
          163,
          164,
          165,
          166,
          167,
          168,
          169,
          170,
          171,
          172,
          173,
          174,
          175,
          176,
          177,
          178,
          179,
          180,
          181,
          182,
          183,
          184,
          185,
          186,
          187,
          188,
          189,
          190,
          191,
          192,
          193,
          194,
          195,
          196,
          197,
          198,
          199,
          200,
          201,
          202
         ],
         "y": [
          4.535688306918461,
          6.169655343332661,
          3.9563249679537273,
          3.961160273819227,
          3.9385284094634736,
          4.113561506577129,
          6.1315236022375466,
          3.4300423836451004,
          5.237325136264307,
          6.383966111705634,
          5.381503131981665,
          6.725896665162248,
          5.636317504229325,
          4.859813128337258,
          5.1936391033721065,
          5.0318859827389435,
          4.03239425813615,
          3.91469084079022,
          4.7538968726511825,
          5.738215884950266,
          5.40234403824277,
          6.388578360230047,
          5.548198326690979,
          4.519480639911634,
          4.660193561278938,
          5.6205210942079535,
          2.835001537798594,
          6.5042232685481505,
          5.737781383445249,
          4.92931327994737,
          3.6942711122837837,
          5.301940675444138,
          4.361403886567986,
          4.6140179062521565,
          5.9392139977412945,
          5.465247336432794,
          5.623706601587054,
          6.259601985162633,
          4.580281260781254,
          4.478648742390401,
          6.303398121132265,
          6.113537885240467,
          4.390321325271913,
          5.495532374560403,
          4.923491214456276,
          5.375338950013445,
          6.650154562009728,
          5.118433990538683,
          6.5348282362135315,
          3.9560914448949505,
          5.377123560830395,
          4.521477608277504,
          5.502028614412139,
          3.74844901028048,
          6.358075220254598,
          4.614910254458701,
          5.526036680138249,
          6.725282042091813,
          5.817897604511383,
          4.995558122143969,
          5.886643470855324,
          6.122119839281977,
          4.204833049828913,
          6.218244036732106,
          5.757335421486426,
          6.8789570818419,
          4.2279959345139275,
          5.3382730203304005,
          6.798882004432606,
          5.266382498346371,
          5.854941064580226,
          6.140202371720315,
          4.988201628080068,
          4.095527662504917,
          4.4788246959272024,
          4.812418008506117,
          6.4162777958374715,
          6.788831031282648,
          6.263282017815133,
          5.609843599288343,
          3.8281783075114966,
          4.838259589339577,
          5.879562221305662,
          4.821496155175694,
          5.163320128961113,
          4.7156174167665394,
          5.715792169686377,
          5.711123422626676,
          5.432867793864537,
          5.435796749390065,
          5.095770352886417,
          5.204493653528214,
          5.164447619742155,
          5.650142372069488,
          6.622743514046302,
          6.056925318034523,
          4.2794658201086975,
          5.937965534485066,
          5.627042830405102,
          6.21064155110647,
          5.628721848816774,
          5.340534719091913,
          4.319594149150686,
          4.854797935371856,
          4.686632833799848,
          5.875227008890514,
          3.4549657694058036,
          5.865493168104653,
          6.627634967860276,
          6.133922539224477,
          5.886636248798434,
          5.505725352940997,
          6.255690510856491,
          5.039801464854886,
          6.553385652836415,
          4.6311885375755715,
          6.0194829077730105,
          5.416927643046858,
          6.110277519039045,
          6.086487714583615,
          5.838935858637104,
          5.877814239743381,
          5.430647443224407,
          5.738652411263615,
          4.419676816264888,
          5.615970669478903,
          6.162022529737909,
          5.042891843252525,
          3.4128557336911545,
          4.395540588893786,
          5.325195532743814,
          5.127973563425813,
          6.4433990121170375,
          5.432838160273803,
          4.542987855509805,
          4.558517480771597,
          4.363587190530579,
          4.276659288514471,
          4.395544793065846,
          5.608937288905276,
          6.474689326429425,
          5.807079366470419,
          6.781480375135246,
          5.753294839730193,
          5.0810503680346155,
          5.323885535367436,
          5.640190975771427,
          5.15406194482728,
          5.40023169572013,
          5.035526840009526,
          4.44382859753945,
          4.368712753641293,
          6.6014600308504985,
          3.641452264103754,
          5.219961325261831,
          5.79415394670748,
          4.734818209711088,
          5.899240414000694,
          4.42214321974267,
          5.3881680241724235,
          5.285802120671592,
          4.005243085000307,
          4.815569040269853,
          5.245906934442357,
          6.117143178660205,
          6.884724140771413,
          4.322845206012091,
          3.6391502379566703,
          3.8132130030079088,
          5.3862261700611604,
          4.643162668337734,
          5.086100598179522,
          5.621391713132603,
          5.41048811516489,
          5.459152912041354,
          6.2306372726969474,
          5.033749591596623,
          5.077795901082402,
          4.862406641929877,
          6.127656493854847,
          5.432289731297926,
          3.7507059925352113,
          6.104972135066401,
          5.942684374222946,
          5.958058371982526,
          3.839000842794507,
          4.883561044913158,
          3.5445555556978867,
          3.6390671288802863,
          5.937621849129201,
          4.152621912487785,
          5.9294160423183975,
          5.723957338307454,
          5.155251921830617,
          5.634930828473385,
          4.05044258364984,
          3.669255381905457,
          4.048613181271989,
          5.26048778246203,
          5.876882908583401,
          6.267195683251739,
          3.8296388636080323,
          5.2676416784676885
         ]
        }
       ],
       "layout": {
        "template": {
         "data": {
          "bar": [
           {
            "error_x": {
             "color": "#f2f5fa"
            },
            "error_y": {
             "color": "#f2f5fa"
            },
            "marker": {
             "line": {
              "color": "rgb(17,17,17)",
              "width": 0.5
             },
             "pattern": {
              "fillmode": "overlay",
              "size": 10,
              "solidity": 0.2
             }
            },
            "type": "bar"
           }
          ],
          "barpolar": [
           {
            "marker": {
             "line": {
              "color": "rgb(17,17,17)",
              "width": 0.5
             },
             "pattern": {
              "fillmode": "overlay",
              "size": 10,
              "solidity": 0.2
             }
            },
            "type": "barpolar"
           }
          ],
          "carpet": [
           {
            "aaxis": {
             "endlinecolor": "#A2B1C6",
             "gridcolor": "#506784",
             "linecolor": "#506784",
             "minorgridcolor": "#506784",
             "startlinecolor": "#A2B1C6"
            },
            "baxis": {
             "endlinecolor": "#A2B1C6",
             "gridcolor": "#506784",
             "linecolor": "#506784",
             "minorgridcolor": "#506784",
             "startlinecolor": "#A2B1C6"
            },
            "type": "carpet"
           }
          ],
          "choropleth": [
           {
            "colorbar": {
             "outlinewidth": 0,
             "ticks": ""
            },
            "type": "choropleth"
           }
          ],
          "contour": [
           {
            "colorbar": {
             "outlinewidth": 0,
             "ticks": ""
            },
            "colorscale": [
             [
              0,
              "#0d0887"
             ],
             [
              0.1111111111111111,
              "#46039f"
             ],
             [
              0.2222222222222222,
              "#7201a8"
             ],
             [
              0.3333333333333333,
              "#9c179e"
             ],
             [
              0.4444444444444444,
              "#bd3786"
             ],
             [
              0.5555555555555556,
              "#d8576b"
             ],
             [
              0.6666666666666666,
              "#ed7953"
             ],
             [
              0.7777777777777778,
              "#fb9f3a"
             ],
             [
              0.8888888888888888,
              "#fdca26"
             ],
             [
              1,
              "#f0f921"
             ]
            ],
            "type": "contour"
           }
          ],
          "contourcarpet": [
           {
            "colorbar": {
             "outlinewidth": 0,
             "ticks": ""
            },
            "type": "contourcarpet"
           }
          ],
          "heatmap": [
           {
            "colorbar": {
             "outlinewidth": 0,
             "ticks": ""
            },
            "colorscale": [
             [
              0,
              "#0d0887"
             ],
             [
              0.1111111111111111,
              "#46039f"
             ],
             [
              0.2222222222222222,
              "#7201a8"
             ],
             [
              0.3333333333333333,
              "#9c179e"
             ],
             [
              0.4444444444444444,
              "#bd3786"
             ],
             [
              0.5555555555555556,
              "#d8576b"
             ],
             [
              0.6666666666666666,
              "#ed7953"
             ],
             [
              0.7777777777777778,
              "#fb9f3a"
             ],
             [
              0.8888888888888888,
              "#fdca26"
             ],
             [
              1,
              "#f0f921"
             ]
            ],
            "type": "heatmap"
           }
          ],
          "heatmapgl": [
           {
            "colorbar": {
             "outlinewidth": 0,
             "ticks": ""
            },
            "colorscale": [
             [
              0,
              "#0d0887"
             ],
             [
              0.1111111111111111,
              "#46039f"
             ],
             [
              0.2222222222222222,
              "#7201a8"
             ],
             [
              0.3333333333333333,
              "#9c179e"
             ],
             [
              0.4444444444444444,
              "#bd3786"
             ],
             [
              0.5555555555555556,
              "#d8576b"
             ],
             [
              0.6666666666666666,
              "#ed7953"
             ],
             [
              0.7777777777777778,
              "#fb9f3a"
             ],
             [
              0.8888888888888888,
              "#fdca26"
             ],
             [
              1,
              "#f0f921"
             ]
            ],
            "type": "heatmapgl"
           }
          ],
          "histogram": [
           {
            "marker": {
             "pattern": {
              "fillmode": "overlay",
              "size": 10,
              "solidity": 0.2
             }
            },
            "type": "histogram"
           }
          ],
          "histogram2d": [
           {
            "colorbar": {
             "outlinewidth": 0,
             "ticks": ""
            },
            "colorscale": [
             [
              0,
              "#0d0887"
             ],
             [
              0.1111111111111111,
              "#46039f"
             ],
             [
              0.2222222222222222,
              "#7201a8"
             ],
             [
              0.3333333333333333,
              "#9c179e"
             ],
             [
              0.4444444444444444,
              "#bd3786"
             ],
             [
              0.5555555555555556,
              "#d8576b"
             ],
             [
              0.6666666666666666,
              "#ed7953"
             ],
             [
              0.7777777777777778,
              "#fb9f3a"
             ],
             [
              0.8888888888888888,
              "#fdca26"
             ],
             [
              1,
              "#f0f921"
             ]
            ],
            "type": "histogram2d"
           }
          ],
          "histogram2dcontour": [
           {
            "colorbar": {
             "outlinewidth": 0,
             "ticks": ""
            },
            "colorscale": [
             [
              0,
              "#0d0887"
             ],
             [
              0.1111111111111111,
              "#46039f"
             ],
             [
              0.2222222222222222,
              "#7201a8"
             ],
             [
              0.3333333333333333,
              "#9c179e"
             ],
             [
              0.4444444444444444,
              "#bd3786"
             ],
             [
              0.5555555555555556,
              "#d8576b"
             ],
             [
              0.6666666666666666,
              "#ed7953"
             ],
             [
              0.7777777777777778,
              "#fb9f3a"
             ],
             [
              0.8888888888888888,
              "#fdca26"
             ],
             [
              1,
              "#f0f921"
             ]
            ],
            "type": "histogram2dcontour"
           }
          ],
          "mesh3d": [
           {
            "colorbar": {
             "outlinewidth": 0,
             "ticks": ""
            },
            "type": "mesh3d"
           }
          ],
          "parcoords": [
           {
            "line": {
             "colorbar": {
              "outlinewidth": 0,
              "ticks": ""
             }
            },
            "type": "parcoords"
           }
          ],
          "pie": [
           {
            "automargin": true,
            "type": "pie"
           }
          ],
          "scatter": [
           {
            "marker": {
             "line": {
              "color": "#283442"
             }
            },
            "type": "scatter"
           }
          ],
          "scatter3d": [
           {
            "line": {
             "colorbar": {
              "outlinewidth": 0,
              "ticks": ""
             }
            },
            "marker": {
             "colorbar": {
              "outlinewidth": 0,
              "ticks": ""
             }
            },
            "type": "scatter3d"
           }
          ],
          "scattercarpet": [
           {
            "marker": {
             "colorbar": {
              "outlinewidth": 0,
              "ticks": ""
             }
            },
            "type": "scattercarpet"
           }
          ],
          "scattergeo": [
           {
            "marker": {
             "colorbar": {
              "outlinewidth": 0,
              "ticks": ""
             }
            },
            "type": "scattergeo"
           }
          ],
          "scattergl": [
           {
            "marker": {
             "line": {
              "color": "#283442"
             }
            },
            "type": "scattergl"
           }
          ],
          "scattermapbox": [
           {
            "marker": {
             "colorbar": {
              "outlinewidth": 0,
              "ticks": ""
             }
            },
            "type": "scattermapbox"
           }
          ],
          "scatterpolar": [
           {
            "marker": {
             "colorbar": {
              "outlinewidth": 0,
              "ticks": ""
             }
            },
            "type": "scatterpolar"
           }
          ],
          "scatterpolargl": [
           {
            "marker": {
             "colorbar": {
              "outlinewidth": 0,
              "ticks": ""
             }
            },
            "type": "scatterpolargl"
           }
          ],
          "scatterternary": [
           {
            "marker": {
             "colorbar": {
              "outlinewidth": 0,
              "ticks": ""
             }
            },
            "type": "scatterternary"
           }
          ],
          "surface": [
           {
            "colorbar": {
             "outlinewidth": 0,
             "ticks": ""
            },
            "colorscale": [
             [
              0,
              "#0d0887"
             ],
             [
              0.1111111111111111,
              "#46039f"
             ],
             [
              0.2222222222222222,
              "#7201a8"
             ],
             [
              0.3333333333333333,
              "#9c179e"
             ],
             [
              0.4444444444444444,
              "#bd3786"
             ],
             [
              0.5555555555555556,
              "#d8576b"
             ],
             [
              0.6666666666666666,
              "#ed7953"
             ],
             [
              0.7777777777777778,
              "#fb9f3a"
             ],
             [
              0.8888888888888888,
              "#fdca26"
             ],
             [
              1,
              "#f0f921"
             ]
            ],
            "type": "surface"
           }
          ],
          "table": [
           {
            "cells": {
             "fill": {
              "color": "#506784"
             },
             "line": {
              "color": "rgb(17,17,17)"
             }
            },
            "header": {
             "fill": {
              "color": "#2a3f5f"
             },
             "line": {
              "color": "rgb(17,17,17)"
             }
            },
            "type": "table"
           }
          ]
         },
         "layout": {
          "annotationdefaults": {
           "arrowcolor": "#f2f5fa",
           "arrowhead": 0,
           "arrowwidth": 1
          },
          "autotypenumbers": "strict",
          "coloraxis": {
           "colorbar": {
            "outlinewidth": 0,
            "ticks": ""
           }
          },
          "colorscale": {
           "diverging": [
            [
             0,
             "#8e0152"
            ],
            [
             0.1,
             "#c51b7d"
            ],
            [
             0.2,
             "#de77ae"
            ],
            [
             0.3,
             "#f1b6da"
            ],
            [
             0.4,
             "#fde0ef"
            ],
            [
             0.5,
             "#f7f7f7"
            ],
            [
             0.6,
             "#e6f5d0"
            ],
            [
             0.7,
             "#b8e186"
            ],
            [
             0.8,
             "#7fbc41"
            ],
            [
             0.9,
             "#4d9221"
            ],
            [
             1,
             "#276419"
            ]
           ],
           "sequential": [
            [
             0,
             "#0d0887"
            ],
            [
             0.1111111111111111,
             "#46039f"
            ],
            [
             0.2222222222222222,
             "#7201a8"
            ],
            [
             0.3333333333333333,
             "#9c179e"
            ],
            [
             0.4444444444444444,
             "#bd3786"
            ],
            [
             0.5555555555555556,
             "#d8576b"
            ],
            [
             0.6666666666666666,
             "#ed7953"
            ],
            [
             0.7777777777777778,
             "#fb9f3a"
            ],
            [
             0.8888888888888888,
             "#fdca26"
            ],
            [
             1,
             "#f0f921"
            ]
           ],
           "sequentialminus": [
            [
             0,
             "#0d0887"
            ],
            [
             0.1111111111111111,
             "#46039f"
            ],
            [
             0.2222222222222222,
             "#7201a8"
            ],
            [
             0.3333333333333333,
             "#9c179e"
            ],
            [
             0.4444444444444444,
             "#bd3786"
            ],
            [
             0.5555555555555556,
             "#d8576b"
            ],
            [
             0.6666666666666666,
             "#ed7953"
            ],
            [
             0.7777777777777778,
             "#fb9f3a"
            ],
            [
             0.8888888888888888,
             "#fdca26"
            ],
            [
             1,
             "#f0f921"
            ]
           ]
          },
          "colorway": [
           "#636efa",
           "#EF553B",
           "#00cc96",
           "#ab63fa",
           "#FFA15A",
           "#19d3f3",
           "#FF6692",
           "#B6E880",
           "#FF97FF",
           "#FECB52"
          ],
          "font": {
           "color": "#f2f5fa"
          },
          "geo": {
           "bgcolor": "rgb(17,17,17)",
           "lakecolor": "rgb(17,17,17)",
           "landcolor": "rgb(17,17,17)",
           "showlakes": true,
           "showland": true,
           "subunitcolor": "#506784"
          },
          "hoverlabel": {
           "align": "left"
          },
          "hovermode": "closest",
          "mapbox": {
           "style": "dark"
          },
          "paper_bgcolor": "rgb(17,17,17)",
          "plot_bgcolor": "rgb(17,17,17)",
          "polar": {
           "angularaxis": {
            "gridcolor": "#506784",
            "linecolor": "#506784",
            "ticks": ""
           },
           "bgcolor": "rgb(17,17,17)",
           "radialaxis": {
            "gridcolor": "#506784",
            "linecolor": "#506784",
            "ticks": ""
           }
          },
          "scene": {
           "xaxis": {
            "backgroundcolor": "rgb(17,17,17)",
            "gridcolor": "#506784",
            "gridwidth": 2,
            "linecolor": "#506784",
            "showbackground": true,
            "ticks": "",
            "zerolinecolor": "#C8D4E3"
           },
           "yaxis": {
            "backgroundcolor": "rgb(17,17,17)",
            "gridcolor": "#506784",
            "gridwidth": 2,
            "linecolor": "#506784",
            "showbackground": true,
            "ticks": "",
            "zerolinecolor": "#C8D4E3"
           },
           "zaxis": {
            "backgroundcolor": "rgb(17,17,17)",
            "gridcolor": "#506784",
            "gridwidth": 2,
            "linecolor": "#506784",
            "showbackground": true,
            "ticks": "",
            "zerolinecolor": "#C8D4E3"
           }
          },
          "shapedefaults": {
           "line": {
            "color": "#f2f5fa"
           }
          },
          "sliderdefaults": {
           "bgcolor": "#C8D4E3",
           "bordercolor": "rgb(17,17,17)",
           "borderwidth": 1,
           "tickwidth": 0
          },
          "ternary": {
           "aaxis": {
            "gridcolor": "#506784",
            "linecolor": "#506784",
            "ticks": ""
           },
           "baxis": {
            "gridcolor": "#506784",
            "linecolor": "#506784",
            "ticks": ""
           },
           "bgcolor": "rgb(17,17,17)",
           "caxis": {
            "gridcolor": "#506784",
            "linecolor": "#506784",
            "ticks": ""
           }
          },
          "title": {
           "x": 0.05
          },
          "updatemenudefaults": {
           "bgcolor": "#506784",
           "borderwidth": 0
          },
          "xaxis": {
           "automargin": true,
           "gridcolor": "#283442",
           "linecolor": "#506784",
           "ticks": "",
           "title": {
            "standoff": 15
           },
           "zerolinecolor": "#283442",
           "zerolinewidth": 2
          },
          "yaxis": {
           "automargin": true,
           "gridcolor": "#283442",
           "linecolor": "#506784",
           "ticks": "",
           "title": {
            "standoff": 15
           },
           "zerolinecolor": "#283442",
           "zerolinewidth": 2
          }
         }
        },
        "title": {
         "text": "Estimated Happiness Scores (Linear Regression) with adjusted data"
        },
        "xaxis": {
         "title": {
          "text": "Index"
         }
        },
        "yaxis": {
         "title": {
          "text": "Happiness Score"
         }
        }
       }
      }
     },
     "metadata": {},
     "output_type": "display_data"
    }
   ],
   "source": [
    "linear_regression_test = Test_Model(ajusted_dataframe[['economy_per_capita', 'family', 'life_expectancy', 'freedom', 'happiness_score']], LinearRegression(), 101)\n",
    "print(linear_regression_test.metrics())\n",
    "print(linear_regression_test.get_shapes())\n",
    "graph_to_predict(linear_regression_test.get_test_data().reset_index(), 'Estimated Happiness Scores (Linear Regression) with adjusted data')"
   ]
  },
  {
   "cell_type": "code",
   "execution_count": 102,
   "metadata": {},
   "outputs": [
    {
     "name": "stdout",
     "output_type": "stream",
     "text": [
      "R2: 0.7352605277501857 | MAE: 0.4059027061359079 | MSE: 0.2653904149344414\n",
      "X train: (472, 7) | X test: (203, 7)\n"
     ]
    },
    {
     "data": {
      "application/vnd.plotly.v1+json": {
       "config": {
        "plotlyServerURL": "https://plot.ly"
       },
       "data": [
        {
         "mode": "lines",
         "name": "Observed",
         "type": "scatter",
         "x": [
          0,
          1,
          2,
          3,
          4,
          5,
          6,
          7,
          8,
          9,
          10,
          11,
          12,
          13,
          14,
          15,
          16,
          17,
          18,
          19,
          20,
          21,
          22,
          23,
          24,
          25,
          26,
          27,
          28,
          29,
          30,
          31,
          32,
          33,
          34,
          35,
          36,
          37,
          38,
          39,
          40,
          41,
          42,
          43,
          44,
          45,
          46,
          47,
          48,
          49,
          50,
          51,
          52,
          53,
          54,
          55,
          56,
          57,
          58,
          59,
          60,
          61,
          62,
          63,
          64,
          65,
          66,
          67,
          68,
          69,
          70,
          71,
          72,
          73,
          74,
          75,
          76,
          77,
          78,
          79,
          80,
          81,
          82,
          83,
          84,
          85,
          86,
          87,
          88,
          89,
          90,
          91,
          92,
          93,
          94,
          95,
          96,
          97,
          98,
          99,
          100,
          101,
          102,
          103,
          104,
          105,
          106,
          107,
          108,
          109,
          110,
          111,
          112,
          113,
          114,
          115,
          116,
          117,
          118,
          119,
          120,
          121,
          122,
          123,
          124,
          125,
          126,
          127,
          128,
          129,
          130,
          131,
          132,
          133,
          134,
          135,
          136,
          137,
          138,
          139,
          140,
          141,
          142,
          143,
          144,
          145,
          146,
          147,
          148,
          149,
          150,
          151,
          152,
          153,
          154,
          155,
          156,
          157,
          158,
          159,
          160,
          161,
          162,
          163,
          164,
          165,
          166,
          167,
          168,
          169,
          170,
          171,
          172,
          173,
          174,
          175,
          176,
          177,
          178,
          179,
          180,
          181,
          182,
          183,
          184,
          185,
          186,
          187,
          188,
          189,
          190,
          191,
          192,
          193,
          194,
          195,
          196,
          197,
          198,
          199,
          200,
          201,
          202
         ],
         "y": [
          5.401,
          7.0789999962,
          5.132,
          3.999,
          4.507,
          3.995,
          5.768,
          3.203,
          5.89,
          6.31,
          4.874,
          6.9770002365,
          5.631,
          4.509,
          5.254,
          5.0409998894,
          4.139,
          4.166,
          4.2909998894,
          5.103,
          5.528,
          6.4419999123,
          4.271,
          4.677,
          3.303,
          5.62,
          2.905,
          6.886,
          5.933,
          4.739,
          4.571,
          5.615,
          4.516,
          4.681,
          6.174,
          6.123,
          5.603,
          6.929,
          5.897,
          5.044,
          7.167,
          6.072,
          3.931,
          5.4299998283,
          4.103,
          5.538,
          7.376999855,
          4.332,
          5.948,
          4.898,
          4.7,
          3.989,
          6.141,
          4.193,
          5.848,
          4.1199998856,
          6.105,
          7.3159999847,
          6.419,
          5.286,
          6.67,
          6.388,
          4.2919998169,
          6.123,
          5.9629998207,
          7.495,
          4.534,
          5.802,
          6.977,
          5.51,
          5.952,
          6.478,
          6.355,
          3.34,
          3.663,
          5.185,
          6.907,
          7.228,
          6.609000206,
          4.8,
          4.073,
          4.6079998016,
          5.79,
          5.889,
          4.806,
          5.653,
          6.379,
          6.983,
          5.124,
          5.261,
          4.8049998283,
          6.13,
          5.488,
          5.274,
          7.006000042,
          6,
          4.944,
          6.595,
          5.0739998817,
          5.835,
          5.3109998703,
          5.386,
          4.1799998283,
          4.41,
          5.199,
          6.0980000496,
          3.582,
          5.948,
          6.825,
          7.226,
          5.689,
          4.906,
          6.329,
          5.2789998055,
          6.890999794,
          4.5349998474,
          6.1680002213,
          5.8229999542,
          5.339,
          6.192,
          5.895,
          5.77,
          4.218,
          5.9710001945,
          4.754,
          5.566,
          5.611000061,
          4.913,
          3.763,
          4.643,
          5.813,
          4.6919999123,
          5.693,
          4.839,
          4.514,
          5.472,
          5.2690000534,
          3.5929999352,
          4.077,
          5.7150001526,
          6.937,
          6.0840001106,
          7.272,
          6.6350002289,
          5.121,
          5.212,
          5.9019999504,
          6.084,
          5.824,
          4.166,
          4.694,
          4.6950001717,
          5.915,
          4.292,
          5.332,
          6.26,
          4.786,
          5.429,
          3.904,
          5.192,
          4.959,
          4.201,
          4.559,
          4.907,
          6.485,
          7.494,
          3.692,
          3.575,
          3.856,
          5.956,
          4.871,
          4.456,
          6.382,
          5.2930002213,
          6.481,
          6.375,
          4.19,
          5.211,
          5.64,
          6.371,
          5.36,
          4.2800002098,
          6.3439998627,
          5.809,
          6.218,
          4.7090001106,
          4.813,
          3.607,
          3.597,
          6.125,
          3.875,
          6.096,
          5.8499999046,
          3.974,
          5.835,
          4.5500001907,
          4.35,
          4.138999939,
          5.129,
          5.302,
          6.441,
          4.245,
          4.799
         ]
        },
        {
         "mode": "lines",
         "name": "Estimated",
         "type": "scatter",
         "x": [
          0,
          1,
          2,
          3,
          4,
          5,
          6,
          7,
          8,
          9,
          10,
          11,
          12,
          13,
          14,
          15,
          16,
          17,
          18,
          19,
          20,
          21,
          22,
          23,
          24,
          25,
          26,
          27,
          28,
          29,
          30,
          31,
          32,
          33,
          34,
          35,
          36,
          37,
          38,
          39,
          40,
          41,
          42,
          43,
          44,
          45,
          46,
          47,
          48,
          49,
          50,
          51,
          52,
          53,
          54,
          55,
          56,
          57,
          58,
          59,
          60,
          61,
          62,
          63,
          64,
          65,
          66,
          67,
          68,
          69,
          70,
          71,
          72,
          73,
          74,
          75,
          76,
          77,
          78,
          79,
          80,
          81,
          82,
          83,
          84,
          85,
          86,
          87,
          88,
          89,
          90,
          91,
          92,
          93,
          94,
          95,
          96,
          97,
          98,
          99,
          100,
          101,
          102,
          103,
          104,
          105,
          106,
          107,
          108,
          109,
          110,
          111,
          112,
          113,
          114,
          115,
          116,
          117,
          118,
          119,
          120,
          121,
          122,
          123,
          124,
          125,
          126,
          127,
          128,
          129,
          130,
          131,
          132,
          133,
          134,
          135,
          136,
          137,
          138,
          139,
          140,
          141,
          142,
          143,
          144,
          145,
          146,
          147,
          148,
          149,
          150,
          151,
          152,
          153,
          154,
          155,
          156,
          157,
          158,
          159,
          160,
          161,
          162,
          163,
          164,
          165,
          166,
          167,
          168,
          169,
          170,
          171,
          172,
          173,
          174,
          175,
          176,
          177,
          178,
          179,
          180,
          181,
          182,
          183,
          184,
          185,
          186,
          187,
          188,
          189,
          190,
          191,
          192,
          193,
          194,
          195,
          196,
          197,
          198,
          199,
          200,
          201,
          202
         ],
         "y": [
          4.615452569791131,
          6.216579705536702,
          4.016296489636375,
          3.6996266542409444,
          4.1147517762698556,
          4.376832298750031,
          6.116076495583769,
          3.173858649017234,
          5.361770698053078,
          6.355274301479881,
          5.662681063958956,
          7.091557130010841,
          5.438497940580248,
          4.746681509933097,
          4.8891783117307455,
          5.202141245801073,
          4.098261181038708,
          3.8197576696835256,
          4.582195568066538,
          5.665077561033911,
          5.243325490321041,
          6.45175126051555,
          5.823052736232199,
          4.809241456359075,
          4.595691261811311,
          5.504355183739193,
          2.8792873984927496,
          6.526981486403258,
          5.658068905395794,
          4.936593078664799,
          3.542895945877632,
          5.319304762778927,
          4.318033039474756,
          4.497313784149668,
          6.067694424480919,
          5.660806618799427,
          5.497775454662019,
          6.4527259897664635,
          4.607635999593782,
          4.19861440944706,
          6.156899720062654,
          6.068189344766694,
          4.692454834142097,
          5.478681781814231,
          4.955487266320262,
          5.4757421461212346,
          6.98449923729288,
          5.04991496662123,
          6.405148129366893,
          4.2030973093505395,
          5.161808420889969,
          4.559470424948302,
          5.5239101832910364,
          3.8045159637525785,
          6.506090474567117,
          4.510796831333721,
          5.493646170661407,
          7.056625701541833,
          5.752456989553565,
          5.28436686828249,
          6.200842020521492,
          5.9569628103242,
          4.434443652525317,
          6.082666732468908,
          5.684154006633577,
          6.96913869180969,
          4.032602674905178,
          5.487447717276126,
          7.014675328080358,
          5.281412268019125,
          5.701225029323098,
          6.185212479354703,
          5.054211516307305,
          4.065895086785019,
          4.341644419039255,
          4.985267543434503,
          6.785606335732723,
          6.946842152038471,
          6.172897833422752,
          5.755272795426919,
          3.9962757847823696,
          4.755906299279019,
          5.8701198092897755,
          5.004580429129305,
          5.161925200782747,
          4.539874905823581,
          5.8437168940928075,
          5.974338857529034,
          5.462827575813861,
          5.375924889828525,
          4.963470823519174,
          5.3833414703862275,
          5.083977274743177,
          5.496809182446469,
          6.8216724984199,
          6.027382525739313,
          3.99668151087738,
          5.721859834236483,
          5.668281431526253,
          6.1590988722330735,
          5.6811094438033365,
          5.237493094087199,
          4.268493737805926,
          4.809933608564535,
          4.659552864033884,
          5.89834715058123,
          3.5677600001473877,
          6.097404662788989,
          6.498457882656851,
          6.362900247707358,
          6.04828537547013,
          5.386036796295372,
          6.459792332855358,
          5.139326582917789,
          6.746659790026257,
          4.730048693541335,
          5.988188370225544,
          5.386361205102617,
          5.85350690258835,
          5.914479867235514,
          5.724424862070151,
          6.096631440860563,
          5.544007573100885,
          6.085264219798859,
          4.481351608044292,
          5.559561906251304,
          6.241509395950004,
          5.009199933838033,
          3.430380093674188,
          4.305218975833867,
          5.269581447280871,
          5.1076451542895995,
          6.161967346365401,
          5.539182434407422,
          4.797944686120957,
          4.451307659963874,
          4.405556709126245,
          4.211052009893706,
          4.433953283685895,
          5.532031480453355,
          6.790029921489747,
          5.924014897522795,
          7.0301891105923175,
          5.822883610512406,
          5.12165232176099,
          5.470041873480142,
          5.5797936450407235,
          5.180709530375424,
          5.51209001433628,
          4.795476376942901,
          4.54827204036846,
          4.295086342567629,
          6.543046575259581,
          3.7601894701469973,
          5.452163661536304,
          5.6462083144697885,
          4.984438094270331,
          6.10103607728027,
          4.681466317474815,
          5.584209650993699,
          5.378042713139195,
          4.245733890392046,
          4.513835529051306,
          5.3759803953474545,
          6.4537837778866844,
          6.892010062165184,
          4.237831887906481,
          3.8100747729915554,
          3.931630901863741,
          5.211433814669647,
          4.700087787933143,
          4.942190609604495,
          5.4948746884115,
          5.377308006022332,
          5.439167288644001,
          6.028573597304671,
          4.777701551215728,
          4.984547726782068,
          4.832911468963431,
          5.978471486771383,
          5.553500013925998,
          3.935050465231825,
          6.211399748201188,
          5.830652811935352,
          6.062798752656505,
          3.8892125986615156,
          4.878386991717235,
          3.5748289210147277,
          3.6854727394120914,
          5.721515488438058,
          4.210442369030545,
          6.146375023805177,
          5.764413248873666,
          5.092213399093197,
          5.621020434493829,
          4.160564860000704,
          3.4839987122726086,
          4.230515155880369,
          5.145742356516706,
          5.785907829449286,
          6.19753686098673,
          3.8242248810023796,
          4.990946399386075
         ]
        }
       ],
       "layout": {
        "template": {
         "data": {
          "bar": [
           {
            "error_x": {
             "color": "#f2f5fa"
            },
            "error_y": {
             "color": "#f2f5fa"
            },
            "marker": {
             "line": {
              "color": "rgb(17,17,17)",
              "width": 0.5
             },
             "pattern": {
              "fillmode": "overlay",
              "size": 10,
              "solidity": 0.2
             }
            },
            "type": "bar"
           }
          ],
          "barpolar": [
           {
            "marker": {
             "line": {
              "color": "rgb(17,17,17)",
              "width": 0.5
             },
             "pattern": {
              "fillmode": "overlay",
              "size": 10,
              "solidity": 0.2
             }
            },
            "type": "barpolar"
           }
          ],
          "carpet": [
           {
            "aaxis": {
             "endlinecolor": "#A2B1C6",
             "gridcolor": "#506784",
             "linecolor": "#506784",
             "minorgridcolor": "#506784",
             "startlinecolor": "#A2B1C6"
            },
            "baxis": {
             "endlinecolor": "#A2B1C6",
             "gridcolor": "#506784",
             "linecolor": "#506784",
             "minorgridcolor": "#506784",
             "startlinecolor": "#A2B1C6"
            },
            "type": "carpet"
           }
          ],
          "choropleth": [
           {
            "colorbar": {
             "outlinewidth": 0,
             "ticks": ""
            },
            "type": "choropleth"
           }
          ],
          "contour": [
           {
            "colorbar": {
             "outlinewidth": 0,
             "ticks": ""
            },
            "colorscale": [
             [
              0,
              "#0d0887"
             ],
             [
              0.1111111111111111,
              "#46039f"
             ],
             [
              0.2222222222222222,
              "#7201a8"
             ],
             [
              0.3333333333333333,
              "#9c179e"
             ],
             [
              0.4444444444444444,
              "#bd3786"
             ],
             [
              0.5555555555555556,
              "#d8576b"
             ],
             [
              0.6666666666666666,
              "#ed7953"
             ],
             [
              0.7777777777777778,
              "#fb9f3a"
             ],
             [
              0.8888888888888888,
              "#fdca26"
             ],
             [
              1,
              "#f0f921"
             ]
            ],
            "type": "contour"
           }
          ],
          "contourcarpet": [
           {
            "colorbar": {
             "outlinewidth": 0,
             "ticks": ""
            },
            "type": "contourcarpet"
           }
          ],
          "heatmap": [
           {
            "colorbar": {
             "outlinewidth": 0,
             "ticks": ""
            },
            "colorscale": [
             [
              0,
              "#0d0887"
             ],
             [
              0.1111111111111111,
              "#46039f"
             ],
             [
              0.2222222222222222,
              "#7201a8"
             ],
             [
              0.3333333333333333,
              "#9c179e"
             ],
             [
              0.4444444444444444,
              "#bd3786"
             ],
             [
              0.5555555555555556,
              "#d8576b"
             ],
             [
              0.6666666666666666,
              "#ed7953"
             ],
             [
              0.7777777777777778,
              "#fb9f3a"
             ],
             [
              0.8888888888888888,
              "#fdca26"
             ],
             [
              1,
              "#f0f921"
             ]
            ],
            "type": "heatmap"
           }
          ],
          "heatmapgl": [
           {
            "colorbar": {
             "outlinewidth": 0,
             "ticks": ""
            },
            "colorscale": [
             [
              0,
              "#0d0887"
             ],
             [
              0.1111111111111111,
              "#46039f"
             ],
             [
              0.2222222222222222,
              "#7201a8"
             ],
             [
              0.3333333333333333,
              "#9c179e"
             ],
             [
              0.4444444444444444,
              "#bd3786"
             ],
             [
              0.5555555555555556,
              "#d8576b"
             ],
             [
              0.6666666666666666,
              "#ed7953"
             ],
             [
              0.7777777777777778,
              "#fb9f3a"
             ],
             [
              0.8888888888888888,
              "#fdca26"
             ],
             [
              1,
              "#f0f921"
             ]
            ],
            "type": "heatmapgl"
           }
          ],
          "histogram": [
           {
            "marker": {
             "pattern": {
              "fillmode": "overlay",
              "size": 10,
              "solidity": 0.2
             }
            },
            "type": "histogram"
           }
          ],
          "histogram2d": [
           {
            "colorbar": {
             "outlinewidth": 0,
             "ticks": ""
            },
            "colorscale": [
             [
              0,
              "#0d0887"
             ],
             [
              0.1111111111111111,
              "#46039f"
             ],
             [
              0.2222222222222222,
              "#7201a8"
             ],
             [
              0.3333333333333333,
              "#9c179e"
             ],
             [
              0.4444444444444444,
              "#bd3786"
             ],
             [
              0.5555555555555556,
              "#d8576b"
             ],
             [
              0.6666666666666666,
              "#ed7953"
             ],
             [
              0.7777777777777778,
              "#fb9f3a"
             ],
             [
              0.8888888888888888,
              "#fdca26"
             ],
             [
              1,
              "#f0f921"
             ]
            ],
            "type": "histogram2d"
           }
          ],
          "histogram2dcontour": [
           {
            "colorbar": {
             "outlinewidth": 0,
             "ticks": ""
            },
            "colorscale": [
             [
              0,
              "#0d0887"
             ],
             [
              0.1111111111111111,
              "#46039f"
             ],
             [
              0.2222222222222222,
              "#7201a8"
             ],
             [
              0.3333333333333333,
              "#9c179e"
             ],
             [
              0.4444444444444444,
              "#bd3786"
             ],
             [
              0.5555555555555556,
              "#d8576b"
             ],
             [
              0.6666666666666666,
              "#ed7953"
             ],
             [
              0.7777777777777778,
              "#fb9f3a"
             ],
             [
              0.8888888888888888,
              "#fdca26"
             ],
             [
              1,
              "#f0f921"
             ]
            ],
            "type": "histogram2dcontour"
           }
          ],
          "mesh3d": [
           {
            "colorbar": {
             "outlinewidth": 0,
             "ticks": ""
            },
            "type": "mesh3d"
           }
          ],
          "parcoords": [
           {
            "line": {
             "colorbar": {
              "outlinewidth": 0,
              "ticks": ""
             }
            },
            "type": "parcoords"
           }
          ],
          "pie": [
           {
            "automargin": true,
            "type": "pie"
           }
          ],
          "scatter": [
           {
            "marker": {
             "line": {
              "color": "#283442"
             }
            },
            "type": "scatter"
           }
          ],
          "scatter3d": [
           {
            "line": {
             "colorbar": {
              "outlinewidth": 0,
              "ticks": ""
             }
            },
            "marker": {
             "colorbar": {
              "outlinewidth": 0,
              "ticks": ""
             }
            },
            "type": "scatter3d"
           }
          ],
          "scattercarpet": [
           {
            "marker": {
             "colorbar": {
              "outlinewidth": 0,
              "ticks": ""
             }
            },
            "type": "scattercarpet"
           }
          ],
          "scattergeo": [
           {
            "marker": {
             "colorbar": {
              "outlinewidth": 0,
              "ticks": ""
             }
            },
            "type": "scattergeo"
           }
          ],
          "scattergl": [
           {
            "marker": {
             "line": {
              "color": "#283442"
             }
            },
            "type": "scattergl"
           }
          ],
          "scattermapbox": [
           {
            "marker": {
             "colorbar": {
              "outlinewidth": 0,
              "ticks": ""
             }
            },
            "type": "scattermapbox"
           }
          ],
          "scatterpolar": [
           {
            "marker": {
             "colorbar": {
              "outlinewidth": 0,
              "ticks": ""
             }
            },
            "type": "scatterpolar"
           }
          ],
          "scatterpolargl": [
           {
            "marker": {
             "colorbar": {
              "outlinewidth": 0,
              "ticks": ""
             }
            },
            "type": "scatterpolargl"
           }
          ],
          "scatterternary": [
           {
            "marker": {
             "colorbar": {
              "outlinewidth": 0,
              "ticks": ""
             }
            },
            "type": "scatterternary"
           }
          ],
          "surface": [
           {
            "colorbar": {
             "outlinewidth": 0,
             "ticks": ""
            },
            "colorscale": [
             [
              0,
              "#0d0887"
             ],
             [
              0.1111111111111111,
              "#46039f"
             ],
             [
              0.2222222222222222,
              "#7201a8"
             ],
             [
              0.3333333333333333,
              "#9c179e"
             ],
             [
              0.4444444444444444,
              "#bd3786"
             ],
             [
              0.5555555555555556,
              "#d8576b"
             ],
             [
              0.6666666666666666,
              "#ed7953"
             ],
             [
              0.7777777777777778,
              "#fb9f3a"
             ],
             [
              0.8888888888888888,
              "#fdca26"
             ],
             [
              1,
              "#f0f921"
             ]
            ],
            "type": "surface"
           }
          ],
          "table": [
           {
            "cells": {
             "fill": {
              "color": "#506784"
             },
             "line": {
              "color": "rgb(17,17,17)"
             }
            },
            "header": {
             "fill": {
              "color": "#2a3f5f"
             },
             "line": {
              "color": "rgb(17,17,17)"
             }
            },
            "type": "table"
           }
          ]
         },
         "layout": {
          "annotationdefaults": {
           "arrowcolor": "#f2f5fa",
           "arrowhead": 0,
           "arrowwidth": 1
          },
          "autotypenumbers": "strict",
          "coloraxis": {
           "colorbar": {
            "outlinewidth": 0,
            "ticks": ""
           }
          },
          "colorscale": {
           "diverging": [
            [
             0,
             "#8e0152"
            ],
            [
             0.1,
             "#c51b7d"
            ],
            [
             0.2,
             "#de77ae"
            ],
            [
             0.3,
             "#f1b6da"
            ],
            [
             0.4,
             "#fde0ef"
            ],
            [
             0.5,
             "#f7f7f7"
            ],
            [
             0.6,
             "#e6f5d0"
            ],
            [
             0.7,
             "#b8e186"
            ],
            [
             0.8,
             "#7fbc41"
            ],
            [
             0.9,
             "#4d9221"
            ],
            [
             1,
             "#276419"
            ]
           ],
           "sequential": [
            [
             0,
             "#0d0887"
            ],
            [
             0.1111111111111111,
             "#46039f"
            ],
            [
             0.2222222222222222,
             "#7201a8"
            ],
            [
             0.3333333333333333,
             "#9c179e"
            ],
            [
             0.4444444444444444,
             "#bd3786"
            ],
            [
             0.5555555555555556,
             "#d8576b"
            ],
            [
             0.6666666666666666,
             "#ed7953"
            ],
            [
             0.7777777777777778,
             "#fb9f3a"
            ],
            [
             0.8888888888888888,
             "#fdca26"
            ],
            [
             1,
             "#f0f921"
            ]
           ],
           "sequentialminus": [
            [
             0,
             "#0d0887"
            ],
            [
             0.1111111111111111,
             "#46039f"
            ],
            [
             0.2222222222222222,
             "#7201a8"
            ],
            [
             0.3333333333333333,
             "#9c179e"
            ],
            [
             0.4444444444444444,
             "#bd3786"
            ],
            [
             0.5555555555555556,
             "#d8576b"
            ],
            [
             0.6666666666666666,
             "#ed7953"
            ],
            [
             0.7777777777777778,
             "#fb9f3a"
            ],
            [
             0.8888888888888888,
             "#fdca26"
            ],
            [
             1,
             "#f0f921"
            ]
           ]
          },
          "colorway": [
           "#636efa",
           "#EF553B",
           "#00cc96",
           "#ab63fa",
           "#FFA15A",
           "#19d3f3",
           "#FF6692",
           "#B6E880",
           "#FF97FF",
           "#FECB52"
          ],
          "font": {
           "color": "#f2f5fa"
          },
          "geo": {
           "bgcolor": "rgb(17,17,17)",
           "lakecolor": "rgb(17,17,17)",
           "landcolor": "rgb(17,17,17)",
           "showlakes": true,
           "showland": true,
           "subunitcolor": "#506784"
          },
          "hoverlabel": {
           "align": "left"
          },
          "hovermode": "closest",
          "mapbox": {
           "style": "dark"
          },
          "paper_bgcolor": "rgb(17,17,17)",
          "plot_bgcolor": "rgb(17,17,17)",
          "polar": {
           "angularaxis": {
            "gridcolor": "#506784",
            "linecolor": "#506784",
            "ticks": ""
           },
           "bgcolor": "rgb(17,17,17)",
           "radialaxis": {
            "gridcolor": "#506784",
            "linecolor": "#506784",
            "ticks": ""
           }
          },
          "scene": {
           "xaxis": {
            "backgroundcolor": "rgb(17,17,17)",
            "gridcolor": "#506784",
            "gridwidth": 2,
            "linecolor": "#506784",
            "showbackground": true,
            "ticks": "",
            "zerolinecolor": "#C8D4E3"
           },
           "yaxis": {
            "backgroundcolor": "rgb(17,17,17)",
            "gridcolor": "#506784",
            "gridwidth": 2,
            "linecolor": "#506784",
            "showbackground": true,
            "ticks": "",
            "zerolinecolor": "#C8D4E3"
           },
           "zaxis": {
            "backgroundcolor": "rgb(17,17,17)",
            "gridcolor": "#506784",
            "gridwidth": 2,
            "linecolor": "#506784",
            "showbackground": true,
            "ticks": "",
            "zerolinecolor": "#C8D4E3"
           }
          },
          "shapedefaults": {
           "line": {
            "color": "#f2f5fa"
           }
          },
          "sliderdefaults": {
           "bgcolor": "#C8D4E3",
           "bordercolor": "rgb(17,17,17)",
           "borderwidth": 1,
           "tickwidth": 0
          },
          "ternary": {
           "aaxis": {
            "gridcolor": "#506784",
            "linecolor": "#506784",
            "ticks": ""
           },
           "baxis": {
            "gridcolor": "#506784",
            "linecolor": "#506784",
            "ticks": ""
           },
           "bgcolor": "rgb(17,17,17)",
           "caxis": {
            "gridcolor": "#506784",
            "linecolor": "#506784",
            "ticks": ""
           }
          },
          "title": {
           "x": 0.05
          },
          "updatemenudefaults": {
           "bgcolor": "#506784",
           "borderwidth": 0
          },
          "xaxis": {
           "automargin": true,
           "gridcolor": "#283442",
           "linecolor": "#506784",
           "ticks": "",
           "title": {
            "standoff": 15
           },
           "zerolinecolor": "#283442",
           "zerolinewidth": 2
          },
          "yaxis": {
           "automargin": true,
           "gridcolor": "#283442",
           "linecolor": "#506784",
           "ticks": "",
           "title": {
            "standoff": 15
           },
           "zerolinecolor": "#283442",
           "zerolinewidth": 2
          }
         }
        },
        "title": {
         "text": "Estimated Happiness Scores (Linear Regression) with adjusted data"
        },
        "xaxis": {
         "title": {
          "text": "Index"
         }
        },
        "yaxis": {
         "title": {
          "text": "Happiness Score"
         }
        }
       }
      }
     },
     "metadata": {},
     "output_type": "display_data"
    }
   ],
   "source": [
    "linear_regression_test = Test_Model(ajusted_dataframe[['economy_per_capita', 'family', 'life_expectancy', 'freedom', 'government_corruption', 'generosity', 'year', 'happiness_score']], LinearRegression(), 101)\n",
    "print(linear_regression_test.metrics())\n",
    "print(linear_regression_test.get_shapes())\n",
    "graph_to_predict(linear_regression_test.get_test_data().reset_index(), 'Estimated Happiness Scores (Linear Regression) with adjusted data')"
   ]
  },
  {
   "cell_type": "markdown",
   "metadata": {},
   "source": [
    "With the adjusted ones there is apparently less effectiveness in predicting the values. Even, analyzing with and without the columns that we excluded when looking at the correlation plot, using all the columns we talked about is more effective."
   ]
  },
  {
   "cell_type": "markdown",
   "metadata": {},
   "source": [
    "##### Random Forest"
   ]
  },
  {
   "cell_type": "markdown",
   "metadata": {},
   "source": [
    "Let's try the Random Forest model and see how it works. This might be more effective."
   ]
  },
  {
   "cell_type": "code",
   "execution_count": 103,
   "metadata": {},
   "outputs": [
    {
     "data": {
      "text/plain": [
       "['happiness_score',\n",
       " 'economy_per_capita',\n",
       " 'family',\n",
       " 'life_expectancy',\n",
       " 'freedom',\n",
       " 'government_corruption',\n",
       " 'generosity',\n",
       " 'year']"
      ]
     },
     "execution_count": 103,
     "metadata": {},
     "output_type": "execute_result"
    }
   ],
   "source": [
    "columns_to_use"
   ]
  },
  {
   "cell_type": "markdown",
   "metadata": {},
   "source": [
    "Unajusted data:"
   ]
  },
  {
   "cell_type": "code",
   "execution_count": 104,
   "metadata": {},
   "outputs": [],
   "source": [
    "import logging\n",
    "logging.basicConfig(level=logging.INFO, filename='../shared_functions/model/model_trainner.log')\n",
    "r2_init = 0.80\n",
    "# for random_model in range(100, 201):\n",
    "#     for random_split in range(160):\n",
    "#         random_forest_regressor_test = Test_Model(unajusted_dataframe[['economy_per_capita', 'family', 'life_expectancy','freedom', 'government_corruption', 'generosity', 'year', 'happiness_score']], RandomForestRegressor(n_estimators=165, random_state=random_model), random_split)\n",
    "#         r2 = random_forest_regressor_test.get_r2_metric()\n",
    "#         if r2 > r2_init:\n",
    "#             r2_init = r2\n",
    "#             logging.info(f\"[{random_model}, {random_split}, {r2}]\")"
   ]
  },
  {
   "cell_type": "markdown",
   "metadata": {},
   "source": [
    "> **_NOTE:_**  To avoid undesirable executions, the trigger is commented."
   ]
  },
  {
   "cell_type": "markdown",
   "metadata": {},
   "source": [
    "With this method a 0.8614 of R2 was achieved, which is interesting and so far is the best model, so it will be saved to pass it to the Airflow."
   ]
  },
  {
   "cell_type": "code",
   "execution_count": 105,
   "metadata": {},
   "outputs": [
    {
     "data": {
      "text/plain": [
       "0.8614328441454778"
      ]
     },
     "execution_count": 105,
     "metadata": {},
     "output_type": "execute_result"
    }
   ],
   "source": [
    "random_forest_regressor_test = Test_Model(dataframe_filtered[['economy_per_capita', 'family', 'life_expectancy','freedom', 'government_corruption', 'generosity', 'year', 'happiness_score']], RandomForestRegressor(n_estimators=165, random_state=3), 125)\n",
    "random_forest_regressor_test.get_r2_metric()"
   ]
  },
  {
   "cell_type": "markdown",
   "metadata": {},
   "source": [
    "Ajusted data:"
   ]
  },
  {
   "cell_type": "code",
   "execution_count": 106,
   "metadata": {},
   "outputs": [],
   "source": [
    "from joblib import Parallel, delayed\n",
    "logging.basicConfig(level=logging.INFO, filename='../shared_functions/model/model_trainner.log')\n",
    "r2_init = 0.8627981738240167\n",
    "results = []\n",
    "\n",
    "def evaluate_model(random_model, random_split, dataframe):\n",
    "    random_forest_regressor_test = Test_Model(dataframe[['economy_per_capita', 'family', 'life_expectancy','freedom', 'government_corruption', 'generosity', 'year', 'happiness_score']], RandomForestRegressor(n_estimators=200, random_state=random_model), random_split)\n",
    "    r2 = random_forest_regressor_test.get_r2_metric()\n",
    "    return random_model, random_split, r2\n",
    "\n",
    "# results = Parallel(n_jobs=-1)(delayed(evaluate_model)(random_model, random_split, unajusted_dataframe)\n",
    "# for random_model in range(0, 201) for random_split in range(126))"
   ]
  },
  {
   "cell_type": "markdown",
   "metadata": {},
   "source": [
    "> **_NOTE:_**  To avoid undesirable executions, the trigger is commented."
   ]
  },
  {
   "cell_type": "code",
   "execution_count": 107,
   "metadata": {},
   "outputs": [],
   "source": [
    "for random_model, random_split, r2 in results:\n",
    "    if r2 > r2_init:\n",
    "        r2_init = r2\n",
    "        logging.info(f\"[{random_model}, {random_split}, {r2}]\")"
   ]
  },
  {
   "cell_type": "code",
   "execution_count": 108,
   "metadata": {},
   "outputs": [],
   "source": [
    "r2_init = 0.873917833001572 # <- Last R2 Score got\n",
    "results = []\n",
    "\n",
    "def evaluate_model(random_model, random_split, dataframe, preprocessor):\n",
    "    model_test = Test_Model(\n",
    "        dataframe[['economy_per_capita', 'family', 'life_expectancy','freedom', 'government_corruption', 'generosity', 'year', 'country_region', 'happiness_score']],\n",
    "        RandomForestRegressor(n_estimators=165, random_state=random_model),\n",
    "        random_split,\n",
    "        preprocessor\n",
    "        )\n",
    "    r2 = model_test.get_r2_metric()\n",
    "    return random_model, random_split, r2\n",
    "\n",
    "# results = Parallel(n_jobs=-1)(delayed(evaluate_model)(random_model, random_split, unajusted_dataframe_new, preprocessor)\n",
    "# for random_model in range(1000, 6000) for random_split in range(125,126))\n",
    "for random_model, random_split, r2 in results:\n",
    "    if r2 > r2_init:\n",
    "        r2_init = r2\n",
    "        logging.info(f\"[{random_model}, {random_split}, {r2}]\")"
   ]
  },
  {
   "cell_type": "markdown",
   "metadata": {},
   "source": [
    "> **_NOTE:_**  To avoid undesirable executions, the trigger is commented."
   ]
  },
  {
   "cell_type": "markdown",
   "metadata": {},
   "source": [
    "We didn't get any result; so next."
   ]
  },
  {
   "cell_type": "markdown",
   "metadata": {},
   "source": [
    "##### Gradient Boosting Regressor"
   ]
  },
  {
   "cell_type": "code",
   "execution_count": 109,
   "metadata": {},
   "outputs": [
    {
     "data": {
      "text/plain": [
       "['happiness_score',\n",
       " 'economy_per_capita',\n",
       " 'family',\n",
       " 'life_expectancy',\n",
       " 'freedom',\n",
       " 'government_corruption',\n",
       " 'generosity',\n",
       " 'year']"
      ]
     },
     "execution_count": 109,
     "metadata": {},
     "output_type": "execute_result"
    }
   ],
   "source": [
    "columns_to_use"
   ]
  },
  {
   "cell_type": "code",
   "execution_count": 110,
   "metadata": {},
   "outputs": [],
   "source": [
    "import logging\n",
    "logging.basicConfig(level=logging.INFO, filename='../shared_functions/model/model_trainner.log')\n",
    "r2_init = 0\n",
    "# for random_model in range(21):\n",
    "#     for random_split in range(200):\n",
    "#         gradient_boosting_regressor_test = Test_Model(dataframe_filtered[['economy_per_capita', 'family', 'life_expectancy', 'happiness_score']], GradientBoostingRegressor(n_estimators=150, random_state=random_model), random_split)\n",
    "#         r2 = gradient_boosting_regressor_test.get_r2_metric()\n",
    "#         if r2 > r2_init:\n",
    "#             r2_init = r2\n",
    "#             logging.info(f\"[{random_model}, {random_split}, {r2}]\")"
   ]
  },
  {
   "cell_type": "markdown",
   "metadata": {},
   "source": [
    "> **_NOTE:_**  To avoid undesirable executions, the trigger is commented."
   ]
  },
  {
   "cell_type": "markdown",
   "metadata": {},
   "source": [
    "Now let's try a better process using Pipelines, let's use the region and country categorical:"
   ]
  },
  {
   "cell_type": "code",
   "execution_count": 111,
   "metadata": {},
   "outputs": [],
   "source": [
    "unajusted_dataframe_new = dataframe_filtered.copy()"
   ]
  },
  {
   "cell_type": "code",
   "execution_count": 112,
   "metadata": {},
   "outputs": [],
   "source": [
    "unajusted_dataframe_new['year'] = unajusted_dataframe_new['year'].astype(int)"
   ]
  },
  {
   "cell_type": "markdown",
   "metadata": {},
   "source": [
    "Let's divide the categorical and numerical ones:"
   ]
  },
  {
   "cell_type": "code",
   "execution_count": 113,
   "metadata": {},
   "outputs": [],
   "source": [
    "numeric_features = ['economy_per_capita', 'family', 'life_expectancy', 'freedom', 'government_corruption', 'generosity', 'year']\n",
    "categorical_features = ['country_region']"
   ]
  },
  {
   "cell_type": "markdown",
   "metadata": {},
   "source": [
    "Let's generate the initial pipelines with a different process, since it will be one for the numerical and another for the categorical ones:"
   ]
  },
  {
   "cell_type": "code",
   "execution_count": 114,
   "metadata": {},
   "outputs": [],
   "source": [
    "numeric_transformer = Pipeline(steps=[\n",
    "    ('imputer', SimpleImputer(strategy='mean')),\n",
    "    ('scaler', StandardScaler())\n",
    "])\n",
    "categorical_transformer = Pipeline(steps=[\n",
    "    ('imputer', SimpleImputer(strategy='most_frequent')),\n",
    "    ('onehot', OneHotEncoder(handle_unknown='ignore'))\n",
    "])\n",
    "preprocessor = ColumnTransformer(\n",
    "    transformers=[\n",
    "        ('num', numeric_transformer, numeric_features),\n",
    "        ('cat', categorical_transformer, categorical_features)\n",
    "    ])"
   ]
  },
  {
   "cell_type": "markdown",
   "metadata": {},
   "source": [
    "Elastic Net model"
   ]
  },
  {
   "cell_type": "code",
   "execution_count": null,
   "metadata": {},
   "outputs": [],
   "source": [
    "X_rs_ereg = unajusted_dataframe[['economy_per_capita', 'family', 'life_expectancy', 'freedom', 'government_corruption', 'generosity', 'year', 'country_region']]\n",
    "y_rs_ereg = unajusted_dataframe['happiness_score']\n",
    "X_train, X_test, y_train, y_test = train_test_split(X_rs_ereg, y_rs_ereg, test_size=0.3, random_state=5432)"
   ]
  },
  {
   "cell_type": "code",
   "execution_count": null,
   "metadata": {},
   "outputs": [],
   "source": [
    "elastic_net_model = ElasticNet(random_state=5432)\n",
    "pipeline = Pipeline(steps=[\n",
    "    ('preprocessor', preprocessor),\n",
    "    ('regressor', elastic_net_model)\n",
    "])"
   ]
  },
  {
   "cell_type": "code",
   "execution_count": null,
   "metadata": {},
   "outputs": [],
   "source": [
    "param_grid_ereg = {\n",
    "    'regressor__alpha': [0.0001, 0.001, 0.01, 0.1, 1.0, 10.0, 100.0],\n",
    "    'regressor__l1_ratio': [0.0, 0.1, 0.3, 0.5, 0.7, 0.9, 1.0],\n",
    "    'regressor__max_iter': [1000, 5000, 10000, 20000, 50000],\n",
    "    'regressor__tol': [1e-4, 1e-3, 1e-2, 1e-5],\n",
    "    'regressor__fit_intercept': [True, False],\n",
    "    'regressor__selection': ['cyclic', 'random']\n",
    "}"
   ]
  },
  {
   "cell_type": "code",
   "execution_count": null,
   "metadata": {},
   "outputs": [],
   "source": [
    "random_search_ereg = RandomizedSearchCV(\n",
    "    pipeline, \n",
    "    param_distributions=param_grid_ereg,\n",
    "    n_iter=20000,\n",
    "    cv=5, \n",
    "    scoring='r2', \n",
    "    verbose=2, \n",
    "    n_jobs=-1, \n",
    "    random_state=42\n",
    ")\n",
    "random_search_ereg.fit(X_train, y_train)"
   ]
  },
  {
   "cell_type": "code",
   "execution_count": null,
   "metadata": {},
   "outputs": [],
   "source": [
    "best_model = random_search_ereg.best_estimator_\n",
    "y_pred_test = best_model.predict(X_test)\n",
    "r2_score(y_test, y_pred_test)"
   ]
  },
  {
   "cell_type": "markdown",
   "metadata": {},
   "source": [
    "We get 0.8693 in R2 score. Lets check with XGB model:"
   ]
  },
  {
   "cell_type": "markdown",
   "metadata": {},
   "source": [
    "#### XGB Model"
   ]
  },
  {
   "cell_type": "markdown",
   "metadata": {},
   "source": [
    "Lets try with the next hiperparameters:"
   ]
  },
  {
   "cell_type": "markdown",
   "metadata": {},
   "source": [
    "For grid search:\n",
    "\n",
    "Lets transform the _year_ column to number"
   ]
  },
  {
   "cell_type": "code",
   "execution_count": 115,
   "metadata": {},
   "outputs": [],
   "source": [
    "ajusted_dataframe['year'] = ajusted_dataframe['year'].astype(int)\n",
    "unajusted_dataframe['year'] = unajusted_dataframe['year'].astype(int)"
   ]
  },
  {
   "cell_type": "code",
   "execution_count": 116,
   "metadata": {},
   "outputs": [],
   "source": [
    "param_grid = {\n",
    "    'regressor__n_estimators': [200, 300, 400, 500, 1000, 1500, 2000],\n",
    "    'regressor__learning_rate': [0.01, 0.05, 0.1, 0.2, 0.3],\n",
    "    'regressor__max_depth': [3, 5, 7, 9],\n",
    "    'regressor__min_child_weight': [1, 3, 5, 7],\n",
    "    'regressor__subsample': [0.6, 0.7, 0.8, 0.9, 1.0],\n",
    "    'regressor__colsample_bytree': [0.6, 0.7, 0.8, 0.9, 1.0],\n",
    "    'regressor__gamma': [0, 0.1, 0.2, 0.3, 0.4],\n",
    "    'regressor__reg_alpha': [0, 0.1, 0.5, 1.0],\n",
    "    'regressor__reg_lambda': [0.5, 1, 1.3, 1.5, 2]\n",
    "}"
   ]
  },
  {
   "cell_type": "code",
   "execution_count": 117,
   "metadata": {},
   "outputs": [],
   "source": [
    "X = unajusted_dataframe[['economy_per_capita', 'family', 'life_expectancy', 'freedom', 'government_corruption', 'generosity', 'year', 'country_region']]\n",
    "y = unajusted_dataframe['happiness_score']\n",
    "X_train, X_test, y_train, y_test = train_test_split(X, y, test_size=0.3, random_state=5432)"
   ]
  },
  {
   "cell_type": "markdown",
   "metadata": {},
   "source": [
    "Lets indicate using libraries a pipeline that take numeric and categorical columns:"
   ]
  },
  {
   "cell_type": "code",
   "execution_count": 118,
   "metadata": {},
   "outputs": [],
   "source": [
    "numeric_transformer_test = Pipeline(steps=[\n",
    "    ('imputer', SimpleImputer(strategy='mean')),\n",
    "    ('scaler', StandardScaler())\n",
    "])\n",
    "categorical_transformer_test = Pipeline(steps=[\n",
    "    ('imputer', SimpleImputer(strategy='most_frequent')),\n",
    "    ('onehot', OneHotEncoder(handle_unknown='ignore'))\n",
    "])"
   ]
  },
  {
   "cell_type": "code",
   "execution_count": 119,
   "metadata": {},
   "outputs": [],
   "source": [
    "preprocessor_test = ColumnTransformer(\n",
    "    transformers=[\n",
    "        ('num', numeric_transformer_test, numeric_features),\n",
    "        ('cat', categorical_transformer_test, categorical_features)\n",
    "    ])"
   ]
  },
  {
   "cell_type": "code",
   "execution_count": 120,
   "metadata": {},
   "outputs": [],
   "source": [
    "pipeline_test = Pipeline(steps=[\n",
    "    ('preprocessor', preprocessor_test),\n",
    "    ('regressor', XGBRegressor(objective='reg:squarederror', random_state=5432))\n",
    "])"
   ]
  },
  {
   "cell_type": "code",
   "execution_count": 121,
   "metadata": {},
   "outputs": [],
   "source": [
    "grid_search = GridSearchCV(pipeline_test, param_grid, cv=20, scoring='r2', n_jobs=-1)\n",
    "# grid_search.fit(X_train, y_train)"
   ]
  },
  {
   "cell_type": "markdown",
   "metadata": {},
   "source": [
    "> **_NOTE:_**  To avoid undesirable executions, the trigger is commented."
   ]
  },
  {
   "cell_type": "markdown",
   "metadata": {},
   "source": [
    "Lets test to get R2 score:"
   ]
  },
  {
   "cell_type": "code",
   "execution_count": null,
   "metadata": {},
   "outputs": [],
   "source": [
    "y_pred_test = grid_search.predict(X_test)\n",
    "print(f'R2: {r2_score(y_test, y_pred_test)} | MAE: {mean_absolute_error(y_test, y_pred_test)} | MSE: {mean_squared_error(y_test, y_pred_test)}')"
   ]
  },
  {
   "cell_type": "markdown",
   "metadata": {},
   "source": [
    "We got 0.8996580035415369, lets get its best params to save the model:"
   ]
  },
  {
   "cell_type": "code",
   "execution_count": null,
   "metadata": {},
   "outputs": [],
   "source": [
    "best_params = grid_search.best_params_\n",
    "print(f\"Best hiperparameters: {best_params}\")"
   ]
  },
  {
   "cell_type": "markdown",
   "metadata": {},
   "source": [
    "Lets put the hiperparams in model:"
   ]
  },
  {
   "cell_type": "code",
   "execution_count": 123,
   "metadata": {},
   "outputs": [],
   "source": [
    "xgb_model_test = XGBRegressor(\n",
    "    colsample_bytree=0.7,\n",
    "    gamma=0,\n",
    "    learning_rate=0.3, # 0.2\n",
    "    max_depth=3,\n",
    "    min_child_weight=1,\n",
    "    n_estimators=400, # 1500\n",
    "    reg_alpha=0,\n",
    "    reg_lambda=1.3, # 1\n",
    "    subsample=1.0\n",
    ")"
   ]
  },
  {
   "cell_type": "markdown",
   "metadata": {},
   "source": [
    "Lets test:"
   ]
  },
  {
   "cell_type": "code",
   "execution_count": 124,
   "metadata": {},
   "outputs": [],
   "source": [
    "pipeline_test = Pipeline(steps=[('preprocessor', preprocessor_test), ('regressor', xgb_model_test)])\n",
    "pipeline_test.fit(X_train, y_train)\n",
    "y_pred_test = pipeline_test.predict(X_test)"
   ]
  },
  {
   "cell_type": "code",
   "execution_count": 125,
   "metadata": {},
   "outputs": [
    {
     "name": "stdout",
     "output_type": "stream",
     "text": [
      "R2: 0.8996580035415369 | MAE: 0.27530317563852447 | MSE: 0.12516936281877972\n"
     ]
    }
   ],
   "source": [
    "print(f'R2: {r2_score(y_test, y_pred_test)} | MAE: {mean_absolute_error(y_test, y_pred_test)} | MSE: {mean_squared_error(y_test, y_pred_test)}')"
   ]
  },
  {
   "cell_type": "markdown",
   "metadata": {},
   "source": [
    "Could we get a little more R2 score? Let's try with others hiperparams:"
   ]
  },
  {
   "cell_type": "code",
   "execution_count": 126,
   "metadata": {},
   "outputs": [],
   "source": [
    "xgb_model_test = XGBRegressor(\n",
    "    colsample_bytree=0.7,\n",
    "    gamma=0,\n",
    "    learning_rate=0.3,\n",
    "    max_depth=3,\n",
    "    min_child_weight=1,\n",
    "    n_estimators=1500,\n",
    "    reg_alpha=0,\n",
    "    reg_lambda=1.3,\n",
    "    subsample=1.0\n",
    ")"
   ]
  },
  {
   "cell_type": "code",
   "execution_count": 127,
   "metadata": {},
   "outputs": [
    {
     "name": "stdout",
     "output_type": "stream",
     "text": [
      "R2: 0.8999529250171272 | MAE: 0.27321003904149654 | MSE: 0.12480146966851251\n"
     ]
    }
   ],
   "source": [
    "pipeline_test = Pipeline(steps=[('preprocessor', preprocessor_test), ('regressor', xgb_model_test)])\n",
    "pipeline_test.fit(X_train, y_train)\n",
    "y_pred_test = pipeline_test.predict(X_test)\n",
    "\n",
    "print(f'R2: {r2_score(y_test, y_pred_test)} | MAE: {mean_absolute_error(y_test, y_pred_test)} | MSE: {mean_squared_error(y_test, y_pred_test)}')"
   ]
  },
  {
   "cell_type": "markdown",
   "metadata": {},
   "source": [
    "We got: 0.8999529250171272 with XGB Model"
   ]
  },
  {
   "cell_type": "markdown",
   "metadata": {},
   "source": [
    "#### Final trained model"
   ]
  },
  {
   "cell_type": "markdown",
   "metadata": {},
   "source": [
    "Testing with different models and reviewing our **model_trainner.log** file, we obtain that the one that supports us the most in terms of prediction is the following one:"
   ]
  },
  {
   "cell_type": "code",
   "execution_count": 128,
   "metadata": {},
   "outputs": [
    {
     "name": "stdout",
     "output_type": "stream",
     "text": [
      "0.8999529250171272\n",
      "X train: (546, 171) | X test: (235, 171)\n"
     ]
    },
    {
     "data": {
      "application/vnd.plotly.v1+json": {
       "config": {
        "plotlyServerURL": "https://plot.ly"
       },
       "data": [
        {
         "mode": "lines",
         "name": "Observed",
         "type": "scatter",
         "x": [
          0,
          1,
          2,
          3,
          4,
          5,
          6,
          7,
          8,
          9,
          10,
          11,
          12,
          13,
          14,
          15,
          16,
          17,
          18,
          19,
          20,
          21,
          22,
          23,
          24,
          25,
          26,
          27,
          28,
          29,
          30,
          31,
          32,
          33,
          34,
          35,
          36,
          37,
          38,
          39,
          40,
          41,
          42,
          43,
          44,
          45,
          46,
          47,
          48,
          49,
          50,
          51,
          52,
          53,
          54,
          55,
          56,
          57,
          58,
          59,
          60,
          61,
          62,
          63,
          64,
          65,
          66,
          67,
          68,
          69,
          70,
          71,
          72,
          73,
          74,
          75,
          76,
          77,
          78,
          79,
          80,
          81,
          82,
          83,
          84,
          85,
          86,
          87,
          88,
          89,
          90,
          91,
          92,
          93,
          94,
          95,
          96,
          97,
          98,
          99,
          100,
          101,
          102,
          103,
          104,
          105,
          106,
          107,
          108,
          109,
          110,
          111,
          112,
          113,
          114,
          115,
          116,
          117,
          118,
          119,
          120,
          121,
          122,
          123,
          124,
          125,
          126,
          127,
          128,
          129,
          130,
          131,
          132,
          133,
          134,
          135,
          136,
          137,
          138,
          139,
          140,
          141,
          142,
          143,
          144,
          145,
          146,
          147,
          148,
          149,
          150,
          151,
          152,
          153,
          154,
          155,
          156,
          157,
          158,
          159,
          160,
          161,
          162,
          163,
          164,
          165,
          166,
          167,
          168,
          169,
          170,
          171,
          172,
          173,
          174,
          175,
          176,
          177,
          178,
          179,
          180,
          181,
          182,
          183,
          184,
          185,
          186,
          187,
          188,
          189,
          190,
          191,
          192,
          193,
          194,
          195,
          196,
          197,
          198,
          199,
          200,
          201,
          202,
          203,
          204,
          205,
          206,
          207,
          208,
          209,
          210,
          211,
          212,
          213,
          214,
          215,
          216,
          217,
          218,
          219,
          220,
          221,
          222,
          223,
          224,
          225,
          226,
          227,
          228,
          229,
          230,
          231,
          232,
          233,
          234
         ],
         "y": [
          4.657,
          3.956,
          5.8249998093,
          3.632,
          4.7,
          5.245,
          5.199,
          5.285,
          4.4600000381,
          6.983,
          5.286,
          7.521999836,
          4.707,
          6.890999794,
          3.254,
          5.323,
          6.81,
          5.504,
          4.7350001335,
          4.519,
          4.5500001907,
          6.441,
          4.324,
          5.358,
          4.694,
          5.132,
          6,
          5.194,
          3.495,
          5.3359999657,
          5.945,
          5.9730000496,
          6.4539999962,
          6.786,
          5.073,
          6.5269999504,
          5.662,
          5.36,
          4.417,
          4.437,
          5.129,
          4.0960001945,
          4.788,
          4.1680002213,
          5.517,
          7.2,
          4.933,
          7.487,
          3.866,
          5.061,
          6.8629999161,
          5.389,
          5.525,
          6.907,
          7.555,
          6.573,
          6.1680002213,
          6.192,
          4.635,
          4.867,
          3.656,
          4.534,
          6.302,
          4.077,
          6.253,
          6.0029997826,
          6.0710000992,
          5.399,
          4.655,
          4.793,
          4.419,
          6.65,
          6.324,
          4.631,
          6.5780000687,
          7.3159999847,
          6.4539999962,
          5.615,
          7.343,
          4.41,
          6.4029998779,
          7.139,
          5.268,
          4.292,
          4.217,
          4.085,
          6.488,
          3.4709999561,
          4.88,
          4.6950001717,
          6.726,
          6.444,
          4.743,
          3.575,
          5.1750001907,
          5.432,
          3.587,
          4.513999939,
          6.867,
          7.441,
          4.49,
          2.905,
          4.55,
          6.4419999123,
          3.6440000534,
          6.778,
          6.3,
          7.119,
          5.529,
          5.0739998817,
          5.43,
          5.458,
          5.8229999542,
          6.9930000305,
          7.493999958,
          3.774,
          5.809,
          4.681,
          5.658,
          4.586,
          6.1,
          4.754,
          4.219,
          4.898,
          7.021,
          5.933,
          5.9200000763,
          3.4949998856,
          4.623,
          5.681,
          3.5329999924,
          6.168,
          4.907,
          4.332,
          6.711,
          6.003,
          3.334,
          5.013,
          4.419,
          5.254,
          6.086,
          6.379,
          5.6290001869,
          3.781,
          4.033,
          5.975,
          3.622,
          4.677,
          3.597,
          6.072,
          5.886,
          3.739,
          5.697,
          7.587,
          5.25,
          6.005,
          4.2859997749,
          4.876,
          6.455,
          5.824,
          5.161,
          4.628,
          6.488,
          7.272,
          4.913,
          6.105,
          4.7140002251,
          6.262,
          6.149,
          6.853,
          5.893,
          5.631,
          3.462,
          4.356,
          4.575,
          5.185,
          5.2270002365,
          5.762,
          4.193,
          4.418,
          5.483,
          6.6350002289,
          5.973,
          6.343,
          6.977,
          5.5250000954,
          5.524,
          6.43,
          5.261,
          5.9559998512,
          5.124,
          7.6,
          3.739,
          5.897,
          3.587,
          5.123,
          5.401,
          5.81,
          5.758,
          5.855,
          3.9360001087,
          5.695,
          3.775,
          4.642,
          7.313,
          6.1050000191,
          6.321,
          4.139,
          6.375,
          4.513,
          5.636,
          6.046,
          6.182,
          4.103,
          7.314,
          6.0980000496,
          7.2839999199,
          4.6440000534,
          4.297,
          7.324,
          6.329,
          3.34,
          7.561,
          6.382,
          5.2789998055,
          3.515,
          3.802,
          4.156,
          4.271,
          3.59,
          5.321,
          7.054,
          4.276,
          6.705,
          5.987
         ]
        },
        {
         "mode": "lines",
         "name": "Estimated",
         "type": "scatter",
         "x": [
          0,
          1,
          2,
          3,
          4,
          5,
          6,
          7,
          8,
          9,
          10,
          11,
          12,
          13,
          14,
          15,
          16,
          17,
          18,
          19,
          20,
          21,
          22,
          23,
          24,
          25,
          26,
          27,
          28,
          29,
          30,
          31,
          32,
          33,
          34,
          35,
          36,
          37,
          38,
          39,
          40,
          41,
          42,
          43,
          44,
          45,
          46,
          47,
          48,
          49,
          50,
          51,
          52,
          53,
          54,
          55,
          56,
          57,
          58,
          59,
          60,
          61,
          62,
          63,
          64,
          65,
          66,
          67,
          68,
          69,
          70,
          71,
          72,
          73,
          74,
          75,
          76,
          77,
          78,
          79,
          80,
          81,
          82,
          83,
          84,
          85,
          86,
          87,
          88,
          89,
          90,
          91,
          92,
          93,
          94,
          95,
          96,
          97,
          98,
          99,
          100,
          101,
          102,
          103,
          104,
          105,
          106,
          107,
          108,
          109,
          110,
          111,
          112,
          113,
          114,
          115,
          116,
          117,
          118,
          119,
          120,
          121,
          122,
          123,
          124,
          125,
          126,
          127,
          128,
          129,
          130,
          131,
          132,
          133,
          134,
          135,
          136,
          137,
          138,
          139,
          140,
          141,
          142,
          143,
          144,
          145,
          146,
          147,
          148,
          149,
          150,
          151,
          152,
          153,
          154,
          155,
          156,
          157,
          158,
          159,
          160,
          161,
          162,
          163,
          164,
          165,
          166,
          167,
          168,
          169,
          170,
          171,
          172,
          173,
          174,
          175,
          176,
          177,
          178,
          179,
          180,
          181,
          182,
          183,
          184,
          185,
          186,
          187,
          188,
          189,
          190,
          191,
          192,
          193,
          194,
          195,
          196,
          197,
          198,
          199,
          200,
          201,
          202,
          203,
          204,
          205,
          206,
          207,
          208,
          209,
          210,
          211,
          212,
          213,
          214,
          215,
          216,
          217,
          218,
          219,
          220,
          221,
          222,
          223,
          224,
          225,
          226,
          227,
          228,
          229,
          230,
          231,
          232,
          233,
          234
         ],
         "y": [
          4.539206027984619,
          4.645148754119873,
          5.765232086181641,
          3.5376570224761963,
          5.2281694412231445,
          5.221364498138428,
          4.784068584442139,
          5.331664085388184,
          4.432581901550293,
          6.681055545806885,
          4.996648788452148,
          7.524150371551514,
          4.929703712463379,
          7.16188383102417,
          3.676469087600708,
          5.647126197814941,
          5.908860206604004,
          5.584019660949707,
          4.450625419616699,
          4.445871353149414,
          4.622427940368652,
          6.565669059753418,
          4.740182876586914,
          5.449836254119873,
          4.42069149017334,
          4.908670902252197,
          5.925712585449219,
          4.452641010284424,
          3.8719048500061035,
          5.273466110229492,
          5.664426803588867,
          5.946059226989746,
          5.961672306060791,
          6.707207679748535,
          5.300269603729248,
          6.979229927062988,
          4.7823686599731445,
          4.94973087310791,
          4.3139519691467285,
          4.763118743896484,
          5.38937520980835,
          4.101438999176025,
          5.3600897789001465,
          3.903059959411621,
          5.456913471221924,
          6.882806301116943,
          5.495541095733643,
          7.478665828704834,
          3.911510944366455,
          4.92462158203125,
          7.132586479187012,
          5.280481338500977,
          5.054172992706299,
          7.060895919799805,
          7.90902042388916,
          6.370779991149902,
          5.979914665222168,
          6.3749680519104,
          4.641745090484619,
          4.921303749084473,
          3.2125370502471924,
          4.431052207946777,
          6.641669750213623,
          4.154749393463135,
          5.974257946014404,
          5.859112739562988,
          5.8105387687683105,
          5.76528263092041,
          4.688061237335205,
          4.137384414672852,
          4.3580169677734375,
          6.173209190368652,
          5.7921271324157715,
          3.8589212894439697,
          6.920406341552734,
          7.302168369293213,
          6.1543192863464355,
          5.519414901733398,
          7.5331292152404785,
          4.018121242523193,
          6.463562488555908,
          7.30975341796875,
          4.670562744140625,
          3.7722322940826416,
          4.279991626739502,
          4.031408309936523,
          5.707408905029297,
          4.175783634185791,
          4.528531074523926,
          4.567745685577393,
          6.610631942749023,
          5.8372111320495605,
          5.096110820770264,
          3.6923184394836426,
          5.535480499267578,
          5.1870574951171875,
          4.2398457527160645,
          4.819571018218994,
          7.08997917175293,
          7.289927959442139,
          3.8248789310455322,
          2.3972530364990234,
          4.447945594787598,
          6.199011325836182,
          3.9969499111175537,
          6.875622272491455,
          6.182256698608398,
          7.031491756439209,
          5.778840065002441,
          4.837559223175049,
          5.992928504943848,
          5.801882266998291,
          5.637067794799805,
          6.8089776039123535,
          7.118877410888672,
          3.979288339614868,
          5.631219387054443,
          3.8902595043182373,
          5.952847480773926,
          4.742251873016357,
          5.727743625640869,
          4.384990692138672,
          4.482730388641357,
          4.509913921356201,
          6.8813323974609375,
          6.093285083770752,
          5.988798141479492,
          3.604687452316284,
          4.306001663208008,
          5.359010219573975,
          4.098265647888184,
          6.144586563110352,
          4.998116493225098,
          5.0104780197143555,
          6.4533586502075195,
          5.885555744171143,
          3.8669791221618652,
          4.834773063659668,
          4.503171443939209,
          4.561277866363525,
          6.0138373374938965,
          6.0019965171813965,
          5.738626956939697,
          3.701249122619629,
          4.020073890686035,
          5.937174320220947,
          3.9587485790252686,
          4.913283824920654,
          3.489882707595825,
          5.966031551361084,
          6.174187660217285,
          4.067133903503418,
          5.490435600280762,
          7.4078593254089355,
          5.5907416343688965,
          6.105351448059082,
          4.119633197784424,
          4.71510124206543,
          6.034226894378662,
          5.2549214363098145,
          5.134917259216309,
          4.201098442077637,
          6.831920146942139,
          7.249680042266846,
          4.940059185028076,
          6.6036577224731445,
          4.838387489318848,
          6.542584419250488,
          5.6857452392578125,
          7.060841083526611,
          6.162076473236084,
          5.725622177124023,
          4.235890865325928,
          4.303533554077148,
          5.024161338806152,
          5.058826923370361,
          5.68337345123291,
          5.936901569366455,
          4.066867351531982,
          4.344181537628174,
          5.460947513580322,
          6.706565856933594,
          5.36514949798584,
          7.221646785736084,
          7.2216796875,
          5.611856460571289,
          5.869383811950684,
          6.450743675231934,
          5.3368096351623535,
          5.213171482086182,
          5.272144317626953,
          7.6188645362854,
          4.288654804229736,
          5.94388484954834,
          3.636498212814331,
          4.984273910522461,
          4.757224082946777,
          5.951725482940674,
          5.364809989929199,
          5.791982173919678,
          3.9466137886047363,
          5.789925575256348,
          3.952646017074585,
          4.436241626739502,
          7.320945739746094,
          6.264379978179932,
          6.488866329193115,
          4.047323703765869,
          6.539102077484131,
          4.467772483825684,
          5.253608703613281,
          5.943663597106934,
          6.240947723388672,
          5.172398567199707,
          7.512226581573486,
          6.404439926147461,
          7.286259174346924,
          5.0217604637146,
          4.569936275482178,
          7.623782634735107,
          6.670137405395508,
          4.061435222625732,
          7.010529041290283,
          5.6568827629089355,
          4.9227166175842285,
          3.814737558364868,
          4.419378280639648,
          3.160717010498047,
          4.401137828826904,
          4.418348789215088,
          5.4931745529174805,
          7.085707664489746,
          4.309021472930908,
          6.395974636077881,
          5.8705339431762695
         ]
        }
       ],
       "layout": {
        "template": {
         "data": {
          "bar": [
           {
            "error_x": {
             "color": "#f2f5fa"
            },
            "error_y": {
             "color": "#f2f5fa"
            },
            "marker": {
             "line": {
              "color": "rgb(17,17,17)",
              "width": 0.5
             },
             "pattern": {
              "fillmode": "overlay",
              "size": 10,
              "solidity": 0.2
             }
            },
            "type": "bar"
           }
          ],
          "barpolar": [
           {
            "marker": {
             "line": {
              "color": "rgb(17,17,17)",
              "width": 0.5
             },
             "pattern": {
              "fillmode": "overlay",
              "size": 10,
              "solidity": 0.2
             }
            },
            "type": "barpolar"
           }
          ],
          "carpet": [
           {
            "aaxis": {
             "endlinecolor": "#A2B1C6",
             "gridcolor": "#506784",
             "linecolor": "#506784",
             "minorgridcolor": "#506784",
             "startlinecolor": "#A2B1C6"
            },
            "baxis": {
             "endlinecolor": "#A2B1C6",
             "gridcolor": "#506784",
             "linecolor": "#506784",
             "minorgridcolor": "#506784",
             "startlinecolor": "#A2B1C6"
            },
            "type": "carpet"
           }
          ],
          "choropleth": [
           {
            "colorbar": {
             "outlinewidth": 0,
             "ticks": ""
            },
            "type": "choropleth"
           }
          ],
          "contour": [
           {
            "colorbar": {
             "outlinewidth": 0,
             "ticks": ""
            },
            "colorscale": [
             [
              0,
              "#0d0887"
             ],
             [
              0.1111111111111111,
              "#46039f"
             ],
             [
              0.2222222222222222,
              "#7201a8"
             ],
             [
              0.3333333333333333,
              "#9c179e"
             ],
             [
              0.4444444444444444,
              "#bd3786"
             ],
             [
              0.5555555555555556,
              "#d8576b"
             ],
             [
              0.6666666666666666,
              "#ed7953"
             ],
             [
              0.7777777777777778,
              "#fb9f3a"
             ],
             [
              0.8888888888888888,
              "#fdca26"
             ],
             [
              1,
              "#f0f921"
             ]
            ],
            "type": "contour"
           }
          ],
          "contourcarpet": [
           {
            "colorbar": {
             "outlinewidth": 0,
             "ticks": ""
            },
            "type": "contourcarpet"
           }
          ],
          "heatmap": [
           {
            "colorbar": {
             "outlinewidth": 0,
             "ticks": ""
            },
            "colorscale": [
             [
              0,
              "#0d0887"
             ],
             [
              0.1111111111111111,
              "#46039f"
             ],
             [
              0.2222222222222222,
              "#7201a8"
             ],
             [
              0.3333333333333333,
              "#9c179e"
             ],
             [
              0.4444444444444444,
              "#bd3786"
             ],
             [
              0.5555555555555556,
              "#d8576b"
             ],
             [
              0.6666666666666666,
              "#ed7953"
             ],
             [
              0.7777777777777778,
              "#fb9f3a"
             ],
             [
              0.8888888888888888,
              "#fdca26"
             ],
             [
              1,
              "#f0f921"
             ]
            ],
            "type": "heatmap"
           }
          ],
          "heatmapgl": [
           {
            "colorbar": {
             "outlinewidth": 0,
             "ticks": ""
            },
            "colorscale": [
             [
              0,
              "#0d0887"
             ],
             [
              0.1111111111111111,
              "#46039f"
             ],
             [
              0.2222222222222222,
              "#7201a8"
             ],
             [
              0.3333333333333333,
              "#9c179e"
             ],
             [
              0.4444444444444444,
              "#bd3786"
             ],
             [
              0.5555555555555556,
              "#d8576b"
             ],
             [
              0.6666666666666666,
              "#ed7953"
             ],
             [
              0.7777777777777778,
              "#fb9f3a"
             ],
             [
              0.8888888888888888,
              "#fdca26"
             ],
             [
              1,
              "#f0f921"
             ]
            ],
            "type": "heatmapgl"
           }
          ],
          "histogram": [
           {
            "marker": {
             "pattern": {
              "fillmode": "overlay",
              "size": 10,
              "solidity": 0.2
             }
            },
            "type": "histogram"
           }
          ],
          "histogram2d": [
           {
            "colorbar": {
             "outlinewidth": 0,
             "ticks": ""
            },
            "colorscale": [
             [
              0,
              "#0d0887"
             ],
             [
              0.1111111111111111,
              "#46039f"
             ],
             [
              0.2222222222222222,
              "#7201a8"
             ],
             [
              0.3333333333333333,
              "#9c179e"
             ],
             [
              0.4444444444444444,
              "#bd3786"
             ],
             [
              0.5555555555555556,
              "#d8576b"
             ],
             [
              0.6666666666666666,
              "#ed7953"
             ],
             [
              0.7777777777777778,
              "#fb9f3a"
             ],
             [
              0.8888888888888888,
              "#fdca26"
             ],
             [
              1,
              "#f0f921"
             ]
            ],
            "type": "histogram2d"
           }
          ],
          "histogram2dcontour": [
           {
            "colorbar": {
             "outlinewidth": 0,
             "ticks": ""
            },
            "colorscale": [
             [
              0,
              "#0d0887"
             ],
             [
              0.1111111111111111,
              "#46039f"
             ],
             [
              0.2222222222222222,
              "#7201a8"
             ],
             [
              0.3333333333333333,
              "#9c179e"
             ],
             [
              0.4444444444444444,
              "#bd3786"
             ],
             [
              0.5555555555555556,
              "#d8576b"
             ],
             [
              0.6666666666666666,
              "#ed7953"
             ],
             [
              0.7777777777777778,
              "#fb9f3a"
             ],
             [
              0.8888888888888888,
              "#fdca26"
             ],
             [
              1,
              "#f0f921"
             ]
            ],
            "type": "histogram2dcontour"
           }
          ],
          "mesh3d": [
           {
            "colorbar": {
             "outlinewidth": 0,
             "ticks": ""
            },
            "type": "mesh3d"
           }
          ],
          "parcoords": [
           {
            "line": {
             "colorbar": {
              "outlinewidth": 0,
              "ticks": ""
             }
            },
            "type": "parcoords"
           }
          ],
          "pie": [
           {
            "automargin": true,
            "type": "pie"
           }
          ],
          "scatter": [
           {
            "marker": {
             "line": {
              "color": "#283442"
             }
            },
            "type": "scatter"
           }
          ],
          "scatter3d": [
           {
            "line": {
             "colorbar": {
              "outlinewidth": 0,
              "ticks": ""
             }
            },
            "marker": {
             "colorbar": {
              "outlinewidth": 0,
              "ticks": ""
             }
            },
            "type": "scatter3d"
           }
          ],
          "scattercarpet": [
           {
            "marker": {
             "colorbar": {
              "outlinewidth": 0,
              "ticks": ""
             }
            },
            "type": "scattercarpet"
           }
          ],
          "scattergeo": [
           {
            "marker": {
             "colorbar": {
              "outlinewidth": 0,
              "ticks": ""
             }
            },
            "type": "scattergeo"
           }
          ],
          "scattergl": [
           {
            "marker": {
             "line": {
              "color": "#283442"
             }
            },
            "type": "scattergl"
           }
          ],
          "scattermapbox": [
           {
            "marker": {
             "colorbar": {
              "outlinewidth": 0,
              "ticks": ""
             }
            },
            "type": "scattermapbox"
           }
          ],
          "scatterpolar": [
           {
            "marker": {
             "colorbar": {
              "outlinewidth": 0,
              "ticks": ""
             }
            },
            "type": "scatterpolar"
           }
          ],
          "scatterpolargl": [
           {
            "marker": {
             "colorbar": {
              "outlinewidth": 0,
              "ticks": ""
             }
            },
            "type": "scatterpolargl"
           }
          ],
          "scatterternary": [
           {
            "marker": {
             "colorbar": {
              "outlinewidth": 0,
              "ticks": ""
             }
            },
            "type": "scatterternary"
           }
          ],
          "surface": [
           {
            "colorbar": {
             "outlinewidth": 0,
             "ticks": ""
            },
            "colorscale": [
             [
              0,
              "#0d0887"
             ],
             [
              0.1111111111111111,
              "#46039f"
             ],
             [
              0.2222222222222222,
              "#7201a8"
             ],
             [
              0.3333333333333333,
              "#9c179e"
             ],
             [
              0.4444444444444444,
              "#bd3786"
             ],
             [
              0.5555555555555556,
              "#d8576b"
             ],
             [
              0.6666666666666666,
              "#ed7953"
             ],
             [
              0.7777777777777778,
              "#fb9f3a"
             ],
             [
              0.8888888888888888,
              "#fdca26"
             ],
             [
              1,
              "#f0f921"
             ]
            ],
            "type": "surface"
           }
          ],
          "table": [
           {
            "cells": {
             "fill": {
              "color": "#506784"
             },
             "line": {
              "color": "rgb(17,17,17)"
             }
            },
            "header": {
             "fill": {
              "color": "#2a3f5f"
             },
             "line": {
              "color": "rgb(17,17,17)"
             }
            },
            "type": "table"
           }
          ]
         },
         "layout": {
          "annotationdefaults": {
           "arrowcolor": "#f2f5fa",
           "arrowhead": 0,
           "arrowwidth": 1
          },
          "autotypenumbers": "strict",
          "coloraxis": {
           "colorbar": {
            "outlinewidth": 0,
            "ticks": ""
           }
          },
          "colorscale": {
           "diverging": [
            [
             0,
             "#8e0152"
            ],
            [
             0.1,
             "#c51b7d"
            ],
            [
             0.2,
             "#de77ae"
            ],
            [
             0.3,
             "#f1b6da"
            ],
            [
             0.4,
             "#fde0ef"
            ],
            [
             0.5,
             "#f7f7f7"
            ],
            [
             0.6,
             "#e6f5d0"
            ],
            [
             0.7,
             "#b8e186"
            ],
            [
             0.8,
             "#7fbc41"
            ],
            [
             0.9,
             "#4d9221"
            ],
            [
             1,
             "#276419"
            ]
           ],
           "sequential": [
            [
             0,
             "#0d0887"
            ],
            [
             0.1111111111111111,
             "#46039f"
            ],
            [
             0.2222222222222222,
             "#7201a8"
            ],
            [
             0.3333333333333333,
             "#9c179e"
            ],
            [
             0.4444444444444444,
             "#bd3786"
            ],
            [
             0.5555555555555556,
             "#d8576b"
            ],
            [
             0.6666666666666666,
             "#ed7953"
            ],
            [
             0.7777777777777778,
             "#fb9f3a"
            ],
            [
             0.8888888888888888,
             "#fdca26"
            ],
            [
             1,
             "#f0f921"
            ]
           ],
           "sequentialminus": [
            [
             0,
             "#0d0887"
            ],
            [
             0.1111111111111111,
             "#46039f"
            ],
            [
             0.2222222222222222,
             "#7201a8"
            ],
            [
             0.3333333333333333,
             "#9c179e"
            ],
            [
             0.4444444444444444,
             "#bd3786"
            ],
            [
             0.5555555555555556,
             "#d8576b"
            ],
            [
             0.6666666666666666,
             "#ed7953"
            ],
            [
             0.7777777777777778,
             "#fb9f3a"
            ],
            [
             0.8888888888888888,
             "#fdca26"
            ],
            [
             1,
             "#f0f921"
            ]
           ]
          },
          "colorway": [
           "#636efa",
           "#EF553B",
           "#00cc96",
           "#ab63fa",
           "#FFA15A",
           "#19d3f3",
           "#FF6692",
           "#B6E880",
           "#FF97FF",
           "#FECB52"
          ],
          "font": {
           "color": "#f2f5fa"
          },
          "geo": {
           "bgcolor": "rgb(17,17,17)",
           "lakecolor": "rgb(17,17,17)",
           "landcolor": "rgb(17,17,17)",
           "showlakes": true,
           "showland": true,
           "subunitcolor": "#506784"
          },
          "hoverlabel": {
           "align": "left"
          },
          "hovermode": "closest",
          "mapbox": {
           "style": "dark"
          },
          "paper_bgcolor": "rgb(17,17,17)",
          "plot_bgcolor": "rgb(17,17,17)",
          "polar": {
           "angularaxis": {
            "gridcolor": "#506784",
            "linecolor": "#506784",
            "ticks": ""
           },
           "bgcolor": "rgb(17,17,17)",
           "radialaxis": {
            "gridcolor": "#506784",
            "linecolor": "#506784",
            "ticks": ""
           }
          },
          "scene": {
           "xaxis": {
            "backgroundcolor": "rgb(17,17,17)",
            "gridcolor": "#506784",
            "gridwidth": 2,
            "linecolor": "#506784",
            "showbackground": true,
            "ticks": "",
            "zerolinecolor": "#C8D4E3"
           },
           "yaxis": {
            "backgroundcolor": "rgb(17,17,17)",
            "gridcolor": "#506784",
            "gridwidth": 2,
            "linecolor": "#506784",
            "showbackground": true,
            "ticks": "",
            "zerolinecolor": "#C8D4E3"
           },
           "zaxis": {
            "backgroundcolor": "rgb(17,17,17)",
            "gridcolor": "#506784",
            "gridwidth": 2,
            "linecolor": "#506784",
            "showbackground": true,
            "ticks": "",
            "zerolinecolor": "#C8D4E3"
           }
          },
          "shapedefaults": {
           "line": {
            "color": "#f2f5fa"
           }
          },
          "sliderdefaults": {
           "bgcolor": "#C8D4E3",
           "bordercolor": "rgb(17,17,17)",
           "borderwidth": 1,
           "tickwidth": 0
          },
          "ternary": {
           "aaxis": {
            "gridcolor": "#506784",
            "linecolor": "#506784",
            "ticks": ""
           },
           "baxis": {
            "gridcolor": "#506784",
            "linecolor": "#506784",
            "ticks": ""
           },
           "bgcolor": "rgb(17,17,17)",
           "caxis": {
            "gridcolor": "#506784",
            "linecolor": "#506784",
            "ticks": ""
           }
          },
          "title": {
           "x": 0.05
          },
          "updatemenudefaults": {
           "bgcolor": "#506784",
           "borderwidth": 0
          },
          "xaxis": {
           "automargin": true,
           "gridcolor": "#283442",
           "linecolor": "#506784",
           "ticks": "",
           "title": {
            "standoff": 15
           },
           "zerolinecolor": "#283442",
           "zerolinewidth": 2
          },
          "yaxis": {
           "automargin": true,
           "gridcolor": "#283442",
           "linecolor": "#506784",
           "ticks": "",
           "title": {
            "standoff": 15
           },
           "zerolinecolor": "#283442",
           "zerolinewidth": 2
          }
         }
        },
        "title": {
         "text": "Estimated Happiness Scores (XGB model - unadjusted data)"
        },
        "xaxis": {
         "title": {
          "text": "Index"
         }
        },
        "yaxis": {
         "title": {
          "text": "Happiness Score"
         }
        }
       }
      }
     },
     "metadata": {},
     "output_type": "display_data"
    }
   ],
   "source": [
    "final_trained_model = Test_Model(unajusted_dataframe[['economy_per_capita', 'family', 'life_expectancy','freedom', 'government_corruption', 'generosity', 'year', 'country_region', 'happiness_score']], xgb_model_test, 5432, preprocessor_test)\n",
    "print(final_trained_model.get_r2_metric())\n",
    "print(final_trained_model.get_shapes())\n",
    "graph_to_predict(final_trained_model.get_test_data().reset_index(), 'Estimated Happiness Scores (XGB model - unadjusted data)')"
   ]
  },
  {
   "cell_type": "markdown",
   "metadata": {},
   "source": [
    "They are excellent, so it will be selected."
   ]
  },
  {
   "cell_type": "markdown",
   "metadata": {},
   "source": [
    "#### Save trained model"
   ]
  },
  {
   "cell_type": "code",
   "execution_count": 129,
   "metadata": {},
   "outputs": [
    {
     "data": {
      "text/plain": [
       "['../shared_functions/model/model_trainner.pkl']"
      ]
     },
     "execution_count": 129,
     "metadata": {},
     "output_type": "execute_result"
    }
   ],
   "source": [
    "url_model = '../shared_functions/model/model_trainner.pkl'\n",
    "joblib.dump(pipeline_test, url_model)"
   ]
  },
  {
   "cell_type": "markdown",
   "metadata": {},
   "source": [
    "#### Test the trained model"
   ]
  },
  {
   "cell_type": "code",
   "execution_count": 130,
   "metadata": {},
   "outputs": [],
   "source": [
    "model_trainner = joblib.load(url_model)"
   ]
  },
  {
   "cell_type": "code",
   "execution_count": 131,
   "metadata": {},
   "outputs": [
    {
     "data": {
      "text/plain": [
       "Index(['happiness_rank', 'happiness_score', 'economy_per_capita', 'family',\n",
       "       'life_expectancy', 'freedom', 'government_corruption', 'generosity',\n",
       "       'year', 'country_region'],\n",
       "      dtype='object')"
      ]
     },
     "execution_count": 131,
     "metadata": {},
     "output_type": "execute_result"
    }
   ],
   "source": [
    "unajusted_dataframe.columns"
   ]
  },
  {
   "cell_type": "code",
   "execution_count": 132,
   "metadata": {},
   "outputs": [],
   "source": [
    "happiness_dataframe = unajusted_dataframe.copy()\n",
    "# happiness_dataframe['country_region'] = happiness_dataframe['country_region'].astype(\"category\")\n",
    "happiness_dataframe['happiness_predicted'] = model_trainner.predict(happiness_dataframe[['economy_per_capita', 'family', 'life_expectancy', 'freedom', 'government_corruption', 'generosity', 'year', 'country_region']])"
   ]
  },
  {
   "cell_type": "code",
   "execution_count": 133,
   "metadata": {},
   "outputs": [
    {
     "data": {
      "text/plain": [
       "0.9703968925121339"
      ]
     },
     "execution_count": 133,
     "metadata": {},
     "output_type": "execute_result"
    }
   ],
   "source": [
    "r2_score(happiness_dataframe['happiness_score'], happiness_dataframe['happiness_predicted'])"
   ]
  },
  {
   "cell_type": "code",
   "execution_count": 134,
   "metadata": {},
   "outputs": [
    {
     "data": {
      "text/plain": [
       "0.0834491132962867"
      ]
     },
     "execution_count": 134,
     "metadata": {},
     "output_type": "execute_result"
    }
   ],
   "source": [
    "mean_absolute_error(happiness_dataframe['happiness_score'], happiness_dataframe['happiness_predicted'])"
   ]
  },
  {
   "cell_type": "code",
   "execution_count": 135,
   "metadata": {},
   "outputs": [
    {
     "data": {
      "text/plain": [
       "0.03755637407689261"
      ]
     },
     "execution_count": 135,
     "metadata": {},
     "output_type": "execute_result"
    }
   ],
   "source": [
    "mean_squared_error(happiness_dataframe['happiness_score'], happiness_dataframe['happiness_predicted'])"
   ]
  },
  {
   "cell_type": "code",
   "execution_count": 136,
   "metadata": {},
   "outputs": [
    {
     "data": {
      "application/vnd.plotly.v1+json": {
       "config": {
        "plotlyServerURL": "https://plot.ly"
       },
       "data": [
        {
         "mode": "lines",
         "name": "Observed",
         "type": "scatter",
         "x": [
          0,
          1,
          2,
          3,
          4,
          5,
          6,
          7,
          8,
          9,
          10,
          11,
          12,
          13,
          14,
          15,
          16,
          17,
          18,
          19,
          20,
          21,
          22,
          23,
          24,
          25,
          26,
          27,
          28,
          29,
          30,
          31,
          32,
          33,
          34,
          35,
          36,
          37,
          38,
          39,
          40,
          41,
          42,
          43,
          44,
          45,
          46,
          47,
          48,
          49,
          50,
          51,
          52,
          53,
          54,
          55,
          56,
          57,
          58,
          59,
          60,
          61,
          62,
          63,
          64,
          65,
          66,
          67,
          68,
          69,
          70,
          71,
          72,
          73,
          74,
          75,
          76,
          77,
          78,
          79,
          80,
          81,
          82,
          83,
          84,
          85,
          86,
          87,
          88,
          89,
          90,
          91,
          92,
          93,
          94,
          95,
          96,
          97,
          98,
          99,
          100,
          101,
          102,
          103,
          104,
          105,
          106,
          107,
          108,
          109,
          110,
          111,
          112,
          113,
          114,
          115,
          116,
          117,
          118,
          119,
          120,
          121,
          122,
          123,
          124,
          125,
          126,
          127,
          128,
          129,
          130,
          131,
          132,
          133,
          134,
          135,
          136,
          137,
          138,
          139,
          140,
          141,
          142,
          143,
          144,
          145,
          146,
          147,
          148,
          149,
          150,
          151,
          152,
          153,
          154,
          155,
          156,
          157,
          158,
          159,
          160,
          161,
          162,
          163,
          164,
          165,
          166,
          167,
          168,
          169,
          170,
          171,
          172,
          173,
          174,
          175,
          176,
          177,
          178,
          179,
          180,
          181,
          182,
          183,
          184,
          185,
          186,
          187,
          188,
          189,
          190,
          191,
          192,
          193,
          194,
          195,
          196,
          197,
          198,
          199,
          200,
          201,
          202,
          203,
          204,
          205,
          206,
          207,
          208,
          209,
          210,
          211,
          212,
          213,
          214,
          215,
          216,
          217,
          218,
          219,
          220,
          221,
          222,
          223,
          224,
          225,
          226,
          227,
          228,
          229,
          230,
          231,
          232,
          233,
          234,
          235,
          236,
          237,
          238,
          239,
          240,
          241,
          242,
          243,
          244,
          245,
          246,
          247,
          248,
          249,
          250,
          251,
          252,
          253,
          254,
          255,
          256,
          257,
          258,
          259,
          260,
          261,
          262,
          263,
          264,
          265,
          266,
          267,
          268,
          269,
          270,
          271,
          272,
          273,
          274,
          275,
          276,
          277,
          278,
          279,
          280,
          281,
          282,
          283,
          284,
          285,
          286,
          287,
          288,
          289,
          290,
          291,
          292,
          293,
          294,
          295,
          296,
          297,
          298,
          299,
          300,
          301,
          302,
          303,
          304,
          305,
          306,
          307,
          308,
          309,
          310,
          311,
          312,
          313,
          314,
          315,
          316,
          317,
          318,
          319,
          320,
          321,
          322,
          323,
          324,
          325,
          326,
          327,
          328,
          329,
          330,
          331,
          332,
          333,
          334,
          335,
          336,
          337,
          338,
          339,
          340,
          341,
          342,
          343,
          344,
          345,
          346,
          347,
          348,
          349,
          350,
          351,
          352,
          353,
          354,
          355,
          356,
          357,
          358,
          359,
          360,
          361,
          362,
          363,
          364,
          365,
          366,
          367,
          368,
          369,
          370,
          371,
          372,
          373,
          374,
          375,
          376,
          377,
          378,
          379,
          380,
          381,
          382,
          383,
          384,
          385,
          386,
          387,
          388,
          389,
          390,
          391,
          392,
          393,
          394,
          395,
          396,
          397,
          398,
          399,
          400,
          401,
          402,
          403,
          404,
          405,
          406,
          407,
          408,
          409,
          410,
          411,
          412,
          413,
          414,
          415,
          416,
          417,
          418,
          419,
          420,
          421,
          422,
          423,
          424,
          425,
          426,
          427,
          428,
          429,
          430,
          431,
          432,
          433,
          434,
          435,
          436,
          437,
          438,
          439,
          440,
          441,
          442,
          443,
          444,
          445,
          446,
          447,
          448,
          449,
          450,
          451,
          452,
          453,
          454,
          455,
          456,
          457,
          458,
          459,
          460,
          461,
          462,
          463,
          464,
          465,
          466,
          467,
          468,
          469,
          470,
          471,
          472,
          473,
          474,
          475,
          476,
          477,
          478,
          479,
          480,
          481,
          482,
          483,
          484,
          485,
          486,
          487,
          488,
          490,
          491,
          492,
          493,
          494,
          495,
          496,
          497,
          498,
          499,
          500,
          501,
          502,
          503,
          504,
          505,
          506,
          507,
          508,
          509,
          510,
          511,
          512,
          513,
          514,
          515,
          516,
          517,
          518,
          519,
          520,
          521,
          522,
          523,
          524,
          525,
          526,
          527,
          528,
          529,
          530,
          531,
          532,
          533,
          534,
          535,
          536,
          537,
          538,
          539,
          540,
          541,
          542,
          543,
          544,
          545,
          546,
          547,
          548,
          549,
          550,
          551,
          552,
          553,
          554,
          555,
          556,
          557,
          558,
          559,
          560,
          561,
          562,
          563,
          564,
          565,
          566,
          567,
          568,
          569,
          570,
          571,
          572,
          573,
          574,
          575,
          576,
          577,
          578,
          579,
          580,
          581,
          582,
          583,
          584,
          585,
          586,
          587,
          588,
          589,
          590,
          591,
          592,
          593,
          594,
          595,
          596,
          597,
          598,
          599,
          600,
          601,
          602,
          603,
          604,
          605,
          606,
          607,
          608,
          609,
          610,
          611,
          612,
          613,
          614,
          615,
          616,
          617,
          618,
          619,
          620,
          621,
          622,
          623,
          624,
          625,
          626,
          627,
          628,
          629,
          630,
          631,
          632,
          633,
          634,
          635,
          636,
          637,
          638,
          639,
          640,
          641,
          642,
          643,
          644,
          645,
          646,
          647,
          648,
          649,
          650,
          651,
          652,
          653,
          654,
          655,
          656,
          657,
          658,
          659,
          660,
          661,
          662,
          663,
          664,
          665,
          666,
          667,
          668,
          669,
          670,
          671,
          672,
          673,
          674,
          675,
          676,
          677,
          678,
          679,
          680,
          681,
          682,
          683,
          684,
          685,
          686,
          687,
          688,
          689,
          690,
          691,
          692,
          693,
          694,
          695,
          696,
          697,
          698,
          699,
          700,
          701,
          702,
          703,
          704,
          705,
          706,
          707,
          708,
          709,
          710,
          711,
          712,
          713,
          714,
          715,
          716,
          717,
          718,
          719,
          720,
          721,
          722,
          723,
          724,
          725,
          726,
          727,
          728,
          729,
          730,
          731,
          732,
          733,
          734,
          735,
          736,
          737,
          738,
          739,
          740,
          741,
          742,
          743,
          744,
          745,
          746,
          747,
          748,
          749,
          750,
          751,
          752,
          753,
          754,
          755,
          756,
          757,
          758,
          759,
          760,
          761,
          762,
          763,
          764,
          765,
          766,
          767,
          768,
          769,
          770,
          771,
          772,
          773,
          774,
          775,
          776,
          777,
          778,
          779,
          780,
          781
         ],
         "y": [
          7.587,
          7.561,
          7.527,
          7.522,
          7.427,
          7.406,
          7.378,
          7.364,
          7.286,
          7.284,
          7.278,
          7.226,
          7.2,
          7.187,
          7.119,
          6.983,
          6.946,
          6.94,
          6.937,
          6.901,
          6.867,
          6.853,
          6.81,
          6.798,
          6.786,
          6.75,
          6.67,
          6.611,
          6.575,
          6.574,
          6.505,
          6.485,
          6.477,
          6.455,
          6.411,
          6.329,
          6.302,
          6.298,
          6.295,
          6.269,
          6.168,
          6.13,
          6.123,
          6.003,
          5.995,
          5.987,
          5.984,
          5.975,
          5.96,
          5.948,
          5.89,
          5.889,
          5.878,
          5.855,
          5.848,
          5.833,
          5.828,
          5.824,
          5.813,
          5.791,
          5.77,
          5.759,
          5.754,
          5.716,
          5.709,
          5.695,
          5.689,
          5.605,
          5.589,
          5.548,
          5.477,
          5.474,
          5.429,
          5.399,
          5.36,
          5.332,
          5.286,
          5.268,
          5.253,
          5.212,
          5.194,
          5.192,
          5.192,
          5.14,
          5.129,
          5.124,
          5.123,
          5.102,
          5.098,
          5.073,
          5.057,
          5.013,
          5.007,
          4.971,
          4.959,
          4.949,
          4.898,
          4.885,
          4.876,
          4.874,
          4.867,
          4.857,
          4.839,
          4.8,
          4.788,
          4.786,
          4.739,
          4.715,
          4.694,
          4.686,
          4.681,
          4.677,
          4.642,
          4.633,
          4.61,
          4.571,
          4.565,
          4.55,
          4.518,
          4.517,
          4.514,
          4.512,
          4.507,
          4.436,
          4.419,
          4.369,
          4.35,
          4.332,
          4.307,
          4.297,
          4.292,
          4.271,
          4.252,
          4.218,
          4.194,
          4.077,
          4.033,
          3.995,
          3.989,
          3.956,
          3.931,
          3.904,
          3.896,
          3.845,
          3.819,
          3.781,
          3.681,
          3.678,
          3.667,
          3.656,
          3.655,
          3.587,
          3.575,
          3.465,
          3.34,
          3.006,
          2.905,
          2.839,
          7.526,
          7.509,
          7.501,
          7.498,
          7.413,
          7.404,
          7.339,
          7.334,
          7.313,
          7.291,
          7.267,
          7.119,
          7.104,
          7.087,
          7.039,
          6.994,
          6.952,
          6.929,
          6.907,
          6.871,
          6.778,
          6.739,
          6.725,
          6.705,
          6.701,
          6.65,
          6.596,
          6.573,
          6.545,
          6.488,
          6.481,
          6.478,
          6.474,
          6.379,
          6.379,
          6.375,
          6.361,
          6.355,
          6.324,
          6.269,
          6.239,
          6.218,
          6.168,
          6.084,
          6.078,
          6.068,
          6.005,
          5.992,
          5.987,
          5.977,
          5.976,
          5.956,
          5.921,
          5.919,
          5.897,
          5.856,
          5.835,
          5.835,
          5.822,
          5.813,
          5.802,
          5.771,
          5.768,
          5.743,
          5.658,
          5.648,
          5.615,
          5.56,
          5.546,
          5.538,
          5.528,
          5.517,
          5.51,
          5.488,
          5.458,
          5.44,
          5.401,
          5.389,
          5.314,
          5.303,
          5.291,
          5.279,
          5.245,
          5.196,
          5.185,
          5.177,
          5.163,
          5.161,
          5.155,
          5.151,
          5.145,
          5.132,
          5.129,
          5.123,
          5.121,
          5.061,
          5.057,
          5.045,
          5.033,
          4.996,
          4.907,
          4.876,
          4.875,
          4.871,
          4.813,
          4.795,
          4.793,
          4.754,
          4.655,
          4.643,
          4.635,
          4.575,
          4.574,
          4.513,
          4.508,
          4.459,
          4.415,
          4.404,
          4.395,
          4.362,
          4.36,
          4.356,
          4.324,
          4.276,
          4.272,
          4.252,
          4.236,
          4.219,
          4.217,
          4.201,
          4.193,
          4.156,
          4.139,
          4.121,
          4.073,
          4.028,
          3.974,
          3.956,
          3.916,
          3.907,
          3.866,
          3.856,
          3.832,
          3.763,
          3.739,
          3.739,
          3.724,
          3.695,
          3.666,
          3.622,
          3.607,
          3.515,
          3.484,
          3.36,
          3.303,
          3.069,
          2.905,
          7.5370001793,
          7.521999836,
          7.5040001869,
          7.493999958,
          7.4689998627,
          7.376999855,
          7.3159999847,
          7.3140001297,
          7.2839999199,
          7.2839999199,
          7.2129998207,
          7.0789999962,
          7.006000042,
          6.9930000305,
          6.9770002365,
          6.9510002136,
          6.890999794,
          6.8629999161,
          6.7140002251,
          6.6519999504,
          6.6479997635,
          6.6350002289,
          6.609000206,
          6.5989999771,
          6.5780000687,
          6.5720000267,
          6.5269999504,
          6.4539999962,
          6.4539999962,
          6.4520001411,
          6.4419999123,
          6.4239997864,
          6.4219999313,
          6.4029998779,
          6.375,
          6.3569998741,
          6.3439998627,
          6.1680002213,
          6.1050000191,
          6.0980000496,
          6.0869998932,
          6.0840001106,
          6.0710000992,
          6.007999897,
          6.0029997826,
          5.9730000496,
          5.9710001945,
          5.9640002251,
          5.9629998207,
          5.9559998512,
          5.9200000763,
          5.9019999504,
          5.8720002174,
          5.8499999046,
          5.8379998207,
          5.8379998207,
          5.8249998093,
          5.8229999542,
          5.8220000267,
          5.8189997673,
          5.8099999428,
          5.757999897,
          5.7150001526,
          5.6290001869,
          5.6209998131,
          5.611000061,
          5.5689997673,
          5.5250000954,
          5.5,
          5.4930000305,
          5.4720001221,
          5.4299998283,
          5.3949999809,
          5.3359999657,
          5.3239998817,
          5.3109998703,
          5.2930002213,
          5.2789998055,
          5.2729997635,
          5.2690000534,
          5.2620000839,
          5.25,
          5.2369999886,
          5.2350001335,
          5.234000206,
          5.2300000191,
          5.2270002365,
          5.2249999046,
          5.1950001717,
          5.1820001602,
          5.1810002327,
          5.1750001907,
          5.1510000229,
          5.0739998817,
          5.0739998817,
          5.0409998894,
          5.0110001564,
          5.0040001869,
          4.9619998932,
          4.9549999237,
          4.8289999962,
          4.8049998283,
          4.7750000954,
          4.7350001335,
          4.7140002251,
          4.7090001106,
          4.6950001717,
          4.6919999123,
          4.6440000534,
          4.6079998016,
          4.5739998817,
          4.5529999733,
          4.5500001907,
          4.5450000763,
          4.5349998474,
          4.513999939,
          4.4970002174,
          4.4650001526,
          4.4600000381,
          4.4400000572,
          4.3759999275,
          4.3150000572,
          4.2919998169,
          4.2909998894,
          4.2859997749,
          4.2800002098,
          4.1900000572,
          4.1799998283,
          4.1680002213,
          4.138999939,
          4.1199998856,
          4.0960001945,
          4.0809998512,
          4.0320000648,
          4.0279998779,
          3.9700000286,
          3.9360001087,
          3.875,
          3.8080000877,
          3.7950000763,
          3.7939999104,
          3.7660000324,
          3.6570000648,
          3.6440000534,
          3.6029999256,
          3.5929999352,
          3.5910000801,
          3.5329999924,
          3.5069999695,
          3.4949998856,
          3.4709999561,
          3.4619998932,
          3.3489999771,
          2.9049999714,
          2.6930000782,
          7.632,
          7.594,
          7.555,
          7.495,
          7.487,
          7.441,
          7.328,
          7.324,
          7.314,
          7.272,
          7.19,
          7.139,
          7.072,
          6.977,
          6.965,
          6.927,
          6.91,
          6.886,
          6.814,
          6.711,
          6.627,
          6.489,
          6.488,
          6.476,
          6.441,
          6.43,
          6.419,
          6.388,
          6.382,
          6.379,
          6.374,
          6.371,
          6.343,
          6.322,
          6.31,
          6.26,
          6.192,
          6.173,
          6.167,
          6.141,
          6.123,
          6.105,
          6.096,
          6.083,
          6.072,
          6,
          5.973,
          5.956,
          5.952,
          5.948,
          5.945,
          5.933,
          5.915,
          5.891,
          5.89,
          5.875,
          5.835,
          5.81,
          5.79,
          5.762,
          5.752,
          5.739,
          5.681,
          5.663,
          5.662,
          5.64,
          5.636,
          5.62,
          5.566,
          5.524,
          5.504,
          5.483,
          5.483,
          5.472,
          5.43,
          5.41,
          5.398,
          5.358,
          5.358,
          5.347,
          5.321,
          5.302,
          5.295,
          5.254,
          5.246,
          5.201,
          5.199,
          5.185,
          5.161,
          5.155,
          5.131,
          5.129,
          5.125,
          5.103,
          5.093,
          5.082,
          4.982,
          4.975,
          4.933,
          4.88,
          4.806,
          4.758,
          4.743,
          4.724,
          4.707,
          4.671,
          4.657,
          4.631,
          4.623,
          4.592,
          4.586,
          4.571,
          4.559,
          4.5,
          4.471,
          4.456,
          4.447,
          4.441,
          4.433,
          4.424,
          4.419,
          4.417,
          4.41,
          4.377,
          4.356,
          4.35,
          4.34,
          4.321,
          4.308,
          4.301,
          4.245,
          4.19,
          4.166,
          4.161,
          4.141,
          4.139,
          4.103,
          3.999,
          3.964,
          3.808,
          3.795,
          3.774,
          3.692,
          3.632,
          3.59,
          3.587,
          3.582,
          3.495,
          3.462,
          3.408,
          3.355,
          3.303,
          3.254,
          3.083,
          2.905,
          7.769,
          7.6,
          7.554,
          7.494,
          7.488,
          7.48,
          7.343,
          7.307,
          7.278,
          7.246,
          7.228,
          7.167,
          7.139,
          7.09,
          7.054,
          7.021,
          6.985,
          6.923,
          6.892,
          6.852,
          6.825,
          6.726,
          6.595,
          6.592,
          6.446,
          6.444,
          6.436,
          6.375,
          6.374,
          6.354,
          6.321,
          6.3,
          6.293,
          6.262,
          6.253,
          6.223,
          6.199,
          6.198,
          6.192,
          6.182,
          6.174,
          6.149,
          6.125,
          6.118,
          6.105,
          6.1,
          6.086,
          6.07,
          6.046,
          6.028,
          6.021,
          6.008,
          5.94,
          5.895,
          5.893,
          5.89,
          5.888,
          5.886,
          5.86,
          5.809,
          5.779,
          5.758,
          5.743,
          5.718,
          5.697,
          5.693,
          5.653,
          5.648,
          5.631,
          5.603,
          5.529,
          5.525,
          5.523,
          5.467,
          5.432,
          5.43,
          5.425,
          5.386,
          5.373,
          5.339,
          5.323,
          5.287,
          5.285,
          5.274,
          5.265,
          5.261,
          5.247,
          5.211,
          5.208,
          5.208,
          5.197,
          5.192,
          5.191,
          5.175,
          5.082,
          5.044,
          5.011,
          4.996,
          4.944,
          4.913,
          4.906,
          4.883,
          4.812,
          4.799,
          4.796,
          4.722,
          4.719,
          4.707,
          4.7,
          4.696,
          4.681,
          4.668,
          4.639,
          4.628,
          4.587,
          4.559,
          4.548,
          4.534,
          4.519,
          4.516,
          4.509,
          4.49,
          4.466,
          4.461,
          4.456,
          4.437,
          4.418,
          4.39,
          4.374,
          4.366,
          4.36,
          4.35,
          4.332,
          4.286,
          4.212,
          4.189,
          4.166,
          4.107,
          4.085,
          4.015,
          3.975,
          3.973,
          3.933,
          3.802,
          3.775,
          3.663,
          3.597,
          3.488,
          3.462,
          3.41,
          3.38,
          3.334,
          3.231,
          3.203,
          3.083,
          2.853
         ]
        },
        {
         "mode": "lines",
         "name": "Estimated",
         "type": "scatter",
         "x": [
          0,
          1,
          2,
          3,
          4,
          5,
          6,
          7,
          8,
          9,
          10,
          11,
          12,
          13,
          14,
          15,
          16,
          17,
          18,
          19,
          20,
          21,
          22,
          23,
          24,
          25,
          26,
          27,
          28,
          29,
          30,
          31,
          32,
          33,
          34,
          35,
          36,
          37,
          38,
          39,
          40,
          41,
          42,
          43,
          44,
          45,
          46,
          47,
          48,
          49,
          50,
          51,
          52,
          53,
          54,
          55,
          56,
          57,
          58,
          59,
          60,
          61,
          62,
          63,
          64,
          65,
          66,
          67,
          68,
          69,
          70,
          71,
          72,
          73,
          74,
          75,
          76,
          77,
          78,
          79,
          80,
          81,
          82,
          83,
          84,
          85,
          86,
          87,
          88,
          89,
          90,
          91,
          92,
          93,
          94,
          95,
          96,
          97,
          98,
          99,
          100,
          101,
          102,
          103,
          104,
          105,
          106,
          107,
          108,
          109,
          110,
          111,
          112,
          113,
          114,
          115,
          116,
          117,
          118,
          119,
          120,
          121,
          122,
          123,
          124,
          125,
          126,
          127,
          128,
          129,
          130,
          131,
          132,
          133,
          134,
          135,
          136,
          137,
          138,
          139,
          140,
          141,
          142,
          143,
          144,
          145,
          146,
          147,
          148,
          149,
          150,
          151,
          152,
          153,
          154,
          155,
          156,
          157,
          158,
          159,
          160,
          161,
          162,
          163,
          164,
          165,
          166,
          167,
          168,
          169,
          170,
          171,
          172,
          173,
          174,
          175,
          176,
          177,
          178,
          179,
          180,
          181,
          182,
          183,
          184,
          185,
          186,
          187,
          188,
          189,
          190,
          191,
          192,
          193,
          194,
          195,
          196,
          197,
          198,
          199,
          200,
          201,
          202,
          203,
          204,
          205,
          206,
          207,
          208,
          209,
          210,
          211,
          212,
          213,
          214,
          215,
          216,
          217,
          218,
          219,
          220,
          221,
          222,
          223,
          224,
          225,
          226,
          227,
          228,
          229,
          230,
          231,
          232,
          233,
          234,
          235,
          236,
          237,
          238,
          239,
          240,
          241,
          242,
          243,
          244,
          245,
          246,
          247,
          248,
          249,
          250,
          251,
          252,
          253,
          254,
          255,
          256,
          257,
          258,
          259,
          260,
          261,
          262,
          263,
          264,
          265,
          266,
          267,
          268,
          269,
          270,
          271,
          272,
          273,
          274,
          275,
          276,
          277,
          278,
          279,
          280,
          281,
          282,
          283,
          284,
          285,
          286,
          287,
          288,
          289,
          290,
          291,
          292,
          293,
          294,
          295,
          296,
          297,
          298,
          299,
          300,
          301,
          302,
          303,
          304,
          305,
          306,
          307,
          308,
          309,
          310,
          311,
          312,
          313,
          314,
          315,
          316,
          317,
          318,
          319,
          320,
          321,
          322,
          323,
          324,
          325,
          326,
          327,
          328,
          329,
          330,
          331,
          332,
          333,
          334,
          335,
          336,
          337,
          338,
          339,
          340,
          341,
          342,
          343,
          344,
          345,
          346,
          347,
          348,
          349,
          350,
          351,
          352,
          353,
          354,
          355,
          356,
          357,
          358,
          359,
          360,
          361,
          362,
          363,
          364,
          365,
          366,
          367,
          368,
          369,
          370,
          371,
          372,
          373,
          374,
          375,
          376,
          377,
          378,
          379,
          380,
          381,
          382,
          383,
          384,
          385,
          386,
          387,
          388,
          389,
          390,
          391,
          392,
          393,
          394,
          395,
          396,
          397,
          398,
          399,
          400,
          401,
          402,
          403,
          404,
          405,
          406,
          407,
          408,
          409,
          410,
          411,
          412,
          413,
          414,
          415,
          416,
          417,
          418,
          419,
          420,
          421,
          422,
          423,
          424,
          425,
          426,
          427,
          428,
          429,
          430,
          431,
          432,
          433,
          434,
          435,
          436,
          437,
          438,
          439,
          440,
          441,
          442,
          443,
          444,
          445,
          446,
          447,
          448,
          449,
          450,
          451,
          452,
          453,
          454,
          455,
          456,
          457,
          458,
          459,
          460,
          461,
          462,
          463,
          464,
          465,
          466,
          467,
          468,
          469,
          470,
          471,
          472,
          473,
          474,
          475,
          476,
          477,
          478,
          479,
          480,
          481,
          482,
          483,
          484,
          485,
          486,
          487,
          488,
          490,
          491,
          492,
          493,
          494,
          495,
          496,
          497,
          498,
          499,
          500,
          501,
          502,
          503,
          504,
          505,
          506,
          507,
          508,
          509,
          510,
          511,
          512,
          513,
          514,
          515,
          516,
          517,
          518,
          519,
          520,
          521,
          522,
          523,
          524,
          525,
          526,
          527,
          528,
          529,
          530,
          531,
          532,
          533,
          534,
          535,
          536,
          537,
          538,
          539,
          540,
          541,
          542,
          543,
          544,
          545,
          546,
          547,
          548,
          549,
          550,
          551,
          552,
          553,
          554,
          555,
          556,
          557,
          558,
          559,
          560,
          561,
          562,
          563,
          564,
          565,
          566,
          567,
          568,
          569,
          570,
          571,
          572,
          573,
          574,
          575,
          576,
          577,
          578,
          579,
          580,
          581,
          582,
          583,
          584,
          585,
          586,
          587,
          588,
          589,
          590,
          591,
          592,
          593,
          594,
          595,
          596,
          597,
          598,
          599,
          600,
          601,
          602,
          603,
          604,
          605,
          606,
          607,
          608,
          609,
          610,
          611,
          612,
          613,
          614,
          615,
          616,
          617,
          618,
          619,
          620,
          621,
          622,
          623,
          624,
          625,
          626,
          627,
          628,
          629,
          630,
          631,
          632,
          633,
          634,
          635,
          636,
          637,
          638,
          639,
          640,
          641,
          642,
          643,
          644,
          645,
          646,
          647,
          648,
          649,
          650,
          651,
          652,
          653,
          654,
          655,
          656,
          657,
          658,
          659,
          660,
          661,
          662,
          663,
          664,
          665,
          666,
          667,
          668,
          669,
          670,
          671,
          672,
          673,
          674,
          675,
          676,
          677,
          678,
          679,
          680,
          681,
          682,
          683,
          684,
          685,
          686,
          687,
          688,
          689,
          690,
          691,
          692,
          693,
          694,
          695,
          696,
          697,
          698,
          699,
          700,
          701,
          702,
          703,
          704,
          705,
          706,
          707,
          708,
          709,
          710,
          711,
          712,
          713,
          714,
          715,
          716,
          717,
          718,
          719,
          720,
          721,
          722,
          723,
          724,
          725,
          726,
          727,
          728,
          729,
          730,
          731,
          732,
          733,
          734,
          735,
          736,
          737,
          738,
          739,
          740,
          741,
          742,
          743,
          744,
          745,
          746,
          747,
          748,
          749,
          750,
          751,
          752,
          753,
          754,
          755,
          756,
          757,
          758,
          759,
          760,
          761,
          762,
          763,
          764,
          765,
          766,
          767,
          768,
          769,
          770,
          771,
          772,
          773,
          774,
          775,
          776,
          777,
          778,
          779,
          780,
          781
         ],
         "y": [
          7.4078593254089355,
          7.010529041290283,
          7.5249552726745605,
          7.523275852203369,
          7.428246974945068,
          7.40516996383667,
          7.378012180328369,
          7.362602233886719,
          7.286561965942383,
          7.285935401916504,
          7.278319835662842,
          7.225177764892578,
          6.882806301116943,
          7.185025215148926,
          7.119842052459717,
          6.681055545806885,
          6.944343566894531,
          6.938835620880127,
          6.937931537628174,
          6.904104709625244,
          7.08997917175293,
          7.060841083526611,
          5.908860206604004,
          6.798440933227539,
          6.707207679748535,
          6.748571395874023,
          6.666701316833496,
          6.611725807189941,
          6.5724406242370605,
          6.572696208953857,
          6.505029678344727,
          6.489009857177734,
          6.475526332855225,
          6.034226894378662,
          6.411495208740234,
          6.670137405395508,
          6.641669750213623,
          6.297058582305908,
          6.296657085418701,
          6.269384384155273,
          6.144586563110352,
          6.130313396453857,
          6.12110710144043,
          5.885555744171143,
          5.996815204620361,
          5.987124443054199,
          5.985530376434326,
          5.937174320220947,
          5.962458610534668,
          5.948766231536865,
          5.8906073570251465,
          5.889152526855469,
          5.876856327056885,
          5.791982173919678,
          5.850271701812744,
          5.833029270172119,
          5.828408718109131,
          5.2549214363098145,
          5.80927038192749,
          5.790770053863525,
          5.769289016723633,
          5.757951259613037,
          5.755908489227295,
          5.71421480178833,
          5.70918607711792,
          5.789925575256348,
          5.6874799728393555,
          5.605780124664307,
          5.588147163391113,
          5.548936367034912,
          5.478764057159424,
          5.473885536193848,
          5.429756164550781,
          5.76528263092041,
          4.94973087310791,
          5.329419136047363,
          4.996648788452148,
          4.670562744140625,
          5.2558770179748535,
          5.211664199829102,
          4.452641010284424,
          5.192506313323975,
          5.190779209136963,
          5.139690399169922,
          5.127101421356201,
          5.272144317626953,
          4.984273910522461,
          5.1016035079956055,
          5.10244607925415,
          5.300269603729248,
          5.057778358459473,
          4.834773063659668,
          5.006448745727539,
          4.9706292152404785,
          4.960688591003418,
          4.948638916015625,
          4.509913921356201,
          4.886118412017822,
          4.71510124206543,
          4.875124454498291,
          4.921303749084473,
          4.857158184051514,
          4.8393168449401855,
          4.80045223236084,
          5.3600897789001465,
          4.784875869750977,
          4.7376885414123535,
          4.715129375457764,
          4.42069149017334,
          4.685709476470947,
          4.682716369628906,
          4.913283824920654,
          4.436241626739502,
          4.629942893981934,
          4.609055519104004,
          4.570337772369385,
          4.565930366516113,
          4.447945594787598,
          4.518308162689209,
          4.516511917114258,
          4.517093181610107,
          4.511090278625488,
          4.507678985595703,
          4.434338569641113,
          4.3580169677734375,
          4.367790699005127,
          4.351231098175049,
          4.33127498626709,
          4.306772708892822,
          4.569936275482178,
          3.7722322940826416,
          4.401137828826904,
          4.253087997436523,
          4.21621036529541,
          4.193586826324463,
          4.154749393463135,
          4.020073890686035,
          3.996283531188965,
          3.9917171001434326,
          4.645148754119873,
          3.9313275814056396,
          3.905579090118408,
          3.8980185985565186,
          3.847442865371704,
          3.8171520233154297,
          3.701249122619629,
          3.680211067199707,
          3.678586721420288,
          3.6677911281585693,
          3.2125370502471924,
          3.6527340412139893,
          4.2398457527160645,
          3.6923184394836426,
          3.4662749767303467,
          4.061435222625732,
          3.0087146759033203,
          2.9055004119873047,
          2.837857961654663,
          7.526940822601318,
          7.507434368133545,
          7.500295162200928,
          7.497470855712891,
          7.413249492645264,
          7.402453899383545,
          7.339032173156738,
          7.3337531089782715,
          7.320945739746094,
          7.290624141693115,
          7.267265319824219,
          7.031491756439209,
          7.102536201477051,
          7.087834358215332,
          7.037874221801758,
          6.994741916656494,
          6.950353622436523,
          6.928067207336426,
          7.060895919799805,
          6.870316982269287,
          6.875622272491455,
          6.737605094909668,
          6.724067211151123,
          6.395974636077881,
          6.696813106536865,
          6.173209190368652,
          6.595180511474609,
          6.370779991149902,
          6.543308734893799,
          6.831920146942139,
          6.481832027435303,
          6.480685234069824,
          6.4745707511901855,
          6.379618167877197,
          6.0019965171813965,
          6.3741865158081055,
          6.36229944229126,
          6.353972911834717,
          5.7921271324157715,
          6.267202854156494,
          6.23935079574585,
          6.217351913452148,
          6.168898582458496,
          6.083401203155518,
          6.074880599975586,
          6.065509796142578,
          6.105351448059082,
          5.9918131828308105,
          5.8705339431762695,
          5.973546504974365,
          5.973547458648682,
          5.954617500305176,
          5.922194480895996,
          5.9148850440979,
          5.94388484954834,
          5.856496810913086,
          5.836620330810547,
          5.835330963134766,
          5.82252836227417,
          5.812861442565918,
          5.80586576461792,
          5.775224685668945,
          5.766458511352539,
          5.743049144744873,
          5.952847480773926,
          5.647637367248535,
          5.519414901733398,
          5.557480335235596,
          5.543424129486084,
          5.540460586547852,
          5.52897834777832,
          5.456913471221924,
          5.507396221160889,
          5.488501071929932,
          5.801882266998291,
          5.436957836151123,
          4.757224082946777,
          5.280481338500977,
          5.313582897186279,
          5.3038787841796875,
          5.2915425300598145,
          5.276456356048584,
          5.221364498138428,
          5.193963050842285,
          5.058826923370361,
          5.177541255950928,
          5.162837028503418,
          5.162210464477539,
          5.154966831207275,
          5.1526923179626465,
          5.145895957946777,
          4.908670902252197,
          5.38937520980835,
          5.127424716949463,
          5.120268821716309,
          4.92462158203125,
          5.056903839111328,
          5.044912338256836,
          5.033298015594482,
          4.99243688583374,
          4.998116493225098,
          4.876007080078125,
          4.875500679016113,
          4.868923187255859,
          4.810972690582275,
          4.7975754737854,
          4.137384414672852,
          4.384990692138672,
          4.688061237335205,
          4.646708011627197,
          4.641745090484619,
          5.024161338806152,
          4.5736918449401855,
          4.467772483825684,
          4.5108232498168945,
          4.461085796356201,
          4.418333530426025,
          4.4005327224731445,
          4.395488262176514,
          4.361800670623779,
          4.36166524887085,
          4.303533554077148,
          4.740182876586914,
          4.309021472930908,
          4.271191596984863,
          4.251439094543457,
          4.237205505371094,
          4.482730388641357,
          4.279991626739502,
          4.203914165496826,
          4.066867351531982,
          3.160717010498047,
          4.047323703765869,
          4.119542121887207,
          4.0730977058410645,
          4.026831150054932,
          3.976229190826416,
          3.9554076194763184,
          3.9163262844085693,
          3.906663417816162,
          3.911510944366455,
          3.855416774749756,
          3.8348002433776855,
          3.761840581893921,
          4.288654804229736,
          4.067133903503418,
          3.728058099746704,
          3.6953351497650146,
          3.6663873195648193,
          3.9587485790252686,
          3.6066668033599854,
          3.814737558364868,
          3.478116512298584,
          3.362258195877075,
          3.3040049076080322,
          3.0686047077178955,
          2.3972530364990234,
          7.536652565002441,
          7.524150371551514,
          7.50325870513916,
          7.118877410888672,
          7.468125820159912,
          7.3747639656066895,
          7.302168369293213,
          7.314664840698242,
          7.283912181854248,
          7.286259174346924,
          7.211208343505859,
          7.076642990112305,
          7.007631778717041,
          6.8089776039123535,
          6.978820323944092,
          6.950841903686523,
          7.16188383102417,
          7.132586479187012,
          6.717192649841309,
          6.655479431152344,
          6.646320343017578,
          6.706565856933594,
          6.611478805541992,
          6.60237455368042,
          6.920406341552734,
          6.574674606323242,
          6.979229927062988,
          6.1543192863464355,
          5.961672306060791,
          6.456176280975342,
          6.199011325836182,
          6.424508094787598,
          6.423457622528076,
          6.463562488555908,
          6.539102077484131,
          6.356868743896484,
          6.342329025268555,
          5.979914665222168,
          6.264379978179932,
          6.404439926147461,
          6.086810111999512,
          6.086362838745117,
          5.8105387687683105,
          6.010508060455322,
          5.859112739562988,
          5.946059226989746,
          5.971137523651123,
          5.966183185577393,
          5.963073253631592,
          5.213171482086182,
          5.988798141479492,
          5.902134418487549,
          5.872419357299805,
          5.847711086273193,
          5.837951183319092,
          5.8361663818359375,
          5.765232086181641,
          5.637067794799805,
          5.82159948348999,
          5.821944236755371,
          5.80637788772583,
          5.755964279174805,
          5.71345853805542,
          5.738626956939697,
          5.624179363250732,
          5.611288547515869,
          5.567020893096924,
          5.611856460571289,
          5.503177165985107,
          5.491109371185303,
          5.473388671875,
          5.430781841278076,
          5.395699977874756,
          5.273466110229492,
          5.323460578918457,
          5.311082363128662,
          5.292272090911865,
          4.9227166175842285,
          5.274868011474609,
          5.268240451812744,
          5.261814117431641,
          5.5907416343688965,
          5.237760066986084,
          5.2343430519104,
          5.235801696777344,
          5.231288909912109,
          5.68337345123291,
          5.222306251525879,
          5.191410064697266,
          5.1834516525268555,
          5.183268070220947,
          5.535480499267578,
          5.152720928192139,
          5.075806617736816,
          4.837559223175049,
          5.043849945068359,
          5.009051322937012,
          5.004213809967041,
          4.959100723266602,
          4.955589771270752,
          4.828807353973389,
          4.806320667266846,
          4.7732367515563965,
          4.450625419616699,
          4.838387489318848,
          4.70714807510376,
          4.567745685577393,
          4.695422649383545,
          5.0217604637146,
          4.603999614715576,
          4.572087287902832,
          4.5512824058532715,
          4.622427940368652,
          4.543093204498291,
          4.534817218780518,
          4.819571018218994,
          4.49606990814209,
          4.464189052581787,
          4.432581901550293,
          4.437414646148682,
          4.372650623321533,
          4.3162031173706055,
          4.292316913604736,
          4.288248538970947,
          4.119633197784424,
          4.280071258544922,
          4.186635971069336,
          4.179627895355225,
          3.903059959411621,
          4.139674663543701,
          4.121851444244385,
          4.101438999176025,
          4.078830242156982,
          4.0324506759643555,
          4.0257415771484375,
          3.9681620597839355,
          3.9466137886047363,
          3.873884439468384,
          3.809776544570923,
          3.7959272861480713,
          3.7941341400146484,
          3.7664732933044434,
          3.6628029346466064,
          3.9969499111175537,
          3.6048364639282227,
          3.5897765159606934,
          3.5901408195495605,
          4.098265647888184,
          3.509267807006836,
          3.604687452316284,
          4.175783634185791,
          3.4620234966278076,
          3.3507778644561768,
          2.903702735900879,
          2.693790912628174,
          7.630837917327881,
          7.5945515632629395,
          7.90902042388916,
          7.495302200317383,
          7.478665828704834,
          7.289927959442139,
          7.32690954208374,
          7.623782634735107,
          7.512226581573486,
          7.249680042266846,
          7.18263578414917,
          7.30975341796875,
          7.066168308258057,
          7.2216796875,
          6.968536376953125,
          6.9319586753845215,
          6.9122395515441895,
          6.886936664581299,
          6.812328815460205,
          6.4533586502075195,
          6.6294708251953125,
          6.483134746551514,
          5.707408905029297,
          6.465837001800537,
          6.565669059753418,
          6.450743675231934,
          6.419099807739258,
          6.384884357452393,
          5.6568827629089355,
          6.380834102630615,
          6.375298023223877,
          6.371639728546143,
          7.221646785736084,
          6.315901279449463,
          6.310284614562988,
          6.256723403930664,
          6.189142227172852,
          6.16866397857666,
          6.170160293579102,
          6.135699272155762,
          6.122690200805664,
          6.6036577224731445,
          6.095383644104004,
          6.078826904296875,
          5.966031551361084,
          5.925712585449219,
          5.36514949798584,
          5.948838710784912,
          5.952719688415527,
          5.949267387390137,
          5.664426803588867,
          6.093285083770752,
          5.9173102378845215,
          5.884128093719482,
          5.8915886878967285,
          5.873348236083984,
          5.839513778686523,
          5.951725482940674,
          5.7936015129089355,
          5.936901569366455,
          5.751323699951172,
          5.740121364593506,
          5.359010219573975,
          5.6667046546936035,
          4.7823686599731445,
          5.6408610343933105,
          5.253608703613281,
          5.620222091674805,
          5.559037208557129,
          5.869383811950684,
          5.584019660949707,
          5.480247974395752,
          5.460947513580322,
          5.4735426902771,
          5.431482315063477,
          5.413075923919678,
          5.401957988739014,
          5.356256484985352,
          5.449836254119873,
          5.348720550537109,
          5.4931745529174805,
          5.307137489318848,
          5.29054594039917,
          4.561277866363525,
          5.245669841766357,
          5.198420524597168,
          4.784068584442139,
          5.186163425445557,
          5.134917259216309,
          5.156246662139893,
          5.130199432373047,
          5.130011081695557,
          5.12235689163208,
          5.105994701385498,
          5.094255447387695,
          5.081974506378174,
          4.9803876876831055,
          4.974578380584717,
          5.495541095733643,
          4.528531074523926,
          4.8081746101379395,
          4.7588958740234375,
          5.096110820770264,
          4.726816654205322,
          4.704908847808838,
          4.666843414306641,
          4.539206027984619,
          3.8589212894439697,
          4.306001663208008,
          4.595709323883057,
          4.742251873016357,
          4.571037769317627,
          4.559686660766602,
          4.498299598693848,
          4.474652290344238,
          4.458734512329102,
          4.449735641479492,
          4.440518856048584,
          4.435853481292725,
          4.429314613342285,
          4.503171443939209,
          4.3139519691467285,
          4.018121242523193,
          4.377220630645752,
          4.354042053222656,
          4.352749824523926,
          4.339558124542236,
          4.319231033325195,
          4.3084540367126465,
          4.301150798797607,
          4.2458319664001465,
          4.194827079772949,
          4.163909912109375,
          4.16199254989624,
          4.142040252685547,
          4.140103340148926,
          5.172398567199707,
          3.995300531387329,
          3.9649276733398438,
          3.808751106262207,
          3.7935290336608887,
          3.979288339614868,
          3.6893181800842285,
          3.5376570224761963,
          4.418348789215088,
          3.636498212814331,
          3.583204507827759,
          3.8719048500061035,
          4.235890865325928,
          3.408216953277588,
          3.356794834136963,
          3.3111002445220947,
          3.676469087600708,
          3.0832085609436035,
          2.9066479206085205,
          7.769601821899414,
          7.6188645362854,
          7.552243709564209,
          7.494437217712402,
          7.483686923980713,
          7.480191230773926,
          7.5331292152404785,
          7.30769157409668,
          7.278160095214844,
          7.2449445724487305,
          7.229061126708984,
          7.164386749267578,
          7.14031457901001,
          7.089974403381348,
          7.085707664489746,
          6.8813323974609375,
          6.9862189292907715,
          6.919613838195801,
          6.892348766326904,
          6.849123477935791,
          6.825794219970703,
          6.610631942749023,
          6.598199367523193,
          6.59189510345459,
          6.446248531341553,
          5.8372111320495605,
          6.43039083480835,
          6.370829105377197,
          6.372975826263428,
          6.353798866271973,
          6.488866329193115,
          6.182256698608398,
          6.294673442840576,
          6.542584419250488,
          5.974257946014404,
          6.223430156707764,
          6.1998491287231445,
          6.198132514953613,
          6.3749680519104,
          6.240947723388672,
          6.173223495483398,
          5.6857452392578125,
          6.122223854064941,
          6.120204448699951,
          6.105405330657959,
          5.727743625640869,
          6.0138373374938965,
          6.068412780761719,
          5.943663597106934,
          6.0232367515563965,
          6.023041248321533,
          6.006747245788574,
          5.936451435089111,
          5.894158363342285,
          6.162076473236084,
          5.88878870010376,
          5.8900146484375,
          6.174187660217285,
          5.8563232421875,
          5.631219387054443,
          5.770702838897705,
          5.364809989929199,
          5.746324062347412,
          5.716928958892822,
          5.490435600280762,
          5.692715167999268,
          5.644683837890625,
          5.648588180541992,
          5.725622177124023,
          5.600944995880127,
          5.778840065002441,
          5.054172992706299,
          5.52416467666626,
          5.464527606964111,
          5.1870574951171875,
          5.992928504943848,
          5.432263374328613,
          5.3840508460998535,
          5.373765468597412,
          5.342353343963623,
          5.647126197814941,
          5.287271499633789,
          5.331664085388184,
          5.271686553955078,
          5.257393836975098,
          5.3368096351623535,
          5.250260353088379,
          5.211692810058594,
          5.206259250640869,
          5.211537837982178,
          5.201607704162598,
          5.188143253326416,
          5.1935133934021,
          5.179581642150879,
          5.084781646728516,
          5.043278694152832,
          5.011949062347412,
          4.9947896003723145,
          4.9424214363098145,
          4.940059185028076,
          4.911658763885498,
          4.87749719619751,
          4.81349515914917,
          4.796201229095459,
          4.796701908111572,
          4.724514484405518,
          4.718355655670166,
          4.929703712463379,
          5.2281694412231445,
          4.696286201477051,
          3.8902595043182373,
          4.6670145988464355,
          4.639189720153809,
          4.201098442077637,
          4.583138465881348,
          4.559991836547852,
          4.547367572784424,
          4.431052207946777,
          4.445871353149414,
          4.50808048248291,
          4.5087480545043945,
          3.8248789310455322,
          4.465125560760498,
          4.459354400634766,
          4.460382461547852,
          4.763118743896484,
          4.344181537628174,
          4.392188549041748,
          4.376302719116211,
          4.374519348144531,
          4.362537860870361,
          4.349255084991455,
          5.0104780197143555,
          4.288185119628906,
          4.211789608001709,
          4.184569358825684,
          4.172493934631348,
          4.113190650939941,
          4.031408309936523,
          4.020176410675049,
          3.9766829013824463,
          3.969074010848999,
          3.935981512069702,
          4.419378280639648,
          3.952646017074585,
          3.663501739501953,
          3.489882707595825,
          3.4874722957611084,
          3.4611454010009766,
          3.4143640995025635,
          3.3792781829833984,
          3.8669791221618652,
          3.238398790359497,
          3.2026939392089844,
          3.0833895206451416,
          2.853611946105957
         ]
        }
       ],
       "layout": {
        "template": {
         "data": {
          "bar": [
           {
            "error_x": {
             "color": "#f2f5fa"
            },
            "error_y": {
             "color": "#f2f5fa"
            },
            "marker": {
             "line": {
              "color": "rgb(17,17,17)",
              "width": 0.5
             },
             "pattern": {
              "fillmode": "overlay",
              "size": 10,
              "solidity": 0.2
             }
            },
            "type": "bar"
           }
          ],
          "barpolar": [
           {
            "marker": {
             "line": {
              "color": "rgb(17,17,17)",
              "width": 0.5
             },
             "pattern": {
              "fillmode": "overlay",
              "size": 10,
              "solidity": 0.2
             }
            },
            "type": "barpolar"
           }
          ],
          "carpet": [
           {
            "aaxis": {
             "endlinecolor": "#A2B1C6",
             "gridcolor": "#506784",
             "linecolor": "#506784",
             "minorgridcolor": "#506784",
             "startlinecolor": "#A2B1C6"
            },
            "baxis": {
             "endlinecolor": "#A2B1C6",
             "gridcolor": "#506784",
             "linecolor": "#506784",
             "minorgridcolor": "#506784",
             "startlinecolor": "#A2B1C6"
            },
            "type": "carpet"
           }
          ],
          "choropleth": [
           {
            "colorbar": {
             "outlinewidth": 0,
             "ticks": ""
            },
            "type": "choropleth"
           }
          ],
          "contour": [
           {
            "colorbar": {
             "outlinewidth": 0,
             "ticks": ""
            },
            "colorscale": [
             [
              0,
              "#0d0887"
             ],
             [
              0.1111111111111111,
              "#46039f"
             ],
             [
              0.2222222222222222,
              "#7201a8"
             ],
             [
              0.3333333333333333,
              "#9c179e"
             ],
             [
              0.4444444444444444,
              "#bd3786"
             ],
             [
              0.5555555555555556,
              "#d8576b"
             ],
             [
              0.6666666666666666,
              "#ed7953"
             ],
             [
              0.7777777777777778,
              "#fb9f3a"
             ],
             [
              0.8888888888888888,
              "#fdca26"
             ],
             [
              1,
              "#f0f921"
             ]
            ],
            "type": "contour"
           }
          ],
          "contourcarpet": [
           {
            "colorbar": {
             "outlinewidth": 0,
             "ticks": ""
            },
            "type": "contourcarpet"
           }
          ],
          "heatmap": [
           {
            "colorbar": {
             "outlinewidth": 0,
             "ticks": ""
            },
            "colorscale": [
             [
              0,
              "#0d0887"
             ],
             [
              0.1111111111111111,
              "#46039f"
             ],
             [
              0.2222222222222222,
              "#7201a8"
             ],
             [
              0.3333333333333333,
              "#9c179e"
             ],
             [
              0.4444444444444444,
              "#bd3786"
             ],
             [
              0.5555555555555556,
              "#d8576b"
             ],
             [
              0.6666666666666666,
              "#ed7953"
             ],
             [
              0.7777777777777778,
              "#fb9f3a"
             ],
             [
              0.8888888888888888,
              "#fdca26"
             ],
             [
              1,
              "#f0f921"
             ]
            ],
            "type": "heatmap"
           }
          ],
          "heatmapgl": [
           {
            "colorbar": {
             "outlinewidth": 0,
             "ticks": ""
            },
            "colorscale": [
             [
              0,
              "#0d0887"
             ],
             [
              0.1111111111111111,
              "#46039f"
             ],
             [
              0.2222222222222222,
              "#7201a8"
             ],
             [
              0.3333333333333333,
              "#9c179e"
             ],
             [
              0.4444444444444444,
              "#bd3786"
             ],
             [
              0.5555555555555556,
              "#d8576b"
             ],
             [
              0.6666666666666666,
              "#ed7953"
             ],
             [
              0.7777777777777778,
              "#fb9f3a"
             ],
             [
              0.8888888888888888,
              "#fdca26"
             ],
             [
              1,
              "#f0f921"
             ]
            ],
            "type": "heatmapgl"
           }
          ],
          "histogram": [
           {
            "marker": {
             "pattern": {
              "fillmode": "overlay",
              "size": 10,
              "solidity": 0.2
             }
            },
            "type": "histogram"
           }
          ],
          "histogram2d": [
           {
            "colorbar": {
             "outlinewidth": 0,
             "ticks": ""
            },
            "colorscale": [
             [
              0,
              "#0d0887"
             ],
             [
              0.1111111111111111,
              "#46039f"
             ],
             [
              0.2222222222222222,
              "#7201a8"
             ],
             [
              0.3333333333333333,
              "#9c179e"
             ],
             [
              0.4444444444444444,
              "#bd3786"
             ],
             [
              0.5555555555555556,
              "#d8576b"
             ],
             [
              0.6666666666666666,
              "#ed7953"
             ],
             [
              0.7777777777777778,
              "#fb9f3a"
             ],
             [
              0.8888888888888888,
              "#fdca26"
             ],
             [
              1,
              "#f0f921"
             ]
            ],
            "type": "histogram2d"
           }
          ],
          "histogram2dcontour": [
           {
            "colorbar": {
             "outlinewidth": 0,
             "ticks": ""
            },
            "colorscale": [
             [
              0,
              "#0d0887"
             ],
             [
              0.1111111111111111,
              "#46039f"
             ],
             [
              0.2222222222222222,
              "#7201a8"
             ],
             [
              0.3333333333333333,
              "#9c179e"
             ],
             [
              0.4444444444444444,
              "#bd3786"
             ],
             [
              0.5555555555555556,
              "#d8576b"
             ],
             [
              0.6666666666666666,
              "#ed7953"
             ],
             [
              0.7777777777777778,
              "#fb9f3a"
             ],
             [
              0.8888888888888888,
              "#fdca26"
             ],
             [
              1,
              "#f0f921"
             ]
            ],
            "type": "histogram2dcontour"
           }
          ],
          "mesh3d": [
           {
            "colorbar": {
             "outlinewidth": 0,
             "ticks": ""
            },
            "type": "mesh3d"
           }
          ],
          "parcoords": [
           {
            "line": {
             "colorbar": {
              "outlinewidth": 0,
              "ticks": ""
             }
            },
            "type": "parcoords"
           }
          ],
          "pie": [
           {
            "automargin": true,
            "type": "pie"
           }
          ],
          "scatter": [
           {
            "marker": {
             "line": {
              "color": "#283442"
             }
            },
            "type": "scatter"
           }
          ],
          "scatter3d": [
           {
            "line": {
             "colorbar": {
              "outlinewidth": 0,
              "ticks": ""
             }
            },
            "marker": {
             "colorbar": {
              "outlinewidth": 0,
              "ticks": ""
             }
            },
            "type": "scatter3d"
           }
          ],
          "scattercarpet": [
           {
            "marker": {
             "colorbar": {
              "outlinewidth": 0,
              "ticks": ""
             }
            },
            "type": "scattercarpet"
           }
          ],
          "scattergeo": [
           {
            "marker": {
             "colorbar": {
              "outlinewidth": 0,
              "ticks": ""
             }
            },
            "type": "scattergeo"
           }
          ],
          "scattergl": [
           {
            "marker": {
             "line": {
              "color": "#283442"
             }
            },
            "type": "scattergl"
           }
          ],
          "scattermapbox": [
           {
            "marker": {
             "colorbar": {
              "outlinewidth": 0,
              "ticks": ""
             }
            },
            "type": "scattermapbox"
           }
          ],
          "scatterpolar": [
           {
            "marker": {
             "colorbar": {
              "outlinewidth": 0,
              "ticks": ""
             }
            },
            "type": "scatterpolar"
           }
          ],
          "scatterpolargl": [
           {
            "marker": {
             "colorbar": {
              "outlinewidth": 0,
              "ticks": ""
             }
            },
            "type": "scatterpolargl"
           }
          ],
          "scatterternary": [
           {
            "marker": {
             "colorbar": {
              "outlinewidth": 0,
              "ticks": ""
             }
            },
            "type": "scatterternary"
           }
          ],
          "surface": [
           {
            "colorbar": {
             "outlinewidth": 0,
             "ticks": ""
            },
            "colorscale": [
             [
              0,
              "#0d0887"
             ],
             [
              0.1111111111111111,
              "#46039f"
             ],
             [
              0.2222222222222222,
              "#7201a8"
             ],
             [
              0.3333333333333333,
              "#9c179e"
             ],
             [
              0.4444444444444444,
              "#bd3786"
             ],
             [
              0.5555555555555556,
              "#d8576b"
             ],
             [
              0.6666666666666666,
              "#ed7953"
             ],
             [
              0.7777777777777778,
              "#fb9f3a"
             ],
             [
              0.8888888888888888,
              "#fdca26"
             ],
             [
              1,
              "#f0f921"
             ]
            ],
            "type": "surface"
           }
          ],
          "table": [
           {
            "cells": {
             "fill": {
              "color": "#506784"
             },
             "line": {
              "color": "rgb(17,17,17)"
             }
            },
            "header": {
             "fill": {
              "color": "#2a3f5f"
             },
             "line": {
              "color": "rgb(17,17,17)"
             }
            },
            "type": "table"
           }
          ]
         },
         "layout": {
          "annotationdefaults": {
           "arrowcolor": "#f2f5fa",
           "arrowhead": 0,
           "arrowwidth": 1
          },
          "autotypenumbers": "strict",
          "coloraxis": {
           "colorbar": {
            "outlinewidth": 0,
            "ticks": ""
           }
          },
          "colorscale": {
           "diverging": [
            [
             0,
             "#8e0152"
            ],
            [
             0.1,
             "#c51b7d"
            ],
            [
             0.2,
             "#de77ae"
            ],
            [
             0.3,
             "#f1b6da"
            ],
            [
             0.4,
             "#fde0ef"
            ],
            [
             0.5,
             "#f7f7f7"
            ],
            [
             0.6,
             "#e6f5d0"
            ],
            [
             0.7,
             "#b8e186"
            ],
            [
             0.8,
             "#7fbc41"
            ],
            [
             0.9,
             "#4d9221"
            ],
            [
             1,
             "#276419"
            ]
           ],
           "sequential": [
            [
             0,
             "#0d0887"
            ],
            [
             0.1111111111111111,
             "#46039f"
            ],
            [
             0.2222222222222222,
             "#7201a8"
            ],
            [
             0.3333333333333333,
             "#9c179e"
            ],
            [
             0.4444444444444444,
             "#bd3786"
            ],
            [
             0.5555555555555556,
             "#d8576b"
            ],
            [
             0.6666666666666666,
             "#ed7953"
            ],
            [
             0.7777777777777778,
             "#fb9f3a"
            ],
            [
             0.8888888888888888,
             "#fdca26"
            ],
            [
             1,
             "#f0f921"
            ]
           ],
           "sequentialminus": [
            [
             0,
             "#0d0887"
            ],
            [
             0.1111111111111111,
             "#46039f"
            ],
            [
             0.2222222222222222,
             "#7201a8"
            ],
            [
             0.3333333333333333,
             "#9c179e"
            ],
            [
             0.4444444444444444,
             "#bd3786"
            ],
            [
             0.5555555555555556,
             "#d8576b"
            ],
            [
             0.6666666666666666,
             "#ed7953"
            ],
            [
             0.7777777777777778,
             "#fb9f3a"
            ],
            [
             0.8888888888888888,
             "#fdca26"
            ],
            [
             1,
             "#f0f921"
            ]
           ]
          },
          "colorway": [
           "#636efa",
           "#EF553B",
           "#00cc96",
           "#ab63fa",
           "#FFA15A",
           "#19d3f3",
           "#FF6692",
           "#B6E880",
           "#FF97FF",
           "#FECB52"
          ],
          "font": {
           "color": "#f2f5fa"
          },
          "geo": {
           "bgcolor": "rgb(17,17,17)",
           "lakecolor": "rgb(17,17,17)",
           "landcolor": "rgb(17,17,17)",
           "showlakes": true,
           "showland": true,
           "subunitcolor": "#506784"
          },
          "hoverlabel": {
           "align": "left"
          },
          "hovermode": "closest",
          "mapbox": {
           "style": "dark"
          },
          "paper_bgcolor": "rgb(17,17,17)",
          "plot_bgcolor": "rgb(17,17,17)",
          "polar": {
           "angularaxis": {
            "gridcolor": "#506784",
            "linecolor": "#506784",
            "ticks": ""
           },
           "bgcolor": "rgb(17,17,17)",
           "radialaxis": {
            "gridcolor": "#506784",
            "linecolor": "#506784",
            "ticks": ""
           }
          },
          "scene": {
           "xaxis": {
            "backgroundcolor": "rgb(17,17,17)",
            "gridcolor": "#506784",
            "gridwidth": 2,
            "linecolor": "#506784",
            "showbackground": true,
            "ticks": "",
            "zerolinecolor": "#C8D4E3"
           },
           "yaxis": {
            "backgroundcolor": "rgb(17,17,17)",
            "gridcolor": "#506784",
            "gridwidth": 2,
            "linecolor": "#506784",
            "showbackground": true,
            "ticks": "",
            "zerolinecolor": "#C8D4E3"
           },
           "zaxis": {
            "backgroundcolor": "rgb(17,17,17)",
            "gridcolor": "#506784",
            "gridwidth": 2,
            "linecolor": "#506784",
            "showbackground": true,
            "ticks": "",
            "zerolinecolor": "#C8D4E3"
           }
          },
          "shapedefaults": {
           "line": {
            "color": "#f2f5fa"
           }
          },
          "sliderdefaults": {
           "bgcolor": "#C8D4E3",
           "bordercolor": "rgb(17,17,17)",
           "borderwidth": 1,
           "tickwidth": 0
          },
          "ternary": {
           "aaxis": {
            "gridcolor": "#506784",
            "linecolor": "#506784",
            "ticks": ""
           },
           "baxis": {
            "gridcolor": "#506784",
            "linecolor": "#506784",
            "ticks": ""
           },
           "bgcolor": "rgb(17,17,17)",
           "caxis": {
            "gridcolor": "#506784",
            "linecolor": "#506784",
            "ticks": ""
           }
          },
          "title": {
           "x": 0.05
          },
          "updatemenudefaults": {
           "bgcolor": "#506784",
           "borderwidth": 0
          },
          "xaxis": {
           "automargin": true,
           "gridcolor": "#283442",
           "linecolor": "#506784",
           "ticks": "",
           "title": {
            "standoff": 15
           },
           "zerolinecolor": "#283442",
           "zerolinewidth": 2
          },
          "yaxis": {
           "automargin": true,
           "gridcolor": "#283442",
           "linecolor": "#506784",
           "ticks": "",
           "title": {
            "standoff": 15
           },
           "zerolinecolor": "#283442",
           "zerolinewidth": 2
          }
         }
        },
        "title": {
         "text": "Estimated Happiness Scores"
        },
        "xaxis": {
         "title": {
          "text": "Index"
         }
        },
        "yaxis": {
         "title": {
          "text": "Happiness Score"
         }
        }
       }
      }
     },
     "metadata": {},
     "output_type": "display_data"
    }
   ],
   "source": [
    "graph_to_predict(happiness_dataframe)"
   ]
  },
  {
   "cell_type": "markdown",
   "metadata": {},
   "source": [
    "##### Conclusions"
   ]
  },
  {
   "cell_type": "markdown",
   "metadata": {},
   "source": [
    "After testing 5 models which were:\n",
    "\n",
    "- Linear regression\n",
    "\n",
    "- Random forest regressor\n",
    "\n",
    "- Gradient boosting regressor\n",
    "\n",
    "- XGBoost regressor.\n",
    "\n",
    "- Elastic Net.\n",
    "\n",
    "Along with various splits of the data for training and testing, and the random state of the model, we found that using Random Forest Regressor along with a data split with random_state of 5432 (seeing a pattern in the .log file) and 5452 as the random_state of the model we get the result shown: **R2: 0.89995** with columns: _'economy_per_capita'_, _'family'_, _'life_expectancy'_, _'freedom'_, _'government_corruption'_, _'generosity'_, _'year'_ and *country_region*."
   ]
  },
  {
   "cell_type": "markdown",
   "metadata": {},
   "source": [
    "\n",
    "##### Complete and correct execution of dag **Streamer_workshop_003_dag**:\n",
    "\n",
    "![Streamer_workshop_003_dag](https://gist.githubusercontent.com/dventep/00758162d6f26179210bfee9dfc97a51/raw/b159a30ee5a4f33095c536a3f873ae1495736db8/streamer_workshop_003_dag.png)\n",
    "\n",
    "##### Complete and correct execution of dag **Viewer_workshop_003_dag**:\n",
    "\n",
    "![Viewer_workshop_003_dag](https://gist.githubusercontent.com/dventep/00758162d6f26179210bfee9dfc97a51/raw/b159a30ee5a4f33095c536a3f873ae1495736db8/viewer_workshop_003_dag.png.png)"
   ]
  }
 ],
 "metadata": {
  "kernelspec": {
   "display_name": "Python 3 (ipykernel)",
   "language": "python",
   "name": "python3"
  },
  "language_info": {
   "codemirror_mode": {
    "name": "ipython",
    "version": 3
   },
   "file_extension": ".py",
   "mimetype": "text/x-python",
   "name": "python",
   "nbconvert_exporter": "python",
   "pygments_lexer": "ipython3",
   "version": "3.10.3"
  }
 },
 "nbformat": 4,
 "nbformat_minor": 2
}
